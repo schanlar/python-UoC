{
 "cells": [
  {
   "cell_type": "markdown",
   "id": "904f5fe8",
   "metadata": {},
   "source": [
    "# Necessary knowledge on the Linux command-line\n",
    "\n",
    "Our course requires some basic knowledge on using a Unix-system via the command-line (terminal). In the following you find some test questions representing the level of knowledge you should have. We do not ask you to actually do them, or to hand them in, but **you should be able to solve them** if somebody asked you to. \n",
    "\n",
    "You will need to do similar tasks regularly during our course work. Each task is followed by the topic(s) it is testing so that you can look it up if you want to."
   ]
  },
  {
   "cell_type": "markdown",
   "id": "9c5ee2fa",
   "metadata": {},
   "source": [
    "## Basic shell commands \n",
    "\n",
    "1. Open a Linux-terminal. In which directory are you when you open a new terminal? With which Unix-command do you find out the directory you are currently in? (Unix-shell and terminal)\n",
    "\n",
    "\n",
    "2. How do you find out which *Linux-shell* you are working with? (``echo`` *command* and ``SHELL`` *variable*)\n",
    "\n",
    "\n",
    "3. Create an empty text file ``me.txt`` using the ``touch`` command. Then launch your favorite text-editor (e.g. vi, nano) and modify the file in order to contain your name. (usage of text editor)\n",
    "\n",
    "\n",
    "4. After finishing the file ``me.txt`` and closing your editor: Create a new subdirectory ``test1`` in your home directory. (Unix file-system commands)\n",
    "\n",
    "\n",
    "5. Copy the file ``me.txt`` into the subdirectory as ``me_copy.txt``. (file copy-command)\n",
    "\n",
    "\n",
    "6. Does your copy-operation from the previous-command use a relative or an absolute path for the target-directory? (absolute and relative paths)\n",
    "\n",
    "\n",
    "7. Use the ``cd`` command to move between your home-directory and the subdiretory. (Unix file-system commands)\n",
    "\n",
    "\n",
    "8. Rename the copy ``me_copy.txt`` to ``me_renames.txt`` while being in your home-directory. (absolute and relative paths)\n",
    "\n",
    "\n",
    "9. Using ``echo`` and a redirection of the standard output, add your date of birth at the end of the copy ``me_copy.txt``. (redirection of STDOUT to a file)\n",
    "\n",
    "\n",
    "10. Use the ``diff`` command to compare the two files ``me.txt`` and ``me_copy.txt``. If you did not yet use the diff-command, then look it up on the internet. Understanding its output is very useful in many circumstances!\n",
    "\n",
    "\n",
    "11. Use the ``ls`` command (with appropriate options) to show ``me.txt`` and ``me_copy.txt`` together with their file sizes. (command-line options)\n",
    "\n",
    "\n",
    "12. Use the ``find`` command to find all files with an extension of ``txt`` in your home directory and all its subdirectories. (find-command) \n",
    "\n",
    "\n",
    "13. Delete the subdirectory ``test1`` and the copy of ``me.txt`` in it. Can you do this with a single command? (Unix file-system commands)\n",
    "\n",
    "\n",
    "14. Put two copies of ``me.txt`` (choose your own file names) into a new subdirectory ``test2``. Use the ``tar``-command to backup that directory to ``test2.tar.gz``. (tar-command and archive-files)\n",
    "\n",
    "\n",
    "15. Use ``tar`` to restore the contents of ``test2.tar.gz`` into a sub-directory ``test3``. (tar-command)"
   ]
  }
 ],
 "metadata": {
  "kernelspec": {
   "display_name": "Python 3 (ipykernel)",
   "language": "python",
   "name": "python3"
  },
  "language_info": {
   "codemirror_mode": {
    "name": "ipython",
    "version": 3
   },
   "file_extension": ".py",
   "mimetype": "text/x-python",
   "name": "python",
   "nbconvert_exporter": "python",
   "pygments_lexer": "ipython3",
   "version": "3.9.13"
  }
 },
 "nbformat": 4,
 "nbformat_minor": 5
}
