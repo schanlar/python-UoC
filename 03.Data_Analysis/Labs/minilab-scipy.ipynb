{
 "cells": [
  {
   "cell_type": "markdown",
   "id": "c24e8943",
   "metadata": {},
   "source": [
    "# minilab: Ασκήσεις εξάσκησης - Επιστημονική Python"
   ]
  },
  {
   "cell_type": "markdown",
   "id": "35e9b934",
   "metadata": {},
   "source": [
    "## Η βιβλιοθήκη ``scipy`` - Προσαρμογή μαθηματικών μοντέλων σε δεδομένα"
   ]
  },
  {
   "cell_type": "markdown",
   "id": "62132065",
   "metadata": {},
   "source": [
    "### Exercise 1: Linear Regression\n",
    "\n",
    "Given a set of data points, perform linear regression using ``SciPy`` to fit a straight line ($y = mx + b$) to the data. Display the best-fit line along with the data points.\n",
    "\n",
    "```python\n",
    "# Sample data\n",
    "x = np.array([1, 2, 3, 4, 5])\n",
    "y = np.array([2.1, 3.9, 6.1, 8.0, 10.2])\n",
    "```"
   ]
  },
  {
   "cell_type": "code",
   "execution_count": null,
   "id": "4c8a832f",
   "metadata": {},
   "outputs": [],
   "source": [
    "# Implement code here"
   ]
  },
  {
   "cell_type": "markdown",
   "id": "c02915c6",
   "metadata": {},
   "source": [
    "### Exercise 2: Polynomial Fitting\n",
    "\n",
    "Fit a polynomial function to a dataset using ``SciPy``. Vary the degree of the polynomial and display the fitted polynomial curve. Find the degree that provides the best fit.\n",
    "\n",
    "```python\n",
    "# Sample data with a polynomial relationship\n",
    "x = np.array([1, 2, 3, 4, 5, 6, 7])\n",
    "y = np.array([0.5, 2.5, 8.5, 18.5, 32.5, 50.5, 72.5])\n",
    "```"
   ]
  },
  {
   "cell_type": "code",
   "execution_count": null,
   "id": "f16c8f7f",
   "metadata": {},
   "outputs": [],
   "source": [
    "# Implement code here"
   ]
  },
  {
   "cell_type": "markdown",
   "id": "60b9a981",
   "metadata": {},
   "source": [
    "### Exercise 3: Exponential Curve Fitting\n",
    "\n",
    "Given a dataset that follows an exponential growth or decay pattern, use ``SciPy`` to fit an exponential curve to the data. Display the curve and the data points. Calculate the confidence interval for the exponential parameters.\n",
    "\n",
    "```python\n",
    "# Sample data\n",
    "x = np.array([1, 2, 3, 4, 5])\n",
    "y = np.array([5, 12, 29, 67, 160])\n",
    "```"
   ]
  },
  {
   "cell_type": "code",
   "execution_count": null,
   "id": "89d1ad86",
   "metadata": {},
   "outputs": [],
   "source": [
    "# Implement code here"
   ]
  },
  {
   "cell_type": "markdown",
   "id": "4472a626",
   "metadata": {},
   "source": [
    "### Exercise 4: Logistic Growth Model\n",
    "\n",
    "Fit a logistic growth model (S-curve) to a dataset representing population growth. Use ``SciPy`` to find the best-fit parameters and display the logistic curve.\n",
    "\n",
    "```python\n",
    "# Sample data\n",
    "x = np.array([1, 2, 3, 4, 5])\n",
    "y = np.array([2.0, 4.1, 7.0, 10.1, 13.9])\n",
    "```\n",
    "\n",
    "**Caution**: You will have to provide some initial guesses in order to help the curve_fit function to converge to the solution."
   ]
  },
  {
   "cell_type": "code",
   "execution_count": null,
   "id": "bd8b249f",
   "metadata": {},
   "outputs": [],
   "source": [
    "# Implement code here"
   ]
  },
  {
   "cell_type": "markdown",
   "id": "f45d926a",
   "metadata": {},
   "source": [
    "### Exercise 5: Nonlinear Curve Fitting\n",
    "\n",
    "Given data that doesn't fit a simple linear or polynomial model, perform nonlinear curve fitting using a user-defined function. Display the fitted curve and data points.\n",
    "```python\n",
    "# Sample data\n",
    "x = np.array([1, 2, 3, 4, 5])\n",
    "y = np.array([2.2, 3.9, 6.5, 9.3, 11.7])\n",
    "```"
   ]
  },
  {
   "cell_type": "code",
   "execution_count": null,
   "id": "dde4933c",
   "metadata": {},
   "outputs": [],
   "source": [
    "# Implement code here"
   ]
  },
  {
   "cell_type": "markdown",
   "id": "a164b2ab",
   "metadata": {},
   "source": [
    "### Exercise 6: Sinusoidal Function Fitting\n",
    "\n",
    "Fit a sinusoidal function (e.g., $y = A \\sin(Bx + C)$) to a dataset representing periodic data. Use ``SciPy`` to find the best-fit parameters and display the sinusoidal curve. \n",
    "```python\n",
    "# Sample data\n",
    "x = np.array([0, 1, 2, 3, 4, 5])\n",
    "y = np.array([0.1, 0.7, 2.3, 3.8, 4.9, 4.7])\n",
    "```"
   ]
  },
  {
   "cell_type": "code",
   "execution_count": null,
   "id": "bd53a39b",
   "metadata": {},
   "outputs": [],
   "source": [
    "# Implement code here"
   ]
  },
  {
   "cell_type": "markdown",
   "id": "91a34cc5",
   "metadata": {},
   "source": [
    "### Exercise 7: Gaussian Curve Fitting\n",
    "\n",
    "Given a dataset with a peak resembling a Gaussian distribution, use ``SciPy`` to fit a Gaussian curve to the data. Display the Gaussian curve and data points.\n",
    "```python\n",
    "# Sample data for a Gaussian curve\n",
    "x = np.array([1, 2, 3, 4, 5, 6, 7, 8, 9, 10])\n",
    "y = np.array([2, 10, 45, 80, 115, 160, 130, 70, 25, 5])\n",
    "```"
   ]
  },
  {
   "cell_type": "code",
   "execution_count": null,
   "id": "c86143fb",
   "metadata": {},
   "outputs": [],
   "source": [
    "# Implement code here"
   ]
  },
  {
   "cell_type": "markdown",
   "id": "f7237d2f",
   "metadata": {},
   "source": [
    "### Exercise 8: Power Law Fitting\n",
    "\n",
    "Fit a power law function ($y = ax^b$) to data that follows a power-law relationship. Use ``SciPy`` to determine the best-fit parameters and display the power law curve.\n",
    "\n",
    "```python\n",
    "# Sample data for a power-law model\n",
    "x = np.array([1, 2, 3, 4, 5, 6, 7, 8, 9, 10])\n",
    "y = np.array([10.0, 7.1, 5.0, 3.7, 2.8, 2.1, 1.6, 1.2, 1.0, 0.8])\n",
    "```"
   ]
  },
  {
   "cell_type": "code",
   "execution_count": null,
   "id": "06297a7e",
   "metadata": {},
   "outputs": [],
   "source": [
    "# Implement code here"
   ]
  },
  {
   "cell_type": "markdown",
   "id": "814c24a1",
   "metadata": {},
   "source": [
    "### Exercise 9: Multiple Curve Fitting\n",
    "\n",
    "Given a dataset with multiple curves, such as multi-modal data, use ``SciPy`` to fit multiple curves simultaneously. Display the fitted curves and data points, and calculate confidence intervals for the parameters of each curve.\n",
    "\n",
    "```python\n",
    "# Sample data\n",
    "x = np.linspace(0, 10, 200)\n",
    "y = (\n",
    "    1.5 * np.exp(-((x - 3.0) ** 2) / (2 * 1.0 ** 2)) +\n",
    "    0.8 * np.exp(-((x - 7.0) ** 2) / (2 * 0.5 ** 2))\n",
    ")\n",
    "```\n",
    "This dataset consists of two Gaussian peaks with different amplitudes, means, and standard deviations. "
   ]
  },
  {
   "cell_type": "code",
   "execution_count": null,
   "id": "0c5e77ed",
   "metadata": {},
   "outputs": [],
   "source": [
    "# Implement code here"
   ]
  }
 ],
 "metadata": {
  "kernelspec": {
   "display_name": "Python 3 (ipykernel)",
   "language": "python",
   "name": "python3"
  },
  "language_info": {
   "codemirror_mode": {
    "name": "ipython",
    "version": 3
   },
   "file_extension": ".py",
   "mimetype": "text/x-python",
   "name": "python",
   "nbconvert_exporter": "python",
   "pygments_lexer": "ipython3",
   "version": "3.9.13"
  }
 },
 "nbformat": 4,
 "nbformat_minor": 5
}
