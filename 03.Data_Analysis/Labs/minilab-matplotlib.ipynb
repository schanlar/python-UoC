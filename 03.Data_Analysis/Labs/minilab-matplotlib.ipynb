{
 "cells": [
  {
   "cell_type": "markdown",
   "id": "c24e8943",
   "metadata": {},
   "source": [
    "# minilab: Ασκήσεις εξάσκησης - Οπτικοποίηση δεδομένων"
   ]
  },
  {
   "cell_type": "markdown",
   "id": "35e9b934",
   "metadata": {},
   "source": [
    "## Η βιβλιοθήκη ``matplotlib``"
   ]
  },
  {
   "cell_type": "markdown",
   "id": "69eb2524",
   "metadata": {},
   "source": [
    "### Exercise 1: Basic Line Plot\n",
    "Create a line plot to visualize the monthly average temperatures in a city for a year. Use the following data:\n",
    "\n",
    "```python\n",
    "months = ['Jan', 'Feb', 'Mar', 'Apr', 'May', 'Jun', 'Jul', 'Aug', 'Sep', 'Oct', 'Nov', 'Dec']\n",
    "temperatures = [5, 6, 10, 15, 20, 25, 30, 29, 25, 18, 12, 7]\n",
    "```\n",
    "Make sure you include appropriate labels for your axes and also a title for your plot."
   ]
  },
  {
   "cell_type": "code",
   "execution_count": 2,
   "id": "a419215a",
   "metadata": {},
   "outputs": [],
   "source": [
    "# Implement code here"
   ]
  },
  {
   "cell_type": "markdown",
   "id": "9c9da2e6",
   "metadata": {},
   "source": [
    "### Exercise 2: Scatter Plot\n",
    "\n",
    "Create a scatter plot to visualize the relationship between the number of hours students studied and their exam scores. Use the provided data and add labels and a title to the plot.\n",
    "\n",
    "```python\n",
    "study_hours = [2, 3, 4, 5, 6, 7, 8, 9, 10]\n",
    "exam_scores = [50, 55, 60, 65, 70, 75, 80, 85, 90]\n",
    "```"
   ]
  },
  {
   "cell_type": "code",
   "execution_count": 4,
   "id": "d71bbbde",
   "metadata": {},
   "outputs": [],
   "source": [
    "# Implement code here"
   ]
  },
  {
   "cell_type": "markdown",
   "id": "020d1fd1",
   "metadata": {},
   "source": [
    "### Exercise 3: Bar Chart\n",
    "\n",
    "Create a bar chart to visualize the sales of different products in a store. Use the given data and add labels and a title to the plot.\n",
    "\n",
    "```python\n",
    "products = ['Product A', 'Product B', 'Product C', 'Product D']\n",
    "sales = [5000, 7000, 3000, 9000]\n",
    "```"
   ]
  },
  {
   "cell_type": "code",
   "execution_count": 6,
   "id": "b6aa2e69",
   "metadata": {},
   "outputs": [],
   "source": [
    "# Implement code here"
   ]
  },
  {
   "cell_type": "markdown",
   "id": "bc33e44c",
   "metadata": {},
   "source": [
    "### Exercise 4: Histogram\n",
    "\n",
    "Visualize the distribution of exam scores for a class using a histogram. Use the following data and add labels, a title, and annotations for mean and standard deviation.\n",
    "\n",
    "```python\n",
    "np.random.seed(42)\n",
    "exam_scores = np.random.normal(75, 10, 100)\n",
    "```"
   ]
  },
  {
   "cell_type": "code",
   "execution_count": 8,
   "id": "a6d82343",
   "metadata": {},
   "outputs": [],
   "source": [
    "# Implement code here"
   ]
  },
  {
   "cell_type": "markdown",
   "id": "0219106e",
   "metadata": {},
   "source": [
    "### Exercise 5: Pie Chart\n",
    "\n",
    "Create a pie chart to represent the distribution of expenses in a monthly budget. Use the provided data and label each category with its name and percentage of the total budget.\n",
    "\n",
    "```python\n",
    "categories = ['Housing', 'Food', 'Transportation', 'Entertainment', 'Savings']\n",
    "expenses = [1200, 600, 400, 200, 800]\n",
    "```"
   ]
  },
  {
   "cell_type": "code",
   "execution_count": 10,
   "id": "55608bdb",
   "metadata": {},
   "outputs": [],
   "source": [
    "# Implement code here"
   ]
  },
  {
   "cell_type": "markdown",
   "id": "5bf8d50c",
   "metadata": {},
   "source": [
    "### Exercise 6: Multiple Line Plots\n",
    "\n",
    "Visualize the monthly sales of two different products (Product A and Product B) over a year. Create separate line plots for each product and add labels, a title, and a legend to distinguish between the products.\n",
    "\n",
    "```python\n",
    "months = ['Jan', 'Feb', 'Mar', 'Apr', 'May', 'Jun', 'Jul', 'Aug', 'Sep', 'Oct', 'Nov', 'Dec']\n",
    "product_a_sales = [2000, 2200, 2400, 2600, 2800, 3000, 3200, 3400, 3600, 3800, 4000, 4200]\n",
    "product_b_sales = [1800, 1900, 2100, 2300, 2500, 2700, 2900, 3100, 3300, 3500, 3700, 3900]\n",
    "```"
   ]
  },
  {
   "cell_type": "code",
   "execution_count": 12,
   "id": "c541bacd",
   "metadata": {},
   "outputs": [],
   "source": [
    "# Implement code here"
   ]
  },
  {
   "cell_type": "markdown",
   "id": "dd54db77",
   "metadata": {},
   "source": [
    "### Exercise 7: Distributions\n",
    "\n",
    "Generate an array of 1000 Gaussian distributed random numbers and plot a histogram of the array."
   ]
  },
  {
   "cell_type": "code",
   "execution_count": 14,
   "id": "b837563d",
   "metadata": {},
   "outputs": [],
   "source": [
    "# Implement code here"
   ]
  },
  {
   "cell_type": "markdown",
   "id": "3cb5a0e2",
   "metadata": {},
   "source": [
    "### Exercise 8: Plot Data from File\n",
    "\n",
    "Read in the data from the file ``marvel_movies.txt`` in the data directory and plot the film earnings against the ratings.\n",
    "\n",
    "- Display the points as magenta triangles\n",
    "\n",
    "\n",
    "- Plot the earnings in log scale\n",
    "\n",
    "\n",
    "- Make sure you label your axes and title your plot"
   ]
  },
  {
   "cell_type": "code",
   "execution_count": 16,
   "id": "191f7fe7",
   "metadata": {},
   "outputs": [],
   "source": [
    "# Implement code here"
   ]
  }
 ],
 "metadata": {
  "kernelspec": {
   "display_name": "Python 3 (ipykernel)",
   "language": "python",
   "name": "python3"
  },
  "language_info": {
   "codemirror_mode": {
    "name": "ipython",
    "version": 3
   },
   "file_extension": ".py",
   "mimetype": "text/x-python",
   "name": "python",
   "nbconvert_exporter": "python",
   "pygments_lexer": "ipython3",
   "version": "3.9.13"
  }
 },
 "nbformat": 4,
 "nbformat_minor": 5
}
