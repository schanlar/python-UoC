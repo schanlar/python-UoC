{
 "cells": [
  {
   "cell_type": "markdown",
   "id": "a69d6851",
   "metadata": {},
   "source": [
    "# Δομές δεδομένων στην Python"
   ]
  },
  {
   "cell_type": "markdown",
   "id": "c23f50a1",
   "metadata": {},
   "source": [
    "**Note**: This notebook is heavily influenced by the lectures of Dr. Thomas Erben @ University of Bonn"
   ]
  },
  {
   "cell_type": "markdown",
   "id": "8f61d47b",
   "metadata": {},
   "source": [
    "Μπορούμε να διαχωρίσουμε τις δομές δεδομένων σύμφωνα με τις παρακάτω ιδιότητες:\n",
    "\n",
    "- Τι είδους δεδομένα μπορεί να έχει μία δομή δεδομένων (μόνο συγκεκριμένου τύπου, ομοιογενή δεδομένα);\n",
    "\n",
    "\n",
    "- Είναι η δομή δεδομένων μεταβλητή (μπορεί να αλλάξει μετά τη δημιουργία της);\n",
    "\n",
    "\n",
    "- Υπάρχει κάποια διάταξη των δεδομένων στη συγκεκριμένη δομή;\n",
    "\n",
    "\n",
    "Μέχρι στιγμής, η μοναδική σύνθετη δομή δεδομένων που έχουμε δει είναι η συμβολοσειρά. Αυτού του είδους η δομή είναι μια **διατεταγμένη** ακολουθία **συγκεκριμένου τύπου** δεδομένων (αλφαριθμητικών χαρακτήρων) και είναι **αμετάβλητη**.\n",
    "\n",
    "\n",
    "\n",
    "Στη συνέχεια θα αναφερθούμε σε ακόμα τρεις *πολύ* διαδεδομένες και βασικές δομές δεδομένων: τις **λίστες**, τις **πλειδάδες** και τα **λεξικά**.\n",
    "\n",
    "Οι δομές δεδομένων σε καμία περίπτωση δεν περιορίζονται μόνο σε αυτές στις οποίες θα αναφερθούμε εδώ. Προχωρώντας θα συναντήσουμε και θα δουλέψουμε με κάποιες επιπρόσθετες δομές (π.χ. **numpy-arrays**) ενώ κάποιες άλλες -αν και εξαιρετικά δημοφιλείς και χρήσιμες- δεν θα έχουμε την ευκαιρία να τις αναλύσουμε (π.χ. **κλάσεις**, **σύνολα** κτλ).\n"
   ]
  },
  {
   "cell_type": "markdown",
   "id": "34abefb4",
   "metadata": {},
   "source": [
    "## Λίστες"
   ]
  },
  {
   "cell_type": "markdown",
   "id": "3e7b6b2b",
   "metadata": {},
   "source": [
    "Οι λίστες είναι οι πιο **γενικές, διατεταγένες και ετερογενείς** ακολουθίες που μπορούν να **μεταβληθούν**."
   ]
  },
  {
   "cell_type": "markdown",
   "id": "088d00d3",
   "metadata": {},
   "source": [
    "### Δημιουργία, περιεχόμενα και προσπέλαση λίστας"
   ]
  },
  {
   "cell_type": "markdown",
   "id": "d6f216c4",
   "metadata": {},
   "source": [
    "- Μία λίστα ορίζεται από το όνομά της ακολουθούμενο από ένα ζευγάρι τετραγωνικών παρενθέσεων έχοντας τη δομή:\n",
    "\n",
    "                                 l = [element1, element2, element3, ...]\n",
    "\n",
    "\n",
    "\n",
    "- Τα στοιχεία μίας λίστας είναι διατεταγμένα που σημαίνει ότι, όπως και στις συμβολοσειρές, σε κάθε στοιχείο της λίστας αντιστοιχεί ένας δείκτης από το 0 (πρώτο στοιχείο) μέχρι το μήκος της λίστας μειον 1.\n",
    "\n",
    "\n",
    "- Οι τρόποι με τους οποίους μπορούμε να έχουμε πρόσβαση στα στοιχεία μίας λίστας είναι παρόμοιοι με αυτούς που χρησιμοποιούμε για την πρόσβαση των αλφαριθμητικών στοιχείων μιας συμβολοσειράς."
   ]
  },
  {
   "cell_type": "code",
   "execution_count": null,
   "id": "bcd68f68",
   "metadata": {},
   "outputs": [],
   "source": [
    "# Lists live within square brackets and the individual elements are separated by commas:\n",
    "# Be careful though: the word 'list' is a keyword and cannot be used as a variable's name \n",
    "l = [1, 2, 3, 4] \n",
    "\n",
    "print(type(l))\n",
    "\n",
    "print(l[0], l[2])   # Print the first and third element of the list 'l'.\n",
    "                    # Indices of cbontainer elements start with 0 and end with 'n-1\n",
    "                    # (for a container with 'n' elements) as in C)\n",
    "        \n",
    "print(len(l))       # Length of a list\n",
    "\n",
    "print(l[-1], l[-2]) # Negative indices i access indices n - i if n is\n",
    "                    # the number of elements in the container!"
   ]
  },
  {
   "cell_type": "markdown",
   "id": "c8348796",
   "metadata": {},
   "source": [
    "- Τα στοιχεία μίας λίστας μπορεί να είναι ο,τιδήποτε: ακέραιοι, δεκαδικοί, αλφαριθμητικά, μιγαδικοί αριθμοί, συναρτήσεις, modules κτλ."
   ]
  },
  {
   "cell_type": "code",
   "execution_count": null,
   "id": "2a299708",
   "metadata": {},
   "outputs": [],
   "source": [
    "# Lists can be heterogeneous and contain 'everything'(!)\n",
    "import numpy \n",
    "\n",
    "# More on functions later...\n",
    "def square(x):\n",
    "    return x**2\n",
    "\n",
    "# The following list contains an int, a float, another list, a module, a function and a complex number!\n",
    "l = [1, 3.0, \"Maria\", [1, 2], numpy, square, 2+3j]\n",
    "\n",
    "print(l[2], l[3], l[4].pi, l[5](5), l[6])"
   ]
  },
  {
   "cell_type": "markdown",
   "id": "8786a370",
   "metadata": {},
   "source": [
    "- Οι λίστες σπάνια δημιουργούνται \"με το χέρι\". Συνήθως είναι το αποτέλεσμα κλήσης κάποιας συνάρτησης ή προσπέλασης κάποιου αρχείου δεδομένων."
   ]
  },
  {
   "cell_type": "code",
   "execution_count": null,
   "id": "27970094",
   "metadata": {},
   "outputs": [],
   "source": [
    "l = [1, 2, 3, 4]  # most simple list creation\n",
    "print(l)\n",
    "\n",
    "n = list(range(10)) # list of running numbers used for for-looping\n",
    "print(n)\n",
    "\n",
    "# looping over list elements is the primary way to work with this container!\n",
    "for num in n:\n",
    "    print(num)"
   ]
  },
  {
   "cell_type": "markdown",
   "id": "074a220c",
   "metadata": {},
   "source": [
    "- Όπως και με τις συμβολοσειρές, μπορούμε να πάρουμε ένα μόνο τμήμα μιας λίστας χρησιμοποιώντας τους ίδιους κανόνες τεμαχισμού.\n",
    "\n",
    "\n",
    "\n",
    "- Σε αντίθεση όμως με τις συμβολοσειρές, οι λίστες μπορούν να μεταβληθούν μετά τη δημιουργία τους."
   ]
  },
  {
   "cell_type": "code",
   "execution_count": null,
   "id": "f66c631d",
   "metadata": {},
   "outputs": [],
   "source": [
    "# sublists can be accessed via slicing\n",
    "l = [1, 2, 3, 4, 5, 6, 7, 8, 9, 10]\n",
    "\n",
    "print(l[3])    # access of an individual element\n",
    "\n",
    "print(l[1:3])  # access the sublist from the second (inclusive) to\n",
    "               # the fourth (exclusive) elements\n",
    "    \n",
    "print(l[4:])   # access the sublist from the fifth element up to the end\n",
    "\n",
    "print(l[::2])  # access the sublist with each other element\n",
    "\n",
    "print(l[1:-1]) # negative indices also work for slices\n",
    "\n",
    "\n",
    "l[1:4] = [20, 21, 22]  # note that you can use slicing also on the left\n",
    "                       # side of an assigment! In that case the structure\n",
    "                       # of the right side (size of the container)\n",
    "                       # has to match the sliced container. Note that\n",
    "                       # this operation is only available for mutable\n",
    "                       # containers!\n",
    "                    \n",
    "print(l)  "
   ]
  },
  {
   "attachments": {
    "matrix_list.png": {
     "image/png": "[encoded data removed]"
    }
   },
   "cell_type": "markdown",
   "id": "f7bdcf37",
   "metadata": {},
   "source": [
    "- Όπως είδαμε, μία λίστα μπορεί να περιέχει οποιοδήποτε τύπο δεδομένων. Αυτό σημαίνει ότι τα στοιχεία της μπορεί να είναι άλλες λίστες θυμίζοντας έτσι έναν πίνακα.\n",
    "\n",
    "\n",
    "- Έστω λίστα ``l = [[1,2,3], [4,5,6], [7,8,9]]``. Πως μπορούμε να αναφερθούμε στο στοιχείο 6; \n",
    "\n",
    "\n",
    "![matrix_list.png](attachment:matrix_list.png)\n",
    "\n",
    "- Η απάντηση είναι χρησιμοποιώντας αλυσιδωτή προσπέλαση: ``l[1][2]``"
   ]
  },
  {
   "cell_type": "code",
   "execution_count": null,
   "id": "fc0123c0",
   "metadata": {},
   "outputs": [],
   "source": [
    "# Nested lists -> similar to matrix\n",
    "l = [[1,2,3], [4,5,6], [7,8,9]]\n",
    "print(l)\n",
    "\n",
    "# access second element\n",
    "print(l[1])\n",
    "\n",
    "# chained access\n",
    "print(l[1][2])\n",
    "\n",
    "# this does not exist!\n",
    "#print(l[1,2])"
   ]
  },
  {
   "cell_type": "markdown",
   "id": "5172d8db",
   "metadata": {},
   "source": [
    "### Μέθοδοι της κλάσης \\<list\\>"
   ]
  },
  {
   "cell_type": "markdown",
   "id": "cae0d42b",
   "metadata": {},
   "source": [
    "Δουλεύοντας με μία ετερογενή δομή δεδομένων, δεν μπορούμε να ορίσουμε πολλές πράξεις που να βγάζουν νόημα. Όλες οι μέθοδοι που προσφέρονται για τα αντικείμενα της κλάσης \\<list\\> αφορούν μετατροπές, επεκτάσεις και ταξινομήσεις (εαν γίνεται). Οι δύο γνωστοί τελεστές ``+`` και ``*`` υπάρχουν και σε αυτή τη περίπτωση επιτελούν την ίδια λειτουργία όπως στην περίπτωση των συμβολοσειρών.\n",
    "\n",
    "\n",
    "Μερικές πολύ χρήσιμες μέθοδοι είναι οι ακόλουθες:\n",
    "\n",
    "- ``append()``\n",
    "    \n",
    "- ``extend()``\n",
    "\n",
    "- ``remove()``\n",
    "\n",
    "- ``pop()``\n",
    "\n",
    "- ``sort()``\n",
    "\n",
    "\n",
    "Χρησιμοποιήστε τις built-in συναρτήσεις ``dir`` και ``help`` για να δείτε τις διαθέσιμες μεθόδους της κλάσης \\<list\\> και να κατανοήσετε τη λειτουργία τους."
   ]
  },
  {
   "cell_type": "code",
   "execution_count": null,
   "id": "49aad950",
   "metadata": {},
   "outputs": [],
   "source": [
    "l = [1, 2, 3]\n",
    "m = [4, 5, 6]\n",
    "\n",
    "print(l * 2)\n",
    "print(l + m)\n",
    "\n",
    "# Append number 8 to an existing list\n",
    "l.append(8)\n",
    "print(l)"
   ]
  },
  {
   "cell_type": "markdown",
   "id": "085c551e",
   "metadata": {},
   "source": [
    "**Προσοχή:** Ιδιαίτερη προσοχή πρέπει να δίνεται για μεθόδους που τροποποιούν μία υπάρχουσα λίστα (in-place methods) και μεθόδους που διαχειρίζονται ένα νέο αντικείμενο (πιθανόν ένα αντίγραφο της λίστας)."
   ]
  },
  {
   "cell_type": "code",
   "execution_count": null,
   "id": "c318f1eb",
   "metadata": {},
   "outputs": [],
   "source": [
    "l = [\"Savvas\", \"Elias\", \"Nikos\"]\n",
    "\n",
    "# l.sort is an 'in place sort'\n",
    "# Use it if you do not need the old list anymore\n",
    "# (memory efficiency)\n",
    "l.sort()\n",
    "print(l)"
   ]
  },
  {
   "cell_type": "code",
   "execution_count": null,
   "id": "14f4ac8d",
   "metadata": {},
   "outputs": [],
   "source": [
    "l = [\"Savvas\", \"Elias\", \"Nikos\"]\n",
    "\n",
    "# sorted creates a new object with a sorted version of l\n",
    "# Use it if you still need the original list.\n",
    "m = sorted(l)\n",
    "print(m, l)"
   ]
  },
  {
   "cell_type": "markdown",
   "id": "874772ae",
   "metadata": {},
   "source": [
    "### Συνοπτική λίστα (list comprehension)"
   ]
  },
  {
   "cell_type": "markdown",
   "id": "1c31f829",
   "metadata": {},
   "source": [
    "Οι συνοπτικές λίστες είναι μία άλλη μέθοδος για την δημιουργία κάποιας λίστας χωρίς τη χρήση δομής επανάληψης for. Οι συνοπτικές λίστες προσφέρουν έναν πιο ευανάγνωστο (με λίγη εξοικείωση), πιο γρήγορο και πιο αποδοτικό τρόπο για τη δημιουργία μιας λίστας.\n",
    "\n",
    "Η γενική μορφή μιας συνοπτικής λίστας είναι:\n",
    "```python\n",
    "                                    [έκφραση(x) for x in Obj if συνθήκη]\n",
    "```\n",
    "και η οποία παράγει μία λίστα με στοιχεία τις έκφραση(x) για κάθε τιμή του x που ανήκει στο αντικείμενο Obj και που ικανοποιεί τη συνθήκη."
   ]
  },
  {
   "cell_type": "code",
   "execution_count": null,
   "id": "fa66040d",
   "metadata": {},
   "outputs": [],
   "source": [
    "# Regular approach to populate a list in a given range of numbers\n",
    "my_list = []\n",
    "\n",
    "for i in range(5, 16):\n",
    "    my_list.append(i)\n",
    "    \n",
    "print(my_list)\n",
    "\n",
    "# A better (and faster) way to do things\n",
    "my_pythonic_list = [j for j in range(5, 16)]\n",
    "print(my_pythonic_list)\n",
    "\n",
    "my_pythonic_list_dec = [j/10 for j in range(1, 10)]\n",
    "print(my_pythonic_list_dec)"
   ]
  },
  {
   "cell_type": "code",
   "execution_count": null,
   "id": "0106489c",
   "metadata": {},
   "outputs": [],
   "source": [
    "# What if we want to apply a condition?\n",
    "some_list = []\n",
    "\n",
    "for i in range(5, 16):\n",
    "    if i <= 13 and i >= 9:\n",
    "        # We want the string of the floating representation of number i\n",
    "        i = str(float(i))\n",
    "        some_list.append(i)\n",
    "        \n",
    "print(some_list)\n",
    "\n",
    "# You can create a list comprehension equipped with a simple condition\n",
    "some_pythonic_list = [str(float(x)) for x in range(5, 16) if (x <= 13) and (x >= 9)]\n",
    "print(some_pythonic_list)"
   ]
  },
  {
   "cell_type": "markdown",
   "id": "fc9873ec",
   "metadata": {},
   "source": [
    "**Challenge**\n",
    "\n",
    "Προσπαθείστε να απαντήσετε τα επόμενα ερωτήματα πριν εκτελέσετε κάποιον κώδικα. Αν γίνεται, καταφύγετε στην εκτέλεση του κώδικα μόνο προς επιβεβαίωση. Χρησιμοποιήστε τις βοηθητικές συναρτήσεις ``help``, ``dir`` αν δεν είστε σίγουροι/ες για το αποτέλεσμά σας. Για κάθε άσκηση θα πρέπει να είστε σε θέση να εξηγήσετε ΓΙΑΤΙ παίρνετε τα συγκεκριμένα αποτελέσματα! \n",
    "\n",
    "\n",
    "- Ποιό είναι το αποτέλεσμα του παρακάτω κώδικα;\n",
    "\n",
    "````python\n",
    "s = \"Jane Doe\"\n",
    "print(s[1], s[-1], s[1:3], s[1:3:-1], s[3:1:-1], s[:3], s[::2], s[::-1])\n",
    "````\n",
    "\n",
    "\n",
    "- Ποιό είναι το αποτέλεσμα του παρακάτω κώδικα;\n",
    "\n",
    "````python\n",
    "for x in \"Mississippi\".split(\"i\"):\n",
    "    print(x, end=\"\")\n",
    "````\n",
    "\n",
    "- Ποιό είναι το αποτέλεσμα του παρακάτω κώδικα;\n",
    "\n",
    "````python\n",
    "xlist = []\n",
    "xlist.append(5)\n",
    "xlist.append(10)\n",
    "print(xlist)\n",
    "````\n",
    "\n",
    "- Ποιό είναι το αποτέλεσμα του παρακάτω κώδικα;\n",
    "\n",
    "````python\n",
    "zlist = []\n",
    "zlist.append([5, 10])\n",
    "print(zlist)\n",
    "````\n",
    "\n",
    "\n",
    "- Ποιό είναι το αποτέλεσμα του παρακάτω κώδικα;\n",
    "\n",
    "````python\n",
    "xlist = list(range(-3, 3))\n",
    "print(xlist)\n",
    "````\n",
    "\n",
    "- Ποιό είναι το αποτέλεσμα του παρακάτω κώδικα;\n",
    "\n",
    "````python\n",
    "xlist = [2, 1, 3]\n",
    "ylist = sorted(xlist)\n",
    "print(xlist, ylist)\n",
    "````\n",
    "\n",
    "- Ποιό είναι το αποτέλεσμα του παρακάτω κώδικα;\n",
    "\n",
    "````python\n",
    "xlist = [2, 1, 3]\n",
    "ylist = xlist.sort()\n",
    "print(xlist, ylist)\n",
    "````\n",
    "\n",
    "- Ποιό είναι το αποτέλεσμα του παρακάτω κώδικα;\n",
    "\n",
    "````python\n",
    "xlist = [3, 2, 1, 0]\n",
    "\n",
    "for item in xlist:\n",
    "    print(item, end=\" \")\n",
    "````\n",
    "\n",
    "- Ποιό είναι το αποτέλεσμα του παρακάτω κώδικα;\n",
    "\n",
    "````python\n",
    "a = 1\n",
    "b = 2\n",
    "xlist = [a, b, a + b]\n",
    "a = 0\n",
    "b = 0\n",
    "\n",
    "print(xlist)\n",
    "````\n",
    "\n",
    "- Αφού εκτελεστούν οι ακόλουθες εντολές, ποιά είναι η τιμή του x;\n",
    "\n",
    "````python\n",
    "s = \"this is a test\"\n",
    "x = s.split()\n",
    "````\n",
    "\n",
    "- Ποιό είναι το αποτέλεσμα του παρακάτω κώδικα;\n",
    "\n",
    "````python\n",
    "a = 123456\n",
    "s = str(a)\n",
    "print(s[5] + s[4] + s[3] + s[2])\n",
    "````"
   ]
  },
  {
   "cell_type": "markdown",
   "id": "328c05ff",
   "metadata": {},
   "source": [
    "## Πλειάδες"
   ]
  },
  {
   "cell_type": "markdown",
   "id": "e86dc41b",
   "metadata": {},
   "source": [
    "Οι πλειάδες (tuples) είναι μία δομή δεδομένων που είναι πανομοιότυπη με τις λίστες με την εξής διαφορά: είναι **αμετάβλητες**. Αυτό σημαίνει ότι, σε αντίθεση με τις λίστες, οι πλειάδες δεν μπορούν να τροποποιηθούν μετά τη δημιουργία τους.\n",
    "\n",
    "\n",
    "- Μία πλειάδα ορίζεται από το όνομά της ακολουθούμενο από ένα ζευγάρι παρενθέσεων έχοντας τη δομή:\n",
    "\n",
    "                            t = (element1, element2, element3, ...)\n",
    "\n",
    "\n",
    "- Η δημιουργία, τα περιεχόμενα και η προσπέλαση είναι παρόμοια με αυτά μιας λίστας."
   ]
  },
  {
   "cell_type": "code",
   "execution_count": null,
   "id": "706a6bfa",
   "metadata": {},
   "outputs": [],
   "source": [
    "t = (1, 2, 3, 4)  # tuples live in parentheses\n",
    "print(type(t))\n",
    "print(t[1:3])     # slicing and all over other element accesses that do not change the tuple as for lists\n",
    "\n",
    "v = (1,)  # definition of a tuple with one element!\n",
    "print(v)\n",
    "print(type(v))\n",
    "\n",
    "u = 'a', 2.0, 5   # The parentheses can be ommitted for tuple creation!\n",
    "print(type(u))\n",
    "\n",
    "for elem in u:\n",
    "    print(elem)\n",
    "    \n",
    "# This raises an error; tuples are immutable!\n",
    "# u[1] = 'b' "
   ]
  },
  {
   "cell_type": "markdown",
   "id": "0ae11556",
   "metadata": {},
   "source": [
    "- Έχουμε ήδη δει ότι η Python υποστηρίζει την ταυτόχρονη εκχώρηση τιμών σε πολλαπλές μεταβλητές. Αυτή η διαδικασία μπορεί να θεωρηθεί ως το ξε-πακετάρισμα των τιμών μιας πλειάδας."
   ]
  },
  {
   "cell_type": "code",
   "execution_count": null,
   "id": "595e5f1b",
   "metadata": {},
   "outputs": [],
   "source": [
    "x, y = 1, 2   # simultaneous assigment to two variables\n",
    "print(type(x))\n",
    "\n",
    "z = 1, 2  # creation of a tuple!\n",
    "print(type(z))\n",
    "\n",
    "x, y = z  # The tuple in upacked!\n",
    "print(x, y)\n",
    "\n",
    "# This also works with lists:\n",
    "l = ['a', 'b']\n",
    "print(l)\n",
    "\n",
    "s, t = l\n",
    "print(s, t)"
   ]
  },
  {
   "cell_type": "markdown",
   "id": "39a69d07",
   "metadata": {},
   "source": [
    "**Spoiler:** Το ίδιο συμβαίνει και για μία συνάρτηση που επιστρέφει περισσότερες από μία τιμές. Μπορεί κανείς να θεωρήσει ότι μία τέτοια συνάρτηση επιστρέφει μία πλειάδα που περιέχει το σύνολο των μεμονωμένων τιμών."
   ]
  },
  {
   "cell_type": "code",
   "execution_count": null,
   "id": "84940c7e",
   "metadata": {},
   "outputs": [],
   "source": [
    "import numpy as np\n",
    "\n",
    "def xy2polar(x, y):\n",
    "    \"\"\"\n",
    "    A function that converts cartesian coordinates to \n",
    "    polar coordinates\n",
    "    \"\"\"\n",
    "    r = np.sqrt(x**2 + y**2)\n",
    "    phi = np.arctan2(y, x)\n",
    "    \n",
    "    return r, phi\n",
    "\n",
    "def polar2xy(r, phi):\n",
    "    \"\"\"\n",
    "    A function that converts polar coordinates to \n",
    "    cartesian coordinates\n",
    "    \"\"\"\n",
    "    x = r * np.cos(phi)\n",
    "    y = r * np.sin(phi)\n",
    "    \n",
    "    return x, y\n",
    "\n",
    "x, y = 1.0, 1.0\n",
    "\n",
    "r, phi = xy2polar(x, y)\n",
    "print(r, phi)\n",
    "\n",
    "c = xy2polar(x, y)\n",
    "print(c)"
   ]
  },
  {
   "cell_type": "markdown",
   "id": "d2493a93",
   "metadata": {},
   "source": [
    "## Λεξικά"
   ]
  },
  {
   "cell_type": "markdown",
   "id": "6fc261bb",
   "metadata": {},
   "source": [
    "Τα λεξικά είναι **μη-διατεταγμένες και ετερογενείς** δομές δεδομένων που μπορούν να **μεταβληθούν**.\n",
    "\n",
    "- Τα λεξικά στην Python ακολουθούν την ίδια φιλοσοφία με τα γνωστά γλωσσικά λεξικά που χρησιμοποιούμε για τον ορισμό των λέξεων. Σε ένα τέτοιο γλωσσικό λεξικό, έχουμε μία λέξη (κλειδί) στην οποία αντιστοιχεί ένας ορισμός (τιμή). Εμείς ως χρήστες του λεξικού, χρησιμοποιούμε την λέξη ως ευρετήριο για τον ορισμό που ψάχνουμε.\n",
    "\n",
    "\n",
    "\n",
    "- Παρόμοια, τα λεξικά στην Python αποτελούνται από τέτοια ζευγάρια \"κλειδιών-τιμών\". Επειδή τα λεξικά αποτελούν μη-διατεταγμένες ακολουθίες, αυτό σημαίνει ότι δεν υπάρχει κάποια δεικτοδότηση όπως στην περίπτωση των συμβολοσειρών, λιστών ή πλειάδων. Αντίθετα, για την προσπέλαση των στοιχείων ενός λεξικού χρησιμοποιούμε ως ευρετήριο τα κλειδιά για να πάρουμε την τιμή που αντιστοιχεί σε αυτό το κλειδί.\n",
    "\n",
    "\n",
    "\n",
    "- Ένα λεξικό ορίζεται από το όνομά του ακολοθούμενο από ένα ζευγάρι αγκυλωτών παρενθέσεων έχοντας τη δομή:\n",
    "\n",
    "                           d = {key1:value1, key2:value2, key3:value3,...}\n",
    "                           \n",
    "                           \n",
    "                           \n",
    "- Τα κλειδιά, εφόσον χρησιμεύουν ως ευρετήριο, θα πρέπει να είναι μοναδικά. Επίσης, πρέπει να είναι αντικείμενα αμετάβλητου τύπου (π.χ. συμβολοσειρές, αριθμοί, πλειάδες) και όχι λίστες ή λεξικά."
   ]
  },
  {
   "cell_type": "markdown",
   "id": "c2aa6283",
   "metadata": {},
   "source": [
    "### Δημιουργία, περιεχόμενα και προσπέλαση λεξικού"
   ]
  },
  {
   "cell_type": "code",
   "execution_count": null,
   "id": "d8937dcd",
   "metadata": {},
   "outputs": [],
   "source": [
    "# Keys must be unique and immutable, values can be anything\n",
    "tutors = {\n",
    "    \"name\": [\"Savvas\", \"Elias\", \"Nikos\"],\n",
    "    \"email\": [\"schanlaridis@physics.uoc.gr\", \"ekyritsis@physics.uoc.gr\", \"nmandarakas@physics.uoc.gr\"],\n",
    "    \"office\": 230,\n",
    "    \"research_field\": \"Physics\" \n",
    "}\n",
    "\n",
    "\n",
    "print(type(tutors))\n",
    "\n",
    "# Length of a dictionary is the number of keys\n",
    "print(len(tutors))"
   ]
  },
  {
   "cell_type": "markdown",
   "id": "29f93d39",
   "metadata": {},
   "source": [
    "- Αν προσπαθήσουμε να πάρουμε την τιμή που αντιστοιχεί σε ένα κλειδί που **δεν** υπάρχει στο λεξικό, τότε παίρνουμε την εξαίρεση ``KeyError``.\n",
    "\n",
    "\n",
    "- Πολλές φορές είναι προτιμότερο να χρησιμοποιούμε συγκεκριμένες μεθόδους της κλάσης ``<dict>`` για την προσπέλαση των στοιχείων (π.χ. ``get()``, δες παρακάτω)."
   ]
  },
  {
   "cell_type": "code",
   "execution_count": null,
   "id": "892e9eb9",
   "metadata": {},
   "outputs": [],
   "source": [
    "print(tutors[\"name\"])\n",
    "print(tutors[\"office\"])\n",
    "\n",
    "# What if you try to get a key that doesn't exist\n",
    "# print(tutors[\"phone\"])"
   ]
  },
  {
   "cell_type": "code",
   "execution_count": null,
   "id": "8d0ba868",
   "metadata": {},
   "outputs": [],
   "source": [
    "# looping over the elements of a dictionary might not \n",
    "# be so intuitive\n",
    "\n",
    "# This will print out only the keys\n",
    "for k in tutors:\n",
    "    print(k)"
   ]
  },
  {
   "cell_type": "markdown",
   "id": "2a561575",
   "metadata": {},
   "source": [
    "### Μέθοδοι της κλάσης \\< dict\\>"
   ]
  },
  {
   "cell_type": "code",
   "execution_count": null,
   "id": "174f38f7",
   "metadata": {},
   "outputs": [],
   "source": [
    "print(dir(dict))\n",
    "\n",
    "# print(help(dict.get))"
   ]
  },
  {
   "cell_type": "code",
   "execution_count": null,
   "id": "17639632",
   "metadata": {},
   "outputs": [],
   "source": [
    "# Access a value using the get method\n",
    "print(tutors.get('email'))\n",
    "\n",
    "# Try to access the value of a non-existing key\n",
    "print(tutors.get('phone'))\n",
    "\n",
    "# you can even customize it\n",
    "print(tutors.get('phone', 'not found'))"
   ]
  },
  {
   "cell_type": "code",
   "execution_count": null,
   "id": "4fb0c928",
   "metadata": {},
   "outputs": [],
   "source": [
    "# 3 very useful methods\n",
    "print(tutors.items())\n",
    "print()\n",
    "\n",
    "print(tutors.keys())\n",
    "print()\n",
    "print(tutors.values())"
   ]
  },
  {
   "cell_type": "code",
   "execution_count": null,
   "id": "e1f36f8d",
   "metadata": {},
   "outputs": [],
   "source": [
    "# looping over the elements of a dictionary\n",
    "for key, val in tutors.items():\n",
    "    print(key, val)\n",
    "    \n",
    "print()\n",
    "# Check out the functionality of zip() -- see also the enumerate() function\n",
    "for key, val in zip(tutors.keys(), tutors.values()):\n",
    "    print(key, val)"
   ]
  },
  {
   "cell_type": "markdown",
   "id": "dceea941",
   "metadata": {},
   "source": [
    "### Προσθήκη και διαγραφή μιας καταχώρησης"
   ]
  },
  {
   "cell_type": "code",
   "execution_count": null,
   "id": "bf7794cb",
   "metadata": {},
   "outputs": [],
   "source": [
    "# Adding an entry\n",
    "tutors[\"phone\"] = \"2810-123456\"\n",
    "\n",
    "print(tutors.get('phone', 'not found'))\n",
    "\n",
    "# Replacing an existing entry\n",
    "tutors[\"research_field\"] = 'Astrophysics'\n",
    "\n",
    "print(tutors.get('research_field'))\n",
    "\n",
    "# Deleting an entry\n",
    "del tutors['phone']\n",
    "\n",
    "print(tutors.get('phone', 'not found'))\n",
    "\n",
    "# Update parts of a dictionary\n",
    "tutors.update({\"office\":[230, 232], \"phone\":123456})\n",
    "\n",
    "print(tutors)"
   ]
  }
 ],
 "metadata": {
  "kernelspec": {
   "display_name": "Python 3",
   "language": "python",
   "name": "python3"
  },
  "language_info": {
   "codemirror_mode": {
    "name": "ipython",
    "version": 3
   },
   "file_extension": ".py",
   "mimetype": "text/x-python",
   "name": "python",
   "nbconvert_exporter": "python",
   "pygments_lexer": "ipython3",
   "version": "3.8.8"
  }
 },
 "nbformat": 4,
 "nbformat_minor": 5
}
