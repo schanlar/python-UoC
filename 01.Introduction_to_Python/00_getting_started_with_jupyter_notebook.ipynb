{
 "cells": [
  {
   "cell_type": "markdown",
   "id": "9bc04a1a",
   "metadata": {},
   "source": [
    "# Δουλεύοντας με το Jupyter Notebook"
   ]
  },
  {
   "cell_type": "markdown",
   "id": "adf3591a",
   "metadata": {},
   "source": [
    "Το σημειωματάριο Jupyter είναι μια σχετικά νέα δυνατότητα που έχει εφαρμοστεί με την Python, και σας επιτρέπει να γράφετε σημειωματάρια παρόμοια με αυτά που συναντάμε σε διαδραστικές γλώσσες (π.χ. Mathematica). Το Σημειωματάριο εκτελείται στον περιηγητή σας (browser, π.χ. Google Chrome, Firefox, Safari, Opera κτλ). \n",
    "\n",
    "Το πλεονέκτημα του να δουλεύετε με κάποιο σημειωματάριο (αντί τα παραδοσιακά αρχεία κειμένου) είναι ότι μπορείτε να συμπεριλάβετε κείμενο, κώδικα και γραφικά στο ίδιο έγγραφο. Αυτό το καθιστά ιδανικό, για παράδειγμα, όταν θέλετε να γράψετε μια αναφορά για κάποιο πρότζεκτ στο οποίο χρησιμοποιείτε κυρίως κώδικα Python, και να το μοιραστείτε με άλλους. Μπορείτε με αυτό τον τρόπο να δημιουργήσετε ένα αρχείο εξαιρετικά επεξηγηματικό και ευανάγνωστο.\n",
    "\n",
    "**Σημείωση**: Τα σημειωματάρια Jupyter είναι ο διάδοχος των σημειωματάριων IPython. Αυτά μπορούσαν να χρησιμοποιηθούν μόνο με την Python. Αντίθετα, τα σημειωματάρια Jupyter (το Jupyter είναι μια συντόμευση για το Julia - Python - R) μπορούν να χρησιμοποιηθούν ταυτόχρονα με μια μεγάλη ποικιλία γλωσσών προγραμματισμού, π.χ. τη στατιστική γλώσσα R. "
   ]
  },
  {
   "cell_type": "markdown",
   "id": "04763743",
   "metadata": {},
   "source": [
    "## Ξεκινώντας"
   ]
  },
  {
   "cell_type": "markdown",
   "id": "8e4be999",
   "metadata": {},
   "source": [
    "Το πως μπορείτε να ξεκινήσετε μια συνεδρία με ένα Jupyter Notebook εξαρτάται από την εγκατάσταση και το λειτουργικό σας σύστημα. Στα Windows υπάρχει πιθανότητα ένα εικονίδιο στην επιφάνεια εργασίας σας ή στο μενού εκκίνησης. Στα συστήματα Unix/Linux, η εντολή για την έναρξη μιας συνεδρίας είναι συνήθως:\n",
    "\n",
    "<p style=\"text-align:center\"> user$ jupyter notebook </p>\n",
    "                                        \n",
    "όπου την πληκτρολογείτε στο κέλυφος (shell) ενός παραθύρου του τερματικού. Το ``user$`` είναι η προτροπή (promt) του κελύφους και δεν πρέπει να το πληκτρολογήσετε."
   ]
  },
  {
   "cell_type": "markdown",
   "id": "1291ba9d",
   "metadata": {},
   "source": [
    "### Πρώτα βήματα"
   ]
  },
  {
   "cell_type": "markdown",
   "id": "9c722294",
   "metadata": {},
   "source": [
    "1. Ανοίξτε ένα παράθυρο στο τερματικό σας και πλοηγηθείτε σε κάποια τοποθεσία όπου θέλετε να δουλεύετε (π.χ. home directory, Desktop, ...).\n",
    "\n",
    "\n",
    "2. Δημιουργήστε ένα φάκελο, με κατάλληλο όνομα, όπου θα περιέχει το σύνολο των αρχείων που θέλετε να δημιουργήσετε. Για παράδειγμα, μπορείτε να δημιουργήσετε έναν κυρίως φάκελο \"Python_crash_course\" που θα περιέχει όλο το υλικό του μαθήματος, να πλοηγηθείτε μέσα σε αυτόν και να δημιουργήσετε έναν υποφάκελο \"Intro_to_python\" όπου θα περιέχει τα σημειωματάρια, scripts, εικόνες κτλ που αφορούν τις πρώτες εισαγωγικές διαλέξεις του μαθήματος.\n",
    "\n",
    "\n",
    "3. Μόλις δημιουργήσετε και πλοηγηθείτε στο φάκελο όπου θα δουλεύετε, ξεκινήστε μία νέα συνεδρία Jupyter Notebook όπως εξηγήσαμε παραπάνω.\n",
    "\n",
    "\n",
    "4. Κάντε κλικ στο ``File -> New Notebook``, το οποίο θα ξεκινήσει ένα νέο έγγραφο. Βεβαιωθείτε ότι εκκινείτε το σημειωματάριο με πυρήνα (kernel) Python3 εάν υπάρχουν άλλες επιλογές. \n",
    "\n",
    "\n",
    "5. Μπορείτε να αλλάξετε το όνομα του εγγράφου κάνοντας κλικ στο όνομα ``Untitled`` στο επάνω μέρος και εισάγοντας ένα νέο όνομα. \n",
    "\n",
    "\n",
    "6. Βεβαιωθείτε ότι έχετε αποθηκεύσει το έγγραφο (βεβαιωθείτε ότι αποθηκεύετε τις αλλαγές σας τακτικά καθώς μπορεί να χάσετε περιεχόμενο εάν κλείσετε το παράθυρο του προγράμματος περιήγησης!).\n",
    "\n",
    "Με μια πρώτη ματιά, ένα σημειωματάριο μοιάζει με μια αρκετά τυπική εφαρμογή: έχει μια γραμμή μενού (Αρχείο, Επεξεργασία, Προβολή κλπ) και μια γραμμή εργαλείων με εικονίδια. Κάτω από αυτό, θα δείτε ένα **κενό κελί**, στο οποίο μπορείτε να πληκτρολογήσετε οποιονδήποτε κώδικα Python. Μπορείτε να γράψετε πολλές γραμμές κώδικα και μόλις είναι έτοιμος να εκτελεστεί, μπορείτε να πατήσετε shift-enter και θα εκτελεστεί:"
   ]
  },
  {
   "cell_type": "code",
   "execution_count": null,
   "id": "1dc30d1c",
   "metadata": {},
   "outputs": [],
   "source": [
    "a = 1\n",
    "print(a)"
   ]
  },
  {
   "cell_type": "markdown",
   "id": "50c50012",
   "metadata": {},
   "source": [
    "Στη συνέχεια, μπορείτε να κάνετε κλικ σε αυτό το κελί, να αλλάξετε τον κώδικα της Python και να πατήσετε ξανά το shift-enter για να εκτελέσετε ξανά τον κώδικα. \n",
    "\n",
    "Μόλις εκτελέσετε ένα κελί μία φορά, ένα νέο κελί θα εμφανιστεί παρακάτω. Μπορείτε να εισαγάγετε ξανά κάποιο κώδικα και, στη συνέχεια, πατήστε shift-enter για να τον εκτελέσετε."
   ]
  },
  {
   "cell_type": "markdown",
   "id": "8adb06b0",
   "metadata": {},
   "source": [
    "## Δημιουργία γραφημάτων"
   ]
  },
  {
   "cell_type": "markdown",
   "id": "f605274b",
   "metadata": {},
   "source": [
    "Για να δημιουργήσετε γραφήματα, εισαγάγετε οποιεσδήποτε εντολές που περιέχονται στη βιβλιοθήκη ``Matplotlib`` (δες μετέπειτα διαλέξεις) και απλώς πατήστε shift-enter. \n",
    "\n",
    "**Προσοχή:** Όλες οι εντολές για μια γραφική παράσταση πρέπει να εισαχθούν σε ένα κελί. Γενικά δεν μπορείτε να το χωρίσετε τον κώδικα που παράγει μία γραφική παράσταση σε πολλά κελιά."
   ]
  },
  {
   "cell_type": "code",
   "execution_count": 1,
   "id": "7276d82c",
   "metadata": {},
   "outputs": [
    {
     "data": {
      "text/plain": [
       "Text(0, 0.5, 'y')"
      ]
     },
     "execution_count": 1,
     "metadata": {},
     "output_type": "execute_result"
    },
    {
     "data": {
      "image/png": "[encoded data removed]",
      "text/plain": [
       "<Figure size 432x288 with 1 Axes>"
      ]
     },
     "metadata": {
      "needs_background": "light"
     },
     "output_type": "display_data"
    }
   ],
   "source": [
    "%matplotlib inline\n",
    "import matplotlib.pyplot as plt\n",
    "plt.plot([1,2,3],[4,5,6])\n",
    "plt.xlabel(\"x\")\n",
    "plt.ylabel(\"y\")"
   ]
  },
  {
   "cell_type": "markdown",
   "id": "59323ac4",
   "metadata": {},
   "source": [
    "Όπως και πριν, μπορείτε πάντα να επιστρέψετε και να επεξεργαστείτε το κελί για να δημιουργήσετε ξανά το γράφημα έχοντας κάνει τις αλλαγές που θέλετε. \n",
    "\n",
    "Εάν θέλετε να το αποθηκεύσετε, βεβαιωθείτε ότι έχετε συμπεριλάβει το ``plt.savefig(filename)`` ως τελευταία εντολή, όπου το όνομα αρχείου (filename) είναι το όνομα της γραφικής παράστασης, όπως για παράδειγμα ``my_plot.png``."
   ]
  },
  {
   "cell_type": "markdown",
   "id": "717c0539",
   "metadata": {},
   "source": [
    "## Σύνταξη κειμένου"
   ]
  },
  {
   "cell_type": "markdown",
   "id": "14354854",
   "metadata": {},
   "source": [
    "Είναι πιθανό (και θεμιτό) να θέλετε να εισαγάγετε πραγματικό κείμενο (και όχι κώδικα) στο σημειωματάριο. Για να το κάνετε αυτό, κάντε κλικ σε ένα κελί και στο αναπτυσσόμενο μενού (dropdown) στη γραμμή εργαλείων, επιλέξτε ``«Markdown»``. \n",
    "\n",
    "Αυτός είναι ένας συγκεκριμένος τύπος σύνταξης για τη σύνταξη κειμένου. Μπορείτε απλώς να γράψετε κείμενο κανονικά και να πατήσετε shift-enter για να το \"εκτελέσετε\":\n",
    "\n",
    "<p style=\"text-align:center\">  This is some plain text </p>"
   ]
  },
  {
   "cell_type": "markdown",
   "id": "bfb2adcc",
   "metadata": {},
   "source": [
    "Για να επεξεργαστείτε το κείμενο, κάντε διπλό κλικ στο κελί. Μπορείτε επίσης να εισαγάγετε επικεφαλίδες για κάθε ενότητα χρησιμοποιώντας την ακόλουθη σύνταξη:\n",
    "\n",
    "<p style=\"text-align:center\"> # This is a title </p>\n",
    "                                    \n",
    "<p style=\"text-align:center\"> ## This is a sub-title </p>\n",
    "                                    \n",
    "τα οποία θα δείχνουν έτσι:\n",
    "\n",
    "# This is a title\n",
    "\n",
    "## This is a sub-title"
   ]
  },
  {
   "cell_type": "markdown",
   "id": "07269896",
   "metadata": {},
   "source": [
    " "
   ]
  },
  {
   "cell_type": "markdown",
   "id": "16e1688c",
   "metadata": {},
   "source": [
    "Τέλος, μπορείτε να γράψετε και εξισώσεις χρησιμοποιώντας ``LaTeX`` σε ένα κελί Markdown: \n",
    "\n",
    "<p style=\"text-align:center\">\\begin{equation}</p>\n",
    "\n",
    "<p style=\"text-align:center\">E = m c^2</p>\n",
    "\n",
    "<p style=\"text-align:center\">\\end{equation}</p>\n",
    "                                            \n",
    "όταν θέλετε η εξίσωση να είναι κεντραρισμένη σε ξεχωριστή γραμμή, ή να παρεμβάλετε τη μαθηματική έκφραση ανάμεσα σε ``$$`` όταν θέλετε να είναι μέρος της πρότασης:\n",
    "\n",
    "<p style=\"text-align:center\">The equation $p=h/\\lambda$ is very important</p>\n",
    "\n",
    "\n",
    "οπότε και θα πάρετε το αποτέλεσμα:"
   ]
  },
  {
   "cell_type": "markdown",
   "id": "af10606d",
   "metadata": {},
   "source": [
    "\\begin{equation}\n",
    "    E = m c^2\n",
    "\\end{equation}\n",
    "\n",
    "\n",
    "The equation $p=h/\\lambda$ is very important"
   ]
  },
  {
   "cell_type": "markdown",
   "id": "5eeb93f5",
   "metadata": {},
   "source": [
    "## Διαίρεση/διαγραφή/μετακίνηση κελιών"
   ]
  },
  {
   "cell_type": "markdown",
   "id": "8e694219",
   "metadata": {},
   "source": [
    "Μπορείτε να χωρίσετε, να διαγράψετε και να μετακινήσετε κελιά μεταβαίνοντας στο ``Edit`` και επιλέγοντας την κατάλληλη εντολή. Μερικές από αυτές τις εντολές είναι επίσης διαθέσιμες στη γραμμή εργαλείων - τοποθετήστε το ποντίκι σας πάνω από ένα εικονίδιο και περιμένετε για ένα δευτερόλεπτο οπότε και θα σας εμφανίσει ένα σύντομο μήνυμα σχετικά με τη λειτουργία που επιτελεί."
   ]
  },
  {
   "cell_type": "markdown",
   "id": "3ae87c45",
   "metadata": {},
   "source": [
    "## Markdown cheat sheet"
   ]
  },
  {
   "cell_type": "markdown",
   "id": "4d15c8e5",
   "metadata": {},
   "source": [
    "Η σύνταξη Markdown είναι εξαιρετικά ισχυρή. Επιτρέπει, για παράδειγμα, τη συμπερίληψη εικόνων, συνδέσμων Iστού, βίντεο και προσφέρει πολύ πλούσιες δυνατότητες μορφοποίησης κειμένου. Υπάρχουν πολλά καλά εκπαιδευτικά βίντεο (tutorials) και cheat sheets για τη σύνταξη Markdown που μπορείτε να βρείτε στο διαδίκτυο. Ένα καλό μέρος για να ξεκινήσετε είναι [εδώ](https://github.com/adam-p/markdown-here/wiki/Markdown-Cheatsheet)!\n",
    "\n",
    "**Σημείωση:** Αφιερώστε λίγο χρόνο για να μάθετε συντομεύσεις πληκτρολογίου για τις πιο σημαντικές λειτουργίες των κελιών. Μπορείτε να βρείτε μια λίστα στο μενού ``Help -> Keyboard Shortcuts`` ή στο διαδίκτυο, π.χ. [εδώ](https://cheatography.com/weidadeyue/cheat-sheets/jupyter-notebook/)."
   ]
  },
  {
   "cell_type": "markdown",
   "id": "696009db",
   "metadata": {},
   "source": [
    "## Κλείσιμο συνεδρίας"
   ]
  },
  {
   "cell_type": "markdown",
   "id": "94f70d6d",
   "metadata": {},
   "source": [
    "Βεβαιωθείτε ότι έχετε κλείσει τις συνεδρίες του jupyter-notebook, κυρίως για να διασφαλίσετε ότι όλες οι εργασίες και τα σημειωματάρια σας αποθηκεύονται σωστά.\n",
    "\n",
    "Μια αλάνθαστη διαδικασία είναι:\n",
    "\n",
    "1. Αποθηκεύστε το σημειωματάριό σας (File -> Save and Checkpoint ή χρησιμοποιήστε τη συντόμευση). Κάντε αυτό το βήμα κατά διαστήματα και κατά τη διάρκεια των συνεδριών εργασίας σας (browsers crash from time to time so better be safe than sorry!).\n",
    "\n",
    "\n",
    "2. Κλείστο το σημειωματάριο (File -> Close and Halt).\n",
    "\n",
    "\n",
    "3. Κλείστε το πρόγραμμα περιήγησης (browser tab).\n",
    "\n",
    "\n",
    "4. Σε ένα κέλυφος στο τερματικό πληκτρολογείστε:\n",
    "\n",
    "    user$ jupyter notebook list\n",
    "    \n",
    "     Currently running servers:\n",
    "     \n",
    "     http://localhost:8888/...\n",
    "     \n",
    "     .\n",
    "     .\n",
    "     .\n",
    "     \n",
    "     Σημειώστε τον τετραψήφιο αριθμό μετά τον ``localhost:``. Στην περίπτωσή μας αυτός είναι ``8888``.\n",
    "\n",
    "\n",
    "5. Πληκτρολογείστε στο τερματικό: \n",
    "\n",
    "    user$ jupyter notebook stop 8888  # stops the notebook kernel 8888"
   ]
  },
  {
   "cell_type": "markdown",
   "id": "e53219b9",
   "metadata": {},
   "source": [
    "## Εκτέλεση εντολών Linux μέσα από το σημειωματάριο"
   ]
  },
  {
   "cell_type": "code",
   "execution_count": null,
   "id": "0313c4b1",
   "metadata": {},
   "outputs": [],
   "source": [
    "# You can execute arbitrary Linux shell-commands within a Code-cell.\n",
    "# Just prepend Linux-commands with an exclamation point:\n",
    "#\n",
    "# list current directories contents\n",
    "!ls -F\n",
    "# print working dirctory\n",
    "!pwd\n",
    "# change directoty; NOTE: to change the directory for the IPython\n",
    "# session, you need to prepend 'cd' with a percent sign (jupyter magic)\n",
    "%cd data\n",
    "!ls\n",
    "!tail -1 munich_temperatures.txt\n",
    "%cd .."
   ]
  },
  {
   "cell_type": "markdown",
   "id": "92976b0d",
   "metadata": {},
   "source": [
    "## Σημαντικές σημειώσεις"
   ]
  },
  {
   "cell_type": "markdown",
   "id": "23447311",
   "metadata": {},
   "source": [
    "Μερικές σημαντικές σημειώσεις σχετικά με τη χρήση του σημειωματάριου:\n",
    "\n",
    "1. Αποθηκεύετε τις αλλαγές σας συχνά! Το σημειωματάριο αποθηκεύει αυτόματα τις αλλάγες μετά το πέρας κάποιας χρονικής περιόδου, αλλά καλύτερο είναι να αποθηκεύετε επίσης χειροκίνητα ανά τακτά χρονικά διαστήματα.\n",
    "\n",
    "\n",
    "2. Εάν κλείσετε κατά λάθος το πρόγραμμα περιήγησής σας (browser) και θέλετε να εισέλθετε ξανά στη συνεδρία σας, μπορείτε να κάνετε τα εξής:\n",
    "\n",
    "    - Σε ένα κέλυφος στο τερματικό πληκτρολογείστε:\n",
    "        \n",
    "        user$ jupyter notebook list\n",
    "    \n",
    "        Currently running servers:\n",
    "\n",
    "        http://localhost:8888/...\n",
    "\n",
    "        .\n",
    "        .\n",
    "        .\n",
    "        \n",
    "    - Ανοίξτε τον περιηγητή.\n",
    "    \n",
    "    - Στο πεδίο διεύθυνσης πληκτρολογήστε http://localhost:8888/, δηλαδή τη διεύθυνση που λάβατε από την εντολή \"list\" του jupyter notebook, χωρίς να συμπεριλάβατε τίποτα άλλο εκτός του \"localhost:XXXX-string\".\n",
    "    \n",
    "    \n",
    "3. Ο κώδικας μπορεί να εκτελεστεί επίσης και με διαφορετική σειρά πέραν του \"από πάνω προς τα κάτω\". Σε αυτή την περίπτωση, σημειώστε ότι εάν το κάνετε αυτό, οι μεταβλητές δεν θα αλλάξουν (reset). Έτσι, για παράδειγμα, αν πληκτρολογήσετε:"
   ]
  },
  {
   "cell_type": "code",
   "execution_count": null,
   "id": "03043512",
   "metadata": {},
   "outputs": [],
   "source": [
    "a = 1"
   ]
  },
  {
   "cell_type": "markdown",
   "id": "b513741e",
   "metadata": {},
   "source": [
    "και μετά ανεβείτε σε κάποιο κελί πιο πάνω γράφοντας:"
   ]
  },
  {
   "cell_type": "code",
   "execution_count": null,
   "id": "0f729472",
   "metadata": {},
   "outputs": [],
   "source": [
    "print(a)"
   ]
  },
  {
   "cell_type": "markdown",
   "id": "e48fccab",
   "metadata": {},
   "source": [
    "τότε θα σας εκτυπώσει την τιμή που ορίσατε προηγουμένως (την τελευταία τιμή που εκχωρήθηκε στη μεταβλητή).\n",
    "\n",
    "Για να βεβαιωθείτε ότι ο κώδικάς σας λειτουργεί ακολουθώντας τη λογική σειρά \"από πάνω προς τα κάτω\", μεταβείτε στο στοιχείο μενού ``Cell`` και μεταβείτε στην επιλογή ``All Output -> Clear`` και, στη συνέχεια, στο μενού ``Cell``, επιλέξτε ``Run all``."
   ]
  },
  {
   "cell_type": "markdown",
   "id": "06201b96",
   "metadata": {},
   "source": [
    "Επιπλέον, ακόμα κι αν διαγράψετε ένα κελί, τότε οι μεταβλητές που έχουν οριστεί σε αυτό το κελί εξακολουθούν να υπάρχουν εκτός εάν κάνετε επανεκκίνηση του σημειωματάριου. Με άλλα λόγια, οι τιμές που έχουν όριστεί υπάρχουν ακόμα και είναι αποθηκευμένες στη μνήμη οπότε μπορούν να χρησιμοποιηθούν.\n",
    "\n",
    "Εάν θέλετε να επανεκκινήσετε ένα σημειωματάριο, μπορείτε να επιλέξετε ``Kernel -> Restart``. Αυτό αφαιρεί τυχόν μεταβλητές από τη μνήμη και πρέπει να ξεκινήσετε την εκτέλεση του σημειωματαρίου από την αρχή."
   ]
  }
 ],
 "metadata": {
  "kernelspec": {
   "display_name": "Python 3",
   "language": "python",
   "name": "python3"
  },
  "language_info": {
   "codemirror_mode": {
    "name": "ipython",
    "version": 3
   },
   "file_extension": ".py",
   "mimetype": "text/x-python",
   "name": "python",
   "nbconvert_exporter": "python",
   "pygments_lexer": "ipython3",
   "version": "3.8.8"
  }
 },
 "nbformat": 4,
 "nbformat_minor": 5
}
