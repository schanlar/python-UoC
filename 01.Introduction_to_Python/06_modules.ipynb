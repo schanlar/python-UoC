{
 "cells": [
  {
   "cell_type": "markdown",
   "id": "d47fdde3",
   "metadata": {},
   "source": [
    "# 6. Βιβλιοθήκες (modules)"
   ]
  },
  {
   "cell_type": "markdown",
   "id": "ac05cd5f",
   "metadata": {},
   "source": [
    "<div class=\"alert alert-block alert-info\" style=\"margin-top: 20px\">\n",
    "    \n",
    "<b>Περιεχόμενα</b>\n",
    "    \n",
    "6.1 Εισαγωγή βιβλιοθηκών\n",
    "    \n",
    "6.2 Δημιουργία δική σας βιβλιοθήκης\n",
    "    \n",
    "</div>"
   ]
  },
  {
   "cell_type": "markdown",
   "id": "a1e64815",
   "metadata": {},
   "source": [
    "## 6.1 Εισαγωγή βιβλιοθηκών"
   ]
  },
  {
   "cell_type": "markdown",
   "id": "b9c8348b",
   "metadata": {},
   "source": [
    "Υπάρχουν διάφοροι τρόποι για να εισάγουμε μία βιβλιοθήκη, είτε ολόκληρη είτε μέρος αυτής. Μερικοί από αυτούς συνοψίζονται παρακάτω:\n",
    "\n",
    "```python\n",
    "# Import the entire module (with an alias)\n",
    "import module (as mdl)\n",
    "\n",
    "# Import only a specific function from a module\n",
    "# Is readily available with no info from where it came\n",
    "from module import some_function (as fn)\n",
    "\n",
    "# Import everything from a module\n",
    "# All functions of that module are available to us\n",
    "# but we have no clue where they came from\n",
    "# It is considered bad practice\n",
    "from module import *\n",
    "```\n",
    "\n",
    "- Όταν εισάγουμε μία βιβλιοθήκη έχουμε την επιλογή να το κάνουμε χρησιμοποιώντας ένα \"ψευδώνυμο\" ώστε να κάνουμε τη κλήση τους σε διάφορα σημεία του προγράμματος λιγότερο χρονοβόρα.\n",
    "\n",
    "\n",
    "- Όταν δουλεούμε με πολύ δημοφιλείς βιβλιοθήκες, είναι καλό να μένουμε στα ψευδώνυμα που χρησιμοποιούνται ευρέως από τη κοινότητα (π.χ. numpy as np, pandas as pd, tensorflow as tf). Αυτό διασφαλίζει ότι ο κώδικάς μας θα είναι εύκολα αναγνώσιμος από κάποιον άλλον.\n",
    "\n",
    "\n",
    "- Πολλές φορές μας ενδιαφέρει να εισάγουμε μόνο μία συγκεκριμένη συνάρτηση που περιέχεται σε μία βιβλιοθήκη και όχι ολόκληρη τη βιβλιοθήκη. Σε αυτή την περίπτωση, η συνάρτηση γίνεται άμεσα διαθέσιμη για κλήση μέσα στο πρόγραμμά μας απλά με το όνομά της. Αυτό σημαίνει ότι δεν φαίνεται από που προήλθε. Υπάρχουν περιπτώσεις που αυτό μπορεί να προκαλέσει σύγχηση (π.χ. όταν το πρόγραμμά μας περιέχει άλλη συνάρτηση με το ίδιο όνομα).\n",
    "\n",
    "\n",
    "- Γι' αυτό το λόγο, όταν εισάγουμε μία συνάρτηση από μία βιβλιοθήκη με αυτό τον τρόπο, είναι πολλές φορές προτιμότερο να δίνουμε ένα άλλο πιο περιγραφικό όνομα στη συνάρτηση."
   ]
  },
  {
   "cell_type": "code",
   "execution_count": 1,
   "id": "a318d716",
   "metadata": {},
   "outputs": [],
   "source": [
    "from numpy import sqrt\n",
    "from math import sqrt\n",
    "\n",
    "def sqrt(x):\n",
    "    pass\n",
    "\n",
    "\n",
    "# Which sqrt will be used?\n",
    "# print(sqrt(5))"
   ]
  },
  {
   "cell_type": "markdown",
   "id": "19c7baba",
   "metadata": {},
   "source": [
    "## 6.2 Δημιουργία δική σας βιβλιοθήκης"
   ]
  },
  {
   "cell_type": "markdown",
   "id": "41d3b838",
   "metadata": {},
   "source": [
    "Πολλές φορές βρισκόμαστε στη θέση να έχουμε γράψει ένα σύνολο συναρτήσεων που επιτελούν συγκεκριμένες λειτουργίες στα πλαίσια ενός πρότζεκτ. Μπορούμε να οργανώσουμε αυτές τις συναρτήσεις σε μία μεγαλύτερη δομή (module) και να την εισάγουμε όποτε χρειάζεται να δουλέψουμε με αυτές."
   ]
  },
  {
   "cell_type": "code",
   "execution_count": 2,
   "id": "9466acf6",
   "metadata": {},
   "outputs": [
    {
     "name": "stdout",
     "output_type": "stream",
     "text": [
      "Hello!\n",
      "I am the print_msg function!\n"
     ]
    }
   ],
   "source": [
    "import custom_module\n",
    "\n",
    "print(\"Hello!\")\n",
    "custom_module.print_msg()"
   ]
  },
  {
   "cell_type": "markdown",
   "id": "9478b7bc",
   "metadata": {},
   "source": [
    "Η χρησιμότητα ύπαρξης κάποιου docstring για τη τεκμηρίωση μίας συνάρτησης γίνεται εμφανής όταν καλούμε τη συνάρτηση ``help`` για αυτή τη συνάρτηση."
   ]
  },
  {
   "cell_type": "code",
   "execution_count": 3,
   "id": "7a467814",
   "metadata": {},
   "outputs": [
    {
     "name": "stdout",
     "output_type": "stream",
     "text": [
      "Help on function print_msg in module custom_module:\n",
      "\n",
      "print_msg()\n",
      "    This function prints a simple message\n",
      "\n",
      "Help on function another_fn in module custom_module:\n",
      "\n",
      "another_fn()\n",
      "\n"
     ]
    }
   ],
   "source": [
    "# Try executing the following lines of code one by one\n",
    "\n",
    "# help(custom_module)\n",
    "help(custom_module.print_msg)\n",
    "help(custom_module.another_fn)"
   ]
  },
  {
   "cell_type": "markdown",
   "id": "51d18325",
   "metadata": {},
   "source": [
    "<div class=\"alert alert-block alert-warning\" style=\"margin-top: 20px\">\n",
    "    <b>Παράδειγμα 6.1</b>\n",
    "\n",
    "Δοκιμάστε να εισάγετε το ``custom_module`` χρησιμοποιώντας διαφορετικές μεθόδους εισαγωγής και να καλέσετε τις συναρτήσεις που περιέχει. Μπορείτε να καταλάβατε τις διαφορές της κάθε μεθόδου; Κάθε φορά που εισάγετε το module κάντε επανεκκίνηση του kernel."
   ]
  },
  {
   "cell_type": "code",
   "execution_count": null,
   "id": "849a1f05",
   "metadata": {},
   "outputs": [],
   "source": [
    "# You can try it here"
   ]
  }
 ],
 "metadata": {
  "kernelspec": {
   "display_name": "Python 3 (ipykernel)",
   "language": "python",
   "name": "python3"
  },
  "language_info": {
   "codemirror_mode": {
    "name": "ipython",
    "version": 3
   },
   "file_extension": ".py",
   "mimetype": "text/x-python",
   "name": "python",
   "nbconvert_exporter": "python",
   "pygments_lexer": "ipython3",
   "version": "3.9.13"
  }
 },
 "nbformat": 4,
 "nbformat_minor": 5
}
