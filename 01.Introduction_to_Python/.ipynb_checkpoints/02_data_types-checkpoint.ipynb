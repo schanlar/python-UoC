{
 "cells": [
  {
   "cell_type": "markdown",
   "id": "7f87bd72",
   "metadata": {},
   "source": [
    "# Τύποι δεδομένων"
   ]
  },
  {
   "cell_type": "markdown",
   "id": "a3a02bbf",
   "metadata": {},
   "source": [
    "**Note:** This notebook is heavily influenced by the lectures of Dr. Thomas Erben @ University of Bonn\n",
    "\n",
    "\n",
    "Η Python έχει όλους τους τύπους δεδομένων που πιθανόν να έχετε ήδη συναντήσει σε άλλες γλώσσες προγραμματισμού. Σε αυτό το σημειωματάριο θα εστιάσουμε κυρίως σε αριθμητικούς τύπους δεδομένων (ακέραιοι αριθμοί και αριθμοί κινητής υποδιαστολής) και συμβολοσειρές."
   ]
  },
  {
   "cell_type": "markdown",
   "id": "df37b8c5",
   "metadata": {},
   "source": [
    "## Μεταβλητές"
   ]
  },
  {
   "attachments": {
    "memory_allocation.png": {
     "image/png": "[encoded data removed]"
    }
   },
   "cell_type": "markdown",
   "id": "a6c968ed",
   "metadata": {},
   "source": [
    "Μια μεταβλητή είναι ουσιαστικά ένα συμβολικό όνομα που δίνουμε στη θέση μνήμης στην οποία έχει αποθηκευτεί το δεδομένο. Αυτό μας επιτρέπει να καλούμε το περιέχομενο που βρίσκεται σε αυτή τη θέση μνήμης χρησιμοποιώντας ένα σύντομο και κατανοήτο όνομα αντί για την ταυτότητα (id) της θέσης μνήμης.\n",
    "\n",
    "<div>\n",
    "    <img src=\"attachment:memory_allocation.png\" width=400/>\n",
    "</div>\n",
    "\n",
    "\n",
    "* Η εκχώρηση τιμής σε μια μεταβλητή γίνεται με τον τελεστή ``=``. Αν θέλουμε να εξετάσουμε την ισότητα δύο μεταβλητών θα πρέπει να χρησιμοποιήσουμε τον τελεστή σύγκρισης ``==``.\n",
    "\n",
    "\n",
    "* Στη Python **δεν** απαιτείται να δηλώσουμε τον τύπο μιας μεταβλητής πριν τη χρησιμοποιήσουμε. Η διαχείριση της μνήμης γίνεται αυτόματα.\n",
    "\n",
    "\n",
    "* Οι μεταβλητές δεν έχουν κάποιο τύπο, αλλά τα αντικείμενα στα οποία \"δείχνουν\" έχουν.\n",
    "\n",
    "\n",
    "* Ο τύπος της μεταβλητής καθορίζεται την ώρα που εκτελείται το πρόγραμμα και όχι από πριν μέσω κάποιου μεταφραστή (static vs dynamic typing).\n",
    "\n",
    "\n",
    "* Λόγω του ότι οι μεταβλητές δεν έχουν κάποιο τύπο, πολλές φορές ενδιαφερόμαστε να μάθουμε τον τύπο του αντικειμένου στο οποίο \"δείχνει\" μία μεταβλητή. Γι' αυτό το σκοπό μπορούμε να χρησιμοποιήσουμε τη συνάρτηση ``type(object)`` που προσφέρει η Python.\n",
    "\n",
    "\n",
    "* Μία μεταβλητή μπορεί να αλλάζει από ένα τύπο σε έναν άλλο ανάλογα με το αντικείμενο στο οποίο \"δείχνει\" στη μνήμη."
   ]
  },
  {
   "cell_type": "markdown",
   "id": "26fa20d3",
   "metadata": {},
   "source": [
    "### Εκχώρηση τιμών"
   ]
  },
  {
   "cell_type": "markdown",
   "id": "eb3f8a73",
   "metadata": {},
   "source": [
    "Όσοι/ες είστε εξοικειωμένοι με τις γλώσσες προγραμματισμού C/C++ θα αναγνωρίσετε στο παράδειγμα που ακολουθεί τη χρήση pointers για τη διαχείριση της μνήμης."
   ]
  },
  {
   "cell_type": "code",
   "execution_count": null,
   "id": "dbc75b09",
   "metadata": {},
   "outputs": [],
   "source": [
    "# Assigning values to variables\n",
    "\n",
    "x = 3 # assigninig the integer value 3 to variable 'x'\n",
    "y = 3\n",
    "z = x\n",
    "\n",
    "# The type of the object a variable points to\n",
    "# can explicitely be queried!\n",
    "print(type(3), hex(id(3)))\n",
    "\n",
    "print(type(x), hex(id(x)))\n",
    "print(type(y), hex(id(y)))\n",
    "print(type(z), hex(id(z)))"
   ]
  },
  {
   "cell_type": "code",
   "execution_count": null,
   "id": "8b93a3dd",
   "metadata": {},
   "outputs": [],
   "source": [
    "# Change both y,z by adding one\n",
    "# Now we have two pointers for the variables y,z\n",
    "# pointing to the same memory spot\n",
    "y = 4\n",
    "z = x + 1\n",
    "\n",
    "print(type(x), hex(id(x)))\n",
    "print(type(y), hex(id(y)))\n",
    "print(type(z), hex(id(z)))"
   ]
  },
  {
   "cell_type": "markdown",
   "id": "2564bc80",
   "metadata": {},
   "source": [
    "### Ταυτόχρονη εκχώρηση τιμών σε πολλαπλές μεταβλητές"
   ]
  },
  {
   "cell_type": "code",
   "execution_count": null,
   "id": "de59a9a8",
   "metadata": {},
   "outputs": [],
   "source": [
    "# In contrast to many other languages, Python allows to simultaneously\n",
    "# assign values to severtal valriables:\n",
    "\n",
    "x = 5        # usual assignment\n",
    "y, z = 1, 2  # simultaneous assignemnt to two variables\n",
    "a, b, c, d = 5, 2, 8, 9 # works with arbitrarily many!\n",
    "\n",
    "print(a, b, c, d, x, y, z)"
   ]
  },
  {
   "cell_type": "markdown",
   "id": "12330eb6",
   "metadata": {},
   "source": [
    "**Challenge**\n",
    "\n",
    "Γράψτε κώδικα ο οποίος θα ανταλλάσει τις τιμές από δύο μεταβλητές a και b.\n",
    "\n",
    "    Hint: Αυτό είναι ένα κλασσικό πρόβλημα που πολλοί προγραμματιστές μαθαίνουν στα πρώτα τους βήματα με μια καινούργια γλώσσα. Στη C αυτό μπορεί να υλοποιηθεί σε τρεις γραμμές κώδικα. Στη Python, μπορεί να γίνει με μία γραμμή κώδικα!"
   ]
  },
  {
   "cell_type": "code",
   "execution_count": null,
   "id": "9c721ae9",
   "metadata": {},
   "outputs": [],
   "source": [
    "# You can try it here"
   ]
  },
  {
   "cell_type": "markdown",
   "id": "13cd2f70",
   "metadata": {},
   "source": [
    "## Integer Type"
   ]
  },
  {
   "cell_type": "markdown",
   "id": "33e2338d",
   "metadata": {},
   "source": [
    "### Βασικές πράξεις μεταξύ ακεραίων"
   ]
  },
  {
   "cell_type": "markdown",
   "id": "5c3be748",
   "metadata": {},
   "source": [
    "Η πρόσθεση/αφαίρεση, γινόμενο και ύψωση σε κάποια δύναμη φαίνονται στο παρακάτω κελί. Αυτά θα πρέπει να σας είναι ήδη γνωστά."
   ]
  },
  {
   "cell_type": "code",
   "execution_count": null,
   "id": "77d54514",
   "metadata": {},
   "outputs": [],
   "source": [
    "print(a + b, a - b) # Integer addition and subtraction\n",
    "print(a * b)        # Integer multiplication\n",
    "print(a**b)         # 5 to the power of 2\n",
    "# print(5**5460)      # 'arbitrarily accurate' integer arithmetic! "
   ]
  },
  {
   "cell_type": "markdown",
   "id": "5c7d36d4",
   "metadata": {},
   "source": [
    "Όσοι/ες έχετε εμπειρία με τις γλώσσες προγραμματισμού C/C++ τι περιμένετε να είναι το αποτέλεσμα αν εκτελέσουμε τον κώδικα που περιέχεται στο επόμενο κελι; Είναι αυτό που περιμένατε;"
   ]
  },
  {
   "cell_type": "code",
   "execution_count": null,
   "id": "85aba8cc",
   "metadata": {},
   "outputs": [],
   "source": [
    "print(a / b)        # division"
   ]
  },
  {
   "cell_type": "markdown",
   "id": "5d0e0090",
   "metadata": {},
   "source": [
    "Στην έκδοση 3.XX της Python, αυτού του είδους η διαίρεση δίνει το αποτέλεσμα που θα περιμέναμε ως χρήστες, αλλά διαφέρει από το αποτέλεσμα που θα παίρναμε σε μία άλλη γλώσσα (π.χ. C/C++ ή ακόμα και την έκδοση 2 της Python).\n",
    "\n",
    "Η ακέραια διαίρεση πραγματοποιείται μέσω του τελεστή ``//``, ενώ το modulo (υπόλοιπο) μέσω του τελεστή ``%`` όπως φαίνεται παρακάτω."
   ]
  },
  {
   "cell_type": "code",
   "execution_count": null,
   "id": "536b89c6",
   "metadata": {},
   "outputs": [],
   "source": [
    "print(a // b)   # Integer division\n",
    "print(a % b)    # modulo operation"
   ]
  },
  {
   "cell_type": "markdown",
   "id": "b9b076da",
   "metadata": {},
   "source": [
    "### Προτεραιότητα πράξεων"
   ]
  },
  {
   "cell_type": "code",
   "execution_count": null,
   "id": "9fe3a938",
   "metadata": {},
   "outputs": [],
   "source": [
    "# 'operator precedence' rules!\n",
    "a = 20\n",
    "b = 10\n",
    "c = 2\n",
    "\n",
    "print(a // b // c) # does this evaluate to (a // b) // c or\n",
    "                   # a // (b // c)?\n",
    "print(a + b * c, (a + b) * c)\n",
    "print(a + b % c)\n",
    "print(3**2**3)      # (3**2)**3 = 729; 3**(2**3) = 6561"
   ]
  },
  {
   "cell_type": "markdown",
   "id": "bd45b479",
   "metadata": {},
   "source": [
    "**Σημείωση**\n",
    "\n",
    "* Αυτοί οι κανόνες έχουν γενική ισχύ και δεν περιορίζονται μόνο στην περίπτωση των ακέραιων αριθμών.\n",
    "\n",
    "\n",
    "* Συμβουλή: Χρησιμοποιήστε παρενθέσεις για να αποφύγετε σύγχηση και ασάφεια στον κώδικά σας! Θα πρέπει να γνωρίζετε τους κανόνες παρ' όλα αυτά για να μπορείτε να καταλαβαίνετε τον κώδικα που προέρχεται από άλλα άτομα."
   ]
  },
  {
   "cell_type": "markdown",
   "id": "f95b7997",
   "metadata": {},
   "source": [
    "## Float Type"
   ]
  },
  {
   "cell_type": "code",
   "execution_count": null,
   "id": "5fd15a47",
   "metadata": {},
   "outputs": [],
   "source": [
    "import numpy  # 'library or module' of mathematical functions\n",
    "              # and data structures.\n",
    "\n",
    "c = 3.14159 # seen already? \n",
    "d = .1      # equal to 0.1\n",
    "e = 1.2e2   # read: 1.2 times 10 to the power of 2\n",
    "\n",
    "print(c + d, c - d, d * e, c / d)\n",
    "print(numpy.cos(c))  # The cosine function is defined within the numpy module\n",
    "\n",
    "print(d + 3)  # in mixed calculations, integer values are 'promoted' to float\n",
    "\n",
    "print(int(c)) # cast float to integer"
   ]
  },
  {
   "cell_type": "markdown",
   "id": "2aa310f3",
   "metadata": {},
   "source": [
    "* Στη Python οι αριθμοί κινητής υποδιαστολής είναι προκαθορισμένα πραγματικοί αριθμοί διπλής ακρίβειας (double precision).\n",
    "\n",
    "\n",
    "* Το παράδειγμα \n",
    "```python \n",
    "    print(c / d)\n",
    "```\n",
    "θα πρέπει να μας υπενθυμίσει ότι οι περισσότεροι αριθμοί κινητής υποδιαστολής δεν έχουν ακριβή αναπαράσταση στους υπολογιστές."
   ]
  },
  {
   "cell_type": "markdown",
   "id": "47469155",
   "metadata": {},
   "source": [
    "**Challenge**\n",
    "\n",
    "Γράψτε κώδικα που να υπολογίζει τις εκφράσεις:\n",
    "\\begin{equation}\n",
    "    2 + 4 \\cdot 3,\\;\\; {5^{5}}^5,\\;\\; e^{-1},\\;\\; \\binom{49}{6} = \\frac{49!}{6! 43!}\n",
    "\\end{equation}\n",
    "\n",
    "\n",
    "*Hint*: Μπορείτε να χρησιμοποιήσετε τις συναρτήσεις ``numpy.exp`` και ``numpy.math.factorial`` της βιβλιοθήκης numpy για το εκθετικό και τα παραγοντικά."
   ]
  },
  {
   "cell_type": "code",
   "execution_count": null,
   "id": "5ddb4560",
   "metadata": {},
   "outputs": [],
   "source": [
    "# You can try it here"
   ]
  },
  {
   "cell_type": "markdown",
   "id": "a89256ec",
   "metadata": {},
   "source": [
    "## Boolean Type"
   ]
  },
  {
   "cell_type": "markdown",
   "id": "0d54cbfe",
   "metadata": {},
   "source": [
    "Στη Python υπάρχει ένας συγκεκριμένος τύπος δεδομένων Αληθείας (boolean) που μπορούν να πάρουν μόνο δύο τιμές ``True`` και ``False``. Συνήθως χρησιμοποιούνται για τον έλεγχο κάποιας συνθήκης σε δομές ελέγχου ή επανάληψης."
   ]
  },
  {
   "cell_type": "code",
   "execution_count": null,
   "id": "34ea82b7",
   "metadata": {},
   "outputs": [],
   "source": [
    "f = False\n",
    "t = True\n",
    "a = 1\n",
    "\n",
    "print(f or t)   # logical 'or'\n",
    "print(f and t)  # logical 'and'\n",
    "print(a == 1)   # test for equality\n",
    "print(a == 2)\n",
    "print(a < 5, a >= 5)"
   ]
  },
  {
   "cell_type": "code",
   "execution_count": null,
   "id": "6acb8f4b",
   "metadata": {},
   "outputs": [],
   "source": [
    "# Note that True == 1 and False == 0\n",
    "# This property can be useful in some cases\n",
    "\n",
    "print(True == 1)\n",
    "print(False == 0)\n",
    "print(False == 1)"
   ]
  },
  {
   "cell_type": "markdown",
   "id": "6345ecae",
   "metadata": {},
   "source": [
    "**ΠΡΟΣΟΧΗ**\n",
    "\n",
    "Είπαμε ότι οι δεκαδικοί αριθμοί σπάνια έχουν ακριβή αναπαράσταση στους υπολογιστές. Γι' αυτό δεν θα πρέπει **ποτέ** να συγκρίνουμε δύο δεκαδικούς αριθμούς για ισότητα. Η έννοια της ακρίβειας της αναπαράστασης είναι πολύ σημαντική!"
   ]
  },
  {
   "cell_type": "code",
   "execution_count": null,
   "id": "bf8108a6",
   "metadata": {},
   "outputs": [],
   "source": [
    "d = 1.0\n",
    "print(d == 1.0)\n",
    "print((d - 0.6) == 0.4)\n",
    "print((d - 6 * 0.1) == 0.4)"
   ]
  },
  {
   "cell_type": "markdown",
   "id": "84aab47c",
   "metadata": {},
   "source": [
    "Αν πρέπει να συγκρίνετε δεκαδικούς αριθμούς, τότε θα πρέπει να το κάνετε χρησιμοποιώντας κάποια μέθοδο όπως η ``isclose()`` της βιβλιοθήκης ``numpy``."
   ]
  },
  {
   "cell_type": "code",
   "execution_count": null,
   "id": "d7522d79",
   "metadata": {},
   "outputs": [],
   "source": [
    "import numpy as np\n",
    "\n",
    "d = 1.0\n",
    "print(np.isclose(d, 1.0))\n",
    "print(np.isclose((d - 0.6), 0.4))\n",
    "print(np.isclose((d - 6 * 0.1), 0.4))"
   ]
  },
  {
   "cell_type": "markdown",
   "id": "7bf3d78b",
   "metadata": {},
   "source": [
    "## String Type"
   ]
  },
  {
   "attachments": {
    "einstein-2.png": {
     "image/png": "[encoded data removed]"
    }
   },
   "cell_type": "markdown",
   "id": "9d2dd6d9",
   "metadata": {},
   "source": [
    "Οι συμβολοσειρές είναι μία σύνθετη δομή δεδομένων με τα δομικά τους στοιχεία να είναι οι χαρακτήρες.\n",
    "\n",
    "* Προσφέρονται μέσω της βιβλιοθήκης ``str`` η οποία εισάγεται αυτόματα όταν ξεκινάτε την Python. Εκτός από το συγκεκριμένο τύπο δεδομένων, η βιβλιοθήκη ``str`` περιέχει και συναρτήσεις (aka μέθοδοι) που μπορούν να εφαρμοστούν στα αντικείμενα αυτής της κλάσης και να επιτελέσουν κάποια συγκεκριμένη λειτουργία.\n",
    "\n",
    "\n",
    "* Οι συμβολοσειρές είναι μία ομοιογενής και διατεταγμένη ακολουθία χαρακτήρων που εσωκλείονται σε μονά ή διπλά εισαγωγικά.\n",
    "\n",
    "\n",
    "* Αν ονομάσουμε με ``last_name`` μία μεταβλητή που περιέχει τη συμβολοσειρά \"Einstein\", τότε μπορούμε να έχουμε πρόσβαση σε κάθε χαρακτήρα αυτής της συμβολοσειράς χρησιμοποιώντας τον δείκτη (index) στον οποίο αντιστοιχεί ο χαρακτήρας: ``last_name[index]``. \n",
    "\n",
    "![einstein-2.png](attachment:einstein-2.png)"
   ]
  },
  {
   "cell_type": "markdown",
   "id": "01eec6c2",
   "metadata": {},
   "source": [
    "### Δημιουργία συμβολοσειρών"
   ]
  },
  {
   "cell_type": "markdown",
   "id": "09453885",
   "metadata": {},
   "source": [
    "Οι συμβολοσειρές δημιουργούνται κυρίως \"χειροκίνητα\" ή μέσω μορφοποίησης (string formatting - δες παρακάτω)."
   ]
  },
  {
   "cell_type": "code",
   "execution_count": null,
   "id": "27f1fbe8",
   "metadata": {},
   "outputs": [],
   "source": [
    "# Strings can be enclosed within single or double quotes.\n",
    "# Both are equivalent.\n",
    "first_name = 'Albert'\n",
    "last_name = \"Einstein\"\n",
    "\n",
    "print(first_name)\n",
    "print(last_name)"
   ]
  },
  {
   "cell_type": "code",
   "execution_count": null,
   "id": "0414ca1d",
   "metadata": {},
   "outputs": [],
   "source": [
    "# The different quotes can be used to include the other quote within a string:\n",
    "message_1 = \"Mary's results are impressive.\"\n",
    "\n",
    "# another possibility is 'quoting' as in Linux;\n",
    "# use the \\ to declare an escape character\n",
    "message_2 = 'Mary\\'s results are impressive.'\n",
    "\n",
    "print(message_1, message_2)"
   ]
  },
  {
   "cell_type": "code",
   "execution_count": null,
   "id": "066e2a5e",
   "metadata": {},
   "outputs": [],
   "source": [
    "# multiline strings are created with triple quotes:\n",
    "message = \"\"\"This is a longer message\n",
    "over several lines.\"\"\"\n",
    "\n",
    "print(message)"
   ]
  },
  {
   "cell_type": "markdown",
   "id": "baf31015",
   "metadata": {},
   "source": [
    "### Προσπέλαση συμβολοσειράς και τεμαχισμός (slicing)"
   ]
  },
  {
   "cell_type": "markdown",
   "id": "9599dff8",
   "metadata": {},
   "source": [
    "Η πρόσβαση στα στοιχεία μιας συμβολοσειράς γίνεται κυρίως μέσω της δεικτοδότησης. Σε κάθε χαρακτήρα που περιέχεται σε μια συμβολοσειρά αντιστοιχεί ένας δείκτης αρχίζοντας πάντα από το 0.\n",
    "\n",
    "\n",
    "Η βασική σύνταξη έχει ως εξής: ``<str>[index]``, δηλαδή η συμβολοσειρά ακολοθούμενη από ένα ζευγάρι τετραγωνικών παρενθέσεων που περιέχει έναν ακέραιο αριθμό (δείκτη).\n",
    "\n",
    "\n",
    "Ένα τμήμα μιας συμβολοσειράς μπορεί να οριστεί από το χαρακτήρα αρχής μέχρι τον\tχαρακτήρα τερματισμού **χωρίς** να συμπεριλαμβάνεται ο τελευταίος. Μπορούμε να πάρουμε το τμήμα μιας συμβολοσειράς παρέχοντας 2 δείκτες. Ο πρώτος αντιστοιχεί στον δείκτη από τον οποίο θέλουμε να ξεκινήσουμε το τεμάχισμα και ο δεύτερος αντιστοιχεί στο δείκτη που θέλουμε να σταματήσουμε. Οι δύο δείκτες διαχωρίζονται με άνω-κάτω τελεία. Η βασική σύνταξη για τον τεμαχισμό μιας συμβολοσειράς έχει ως εξής: ``<str>[start:finish]``.\n",
    "\n",
    "\n",
    "Ακόμα, έχουμε τη δυνατότητα να καθορίσουμε το βήμα του τεμαχισμού μιας συμβολοσειράς παρέχοντας μία τρίτη παράμετρο: ``<str>[start:finish:pace]``."
   ]
  },
  {
   "cell_type": "code",
   "execution_count": null,
   "id": "b1993b1e",
   "metadata": {},
   "outputs": [],
   "source": [
    "print(last_name)\n",
    "\n",
    "# Access individual characters\n",
    "print(last_name[0], last_name[6])\n",
    "\n",
    "# Slice the string by providing a range\n",
    "print(last_name[1:5])\n",
    "\n",
    "# If a starting index is not provided\n",
    "# that means start from the beginning\n",
    "print(last_name[:4])\n",
    "\n",
    "# Same goes for the finishing index\n",
    "print(last_name[6:])\n",
    "\n",
    "# Slice string with a pace of 2\n",
    "print(last_name[::2])\n",
    "\n",
    "# Negative numbers can be used to \n",
    "# access the string from finish to start\n",
    "print(last_name[1:-3])\n",
    "print(last_name[::-1])"
   ]
  },
  {
   "cell_type": "markdown",
   "id": "2e317fd4",
   "metadata": {},
   "source": [
    "### Πράξεις με συμβολοσειρές"
   ]
  },
  {
   "cell_type": "markdown",
   "id": "a2c821de",
   "metadata": {},
   "source": [
    "Οι συμβολοσειρές είναι *αμετάβλητες* (immutable) ακολουθίες χαρακτήρων και συνεπώς δεν μπορούν να τροποποιηθούν μετά τη δημιουργία τους."
   ]
  },
  {
   "cell_type": "code",
   "execution_count": null,
   "id": "e59a5070",
   "metadata": {},
   "outputs": [],
   "source": [
    "# Try to replace capital E in Einstein\n",
    "# with lower case e\n",
    "last_name[0] = 'e'"
   ]
  },
  {
   "cell_type": "markdown",
   "id": "4e9c1380",
   "metadata": {},
   "source": [
    "Μπορούμε όμως να εκτελέσουμε τις μαθηματικές πράξεις της πρόσθεσης και του πολλαπλασιασμού σε συμβολοσειρές. Η λειτουργία αυτών των τελεστών προφανώς δεν μπορεί να είναι η ίδια με αυτή όταν εφαρμόζονται σε αριθμητικές μεταβλητές (δες την έννοια της υπερφόρτωσης τελεστών - operator overloading).\n",
    "\n",
    "\n",
    "* Η πρόσθεση δύο συμβολοσειρών οδηγεί στη συνένωσή τους σε μία ενιαία συμβολοσειρά.\n",
    "\n",
    "\n",
    "* Το γινόμενο μιας συμβολοσειράς με έναν ακέραιο οδηγεί στην επανάληψη της συμβολοσειράς βάσει της αριθμητικής τιμής του ακέραιου αριθμού."
   ]
  },
  {
   "cell_type": "code",
   "execution_count": null,
   "id": "8c87c21b",
   "metadata": {},
   "outputs": [],
   "source": [
    "# Concatenate first and last name to create the full name\n",
    "# Add a whitespace between first and last name as well\n",
    "full_name = first_name + ' ' + last_name\n",
    "print(full_name)\n",
    "\n",
    "# multiplication with a number repeats a string\n",
    "m = \"Hello\"\n",
    "\n",
    "print(2 * m)\n",
    "print(m * 3)"
   ]
  },
  {
   "attachments": {
    "ae_full.png": {
     "image/png": "[encoded data removed]"
    }
   },
   "cell_type": "markdown",
   "id": "b15db79d",
   "metadata": {},
   "source": [
    "Το μήκος μιας συμβολοσειράς είναι μία ποσότητα που συχνά είναι πολύ χρήσιμη. Μπορούμε να το βρούμε κάνοντας χρήση της συνάρτησης ``len`` που παρέχεται με τη Python και η οποία μας δίνει το πλήθος των χαρακτήρων που περιέχει μια συμβολοσειρά.\n",
    "\n",
    "![ae_full.png](attachment:ae_full.png)"
   ]
  },
  {
   "cell_type": "code",
   "execution_count": null,
   "id": "cd92f9da",
   "metadata": {},
   "outputs": [],
   "source": [
    "print(len(full_name))"
   ]
  },
  {
   "cell_type": "markdown",
   "id": "2ba3354a",
   "metadata": {},
   "source": [
    "**Challenge**\n",
    "\n",
    "Αναλογιστείτε τι θα πάρουμε αν εκτελέσουμε τον κώδικα\n",
    "````python\n",
    "full_name[len(full_name)]\n",
    "````\n",
    "Μπορείτε να εξηγείσετε γιατί παίρνουμε αυτό το αποτέλεσμα;"
   ]
  },
  {
   "cell_type": "markdown",
   "id": "542647d1",
   "metadata": {},
   "source": [
    "Ένας αναμενόμενος τρόπος προσπέλασης των αλφαριθμητικών χαρακτήρων σε μια συμβολοσειρά είναι μέσω ενός βρόγχου επανάληψης. Αν και δεν έχουμε αναφερθεί ακόμα σε αυτούς, η εφαρμογή μιας for-loop δεν θα πρέπει να σας είναι κάτι άγνωστο."
   ]
  },
  {
   "cell_type": "code",
   "execution_count": null,
   "id": "4ced1e82",
   "metadata": {},
   "outputs": [],
   "source": [
    "# Using a for loop \n",
    "\n",
    "# One way to do that is to use indexing\n",
    "for i in range(0, len(last_name)):\n",
    "    print(last_name[i], end=' ')\n",
    "    \n",
    "# Just print a newline    \n",
    "print()\n",
    "    \n",
    "\n",
    "# The pythonic way\n",
    "for letter in last_name:\n",
    "    print(letter, end=' ')"
   ]
  },
  {
   "cell_type": "markdown",
   "id": "b23e32ac",
   "metadata": {},
   "source": [
    "**Challenge**\n",
    "\n",
    "Για τις παρακάτω ασκήσεις προσπαθείστε να πραγματοποιήσετε στο μυαλό σας την εκτέλεση του κώδικα και στη συνέχεια να ελέγξετε αν η απάντηση που καταλήξατε είναι όντως η σωστή. Αν όχι, μπορείτε να εντοπίσετε που κάνατε το λάθος;\n",
    "\n",
    "* Ποιό είναι το αποτέλεσμα του παρακάτω κώδικα;\n",
    "\n",
    "```python\n",
    "s = \"Jane Doe\"\n",
    "\n",
    "print(s[1], s[2:6], s[-1])\n",
    "print(s[20])\n",
    "```\n",
    "\n",
    "\n",
    "* Ποιό είναι το αποτέλεσμα του παρακάτω κώδικα;\n",
    "\n",
    "```python\n",
    "n = 12345\n",
    "s = 0\n",
    "\n",
    "for c in str(n):\n",
    "    s = s + int(c)\n",
    "\n",
    "print(s)\n",
    "```\n",
    "*Σημείωση*: Η συνάρτηση ``int`` μετατρέπει μία συμβολοσειρά σε ένα ακέραιο αριθμό (εάν γίνεται).\n",
    "\n",
    "\n",
    "\n",
    "* Ποιό είναι το αποτέλεσμα του παρακάτω κώδικα;\n",
    "\n",
    "```python\n",
    "n = 12345\n",
    "s = \"\"\n",
    "\n",
    "for c in str(n):\n",
    "    s = s + c\n",
    "\n",
    "print(s)\n",
    "```"
   ]
  },
  {
   "cell_type": "code",
   "execution_count": null,
   "id": "6162f0d2",
   "metadata": {},
   "outputs": [],
   "source": [
    "# You can try it here"
   ]
  },
  {
   "cell_type": "markdown",
   "id": "232f8f42",
   "metadata": {},
   "source": [
    "### Μέθοδοι της κλάσης \\<str\\>"
   ]
  },
  {
   "cell_type": "markdown",
   "id": "f38cceaf",
   "metadata": {},
   "source": [
    "Εκτός της συνάρτησης ``len``, έχουμε πει πως η βιβλιοθήκη ``str`` προσφέρει πολλές ακόμα συναρτήσεις που επιτελούν διάφορες λειτουργίες όταν εφαρμόζονται σε μια συμβολοσειρά όπως αναζήτηση, διάφορες μετατροπές, εξαγωγή λέξεων από κείμενο, έλεγχο αν το κείμενο περιέχει κάποια επιθυμητά χαρακτηριστικά κτλ.\n",
    "\n",
    "\n",
    "* Μπορούμε να δούμε συνοπτικά τις μεθόδους της κλάσης ``str`` που μπορούν να εφαρμοστούν σε μία συμβολοσειρά μέσω της συνάρτησης ``dir``:\n",
    "````python\n",
    "print(dir(str))\n",
    "````\n",
    "\n",
    "* Μπορούμε επίσης να πάρουμε αναλυτική τεκμηρίωση της κάθε μεθόδου χρησιμοποιώντας τη συνάρτηση ``help``."
   ]
  },
  {
   "cell_type": "code",
   "execution_count": null,
   "id": "e30a7a1a",
   "metadata": {},
   "outputs": [],
   "source": [
    "# Uncomment the following lines\n",
    "# to check the functionality of dir/help\n",
    "\n",
    "# print(dir(str))\n",
    "\n",
    "# print(help(str))"
   ]
  },
  {
   "cell_type": "code",
   "execution_count": null,
   "id": "c5498c18",
   "metadata": {},
   "outputs": [],
   "source": [
    "message = \"Hello World!\"\n",
    "help(message.replace)"
   ]
  },
  {
   "cell_type": "code",
   "execution_count": null,
   "id": "35110023",
   "metadata": {},
   "outputs": [],
   "source": [
    "# create a new string from an old one substituting some string part with something else:\n",
    "message = \"Hello World!\"\n",
    "print(message)\n",
    "\n",
    "message.replace('World', 'Universe')\n",
    "# message = message.replace('World', 'Universe')\n",
    "\n",
    "print(message)"
   ]
  },
  {
   "cell_type": "markdown",
   "id": "d1ab5e34",
   "metadata": {},
   "source": [
    "Είναι αυτό το αναμμενόμενο αποτέλεσμα; Γιατί ενώ καλέσαμε τη μέθοδο ``replace`` στη μεταβλητή ``message`` δεν πραγματοποιήθηκε η αντικατάσταση;\n",
    "\n",
    "**Σημείωση**\n",
    "\n",
    "Διαβάστε προσεκτικά τη τεκμηρίωση όσον αφορά πράξεις σε σύνθετες δομές δεδομένων! Γενικά, οι μέθοδοι που χρησιμοποιούμε μπορούν είτε να τροποποιήσουν ένα υπάρχον αντικείμενο (inplace - όχι για την περίπτωση συμβολοσειρών καθώς είναι αμετάβλητα αντικείμενα) είτε να δημιουργήσουν ένα νέο αντικείμενο."
   ]
  },
  {
   "cell_type": "markdown",
   "id": "3019d67b",
   "metadata": {},
   "source": [
    "### Μορφοποίηση συμβολοσειρών (string formatting)"
   ]
  },
  {
   "cell_type": "markdown",
   "id": "39880b3b",
   "metadata": {},
   "source": [
    "Είδαμε ότι συμβολοσειρές μπορούν να προκύψουν από τη συνένωση άλλων συμβολοσειρών μέσω του τελεστή ``+``.\n",
    "\n",
    "Είναι ενδιαφέρον (και πολύ χρήσιμο) να δούμε πως μπορούμε να δημιουργήσουμε δυναμικές συμβολοσειρές με το να εισάγουμε σε αυτές τιμές από μεταβλητές."
   ]
  },
  {
   "cell_type": "code",
   "execution_count": null,
   "id": "2ede94bc",
   "metadata": {},
   "outputs": [],
   "source": [
    "file_name = \"test.txt\"\n",
    "error_code = 51\n",
    "\n",
    "m1 = \"I cannot read file \" + file_name + \".\"\n",
    "print(m1)\n",
    "\n",
    "# Note the conversion of the integer 51 to a string with\n",
    "# str():\n",
    "m1 = m1 + \" I quit with error code \" + str(error_code) + \".\"\n",
    "print(m1)"
   ]
  },
  {
   "cell_type": "markdown",
   "id": "632b5528",
   "metadata": {},
   "source": [
    "Τέτοιου είδους εργασίες μπορούν να γίνουν εύκολα με κατάλληλη διαχείριση και μορφοποίηση κάποιας συμβολοσειράς.\n",
    "\n",
    "* Μπορούμε να μορφοποιήσουμε μία συμβολοσειρά χρησιμοποιώντας τη συνάρτηση ``format`` της κλάσης ``str`` (δες τεκμηρίωση για λεπτομέρειες). Η βασική δομή έχει ως εξής:\n",
    "````python\n",
    "    first_name = 'Albert'\n",
    "    last_name = 'Einstein'\n",
    "    \n",
    "    message = 'For many, {} {} was the greatest physicist of 20th century!'.format(first_name, last_name)\n",
    "    print(message)\n",
    "````\n",
    "\n",
    "* Από την έκδοση 3.6 της Python (και έπειτα) έχουν εισαχθεί οι λεγόμενες μορφοποιήσιμες συμβολοσειρές (f-strings). Αυτές μας επιτρέπουν να μορφοποιήσουμε μία συμβολοσειρά χωρίς τη χρήση της συνάρτησης ``format``. Οι μορφοποιήσιμες συμβολοσειρές υποδηλώνονται με ένα μικρό ``f`` μπροστά από τα εισαγωγικά. Έτσι, για κάποια έκδοση >= 3.6 της Python θα μπορούσαμε επίσης να γράψουμε:\n",
    "````python\n",
    "    first_name = 'Albert'\n",
    "    last_name = 'Einstein'\n",
    "    \n",
    "    message = f'For many, {first_name} {last_name} was the greatest physicist of 20th century!'\n",
    "    print(message)\n",
    "````"
   ]
  },
  {
   "cell_type": "code",
   "execution_count": null,
   "id": "7165b7db",
   "metadata": {},
   "outputs": [],
   "source": [
    "file_name = \"test.txt\"\n",
    "error_code = 51\n",
    "\n",
    "# Use f-string\n",
    "m1 = f\"I cannot read file {file_name}. I quit with error code {error_code}.\"\n",
    "print(m1)"
   ]
  },
  {
   "cell_type": "markdown",
   "id": "dd81a918",
   "metadata": {},
   "source": [
    "Στο παράρτημα περιέχονται κάποιες επιπλέον επιλογές για το πως να μορφοποιήσουμε μία συμβολοσειρά."
   ]
  },
  {
   "cell_type": "markdown",
   "id": "bc223197",
   "metadata": {},
   "source": [
    "### Raw strings"
   ]
  },
  {
   "cell_type": "markdown",
   "id": "8c237171",
   "metadata": {},
   "source": [
    "Τα λεγόμενα raw strings δεν μεταχειρίζονται τον χαρακτήρα backslash (\\) ως έναν ειδικό χαρακτήρα. Αυτού του είδους οι συμβολοσειρές είναι εξαιρετικές χρήσιμες και τις χρησιμοποιούμε για να δημιουργήσουμε ετικέτες σε γραφήματα χρησιμοποιώντας εκφράσεις LaTeX.\n",
    "\n",
    "Τα raw strings υποδηλώνονται με ένα μικρό ``r`` μπροστά από τα εισαγωγικά."
   ]
  },
  {
   "cell_type": "code",
   "execution_count": null,
   "id": "7c5f16a9",
   "metadata": {},
   "outputs": [],
   "source": [
    "# \\n is a newline character (Linux)\n",
    "m1 = \"Albert \\n Einstein\"\n",
    "print(m1)\n",
    "\n",
    "# The r marks a 'raw' string:\n",
    "m2 = r\"Albert \\n Einstein\"\n",
    "print(m2)"
   ]
  },
  {
   "cell_type": "code",
   "execution_count": null,
   "id": "3304149e",
   "metadata": {},
   "outputs": [],
   "source": [
    "# More on that later...\n",
    "%matplotlib inline\n",
    "import numpy as np\n",
    "import matplotlib.pyplot as plt\n",
    "\n",
    "x = np.linspace(0.2, 2.0 * np.pi, 100)\n",
    "y = np.sin(x) / x\n",
    "\n",
    "# Without using a raw string, the following\n",
    "# lines throws an error:\n",
    "plt.title(r'$\\frac {\\sin(x)}{x}$')\n",
    "plt.plot(x, y)"
   ]
  },
  {
   "cell_type": "markdown",
   "id": "3008b4c7",
   "metadata": {},
   "source": [
    "## Παράρτημα: Επιπλέον επιλογές μορφοποίησης συμβολοσειρών"
   ]
  },
  {
   "cell_type": "markdown",
   "id": "3a4c3fdc",
   "metadata": {},
   "source": [
    "Χωρίς μορφοποίηση:"
   ]
  },
  {
   "cell_type": "code",
   "execution_count": null,
   "id": "61b8d471",
   "metadata": {},
   "outputs": [],
   "source": [
    "x = 2. / 3.\n",
    "\n",
    "f\"Two thirds are {x}\""
   ]
  },
  {
   "cell_type": "markdown",
   "id": "4da489c9",
   "metadata": {},
   "source": [
    "Στρογγυλοποίηση του αριθμού μετά το τρίτο δεκαδικό:"
   ]
  },
  {
   "cell_type": "code",
   "execution_count": null,
   "id": "5b31d56b",
   "metadata": {},
   "outputs": [],
   "source": [
    "x = 2. / 3.\n",
    "\n",
    "# The 'f' stands for float.\n",
    "f\"Two thirds are {x:.3f}\""
   ]
  },
  {
   "cell_type": "markdown",
   "id": "21b0c579",
   "metadata": {},
   "source": [
    "Στρογγυλοποίηση του αριθμού μετά το τρίτο δεκαδικό και εκτύπωση του αριθμού με συνολικό μήκος 10 χαρακτήρων:"
   ]
  },
  {
   "cell_type": "code",
   "execution_count": null,
   "id": "3e726f26",
   "metadata": {},
   "outputs": [],
   "source": [
    "f\"Two thirds are {x:10.3f}\""
   ]
  },
  {
   "cell_type": "markdown",
   "id": "7322bf4c",
   "metadata": {},
   "source": [
    "Μπορούμε να κάνουμε κάτι παρόμοιο με ακεραίους (χωρίς να προσδιορίσουμε αριθμό δεκαδικών ψηφίων):"
   ]
  },
  {
   "cell_type": "code",
   "execution_count": null,
   "id": "716b65c1",
   "metadata": {},
   "outputs": [],
   "source": [
    "n = 42\n",
    "\n",
    "# The 'd' stands for digit\n",
    "f\"The truth is {n:10d}\""
   ]
  },
  {
   "cell_type": "markdown",
   "id": "b2f05253",
   "metadata": {},
   "source": [
    "Μπορούμε να προσθέσουμε υστερούντα μηδενικά (trailing zeros):"
   ]
  },
  {
   "cell_type": "code",
   "execution_count": null,
   "id": "9761ef15",
   "metadata": {},
   "outputs": [],
   "source": [
    "n = 42\n",
    "f\"The truth is {n:010d}\""
   ]
  },
  {
   "cell_type": "markdown",
   "id": "fa61287e",
   "metadata": {},
   "source": [
    "Ή να κάνουμε στοίχιση στα αριστερά:"
   ]
  },
  {
   "cell_type": "code",
   "execution_count": null,
   "id": "be00af16",
   "metadata": {},
   "outputs": [],
   "source": [
    "n = 42\n",
    "f\"The truth is {n:<10d}. This we must accept!\""
   ]
  }
 ],
 "metadata": {
  "kernelspec": {
   "display_name": "Python 3",
   "language": "python",
   "name": "python3"
  },
  "language_info": {
   "codemirror_mode": {
    "name": "ipython",
    "version": 3
   },
   "file_extension": ".py",
   "mimetype": "text/x-python",
   "name": "python",
   "nbconvert_exporter": "python",
   "pygments_lexer": "ipython3",
   "version": "3.8.8"
  }
 },
 "nbformat": 4,
 "nbformat_minor": 5
}
