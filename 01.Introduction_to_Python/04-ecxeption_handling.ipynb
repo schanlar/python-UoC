{
 "cells": [
  {
   "cell_type": "markdown",
   "id": "f5f8d678",
   "metadata": {},
   "source": [
    "# 4. Διαχείριση εξαιρέσεων"
   ]
  },
  {
   "cell_type": "markdown",
   "id": "687b01f8",
   "metadata": {},
   "source": [
    "<div class=\"alert alert-block alert-info\" style=\"margin-top: 20px\">\n",
    "    \n",
    "<b>Περιεχόμενα</b>\n",
    "    \n",
    "4.1 Τι είναι οι εξαιρέσεις και ποιά είναι η χρησιμότητά τους;\n",
    "    \n",
    "4.2 Διαχείριση συγκεκριμένων εξαιρέσεων\n",
    "   \n",
    "4.3 Έγερση εξαιρέσεων\n",
    "    \n",
    "4.4 Δημιουργία δικών μας εξαιρέσεων\n",
    "    \n",
    "</div>"
   ]
  },
  {
   "cell_type": "markdown",
   "id": "c2b74a25",
   "metadata": {},
   "source": [
    "## 4.1 Τι είναι οι εξαιρέσεις και ποιά είναι η χρησιμότητά τους;"
   ]
  },
  {
   "cell_type": "markdown",
   "id": "06dd6d3b",
   "metadata": {},
   "source": [
    "Η Python έχει πολλές built-in εξαιρέσεις οι οποίες εγείρονται όταν το πρόγραμμα συναντήσει κάποιο σφάλμα στην προσπάθεια εκτέλεσής του. Αν δεν διαχειριστεί μία τέτοια εξαίρεση τότε ο διερμηνέας θα σταματήσει την εκτέλεση και θα εκτυπώσει ένα μήνυμα που θα εξηγεί (ελπίζουμε) το τι πήγε στραβά. "
   ]
  },
  {
   "cell_type": "code",
   "execution_count": 1,
   "id": "cded9640",
   "metadata": {},
   "outputs": [
    {
     "ename": "TypeError",
     "evalue": "unsupported operand type(s) for +: 'int' and 'str'",
     "output_type": "error",
     "traceback": [
      "\u001b[0;31m---------------------------------------------------------------------------\u001b[0m",
      "\u001b[0;31mTypeError\u001b[0m                                 Traceback (most recent call last)",
      "\u001b[0;32m/var/folders/y6/62tg_s5s7536r0lp1mks4jl80000gn/T/ipykernel_24773/1536397664.py\u001b[0m in \u001b[0;36m<module>\u001b[0;34m\u001b[0m\n\u001b[1;32m      3\u001b[0m \u001b[0mb\u001b[0m \u001b[0;34m=\u001b[0m \u001b[0;34m'3'\u001b[0m\u001b[0;34m\u001b[0m\u001b[0;34m\u001b[0m\u001b[0m\n\u001b[1;32m      4\u001b[0m \u001b[0;34m\u001b[0m\u001b[0m\n\u001b[0;32m----> 5\u001b[0;31m \u001b[0msum_of_numbers\u001b[0m \u001b[0;34m=\u001b[0m \u001b[0ma\u001b[0m\u001b[0;34m+\u001b[0m\u001b[0mb\u001b[0m\u001b[0;34m\u001b[0m\u001b[0;34m\u001b[0m\u001b[0m\n\u001b[0m\u001b[1;32m      6\u001b[0m \u001b[0mprint\u001b[0m\u001b[0;34m(\u001b[0m\u001b[0;34m'The sum is:'\u001b[0m\u001b[0;34m,\u001b[0m \u001b[0msum_of_numbers\u001b[0m\u001b[0;34m)\u001b[0m\u001b[0;34m\u001b[0m\u001b[0;34m\u001b[0m\u001b[0m\n",
      "\u001b[0;31mTypeError\u001b[0m: unsupported operand type(s) for +: 'int' and 'str'"
     ]
    }
   ],
   "source": [
    "# Try to perform numerics between integer and string\n",
    "a = 5\n",
    "b = '3'\n",
    "\n",
    "sum_of_numbers = a+b\n",
    "print('The sum is:', sum_of_numbers)"
   ]
  },
  {
   "cell_type": "markdown",
   "id": "03c82cda",
   "metadata": {},
   "source": [
    "- Στη Python, οι εξαιρέσεις μπορούν να διαχειριστούν  χρησιμοποιώντας τη δομή ``try/except``.\n",
    "\n",
    "    \n",
    "    Το βασικό συντακτικό της δομής try/except είναι το ακόλουθο:\n",
    "```python\n",
    "try:\n",
    "    # some commands\n",
    "except Exception:\n",
    "    # then do something\n",
    "```\n",
    "\n",
    "\n",
    "- Το κομμάτι του κώδικα το οποίο μπορεί να εγείρει κάποια εξαίρεση τοποθετείται μέσα σε ένα try μπλοκ. Οι εντολές που διαχειρίζονται την εξαίρεση βρίσκονται μέσα σε ένα except μπλοκ.\n",
    "\n",
    "\n",
    "\n",
    "- Αν δεν υπάρξει κάποια εξαίρεση που πρέπει να διαχειριστούμε, τότε το except μπλοκ προσπερνάται και συνεχίζεται η κανονική ροή του προγράμματος. Αν όμως υπάρξει κάποια εξαίρεση τότε αυτή διαχειρίζεται από το αντίστοιχο μπλοκ."
   ]
  },
  {
   "cell_type": "code",
   "execution_count": 2,
   "id": "2a1b42e4",
   "metadata": {},
   "outputs": [
    {
     "name": "stdout",
     "output_type": "stream",
     "text": [
      "Something went wrong!\n",
      "unsupported operand type(s) for +: 'int' and 'str'\n"
     ]
    }
   ],
   "source": [
    "# Now try to catch the exception\n",
    "try:\n",
    "    sum_of_numbers = a+b\n",
    "    print('The sum is:', sum_of_numbers)\n",
    "\n",
    "except Exception as e:\n",
    "    print('Something went wrong!')\n",
    "    print(e)"
   ]
  },
  {
   "cell_type": "markdown",
   "id": "c5bc6f98",
   "metadata": {},
   "source": [
    "## 4.2 Διαχείριση συγκεκριμένων εξαιρέσεων"
   ]
  },
  {
   "cell_type": "markdown",
   "id": "a5afe378",
   "metadata": {},
   "source": [
    "- Όπως είπαμε, η Python έχει μια πληθώρα από built-in εξαιρέσεις (π.χ. ``TypeError``, ``ValueError``, ``IndexError``, ``ZeroDivisionError``, ``IOError`` κτλ) που η κάθε μία σχετίζεται με συγκεκριμένου είδους σφάλματα.\n",
    "\n",
    "\n",
    "- Στο προηγούμενο παράδειγμα προσπαθήσαμε να διαχειριστούμε ένα σφάλμα χωρίς όμως να προσδιορίσουμε ποιό είναι αυτό. Αυτό δεν είναι καλή πρακτική καθώς το ίδιο μπλοκ θα διαχειριστεί οποιαδήποτε εξαίρεση με τον ίδιο τρόπο. Καλό είναι να προσπαθούμε να διαχειριζόμαστε ξεχωριστά κάθε δυνατή εξαίρεση στην οποία μπορεί να υποπέσει ο κώδικας μας.\n",
    "\n",
    "\n",
    "- Μία δομή try/except μπορεί να περιέχει όσα except μπλοκ θέλουμε, αλλά θα εκτελεστεί μόνο ένα από αυτά (το πρώτο που αντιστοιχεί στην εξαίρεση που θα εγερθεί).\n",
    "\n",
    "\n",
    "- Αν μια ομάδα εξαιρέσεων θέλουμε να τη διαχειριστούμε με τον ίδιο τρόπο, μπορούμε να χρησιμοποιήσουμε πλειάδες."
   ]
  },
  {
   "cell_type": "code",
   "execution_count": 3,
   "id": "0c036c3f",
   "metadata": {},
   "outputs": [],
   "source": [
    "# This code of block does nothing\n",
    "# It is here for demonstration purposes\n",
    "\n",
    "try:\n",
    "   # do something\n",
    "   pass\n",
    "\n",
    "except ValueError:\n",
    "   # handle ValueError exception in some way\n",
    "   pass\n",
    "\n",
    "except (TypeError, ZeroDivisionError):\n",
    "   # handle multiple exceptions in some other way\n",
    "    pass\n",
    "\n",
    "except:\n",
    "   # handle all other exceptions\n",
    "   pass\n",
    "\n",
    "finally:\n",
    "    # The finally block of code is optional and will always be run\n",
    "    # regardless if there was an exception in the try code block\n",
    "    pass"
   ]
  },
  {
   "cell_type": "markdown",
   "id": "5898e08e",
   "metadata": {},
   "source": [
    "<div class=\"alert alert-block alert-warning\" style=\"margin-top: 20px\">\n",
    "    <b>Παράδειγμα 4.1</b>\n",
    "    \n",
    "Διαχειριστείτε την εξαίρεση που εγείρεται όταν εκτελούμε τον παρακάτω κώδικα χρησιμοποιώντας ένα ``try-except`` μπλοκ.\n",
    "    \n",
    "</div>"
   ]
  },
  {
   "cell_type": "code",
   "execution_count": 4,
   "id": "244ae31f",
   "metadata": {},
   "outputs": [
    {
     "ename": "TypeError",
     "evalue": "unsupported operand type(s) for ** or pow(): 'str' and 'int'",
     "output_type": "error",
     "traceback": [
      "\u001b[0;31m---------------------------------------------------------------------------\u001b[0m",
      "\u001b[0;31mTypeError\u001b[0m                                 Traceback (most recent call last)",
      "\u001b[0;32m/var/folders/y6/62tg_s5s7536r0lp1mks4jl80000gn/T/ipykernel_24773/2353522992.py\u001b[0m in \u001b[0;36m<module>\u001b[0;34m\u001b[0m\n\u001b[1;32m      1\u001b[0m \u001b[0;32mfor\u001b[0m \u001b[0mi\u001b[0m \u001b[0;32min\u001b[0m \u001b[0;34m[\u001b[0m\u001b[0;34m'a'\u001b[0m\u001b[0;34m,\u001b[0m\u001b[0;34m'b'\u001b[0m\u001b[0;34m,\u001b[0m\u001b[0;34m'c'\u001b[0m\u001b[0;34m]\u001b[0m\u001b[0;34m:\u001b[0m\u001b[0;34m\u001b[0m\u001b[0;34m\u001b[0m\u001b[0m\n\u001b[0;32m----> 2\u001b[0;31m     \u001b[0mprint\u001b[0m\u001b[0;34m(\u001b[0m\u001b[0mi\u001b[0m\u001b[0;34m**\u001b[0m\u001b[0;36m2\u001b[0m\u001b[0;34m)\u001b[0m\u001b[0;34m\u001b[0m\u001b[0;34m\u001b[0m\u001b[0m\n\u001b[0m",
      "\u001b[0;31mTypeError\u001b[0m: unsupported operand type(s) for ** or pow(): 'str' and 'int'"
     ]
    }
   ],
   "source": [
    "for i in ['a','b','c']:\n",
    "    print(i**2)"
   ]
  },
  {
   "cell_type": "markdown",
   "id": "68fbad4e",
   "metadata": {},
   "source": [
    "<div class=\"alert alert-danger alertdanger\" style=\"margin-top: 20px\">\n",
    "<details>\n",
    "<br>    \n",
    "<b>Λύση </b>\n",
    "    \n",
    "```python\n",
    "try:\n",
    "    for i in ['a','b','c']:\n",
    "        print(i**2)\n",
    "except TypeError as e:\n",
    "    print(\"An error occured!\")\n",
    "    print(e)\n",
    "```\n",
    "    \n",
    "</details>"
   ]
  },
  {
   "cell_type": "markdown",
   "id": "b57cae9a",
   "metadata": {},
   "source": [
    "<div class=\"alert alert-block alert-warning\" style=\"margin-top: 20px\">\n",
    "    <b>Παράδειγμα 4.2</b>\n",
    "    \n",
    "Διαχειριστείτε την εξαίρεση που εγείρεται όταν εκτελούμε τον παρακάτω κώδικα χρησιμοποιώντας ένα ``try-except`` μπλοκ. Στη συνέχεια χρησιμοποιήστε ένα ``finally`` μπλοκ για να τυπώσετε \"All Done!\"\n",
    "    \n",
    "</div>"
   ]
  },
  {
   "cell_type": "code",
   "execution_count": 5,
   "id": "84f4d9de",
   "metadata": {},
   "outputs": [
    {
     "ename": "ZeroDivisionError",
     "evalue": "division by zero",
     "output_type": "error",
     "traceback": [
      "\u001b[0;31m---------------------------------------------------------------------------\u001b[0m",
      "\u001b[0;31mZeroDivisionError\u001b[0m                         Traceback (most recent call last)",
      "\u001b[0;32m/var/folders/y6/62tg_s5s7536r0lp1mks4jl80000gn/T/ipykernel_24773/983096354.py\u001b[0m in \u001b[0;36m<module>\u001b[0;34m\u001b[0m\n\u001b[1;32m      2\u001b[0m \u001b[0my\u001b[0m \u001b[0;34m=\u001b[0m \u001b[0;36m0\u001b[0m\u001b[0;34m\u001b[0m\u001b[0;34m\u001b[0m\u001b[0m\n\u001b[1;32m      3\u001b[0m \u001b[0;34m\u001b[0m\u001b[0m\n\u001b[0;32m----> 4\u001b[0;31m \u001b[0mz\u001b[0m \u001b[0;34m=\u001b[0m \u001b[0mx\u001b[0m\u001b[0;34m/\u001b[0m\u001b[0my\u001b[0m\u001b[0;34m\u001b[0m\u001b[0;34m\u001b[0m\u001b[0m\n\u001b[0m",
      "\u001b[0;31mZeroDivisionError\u001b[0m: division by zero"
     ]
    }
   ],
   "source": [
    "x = 5\n",
    "y = 0\n",
    "\n",
    "z = x/y"
   ]
  },
  {
   "cell_type": "markdown",
   "id": "5cf31940",
   "metadata": {},
   "source": [
    "<div class=\"alert alert-danger alertdanger\" style=\"margin-top: 20px\">\n",
    "<details>\n",
    "<br>    \n",
    "<b>Λύση </b>\n",
    "    \n",
    "```python\n",
    "x = 5\n",
    "y = 0\n",
    "\n",
    "try:\n",
    "    z = x/y\n",
    "except ZeroDivisionError:\n",
    "    print(\"It is not nice to divide by zero!\")\n",
    "finally:\n",
    "    print(\"All Done!\")\n",
    "```\n",
    "    \n",
    "</details>"
   ]
  },
  {
   "cell_type": "markdown",
   "id": "3edb044e",
   "metadata": {},
   "source": [
    "## 4.3 Έγερση εξαιρέσεων"
   ]
  },
  {
   "cell_type": "markdown",
   "id": "800e7f6e",
   "metadata": {},
   "source": [
    "- Η διαχείριση εξαιρέσεων είναι απαραίτητη όταν εκχωρούμε το δικαιώμα σε τρίτους να επέμβουν στον κώδικά μας (π.χ. αλληλεπίδραση με χρήστη).\n",
    "\n",
    "\n",
    "- Στο επόμενο παράδειγμα δεχόμαστε δύο τιμές από τον χρήση που υποτίθεται ότι πρέπει να είναι θετικοί ακέραιοι αριθμοί και επιστρέφουμε το πηλικό τους. Τι θα συμβεί όμως αν ο χρήστης μας δώσει μία συμβολοσειρά που δεν μπορεί να μετατραπεί σε ακέραιο;\n",
    "\n",
    "\n",
    "- Τότε η Python θα εγείρει ένα ``ValueError``.\n",
    "\n",
    "\n",
    "- Θα πρέπει να σκεφτούμε αυτή την περίπτωση (και άλλες που μπορεί να υπάρξουν στο δεδομένο πρόβλημα) και να τη διαχειριστούμε ανάλογα."
   ]
  },
  {
   "cell_type": "code",
   "execution_count": 6,
   "id": "83f0a6fe",
   "metadata": {},
   "outputs": [
    {
     "name": "stdout",
     "output_type": "stream",
     "text": [
      "Enter a positive integer: asdf\n"
     ]
    },
    {
     "ename": "ValueError",
     "evalue": "invalid literal for int() with base 10: 'asdf'",
     "output_type": "error",
     "traceback": [
      "\u001b[0;31m---------------------------------------------------------------------------\u001b[0m",
      "\u001b[0;31mValueError\u001b[0m                                Traceback (most recent call last)",
      "\u001b[0;32m/var/folders/y6/62tg_s5s7536r0lp1mks4jl80000gn/T/ipykernel_24773/365409357.py\u001b[0m in \u001b[0;36m<module>\u001b[0;34m\u001b[0m\n\u001b[1;32m      1\u001b[0m \u001b[0;31m# Try this first\u001b[0m\u001b[0;34m\u001b[0m\u001b[0;34m\u001b[0m\u001b[0m\n\u001b[0;32m----> 2\u001b[0;31m \u001b[0ma\u001b[0m \u001b[0;34m=\u001b[0m \u001b[0mint\u001b[0m\u001b[0;34m(\u001b[0m\u001b[0minput\u001b[0m\u001b[0;34m(\u001b[0m\u001b[0;34m\"Enter a positive integer: \"\u001b[0m\u001b[0;34m)\u001b[0m\u001b[0;34m)\u001b[0m\u001b[0;34m\u001b[0m\u001b[0;34m\u001b[0m\u001b[0m\n\u001b[0m\u001b[1;32m      3\u001b[0m \u001b[0;34m\u001b[0m\u001b[0m\n\u001b[1;32m      4\u001b[0m \u001b[0;31m# try:\u001b[0m\u001b[0;34m\u001b[0m\u001b[0;34m\u001b[0m\u001b[0m\n\u001b[1;32m      5\u001b[0m \u001b[0;31m#     a = int(input(\"Enter first positive integer: \"))\u001b[0m\u001b[0;34m\u001b[0m\u001b[0;34m\u001b[0m\u001b[0m\n",
      "\u001b[0;31mValueError\u001b[0m: invalid literal for int() with base 10: 'asdf'"
     ]
    }
   ],
   "source": [
    "# Try this first\n",
    "a = int(input(\"Enter a positive integer: \"))    \n",
    "\n",
    "# try:\n",
    "#     a = int(input(\"Enter first positive integer: \")) \n",
    "#     b = int(input(\"Enter second positive integer: \"))\n",
    "    \n",
    "#     # Although a negative number is not technically wrong\n",
    "#     # we will consider it as a ValueError and treat it like that\n",
    "#     if a <= 0 or b < 0:\n",
    "#         raise ValueError\n",
    "        \n",
    "#     # A denominator of zero is actually wrong and\n",
    "#     # will throw a specific error. We need to handle this\n",
    "#     if b == 0:\n",
    "#         raise ZeroDivisionError\n",
    "        \n",
    "    \n",
    "#     # This is all about\n",
    "#     print('The ratio is:', a/b)\n",
    "    \n",
    "# except ValueError as e:\n",
    "#     print('Both numbers must be positive integers!')\n",
    "#     print(e)\n",
    "    \n",
    "# except ZeroDivisionError as e:\n",
    "#     print(\"Second number must not be zero!\")\n",
    "#     print(e)"
   ]
  },
  {
   "cell_type": "markdown",
   "id": "bb12ee3f",
   "metadata": {},
   "source": [
    "## 4.4 Δημιουργία δικών μας εξαιρέσεων"
   ]
  },
  {
   "cell_type": "markdown",
   "id": "ad9921d3",
   "metadata": {},
   "source": [
    "Κάθε εξαίρεση στην Python κληρονομεί ιδιότητες από τη βασική κλάση ``Exception``. Με λίγες γνώσεις αντικειμενοστραφούς προγραμματισμού, μπορούμε να χρησιμοποιήσουμε αυτή τη κληρονομικότητα ώστε να δημιουργήσουμε τις δικές μας κλάσεις εξαιρέσεων."
   ]
  },
  {
   "cell_type": "code",
   "execution_count": 7,
   "id": "a834d21a",
   "metadata": {},
   "outputs": [],
   "source": [
    "class MyCustomError(Exception):\n",
    "    '''It is raised when a custom error occurs'''\n",
    "    pass"
   ]
  },
  {
   "cell_type": "code",
   "execution_count": 8,
   "id": "c2bfb40b",
   "metadata": {},
   "outputs": [
    {
     "name": "stdout",
     "output_type": "stream",
     "text": [
      "I will accept any programming language except \"Fortran\": fortran\n",
      "Nah! Fortran is a tough pill to swallow!\n"
     ]
    }
   ],
   "source": [
    "try:\n",
    "    language = input('I will accept any programming language except \"Fortran\": ')\n",
    "    \n",
    "    if language.capitalize() == 'Fortran':\n",
    "        raise MyCustomError\n",
    "        \n",
    "    print(\"That's cool! {} language is neat!\".format(language.capitalize()))\n",
    "    \n",
    "except MyCustomError:\n",
    "    print('Nah! Fortran is a tough pill to swallow!')"
   ]
  }
 ],
 "metadata": {
  "kernelspec": {
   "display_name": "Python 3 (ipykernel)",
   "language": "python",
   "name": "python3"
  },
  "language_info": {
   "codemirror_mode": {
    "name": "ipython",
    "version": 3
   },
   "file_extension": ".py",
   "mimetype": "text/x-python",
   "name": "python",
   "nbconvert_exporter": "python",
   "pygments_lexer": "ipython3",
   "version": "3.9.13"
  }
 },
 "nbformat": 4,
 "nbformat_minor": 5
}
