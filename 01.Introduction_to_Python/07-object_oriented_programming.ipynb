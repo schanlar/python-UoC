{
 "cells": [
  {
   "cell_type": "markdown",
   "id": "1d3da103",
   "metadata": {},
   "source": [
    "# 7. Αντικειμενοστρεφής Προγραμματισμός"
   ]
  },
  {
   "cell_type": "markdown",
   "id": "acad80ff",
   "metadata": {},
   "source": [
    "<div class=\"alert alert-block alert-info\" style=\"margin-top: 20px\">\n",
    "    \n",
    "<b>Περιεχόμενα</b>\n",
    "    \n",
    "7.1 Δημιουργία κλάσης και στιγμιοτύπων της κλάσης\n",
    "    \n",
    "7.2 Ενθυλάκωση\n",
    "    \n",
    "7.3 Μέθοδοι κλάσης\n",
    "    \n",
    "7.4 Υπερφόρτωση τελεστών (Operator overloading)\n",
    "    \n",
    "7.5 Κληρονομικότητα (Inheritance)\n",
    "\n",
    "</div>"
   ]
  },
  {
   "cell_type": "markdown",
   "id": "f99efa28",
   "metadata": {},
   "source": [
    "Μέχρι τώρα έχουμε δει κάποιες βασικές δομές δεδομένων (π.χ. ακέραιοι, συμβολοσειρές, λίστες, λεξικά κτλ) που μας επιτρέπουν να αποθηκεύουμε δεδομένα και να εφαρμόζουμε ένα σύνολο πράξεων (operations).\n",
    "\n",
    "> Στον αντικειμενοστρεφή προγραμματισμό χρησιμοποιούμε μία δομή δεδομένων που ονομάζεται **\"αντικείμενο\"** (object ή instance). Μία τέτοια δομή δεν είναι τίποτα άλλο παρά ένα ακόμα container που μας επιτρέπει να διαχεριζόμαστε δεδομένα. Τα αντικείμενα είναι οργανωμένα και αποτελούν μέρος κάποιας ``κλάσης``. \n",
    "\n",
    "Στην πραγματικότητα ο,τιδήποτε έχουμε δει μέχρι τώρα στην Python είναι ένα αντικείμενο που ανήκει σε κάποια κλάση, έχει δηλαδή έναν συγκεκριμένο τύπο, π.χ.\n",
    "\n",
    "- Το αντικείμενο ``1234`` είναι ένα στιγμιότυπο του τύπου (κλάσης) ``<int>``\n",
    "\n",
    "- Το αντικείμενο ``\"hello\"`` είναι ένα στιγμιότυπο του τύπου (κλάσης) ``<string>``"
   ]
  },
  {
   "cell_type": "code",
   "execution_count": 1,
   "id": "49994c4a",
   "metadata": {},
   "outputs": [
    {
     "name": "stdout",
     "output_type": "stream",
     "text": [
      "<class 'int'>\n",
      "<class 'str'>\n",
      "<class 'list'>\n",
      "<class 'tuple'>\n",
      "<class 'dict'>\n"
     ]
    }
   ],
   "source": [
    "# In Python, everything is an object\n",
    "print(type(1234))\n",
    "print(type(\"hello\"))\n",
    "print(type([]))\n",
    "print(type(()))\n",
    "print(type({}))"
   ]
  },
  {
   "cell_type": "markdown",
   "id": "168e2bfc",
   "metadata": {},
   "source": [
    "Εκτός από τον τύπο του αντικειμένου, όμως, κάθε αντικείμενο έχει και δύο ακόμα χαρακτηριστικά\n",
    "\n",
    "1. το πως αυτό αναπαριστάται (μέσω ιδιοτήτων των δεδομένων που περιέχει - data attributes)\n",
    "\n",
    "2. με ποιούς τρόπους μπορούμε εμείς να αλληλεπιδράσουμε με αυτό (μέσω συναρτήσεων - μεθόδων)\n",
    "\n",
    "Μας δίνεται λοιπόν η δυνατότητα να δημιουργήσουμε όσα αντικείμενα θέλουμε, το καθένα από το οποίο έχει κάποιο τύπο (ανήκει δηλαδή σε κάποια κλάση). Έχοντας δημιουργήσει ένα τέτοιο αντικείμενο, μπορούμε να αλληλεπιδράσουμε μαζί του με συγκεκριμένους τρόπους που είναι χαρακτηριστικοί του τύπου/κλάση (π.χ. μπορούμε να προσθέσουμε ή να διαγράψουμε στοιχεία από μία λίστα, να τροποποιήσουμε κάποια συμβολοσειρά κτλ). Τέλος, μπορούμε να καταστρέψουμε ένα αντικείμενο είτε άμεσα (π.χ. χρησιμοποιώντας τη δεσμευμένη λέξη \"del\") είτε έμμεσα με τη μη χρήση του. Στη τελευταία περίπτωση η διαδικασία γίνεται αυτόματα από την Python ώστε να αποδεσμεύσει χώρο στη μνήμη (garbage collection).\n",
    "\n",
    "Για περισσότερες πληροφορίες δείτε [εδώ](https://docs.python.org/3/tutorial/classes.html)."
   ]
  },
  {
   "cell_type": "markdown",
   "id": "a8fa2725",
   "metadata": {},
   "source": [
    "## 7.1 Δημιουργία κλάσης και στιγμιοτύπων της κλάσης\n",
    "\n",
    "Για να φτιάξουμε έναν δικό μας τύπο δεδομένων πρέπει να δημιουργήσουμε μία κλάση όπου θα ορίζει τον τύπο, την εσωτερική αναπαράσταση του τύπου αυτού (δηλαδή τις ιδιότητές του) και τους τρόπους με τους οποίους θα αλληλεπιδρούμε με αυτό.\n",
    "\n",
    "**Σημεία προσοχής**:\n",
    "\n",
    "- Διαχωρίστε τις έννοιες \"*δημιουργώ μία κλάση*\" και \"*χρησιμοποιώ ένα στιγμιότυπο (instance) της κλάσης*\".\n",
    "\n",
    "\n",
    "- Η *δημιουργία* μιας κλάσης περιλαμβάνει\n",
    "\n",
    "    - τον ορισμό του ονόματος της κλάσης\n",
    "    \n",
    "    - τον ορισμό των ιδιοτήτων της κλάσης (class attributes)\n",
    "    \n",
    "  π.χ. κάποιος έγραψε κώδικα ώστε να ορίσει την κλάση \\<list\\>\n",
    "    \n",
    "   \n",
    "- Η *χρήση* της κλάσης περιλαμβάνει\n",
    "    \n",
    "    - την δημιουργία νέων *στιγμιοτύπων* των αντικειμένων\n",
    "    \n",
    "    - την εφαρμογή συγκεκριμένων ενεργειών πάνω στα στιγμιότυπα της κλάσης\n",
    "    \n",
    "  π.χ. ```L = [1, 2]``` (δημιουργία ενός στιγμιοτύπου της κλάσης \\<list\\>) και ```len(L)``` (εφαρμογή της μεθόδου len πάνω στο αντικείμενο/στιγμιότυπο L)\n",
    "\n",
    "\n",
    "Για παράδειγμα, μπορεί να θέλουμε να φτιάξουμε μία κατηγορία αντικειμένων (κλάση) που θα περιέχει ιδιότητες και χαρακτηριστικά που αναφέρονται σε κάποιο κατοικίδιο, όπως φαίνεται στο παράδειγμα παρακάτω. Η συγκεκριμένη κλάση δεν περιέχει κάποιες ιδιότητες προς το παρόν, ούτε παρέχει κάποια λειτουργικότητα απλά εξυπηρετεί ως ένας τρόπος οργάνωσης των δεδομένων μας.\n",
    "\n",
    "Έχοντας φτιάξει την κλάση μας, μπορούμε να δημιουργήσουμε αντικείμενα που αποτελούν μέρος αυτής της κλάσης. Στο παράδειγμα που ακολουθεί έχουμε ορίσει τρία τέτοια αντικείμενα που υποδηλώνουν τρία διαφορετικά κατοικίδια. Παρατηρείστε ότι για να ορίσουμε τα αντικείμενα κάναμε χρήση του ονόματος της κλάσης μαζί με παρενθέσεις, κάτι που υποδηλώνει ότι έχουμε την δυνατότητα να αρχικοποιήσουμε κάποιο αντικείμενο δίνοντας συγκεκριμένα ορίσματα όπως θα δούμε παρακάτω.\n",
    "\n",
    "Η σύμβαση για τα ονόματα των κλάσεων είναι να ξεκινούν με κεφαλαίο γράμμα."
   ]
  },
  {
   "cell_type": "code",
   "execution_count": 2,
   "id": "134cd0dc",
   "metadata": {},
   "outputs": [
    {
     "name": "stdout",
     "output_type": "stream",
     "text": [
      "<__main__.Pet object at 0x7fa0c98400a0>\n",
      "<class '__main__.Pet'>\n"
     ]
    }
   ],
   "source": [
    "class Pet:\n",
    "    pass\n",
    "\n",
    "whiskers = Pet() # Instance of Pet\n",
    "rex = Pet()      # Another instance of Pet\n",
    "speedo = Pet()   # Yet another instance of Pet\n",
    "\n",
    "print(whiskers) # Not very informative output by default\n",
    "print(type(whiskers))"
   ]
  },
  {
   "cell_type": "markdown",
   "id": "13bb3ac6",
   "metadata": {},
   "source": [
    "Όταν θέλουμε να οργανώσουμε τα δεδομένα μας σε κάποια κλάση, το πρώτο πράγμα που θα πρέπει ίσως να σκεφτούμε είναι τι είδους πληροφορία χρειάζεται να γνωρίζω για να ορίσω ένα αντικείμενο αυτής της κλάσης, τι είδους δεδομένα θα περιέχει αυτή η κλάση και πως σκοπεύουμε να αλληλεπιδρούμε με αυτά.\n",
    "\n",
    "Ας το δούμε αυτό μέσω ενός άλλου παραδείγματος. Έστω ότι θέλουμε να διαχειριστούμε τις επαφές μας. Θέλουμε λοιπόν να φτιάξουμε μία δομή που να μας επιτρέπει να αποθηκεύουμε μία νέα επαφή και στη συνέχεια να έχουμε πρόσβαση στα στοιχεία κάθε επαφής όπως το όνομα, το τηλέφωνο, το email κτλ. Θα μπορούσαμε φυσικά να χρησιμοποιήσουμε κάποιο λεξικό ή ακόμα και κάποια λίστα για να αποθηκεύσουμε και να έχουμε πρόσβαση στις επαφές, αλλά μία κλάση θα μας προσφέρει πολύ περισσότερη λειτουργικότητα όπως θα δούμε.\n",
    "\n",
    "Είναι ασφαλές να υποθέσουμε ότι όλες οι επαφές μας είναι άνθρωποι, άρα θα φτιάξουμε αρχικά μία κλάση ``Person`` που θα \"ορίζει\" έναν άνθρωπο. Ας αναλογιστούμε λίγο τι σημαίνει αυτό: ένας άνθρωπος μπορεί να περιγραφεί από μία σειρά από ιδιότητες που τον χαρακτηρίζουν και τον κάνουν να ξεχωρίζει από κάθε άλλον άνθρωπο (π.χ. όνομα, ηλικία, ύψος, επάγγελμα κτλ).\n",
    "\n",
    "Για να ορίσουμε λοιπόν ένα μέλος αυτής της κλάσης θα πρέπει να γνωρίζουμε κάποιες από αυτές τις ιδιότητές του που θα μας επιτρέπουν να το διαχωρίζουμε από ένα άλλο μέλος της κλάσης. Για να αρχικοποιήσουμε λοιπόν ένα τέτοιο μέλος της κλάσης ``Person`` αποφασίζουμε ότι θέλουμε να γνωρίσουμε *τουλάχιστον* το **όνομα** και το **επίθετο** του ανθρώπου. Η επιλογή αυτή είναι τελείως αυθαίρετη φυσικά αλλά όχι παράλογη. Στη συνέχεια μπορούμε να προσδώσουμε στο αντικείμενο περισσότερες ιδιότητες όπως θα δούμε.\n",
    "\n",
    "> Η αρχικοποίηση ενός αντικείμενου γίνεται με την έμμεση κλήση μίας ειδικής συνάρτησης που ονομάζεται ``__init__``. Αυτή η συνάρτηση εκτελείται στο παρασκήνιο όταν δημιουργούμε ένα νέο αντικείμενο που ανήκει σε κάποια κλάση. Σε άλλες γλώσσες προγραμματισμού όπως η C++ και η Java αναφέρεται ως **\"constructor\"**. Το double underscore (ή dunder) μπροστά και πίσω από το όνομα της συνάρτησης είναι μία σύμβαση ονομασίας στην Python που σημαίνει ότι η συνάρτηση αυτή **δεν** θα πρέπει να καλείται **απευθείας από τον χρήστη** (δες παρακάτω το κομμάτι της ενθυλάκωσης). Αντίθετα, η κλήση της γίνεται *εσωτερικά* από την ίδια την κλάση όταν επιχειρείται μία συγκεκριμένη ενέργεια (όπως η δημιουργία ενός αντικειμένου της κλάσης)."
   ]
  },
  {
   "cell_type": "code",
   "execution_count": 3,
   "id": "d1200ceb",
   "metadata": {},
   "outputs": [],
   "source": [
    "class Person:\n",
    "    \n",
    "    # This is the constructor\n",
    "    def __init__(self, first_name, last_name):\n",
    "        self.first = first_name\n",
    "        self.last = last_name"
   ]
  },
  {
   "cell_type": "code",
   "execution_count": 4,
   "id": "43265ee0",
   "metadata": {},
   "outputs": [
    {
     "name": "stdout",
     "output_type": "stream",
     "text": [
      "Help on class Person in module __main__:\n",
      "\n",
      "class Person(builtins.object)\n",
      " |  Person(first_name, last_name)\n",
      " |  \n",
      " |  Methods defined here:\n",
      " |  \n",
      " |  __init__(self, first_name, last_name)\n",
      " |      Initialize self.  See help(type(self)) for accurate signature.\n",
      " |  \n",
      " |  ----------------------------------------------------------------------\n",
      " |  Data descriptors defined here:\n",
      " |  \n",
      " |  __dict__\n",
      " |      dictionary for instance variables (if defined)\n",
      " |  \n",
      " |  __weakref__\n",
      " |      list of weak references to the object (if defined)\n",
      "\n"
     ]
    }
   ],
   "source": [
    "help(Person)"
   ]
  },
  {
   "cell_type": "code",
   "execution_count": 5,
   "id": "448bfef0",
   "metadata": {},
   "outputs": [
    {
     "name": "stdout",
     "output_type": "stream",
     "text": [
      "<__main__.Person object at 0x7fa0c9840ca0>\n",
      "Joe\n",
      "Doe\n"
     ]
    }
   ],
   "source": [
    "person1 = Person(\"Joe\", \"Doe\")\n",
    "\n",
    "print(person1) # Not very informative. Just returns the memory address\n",
    "                # where this object is saved.\n",
    "\n",
    "print(person1.first)\n",
    "print(person1.last)"
   ]
  },
  {
   "cell_type": "markdown",
   "id": "54c50eb1",
   "metadata": {},
   "source": [
    "Έχοντας δημιουργήσει την κλάση μας, κατασκευάσαμε ένα νέο αντικείμενο της κλάσης το οποίο ονομάσαμε \"person1\" για το οποίο έπρεπε αναγκαστικά να δώσουμε δύο ορίσματα: το όνομα και το επίθετο της επαφής (σε αντίθεση με την κλάση ``Pet`` όπου δεν ορίσαμε πως πρέπει να αρχικοποιηθεί ένα αντικείμενο αυτής της κλάσης).\n",
    "\n",
    "Υπενθυμίζουμε ότι το αντικείμενο \"person1\" αναφερέται ως **στιγμιότυπο** (instance) της κλάσης ``Person``, ενώ οι μεταβλητές ``first`` και ``last`` που χρησιμοποιήσαμε αναφέρονται ως **\"instance variables\"**. Επειδή είναι μεταβλητές, δεν παίρνουν κάποιο όρισμα και άρα καλούνται χωρίς την χρήση παρενθέσεων.\n",
    "\n",
    "\n",
    "Παρατηρείστε ότι στον ορισμό του constructor χρησιμοποιήσαμε μία ακόμα μεταβλητή με το όνομα **``\"self\"``**. Αυτή **αναφέρεται στο  συγκεκριμένο αντικείμενο που θα δημιουργηθεί** όταν κληθεί η συνάρτηση (στη συγκεκριμένη περίπτωση είναι το \"person1\") και δίνεται πάντα ως το πρώτο argument. Δεν είναι απαραίτητο να χρησιμοποιήσετε το όνομα \"self\" για να αναφερθείτε στο αντικείμενο που θα δημιουργηθεί αλλά αυτή είναι η σύμβαση που χρησιμοποιείται διεθνώς και σας συμβουλεύουμε να μείνετε πιστοί σε αυτή ώστε ο κώδικας σας να είναι εύκολα κατονοητός από όλους."
   ]
  },
  {
   "attachments": {
    "trailing_underscore_example.png": {
     "image/png": "[encoded data removed]"
    }
   },
   "cell_type": "markdown",
   "id": "f840e661",
   "metadata": {},
   "source": [
    "## 7.2 Ενθυλάκωση\n",
    "\n",
    "Η ιδέα του να ενσωματώνουμε δεδομένα και συναρτήσεις που δρουν πάνω σε αυτά τα δεδομένα, μέσα σε μία δομή, ονομάζεται **ενθυλάκωση** (encapsulation) και οι κλάσεις είναι ένα τέτοιο παράδειγμα.\n",
    "\n",
    "Η ενθυλάκωση αποτελεί μία θεμελίωδη έννοια στον αντικειμενοστρεφή προγραμματισμό και θέτει περιορισμούς στην **άμεση** πρόσβαση μεταβλητών και μεθόδων με σκοπό να αποτραπεί κάποια μη-ηθελημένη αλλαγή στα δεδομένα.\n",
    "\n",
    "Σε γλώσσες προγραμματισμού όπως η ``C++`` και η ``Java`` θα συναντήσει κανείς τις έννοιες ``private``, ``public`` και ``protected`` για διάφορα μέλη μιας κλάσης, που καθορίζουν αν το συγκεκριμένο μέλος μπορεί να είναι προσβάσιμο **εκτός** της κλάσης ή πρέπει να χρησιμοποιείται αποκλειστικά μέσα στην κλάση στην οποία έχει οριστεί. \n",
    "\n",
    "Στην Python δεν υπάρχει πραγματική επιβολή αυτού του κανόνα και τα πάντα είναι θεωρητικά προσβάσιμα. Όμως, υπάρχει μία συγκεκριμένη σύμβαση ονοματοδοσίας για τις μεταβλητές και τις συναρτήσεις που δημιουργούμε μέσα σε μία κλάση, που φανερώνει την πρόθεση του προγραμματιστή για το πως θα πρέπει να χρησιμοποιούνται. Έτσι, έχουμε τις παρακάτω συμβάσεις:\n",
    "\n",
    "\n",
    "- **Single trailing underscore**: Μία μονή κάτω παύλα *πίσω* από το όνομα κάποιας μεταβλητής χρησιμοποιείται για την αποφυγή διενέξεων με δεσμευμένες λέξεις από την Python. Όταν το πιο κατάλληλο όνομα για μια μεταβλητή υπάρχει ήδη ως δεσμευμένη λέξη, αυτή η σύμβαση χρησιμοποιείται για να λύσει το πρόβλημα. Ένα τυπικό παράδειγμα είναι αν θέλαμε να χρησιμοποιήσουμε ως όνομα μίας μεταβλητής την λέξη ``class``, που φυσικά είναι δεσμευμένη λέξη από την Python. Αντ' αυτού θα μπορούσε να χρησιμοποιήσει κανείς ως όνομα το ``class_``. \n",
    "\n",
    "![trailing_underscore_example.png](attachment:trailing_underscore_example.png)\n",
    "\n",
    "\n",
    "- **Single leading underscore (protected member)**: Μία μονή κάτω παύλα *μπροστά* από το όνομα κάποιας μεταβλητής ή συνάρτησης υποδηλώνει ότι αυτή *δεν* θα πρέπει να καλείται εκτός της κλάσης, αλλά μπορεί να καλείται μέσα στην ίδια κλάση ή από υποκλάσεις της.\n",
    "\n",
    "    - ``._semiprivate_variable``\n",
    "    - ``._semiprivate_function()``\n",
    "    \n",
    "    \n",
    "    \n",
    "    \n",
    "- **Double leading underscores (private member)**: Μία διπλή κάτω παύλα *μπροστά* από το όνομα κάποιας μεταβλητής ή συνάρτησης υποδηλώνει ότι αυτή *δεν* θα πρέπει να καλείται εκτός της κλάσης, αλλά μπορεί να καλείται μέσα στην ίδια κλάση. \n",
    "\n",
    "    - ``.__private_variable``\n",
    "    - ``.__private_function()``\n",
    "   \n",
    "  Στην πραγματικότητα, επειδή κάποιος μπορεί να έχει πρόσβαση σε αυτά τα μέλη αν πραγματικά το θέλει, αυτή η σύμβαση χρησιμοποίεται για την αποφυγή *ακούσιας* πρόσβασης στο συγκεκριμένο μέλος. Αυτό επιτυγχάνεται με την μετονομασία του συγκεκριμένου μέλους προσθέτοντας το όνομα της κλάσης μπροστά από το όνομα του μέλους ([name mangling](https://en.wikipedia.org/wiki/Name_mangling)). Έτσι, αν η κλάση μας ονομάζονταν ``Foo``, τότε τα παραπάνω μέλη θα μπορούσαν να κληθούν με το όνομα ``_Foo__private_variable`` και ``_Foo__private_function()``, αλλά όχι απλά ως ``__private_variable`` και ``__private_function()``.\n",
    "   \n",
    "   \n",
    "   \n",
    "   \n",
    "- **Double leading and trailing underscores**: Αυτή η ονοματοδοσία δηλώνει συγκεκριμένα \"ειδικά\" μέλη της κλάσης και είναι δεσμευμένα για χρήση από την ίδια την Python. Καλό είναι να μην χρησιμοποιείτε δικά σας ονόματα με αυτόν τον τρόπο.\n",
    "\n",
    "    - ``__init__``\n",
    "    - ``__str__``\n",
    "    - ``__len__``\n",
    "    - etc\n",
    "  \n",
    "  \n",
    "  \n",
    "    \n",
    "- Ο,τιδήποτε άλλο θεωρείται ``public`` και μπορεί να χρησιμοποιηθεί εκτός της κλάσης.\n",
    "\n",
    "\n",
    "Για περισσότερες πληροφορίες και παραδείγματα όσον αφορά τις συμβάσεις ονοματοδοσίας δείτε [εδώ](https://medium.com/python-features/naming-conventions-with-underscores-in-python-791251ac7097)."
   ]
  },
  {
   "cell_type": "markdown",
   "id": "bbb0865e",
   "metadata": {},
   "source": [
    "Στο παρακάτω παράδειγμα ξαναγράφουμε την κλάση ``Person`` κάνοντας χρήση public, private και protected ιδιοτήτων."
   ]
  },
  {
   "cell_type": "code",
   "execution_count": 6,
   "id": "15d95576",
   "metadata": {},
   "outputs": [
    {
     "name": "stdout",
     "output_type": "stream",
     "text": [
      "555-1234\n",
      "Joe\n",
      "Doe\n"
     ]
    },
    {
     "ename": "AttributeError",
     "evalue": "'Person' object has no attribute '__age'",
     "output_type": "error",
     "traceback": [
      "\u001b[0;31m---------------------------------------------------------------------------\u001b[0m",
      "\u001b[0;31mAttributeError\u001b[0m                            Traceback (most recent call last)",
      "\u001b[0;32m/var/folders/y6/62tg_s5s7536r0lp1mks4jl80000gn/T/ipykernel_10790/2155390068.py\u001b[0m in \u001b[0;36m<module>\u001b[0;34m\u001b[0m\n\u001b[1;32m     28\u001b[0m \u001b[0;31m# This means __age is refered as _Person__age, making hard to accidently\u001b[0m\u001b[0;34m\u001b[0m\u001b[0;34m\u001b[0m\u001b[0m\n\u001b[1;32m     29\u001b[0m \u001b[0;31m# access this variable, due to name conflicts, unless you really want to.\u001b[0m\u001b[0;34m\u001b[0m\u001b[0;34m\u001b[0m\u001b[0m\n\u001b[0;32m---> 30\u001b[0;31m \u001b[0mprint\u001b[0m\u001b[0;34m(\u001b[0m\u001b[0ms\u001b[0m\u001b[0;34m.\u001b[0m\u001b[0m__age\u001b[0m\u001b[0;34m)\u001b[0m\u001b[0;34m\u001b[0m\u001b[0;34m\u001b[0m\u001b[0m\n\u001b[0m",
      "\u001b[0;31mAttributeError\u001b[0m: 'Person' object has no attribute '__age'"
     ]
    }
   ],
   "source": [
    "class Person:\n",
    "    \n",
    "    # This is the constructor\n",
    "    def __init__(self, first_name, last_name, age, phone):\n",
    "        \n",
    "        # Make first and last name protected members\n",
    "        self._first = first_name\n",
    "        self._last = last_name\n",
    "        \n",
    "        # Make age a private member\n",
    "        self.__age = age\n",
    "        \n",
    "        # This instance variable is public\n",
    "        self.phone = phone\n",
    "        \n",
    "        \n",
    "s = Person(\"Joe\", \"Doe\", 30, \"555-1234\")\n",
    "\n",
    "# We can access public attributes with no issues\n",
    "print(s.phone)\n",
    "\n",
    "# You can still access protected attributes but you SHOULDN'T. \n",
    "# They are accessible because they are only hidden by convention\n",
    "print(s._first)\n",
    "print(s._last)\n",
    "\n",
    "# __age isn't found because it no longer exists due to name mangling.\n",
    "# This means __age is refered as _Person__age, making hard to accidently\n",
    "# access this variable, due to name conflicts, unless you really want to.\n",
    "print(s.__age)"
   ]
  },
  {
   "cell_type": "code",
   "execution_count": 7,
   "id": "1bcba8f4",
   "metadata": {},
   "outputs": [
    {
     "name": "stdout",
     "output_type": "stream",
     "text": [
      "['_Person__age', '__class__', '__delattr__', '__dict__', '__dir__', '__doc__', '__eq__', '__format__', '__ge__', '__getattribute__', '__gt__', '__hash__', '__init__', '__init_subclass__', '__le__', '__lt__', '__module__', '__ne__', '__new__', '__reduce__', '__reduce_ex__', '__repr__', '__setattr__', '__sizeof__', '__str__', '__subclasshook__', '__weakref__', '_first', '_last', 'phone']\n",
      "30\n"
     ]
    }
   ],
   "source": [
    "# ... but can be still accessed if we use the name of the class\n",
    "print(dir(s))\n",
    "print(s._Person__age)"
   ]
  },
  {
   "cell_type": "markdown",
   "id": "b9a66b47",
   "metadata": {},
   "source": [
    "## 7.3 Μέθοδοι κλάσης"
   ]
  },
  {
   "cell_type": "markdown",
   "id": "ece9bce0",
   "metadata": {},
   "source": [
    "Όταν δημιουργούμε μία κλάση αντικειμένων, το πιο πιθανό είναι να θέλουμε να αλληλεπιδράσουμε με τα δεδομένα που θα περιέχουν. Για να το κάνουμε αυτό μπορούμε να κατασκευάσουμε κάποιες συναρτήσεις που να επιτελούν κάποια λειτουργία στα αντικείμενα της κλάσης. Οι συναρτήσεις που αποτελούν μέρος μίας κλάσης ονομάζονται **μέθοδοι** (methods) και μας επιτρέπουν να αλληλεπιδρούμε με τις μεταβλητές της κλάσης.\n",
    "\n",
    "Για μία κλάση που διαχειρίζεται τις επαφές μας, θα θέλαμε να έχει για παράδειγμα την λειτουργικότητα να μπορούμε να αλλάξουμε το τηλέφωνο της επαφής (σε περίπτωση που η επαφή μας αλλάξει αριθμό) ή και να προσθέσουμε περισσότερα δεδομένα για την επαφή μας από αυτά που χρησιμοποιήθηκαν για την αρχικοποίησή της (π.χ. email, διεύθυνση κτλ).\n",
    "\n",
    "Επίσης θα θέλαμε προφανώς να μπορούμε να έχουμε πρόσβαση σε αυτές τις πληροφορίες που αποτελούν την επαφή μας ή και να ξέρουμε το σύνολο των επαφών μας.\n",
    "\n",
    "Ας δούμε πως μπορούμε να προσθέσουμε κάποιες από αυτές τις λειτουργίες στην κλάση μας.\n",
    "\n",
    "**Σημείωση:** Ίσως πρόσέξατε ότι όταν ορίσαμε την κλάση ``Person`` στο παρακάτω κελί, δίπλα στο όνομα της κλάσης προσθέσαμε ένα ζευγάρι παρενθέσεων με το keyword ``object`` μέσα σε αυτές. Αυτό δεν είναι απαραίτητο (όπως φάνηκε και στα παραδείγματα παραπάνω) αλλά ο λόγος θα γίνει κατανοητός παρακάτω όταν μιλήσουμε για την κληρονομικότητα των κλάσεων. Για να μορφοποιήσουμε το output που μας δίνει η κλάση \"object\" και να το φέρουμε σε μία μορφή πιο φιλική για το συγκεκριμένο πρόβλημα όταν προσπαθούμε να εκτυπώσουμε ένα αντικείμενο θα χρησιμοποιήσουμε μία ακόμα ειδική μέθοδο, την ``__str__`` που καθορίζει πως και τι θα εμφανίζεται όταν εκτυπώνουμε ένα αντικείμενο αυτής της κλάσης."
   ]
  },
  {
   "cell_type": "code",
   "execution_count": 8,
   "id": "3c44030f",
   "metadata": {},
   "outputs": [],
   "source": [
    "class Person(object):\n",
    "    \n",
    "    \"\"\"\n",
    "        This class defines a Person in terms of a\n",
    "        first name, last name, phone number, and email\n",
    "    \"\"\"\n",
    "   \n",
    "    # This is the constructor of an instance\n",
    "    def __init__(self, first_name, last_name, phone_number=None, email=None):\n",
    "        \"\"\"Initializes an instance of the class\"\"\"\n",
    "        self._first = first_name\n",
    "        self._last = last_name\n",
    "        self._phone = phone_number\n",
    "        self._email = email\n",
    "        \n",
    "        \n",
    "    # This method is to overwrite the string output\n",
    "    # of the main object class\n",
    "    def __str__(self):\n",
    "        \"\"\"Returns a description of the instance\"\"\"\n",
    "        \n",
    "        return f\"Person[\\n\\\n",
    "                 name: {self._first} {self._last}, \\n\\\n",
    "                 phone: {self._phone}, \\n\\\n",
    "                 email: {self._email}\\n\\\n",
    "                ]\"\n",
    "        \n",
    "        \n",
    "        \n",
    "        \n",
    "    # Mutator methods (setters)\n",
    "    def set_first_name(self, new_name):\n",
    "        \"\"\"Set the first name of an instance\"\"\"\n",
    "        self._first = new_name\n",
    "        return None\n",
    "    \n",
    "    def set_last_name(self, new_name):\n",
    "        \"\"\"Set the last name of an instance\"\"\"\n",
    "        self._last = new_name\n",
    "        return None\n",
    "    \n",
    "    def set_phone(self, new_number):\n",
    "        \"\"\"Set the phone number of an instance\"\"\"\n",
    "        self._phone = new_number\n",
    "        return None\n",
    "    \n",
    "    def set_email(self, email):\n",
    "        \"\"\"Set the email address of an instance\"\"\"\n",
    "        self._email = email\n",
    "        return None\n",
    "\n",
    "    \n",
    "    \n",
    "    # Accessor methods (getters)\n",
    "    def get_first_name(self):\n",
    "        \"\"\"Returns the first name of an instance\"\"\"\n",
    "        return self._first\n",
    "    \n",
    "    def get_last_name(self):\n",
    "        \"\"\"Returns the last name of an instance\"\"\"\n",
    "        return self._last\n",
    "    \n",
    "    def get_phone(self):\n",
    "        \"\"\"Returns the phone number of an instance\"\"\"\n",
    "        return self._phone\n",
    "    \n",
    "    def get_email(self):\n",
    "        \"\"\"Returns the email address of an instance\"\"\"\n",
    "        return self._email\n",
    "    \n",
    "    def get_full_name(self):\n",
    "        \"\"\"Returns the full name of an instance\"\"\"\n",
    "        return f\"{self._first} {self._last}\""
   ]
  },
  {
   "cell_type": "markdown",
   "id": "17d921ae",
   "metadata": {},
   "source": [
    "### Sanity Checks"
   ]
  },
  {
   "cell_type": "code",
   "execution_count": 9,
   "id": "4af5d1ab",
   "metadata": {},
   "outputs": [
    {
     "name": "stdout",
     "output_type": "stream",
     "text": [
      "Person[\n",
      "                 name: Savvas Chanlaridis, \n",
      "                 phone: 2810394239, \n",
      "                 email: None\n",
      "                ]\n",
      "Person[\n",
      "                 name: Elias Kyritsis, \n",
      "                 phone: 2810394256, \n",
      "                 email: ekyritsis@physics.uoc.gr\n",
      "                ]\n",
      "Person[\n",
      "                 name: Nikos Mandarakas, \n",
      "                 phone: 2810394236, \n",
      "                 email: None\n",
      "                ]\n",
      "Savvas Chanlaridis\n",
      "Elias Kyritsis\n",
      "Nikos Mandarakas\n",
      "schanlaridis@physics.uoc.gr\n",
      "ekyritsis@physics.uoc.gr\n"
     ]
    }
   ],
   "source": [
    "# Create some new persons\n",
    "person1 = Person(\"Savvas\", \"Chanlaridis\", 2810394239)\n",
    "person2 = Person(\"Elias\", \"Kyritsis\", 2810394256, email=\"ekyritsis@physics.uoc.gr\")\n",
    "person3 = Person(\"Nikos\", \"Mandarakas\", 2810394236)\n",
    "\n",
    "print(person1) # Compare this output with the person1 example above\n",
    "print(person2)\n",
    "print(person3)\n",
    "\n",
    "print(person1.get_full_name())\n",
    "print(person2.get_full_name())\n",
    "print(person3.get_full_name())\n",
    "\n",
    "# Set an email address for a person\n",
    "person1.set_email(\"schanlaridis@physics.uoc.gr\")\n",
    "\n",
    "\n",
    "\n",
    "# and the access it\n",
    "print(person1.get_email())\n",
    "print(person2.get_email())\n",
    "# print(person3.get_email()) # This won't work since we haven't defined an email attribute\n",
    "                             # for that person"
   ]
  },
  {
   "cell_type": "code",
   "execution_count": 10,
   "id": "aa560884",
   "metadata": {},
   "outputs": [
    {
     "name": "stdout",
     "output_type": "stream",
     "text": [
      "Help on Person in module __main__ object:\n",
      "\n",
      "class Person(builtins.object)\n",
      " |  Person(first_name, last_name, phone_number=None, email=None)\n",
      " |  \n",
      " |  This class defines a Person in terms of a\n",
      " |  first name, last name, phone number, and email\n",
      " |  \n",
      " |  Methods defined here:\n",
      " |  \n",
      " |  __init__(self, first_name, last_name, phone_number=None, email=None)\n",
      " |      Initializes an instance of the class\n",
      " |  \n",
      " |  __str__(self)\n",
      " |      Returns a description of the instance\n",
      " |  \n",
      " |  get_email(self)\n",
      " |      Returns the email address of an instance\n",
      " |  \n",
      " |  get_first_name(self)\n",
      " |      Returns the first name of an instance\n",
      " |  \n",
      " |  get_full_name(self)\n",
      " |      Returns the full name of an instance\n",
      " |  \n",
      " |  get_last_name(self)\n",
      " |      Returns the last name of an instance\n",
      " |  \n",
      " |  get_phone(self)\n",
      " |      Returns the phone number of an instance\n",
      " |  \n",
      " |  set_email(self, email)\n",
      " |      Set the email address of an instance\n",
      " |  \n",
      " |  set_first_name(self, new_name)\n",
      " |      Set the first name of an instance\n",
      " |  \n",
      " |  set_last_name(self, new_name)\n",
      " |      Set the last name of an instance\n",
      " |  \n",
      " |  set_phone(self, new_number)\n",
      " |      Set the phone number of an instance\n",
      " |  \n",
      " |  ----------------------------------------------------------------------\n",
      " |  Data descriptors defined here:\n",
      " |  \n",
      " |  __dict__\n",
      " |      dictionary for instance variables (if defined)\n",
      " |  \n",
      " |  __weakref__\n",
      " |      list of weak references to the object (if defined)\n",
      "\n"
     ]
    }
   ],
   "source": [
    "# See the available methods and attributes \n",
    "# for this object\n",
    "help(person1)\n",
    "\n",
    "# Also works with the class name\n",
    "# print(Person)"
   ]
  },
  {
   "cell_type": "markdown",
   "id": "234855c4",
   "metadata": {},
   "source": [
    "<div class=\"alert alert-block alert-warning\" style=\"margin-top: 20px\">\n",
    "    <b>Παράδειγμα 7.1</b>\n",
    "  \n",
    "Συμπληρώστε κατάλληλα την παρακάτω κλάση και τεστάρετε το αποτέλεσμα του κώδικά σας στα παρακάτω κελιά."
   ]
  },
  {
   "cell_type": "code",
   "execution_count": null,
   "id": "1db2ad11",
   "metadata": {},
   "outputs": [],
   "source": [
    "class Cylinder:\n",
    "    \n",
    "    def __init__(self,height=1,radius=1):\n",
    "        pass\n",
    "        \n",
    "    def volume(self):\n",
    "        pass\n",
    "    \n",
    "    def surface_area(self):\n",
    "        pass"
   ]
  },
  {
   "cell_type": "code",
   "execution_count": null,
   "id": "bc573ad6",
   "metadata": {},
   "outputs": [],
   "source": [
    "# EXAMPLE OUTPUT\n",
    "c = Cylinder(2,3)"
   ]
  },
  {
   "cell_type": "code",
   "execution_count": null,
   "id": "80e63d86",
   "metadata": {},
   "outputs": [],
   "source": [
    "c.volume()"
   ]
  },
  {
   "cell_type": "code",
   "execution_count": null,
   "id": "ffd85887",
   "metadata": {},
   "outputs": [],
   "source": [
    "c.surface_area()"
   ]
  },
  {
   "cell_type": "markdown",
   "id": "3b939b9f",
   "metadata": {},
   "source": [
    "<div class=\"alert alert-danger alertdanger\" style=\"margin-top: 20px\">\n",
    "<details>\n",
    "    \n",
    "<b><summary>Λύση (click here to expand)</summary></b>\n",
    "    \n",
    "```python\n",
    "class Cylinder:\n",
    "    \n",
    "    # class attribute\n",
    "    PI = 3.14\n",
    "    \n",
    "    def __init__(self,height=1,radius=1):\n",
    "        self.height = height\n",
    "        self.radius = radius\n",
    "        \n",
    "    def volume(self):\n",
    "        return Cylinder.PI * self.radius**2 * self.height\n",
    "    \n",
    "    def surface_area(self):\n",
    "        pi = 3.14\n",
    "        return (2*Cylinder.PI*self.radius*self.height) + (2*Cylinder.PI*self.radius**2)\n",
    "```\n",
    "    \n",
    "</details>"
   ]
  },
  {
   "cell_type": "markdown",
   "id": "d4dfd28b",
   "metadata": {},
   "source": [
    "<div class=\"alert alert-block alert-warning\" style=\"margin-top: 20px\">\n",
    "    <b>Παράδειγμα 7.2</b>\n",
    "    \n",
    "Συμπληρώστε την παρακάτω κλάση κατάλληλα ώστε να δέχεται συντεταγμένες ως ζευγάρι πλειάδων. Η κλάση θα περιέχει δύο μεθόδους που θα υπολογίζουν την απόσταση και την κλίση της ευθείας."
   ]
  },
  {
   "cell_type": "code",
   "execution_count": null,
   "id": "26e5cf82",
   "metadata": {},
   "outputs": [],
   "source": [
    "class Line:\n",
    "    \n",
    "    def __init__(self,coor1,coor2):\n",
    "        pass\n",
    "    \n",
    "    def distance(self):\n",
    "        pass\n",
    "    \n",
    "    def slope(self):\n",
    "        pass"
   ]
  },
  {
   "cell_type": "code",
   "execution_count": null,
   "id": "65a90e94",
   "metadata": {},
   "outputs": [],
   "source": [
    "# EXAMPLE OUTPUT\n",
    "\n",
    "coordinate1 = (3,2)\n",
    "coordinate2 = (8,10)\n",
    "\n",
    "li = Line(coordinate1,coordinate2)"
   ]
  },
  {
   "cell_type": "code",
   "execution_count": null,
   "id": "23668f4d",
   "metadata": {},
   "outputs": [],
   "source": [
    "li.distance()"
   ]
  },
  {
   "cell_type": "code",
   "execution_count": null,
   "id": "9b67d2b9",
   "metadata": {},
   "outputs": [],
   "source": [
    "li.slope()"
   ]
  },
  {
   "cell_type": "markdown",
   "id": "7279b12c",
   "metadata": {},
   "source": [
    "<div class=\"alert alert-danger alertdanger\" style=\"margin-top: 20px\">\n",
    "<details>\n",
    "    \n",
    "<b><summary>Λύση (click here to expand)</summary></b>\n",
    "    \n",
    "```python\n",
    "class Line:\n",
    "    \n",
    "    def __init__(self,coor1,coor2):\n",
    "        self.coor1 = coor1\n",
    "        self.coor2 = coor2\n",
    "    \n",
    "    def distance(self):\n",
    "        # Unpack the tupled for convenience\n",
    "        x1,y1 = self.coor1\n",
    "        x2,y2 = self.coor2\n",
    "        return ((x2 - x1)**2 + (y2 - y1)**2)**0.5\n",
    "    \n",
    "    def slope(self):\n",
    "        # Unpack the tupled for convenience\n",
    "        x1,y1 = self.coor1\n",
    "        x2,y2 = self.coor2\n",
    "        return (y2 - y1) / (x2 - x1)\n",
    "```\n",
    "    \n",
    "</details>"
   ]
  },
  {
   "cell_type": "markdown",
   "id": "492a1989",
   "metadata": {},
   "source": [
    "<div class=\"alert alert-block alert-warning\" style=\"margin-top: 20px\">\n",
    "    <b>Παράδειγμα 7.3</b>\n",
    "    \n",
    "Παρόμοια με την κλάση ``Cylinder`` του παραδείγματος 7.1, φτιάξτε μία κλάση ``Circle`` με τα εξής χαρακτηριστικά:\n",
    "    \n",
    "    \n",
    "* Το κάθε αντικείμενο θα μπορεί να αρχικοποιείται για μια τιμή της ακτίνας του. Αν δεν αρχικοποιηθεί με κάποια συγκεκριμένη τιμή, τότε το αντικείμενο θα είναι ο μοναδιαίος κύκλος με ακτίνα ίση με τη μονάδα. \n",
    "    \n",
    "    \n",
    "* Όταν αρχικοποιείται ένα αντικείμενο της κλάσης (όταν καλείται ο constructor δηλαδή) εκτός από την ακτίνα, θα υπολογίζεται και η επιφάνεια του κύκλου. Άρα, με την δημιουργία του αντικειμένου θα πρέπει να έχουμε πρόσβαση σε δύο instance variables: την ακτίνα, την οποία μπορούμε να την καθορίσουμε εμείς, και την επιφάνεια του κύκλου που υπολογίστηκε βάσει της τιμής της ακτίνας. \n",
    "    \n",
    "    \n",
    "* Φτιάξτε μία μέθοδο ``set_radius()`` όπου όταν καλείται θα επαναπροσδιορίζει την ακτίνα του κύκλου για το συγκεκριμένο αντικείμενο.\n",
    "    \n",
    "    \n",
    "* Φτιάξτε μία μέθοδο ``get_circumference()`` όπου θα επιστρέφει την περιφέρεια του κύκλου για το συγκεκριμένο αντικείμενο."
   ]
  },
  {
   "cell_type": "code",
   "execution_count": null,
   "id": "c112a96c",
   "metadata": {},
   "outputs": [],
   "source": [
    "# You can try it here"
   ]
  },
  {
   "cell_type": "markdown",
   "id": "9cc4e924",
   "metadata": {},
   "source": [
    "<div class=\"alert alert-danger alertdanger\" style=\"margin-top: 20px\">\n",
    "<details>\n",
    "    \n",
    "<b><summary>Λύση (click here to expand)</summary></b>\n",
    "    \n",
    "```python\n",
    "class Circle:\n",
    "    PI = 3.14\n",
    "\n",
    "    # Circle gets instantiated with a radius (default is 1)\n",
    "    def __init__(self, radius=1):\n",
    "        self.radius = radius \n",
    "        self.area = (radius**2) * Circle.PI\n",
    "\n",
    "    # Method for resetting Radius\n",
    "    def set_radius(self, new_radius):\n",
    "        self.radius = new_radius\n",
    "        self.area = (new_radius**2) * Circle.PI\n",
    "\n",
    "    # Method for getting Circumference\n",
    "    def get_circumference(self):\n",
    "        return self.radius * Circle.PI * 2\n",
    "```    \n",
    "\n",
    "```python\n",
    "# Test your class by initializing a default Circle object\n",
    "c = Circle()\n",
    "\n",
    "print('Radius is: ',c.radius)\n",
    "print('Area is: ',  c.area)\n",
    "print('Circumference is: ', c.get_circumference())\n",
    "    \n",
    " \n",
    "# Now let's change the radius and see how that affects our Circle object\n",
    "c.setRadius(2)\n",
    "\n",
    "print('Radius is: ',c.radius)\n",
    "print('Area is: ',c.area)\n",
    "print('Circumference is: ',c.get_circumference())\n",
    "```\n",
    "    \n",
    "</details>"
   ]
  },
  {
   "attachments": {
    "oop_example_output.png": {
     "image/png": "[encoded data removed]"
    }
   },
   "cell_type": "markdown",
   "id": "bd3c14e9",
   "metadata": {},
   "source": [
    "<div class=\"alert alert-block alert-warning\" style=\"margin-top: 20px\">\n",
    "    <b>Παράδειγμα 7.4</b>\n",
    "\n",
    "Σε αυτό το παράδειγμα, θέλουμε να φτιάξουμε μία κλάση για ένα λογαριασμό τράπεζας που έχει τις ακόλουθες δύο ιδιότητες:\n",
    "    \n",
    "- owner\n",
    "\n",
    "- balance\n",
    "    \n",
    "και τις ακόλουθες δύο μεθόδους:\n",
    "\n",
    "- deposit\n",
    "\n",
    "- withdraw\n",
    "    \n",
    "Σαν περιορισμό έχουμε ότι οι αναλήψεις δεν μπορούν να υπερβαίνουν το διαθέσιμο υπόλοιπο στον λογαριασμό.\n",
    "    \n",
    "Δημιουργήστε στιγμιότυπα της κλάσης σας, κάντε μερικές καταθέσεις/αναλήψεις και τεστάρετε ότι ο λογαριασμός λειτουργεί όπως περιμένατε.\n",
    "    \n",
    "    \n",
    "</div>\n",
    "\n",
    "\n",
    "Το αναμενόμενο αποτέλεσμα του κώδικα σας είναι παρόμοιο με αυτό:\n",
    "<br><br>\n",
    "<div>\n",
    "    <img src=\"attachment:oop_example_output.png\" width=800 />\n",
    "</div>"
   ]
  },
  {
   "cell_type": "code",
   "execution_count": null,
   "id": "d215303b",
   "metadata": {},
   "outputs": [],
   "source": [
    "# You can try it here"
   ]
  },
  {
   "cell_type": "markdown",
   "id": "59d3e389",
   "metadata": {},
   "source": [
    "<div class=\"alert alert-danger alertdanger\" style=\"margin-top: 20px\">\n",
    "<details>\n",
    "    \n",
    "   <b><summary>Λύση (click here to expand)</summary></b>\n",
    "    \n",
    "```python \n",
    "class Account:\n",
    "    def __init__(self, owner, balance):\n",
    "        self.owner = owner\n",
    "        self.balance = balance\n",
    "        \n",
    "    def __str__(self):\n",
    "        return f\"Owner: {self.owner}\\nBalance: ${self.balance}\"\n",
    "        \n",
    "    def deposit(self, amount):\n",
    "        if amount > 0:\n",
    "            self.balance += amount\n",
    "            print(\"Deposit Accepted\")\n",
    "        else:\n",
    "            print(\"Deposit Denied\")\n",
    "            \n",
    "    def withdraw(self, amount):\n",
    "        if amount > self.balance:\n",
    "            print(\"Funds Unavailable!\")\n",
    "        else:\n",
    "            self.balance -= amount\n",
    "            print(\"Withdrawal Accepted\")\n",
    "```\n",
    "    \n",
    "</details>"
   ]
  },
  {
   "cell_type": "markdown",
   "id": "6b39eaa9",
   "metadata": {},
   "source": [
    "## 7.4 Υπερφόρτωση τελεστών (Operator overloading)\n",
    "\n",
    "Τι γίνεται αν προσπαθήσουμε να \"προσθέσουμε\" δύο αντικείμενα της κλάσης ``Person`` (δηλαδή να χρησιμοποιήσουμε τον τελεστή ``+`` μεταξύ δύο στιγμιοτύπων της κλάσης ``Person``); Προφανώς η έννοια της άθροισης όπως αυτή επιτελείται μεταξύ δύο αριθμητικών τύπων δεν ορίζεται σε αυτή την περίπτωση. Όμως ούτε η συνένωση, όπως συμβαίνει στην \"πρόσθεση\" δύο συμβολοσειρών, έχει νόημα."
   ]
  },
  {
   "cell_type": "code",
   "execution_count": 11,
   "id": "3c523941",
   "metadata": {},
   "outputs": [
    {
     "ename": "TypeError",
     "evalue": "unsupported operand type(s) for +: 'Person' and 'Person'",
     "output_type": "error",
     "traceback": [
      "\u001b[0;31m---------------------------------------------------------------------------\u001b[0m",
      "\u001b[0;31mTypeError\u001b[0m                                 Traceback (most recent call last)",
      "\u001b[0;32m/var/folders/y6/62tg_s5s7536r0lp1mks4jl80000gn/T/ipykernel_10790/2897614695.py\u001b[0m in \u001b[0;36m<module>\u001b[0;34m\u001b[0m\n\u001b[0;32m----> 1\u001b[0;31m \u001b[0mperson1\u001b[0m \u001b[0;34m+\u001b[0m \u001b[0mperson2\u001b[0m\u001b[0;34m\u001b[0m\u001b[0;34m\u001b[0m\u001b[0m\n\u001b[0m",
      "\u001b[0;31mTypeError\u001b[0m: unsupported operand type(s) for +: 'Person' and 'Person'"
     ]
    }
   ],
   "source": [
    "person1 + person2"
   ]
  },
  {
   "cell_type": "markdown",
   "id": "d7dd68ac",
   "metadata": {},
   "source": [
    "Θα μπορούσαμε όμως να προσδώσουμε μία νέα λειτουργία στον τελεστή ``+`` όταν αυτός χρησιμοποιείται μεταξύ δύο αντικειμένων της κλάσης ``Person``.\n",
    "\n",
    "Μία λογική (;) τέτοια λειτουργία θα μπορούσε να είναι η ενημέρωση της συζυγικής κατάστασης των δύο αυτών αντικειμένων.\n",
    "\n",
    "Η συνάρτηση που κρύβεται πίσω από τη λειτουργία του τελεστή ``+`` σε κάθε περίπτωση καθορίζεται από την ειδική συνάρτηση ``__add__``. Αντίστοιχα, η ειδική συνάρτηση ``__sub__`` υλοποιεί τον τρόπο λειτουργίας τους τελεστή ``-``. Τέτοιες ειδικές συναρτήσεις κρύβονται πίσω από την υλοποίηση κάθε τελεστή που χρησιμοποιούμε και η λειτουργία τους μπορεί να διαφέρει ανάλογα με το είδος του αντικειμένου πάνω στο οποίο δρα.\n",
    "\n",
    "Θα ξαναγράψουμε λοιπόν την κλάση ``Person`` προσθέτοντας αυτή τη λειτουργία ενώ θα την εμπλουτίσουμε και με ακόμα περισσότερες παραμέτρους ακολουθώντας την ίδια λογική με προηγουμένως. Η τελική κλάση που θα χρησιμοποιήσουμε φαίνεται στο παρακάτω κελί."
   ]
  },
  {
   "cell_type": "code",
   "execution_count": 12,
   "id": "9dbbff89",
   "metadata": {},
   "outputs": [],
   "source": [
    "class Person(object):\n",
    "    \n",
    "    \"\"\"\n",
    "                            DOCSTRING\n",
    "                              -----\n",
    "    \n",
    "        This class defines a Person object in terms of a\n",
    "        first name and a last name\n",
    "        \n",
    "        Parameters:\n",
    "        =================\n",
    "            - first_name  : str\n",
    "                            The first name of a person\n",
    "                            \n",
    "            - last_name   : str\n",
    "                            The last name of a person\n",
    "                            \n",
    "        Returns:\n",
    "        =================\n",
    "            - A Person object.\n",
    "        \n",
    "        Other parameters:\n",
    "        =================\n",
    "            **kwargs      : properties, optional\n",
    "            \n",
    "                -------------------------------------------------\n",
    "                       Property        |       Description\n",
    "                -------------------------------------------------\n",
    "                     - nickname            str or None\n",
    "                                           a nickname of an\n",
    "                                           instance\n",
    "                                   \n",
    "                     - occupation          str or None\n",
    "                                           the occupation of\n",
    "                                           an instance\n",
    "                                     \n",
    "                     - marital_status      str or None\n",
    "                                           the marital status\n",
    "                                           of an instance\n",
    "                                           \n",
    "                     - phone_number        int or None\n",
    "                                           the phone number of\n",
    "                                           an instance\n",
    "                                           \n",
    "                     - mobile_number       int or None\n",
    "                                           the mobile number of\n",
    "                                           an instance\n",
    "                                           \n",
    "                     - email               str or None\n",
    "                                           the email of an \n",
    "                                           instance\n",
    "                                           \n",
    "                     - address             str or None\n",
    "                                           the street address\n",
    "                                           of an instance\n",
    "                                           \n",
    "                     - website             str or None\n",
    "                                           the website url\n",
    "                                           of an instance\n",
    "                    \n",
    "    \"\"\"\n",
    "    \n",
    "    # This is the constructor of an instance\n",
    "    def __init__(self, first_name, last_name, **kwargs):\n",
    "        \"\"\"Initializes an instance of the class\"\"\"\n",
    "        self._first = first_name\n",
    "        self._last = last_name\n",
    "        self._nickname = kwargs.get('nickname')\n",
    "        self._occupation = kwargs.get('occupation')\n",
    "        self._marital = kwargs.get('marital_status')\n",
    "        self._phone = kwargs.get('phone_number')\n",
    "        self._mobile = kwargs.get('mobile_number')\n",
    "        self._email = kwargs.get('email')\n",
    "        self._address = kwargs.get('address')\n",
    "        self._website = kwargs.get('website')\n",
    "    \n",
    "    # This is the destructor of an instance\n",
    "    def __del__(self):\n",
    "        print(\"Person removed!\")\n",
    "        \n",
    "        \n",
    "    # This method overwrites the string output\n",
    "    # of the main object class\n",
    "    def __str__(self):\n",
    "        \"\"\"Returns the string representation of the instance\"\"\"\n",
    "        \n",
    "        return f\"Person[\\n\\\n",
    "                 Name: {self._first.capitalize()} {self._last.capitalize()}, \\n\\\n",
    "                 Occupation: {self._occupation}, \\n\\\n",
    "                 Marital status: {self._marital}, \\n\\\n",
    "                 Phone: {self._phone}, \\n\\\n",
    "                 Mobile: {self._mobile}, \\n\\\n",
    "                 Email: {self._email}, \\n\\\n",
    "                 Address: {self._address}, \\n\\\n",
    "                 Website: {self._website}\\n\\\n",
    "                ]\"\n",
    "    \n",
    "    # Implements the addition operator + in Python\n",
    "    def __add__(self, other):\n",
    "        \"\"\"It updates the marital status of the two instances.\n",
    "        \"\"\"\n",
    "        self._marital = f\"Married to {other.get_full_name()}\"\n",
    "        other._marital = f\"Married to {self.get_full_name()}\"\n",
    "        return None\n",
    "    \n",
    "    \n",
    "    # Implements the subtraction operator - in Python.\n",
    "    def __sub__(self, other):\n",
    "        \"\"\"It updates the marital status of the two instances.\n",
    "        \"\"\"\n",
    "        self._marital = f\"Divorced from {other.get_full_name()}\"\n",
    "        other._marital = f\"Divorced from {self.get_full_name()}\"\n",
    "        return None\n",
    "        \n",
    "        \n",
    "        \n",
    "        \n",
    "        \n",
    "    # Mutator methods (setters)\n",
    "    def set_first_name(self, new_name):\n",
    "        \"\"\"Set the first name of an instance\"\"\"\n",
    "        self._first = new_name\n",
    "        return None\n",
    "    \n",
    "    def set_last_name(self, new_name):\n",
    "        \"\"\"Set the last name of an instance\"\"\"\n",
    "        self._last = new_name\n",
    "        return None\n",
    "    \n",
    "    def set_nickname(self, new_nickname):\n",
    "        \"\"\"Set the nickname of an instance\"\"\"\n",
    "        self._nickname = new_nickname\n",
    "        return None\n",
    "    \n",
    "    def set_occupation(self, new_occupation):\n",
    "        \"\"\"Set the occupation of an instance\"\"\"\n",
    "        self._occupation = new_occupation\n",
    "        return None\n",
    "    \n",
    "    def set_marital_status(self, status):\n",
    "        \"\"\"Set the marital status of an instance\"\"\"\n",
    "        self._marital = status\n",
    "        return None\n",
    "    \n",
    "    def set_phone(self, new_number):\n",
    "        \"\"\"Set the phone number of an instance\"\"\"\n",
    "        self._phone = new_number\n",
    "        return None\n",
    "    \n",
    "    def set_mobile_phone(self, new_number):\n",
    "        \"\"\"Set the mobile phone number of an instance\"\"\"\n",
    "        self._mobile = new_number\n",
    "        return None\n",
    "    \n",
    "    def set_email(self, email):\n",
    "        \"\"\"Set the email address of an instance\"\"\"\n",
    "        self._email = email\n",
    "        return None\n",
    "    \n",
    "    def set_address(self, address):\n",
    "        \"\"\"Set the address of an instance\"\"\"\n",
    "        self._address = address\n",
    "        return None\n",
    "    \n",
    "    def set_website(self, new_website):\n",
    "        \"\"\"Set the website of an instance\"\"\"\n",
    "        self._address = new_website\n",
    "        return None\n",
    "    \n",
    "    \n",
    "    \n",
    "    # Accessor methods (getters)\n",
    "    def get_first_name(self):\n",
    "        \"\"\"Returns the first name of an instance\"\"\"\n",
    "        return self._first\n",
    "    \n",
    "    def get_last_name(self):\n",
    "        \"\"\"Returns the last name of an instance\"\"\"\n",
    "        return self._last\n",
    "    \n",
    "    def get_nickname(self):\n",
    "        \"\"\"Returns the nickname of an instance\"\"\"\n",
    "        return self._nickname\n",
    "    \n",
    "    def get_occupation(self):\n",
    "        \"\"\"Returns the occupation of an instance\"\"\"\n",
    "        return self._occupation\n",
    "    \n",
    "    def get_marital_status(self):\n",
    "        \"\"\"Returns the marital status of an instance\"\"\"\n",
    "        return self._marital\n",
    "    \n",
    "    def get_phone(self):\n",
    "        \"\"\"Returns the phone number of an instance\"\"\"\n",
    "        return self._phone\n",
    "    \n",
    "    def get_mobile_phone(self):\n",
    "        \"\"\"Returns the mobile phone number of an instance\"\"\"\n",
    "        return self._mobile\n",
    "    \n",
    "    def get_email(self):\n",
    "        \"\"\"Returns the email address of an instance\"\"\"\n",
    "        return self._email\n",
    "    \n",
    "    def get_address(self):\n",
    "        \"\"\"Returns the address of an instance\"\"\"\n",
    "        return self._address\n",
    "    \n",
    "    def get_website(self):\n",
    "        \"\"\"Returns the website of an instance\"\"\"\n",
    "        return self._website\n",
    "    \n",
    "    def get_full_name(self):\n",
    "        \"\"\"Returns the full name of an instance\"\"\"\n",
    "        return f\"{self._first.capitalize()} {self._last.capitalize()}\""
   ]
  },
  {
   "cell_type": "markdown",
   "id": "ddd999f3",
   "metadata": {},
   "source": [
    "### Sanity Checks"
   ]
  },
  {
   "cell_type": "code",
   "execution_count": 13,
   "id": "af37c707",
   "metadata": {},
   "outputs": [
    {
     "name": "stdout",
     "output_type": "stream",
     "text": [
      "Person[\n",
      "                 Name: Bob Smith, \n",
      "                 Occupation: None, \n",
      "                 Marital status: Single, \n",
      "                 Phone: None, \n",
      "                 Mobile: None, \n",
      "                 Email: bob.smith@email.com, \n",
      "                 Address: None, \n",
      "                 Website: None\n",
      "                ]\n",
      "Person[\n",
      "                 Name: Alice Brown, \n",
      "                 Occupation: Accountant, \n",
      "                 Marital status: Single, \n",
      "                 Phone: None, \n",
      "                 Mobile: None, \n",
      "                 Email: None, \n",
      "                 Address: None, \n",
      "                 Website: None\n",
      "                ]\n"
     ]
    }
   ],
   "source": [
    "s = Person(\"Bob\", \"Smith\", marital_status=\"Single\", mobile_phone=123456789, email=\"bob.smith@email.com\")\n",
    "a = Person(\"Alice\", \"Brown\", marital_status=\"Single\", occupation=\"Accountant\")\n",
    "\n",
    "print(s)\n",
    "print(a)"
   ]
  },
  {
   "cell_type": "code",
   "execution_count": 14,
   "id": "338d18f9",
   "metadata": {},
   "outputs": [
    {
     "name": "stdout",
     "output_type": "stream",
     "text": [
      "Person[\n",
      "                 Name: Bob Smith, \n",
      "                 Occupation: None, \n",
      "                 Marital status: Married to Alice Brown, \n",
      "                 Phone: None, \n",
      "                 Mobile: None, \n",
      "                 Email: bob.smith@email.com, \n",
      "                 Address: None, \n",
      "                 Website: None\n",
      "                ]\n",
      "Person[\n",
      "                 Name: Alice Brown, \n",
      "                 Occupation: Accountant, \n",
      "                 Marital status: Married to Bob Smith, \n",
      "                 Phone: None, \n",
      "                 Mobile: None, \n",
      "                 Email: None, \n",
      "                 Address: None, \n",
      "                 Website: None\n",
      "                ]\n"
     ]
    }
   ],
   "source": [
    "# Check the functionality of + operator\n",
    "_ = s + a\n",
    "\n",
    "print(s)\n",
    "print(a)"
   ]
  },
  {
   "cell_type": "code",
   "execution_count": 15,
   "id": "6c150696",
   "metadata": {},
   "outputs": [
    {
     "name": "stdout",
     "output_type": "stream",
     "text": [
      "Person[\n",
      "                 Name: Bob Smith, \n",
      "                 Occupation: None, \n",
      "                 Marital status: Divorced from Alice Brown, \n",
      "                 Phone: None, \n",
      "                 Mobile: None, \n",
      "                 Email: bob.smith@email.com, \n",
      "                 Address: None, \n",
      "                 Website: None\n",
      "                ]\n",
      "Person[\n",
      "                 Name: Alice Brown, \n",
      "                 Occupation: Accountant, \n",
      "                 Marital status: Divorced from Bob Smith, \n",
      "                 Phone: None, \n",
      "                 Mobile: None, \n",
      "                 Email: None, \n",
      "                 Address: None, \n",
      "                 Website: None\n",
      "                ]\n"
     ]
    }
   ],
   "source": [
    "# Check the functionality of - operator\n",
    "_ = s - a\n",
    "\n",
    "print(s)\n",
    "print(a)"
   ]
  },
  {
   "cell_type": "code",
   "execution_count": 16,
   "id": "b5339875",
   "metadata": {},
   "outputs": [
    {
     "name": "stdout",
     "output_type": "stream",
     "text": [
      "Person removed!\n"
     ]
    }
   ],
   "source": [
    "del s"
   ]
  },
  {
   "cell_type": "markdown",
   "id": "529925d6",
   "metadata": {},
   "source": [
    "<div class=\"alert alert-block alert-warning\" style=\"margin-top: 20px\">\n",
    "    <b>Παράδειγμα 7.5</b>\n",
    "\n",
    "Θέλουμε να φτιάξουμε μία κλάση όπου θα περιγράφει ένα κλάσμα.\n",
    "\n",
    "- Φτιάξτε μία κλάση ``Fraction`` όπου κάθε στιγμιότυπο της κλάσης θα αρχικοποιείται με δύο αριθμούς. Ο πρώτος θα είναι ο αριθμητής και ο δεύτερος αριθμός θα είναι ο παρονομαστής του κλάσματος.\n",
    "\n",
    "    \n",
    "- Όταν ο χρήστης προσπαθεί να εκτυπώσει ένα στιγμιότυπο της κλάσης, θα πρέπει να εμφανίζεται ένα κλάσμα με τον αριθμητή και τον παρονομαστή να διαχωρίζονται από μία οριζόντια γραμμή κλάσματος.\n",
    "\n",
    "    \n",
    "- Γράψτε ειδικές μεθόδους που θα επιστρέφουν το άθροισμα, τη διαφορά, το γινόμενο και το κλασμα σε μορφή πραγματικού αριθμού (``__add__``, ``__sub__``, ``__mul__``, ``__float__``). Το γινόμενο θα πρέπει να επιστρέφεται ως ένα στιγμιότυπο της κλάσης.\n",
    "\n",
    "    \n",
    "- Γράψτε μία δική σας μέθοδο ``inverse`` που θα επιστρέφει το αντίστροφο κλάσμα. Το αντίστροφο κλάσμα θα επιστρέφεται ως ένα στιγμιότυπο της κλάσης.\n",
    "    \n",
    "Η τελική σας κλάση θα πρέπει να περνάει τα τεστ που υπάρχουν στο επόμενο κελί."
   ]
  },
  {
   "cell_type": "code",
   "execution_count": null,
   "id": "fabdcafd",
   "metadata": {},
   "outputs": [],
   "source": [
    "# You can try it here"
   ]
  },
  {
   "cell_type": "code",
   "execution_count": null,
   "id": "8dcb94a5",
   "metadata": {},
   "outputs": [],
   "source": [
    "from io import StringIO\n",
    "from unittest import TestCase\n",
    "from unittest.mock import patch\n",
    "import numpy as np\n",
    "\n",
    "class TestFraction(TestCase):\n",
    "    \n",
    "    def assert_stdout(self):\n",
    "        expected_output = \"2\\n-\\n3\\n\"\n",
    "        try:\n",
    "            with patch('sys.stdout', new = StringIO()) as fake_out:\n",
    "                f = Fraction(2,3)\n",
    "                print(f)\n",
    "                self.assertEqual(fake_out.getvalue(), expected_output)\n",
    "        except AssertionError:\n",
    "            raise AssertionError(\"__str__ test failed\")\n",
    "        print(\"TEST 1 PASSED\")\n",
    "        \n",
    "    def assert_addition(self):\n",
    "        f1 = Fraction(2,3)\n",
    "        f2 = Fraction(1,4)\n",
    "        assert np.isclose(f1+f2,0.91666), \"__add__ test failed\"\n",
    "        print(\"TEST 2 PASSED\")\n",
    "        \n",
    "    def assert_subtraction(self):\n",
    "        f1 = Fraction(2,3)\n",
    "        f2 = Fraction(1,4)\n",
    "        assert np.isclose(f1-f2,0.416666), \"__sub__ test failed\"\n",
    "        print(\"TEST 3 PASSED\")\n",
    "        \n",
    "    def assert_multiplication(self):\n",
    "        expected_output = \"2\\n-\\n12\\n\"\n",
    "        try:\n",
    "            with patch('sys.stdout', new = StringIO()) as fake_out:\n",
    "                f1 = Fraction(2,3)\n",
    "                f2 = Fraction(1,4)\n",
    "                print(f1*f2)\n",
    "                self.assertEqual(fake_out.getvalue(), expected_output)\n",
    "        except AssertionError:\n",
    "            raise AssertionError(\"__mul__ test failed\")\n",
    "        print(\"TEST 4 PASSED\")\n",
    "        \n",
    "    def assert_float(self):\n",
    "        f = Fraction(2,3)\n",
    "        assert np.isclose(float(f), 0.66666)\n",
    "        print(\"TEST 5 PASSED\")\n",
    "        \n",
    "    def assert_inverse(self):\n",
    "        expected_output = \"3\\n-\\n2\\n\"\n",
    "        try:\n",
    "            with patch('sys.stdout', new = StringIO()) as fake_out:\n",
    "                f = Fraction(2,3).inverse()\n",
    "                print(f)\n",
    "                self.assertEqual(fake_out.getvalue(), expected_output)\n",
    "        except AssertionError:\n",
    "            raise AssertionError(\"inverse test failed\")\n",
    "        print(\"TEST 6 PASSED\")\n",
    "        \n",
    "        \n",
    "        \n",
    "        \n",
    "test = TestFraction()\n",
    "test.assert_stdout()\n",
    "test.assert_addition()\n",
    "test.assert_subtraction()\n",
    "test.assert_multiplication()\n",
    "test.assert_float()\n",
    "test.assert_inverse()"
   ]
  },
  {
   "cell_type": "markdown",
   "id": "a50fc6f0",
   "metadata": {},
   "source": [
    "<div class=\"alert alert-danger alertdanger\" style=\"margin-top: 20px\">\n",
    "<details>\n",
    "    \n",
    "   <b><summary>Λύση (click here to expand)</summary></b>\n",
    "    \n",
    "```python \n",
    "# The Fraction class\n",
    "class Fraction(object):\n",
    "    \n",
    "    def __init__(self, numerator, denominator):\n",
    "        self._num = numerator\n",
    "        self._den = denominator\n",
    "        \n",
    "    def __str__(self):\n",
    "        \"\"\"Returns a string representation of the Fraction object\"\"\"\n",
    "        return f\"{self._num}\\n-\\n{self._den}\"\n",
    "    \n",
    "    def __add__(self, other):\n",
    "        \"\"\"Returns a float\"\"\"\n",
    "        return ((self._num * other._den) + (self._den * other._num)) / (self._den * other._den)\n",
    "    \n",
    "    def __sub__(self, other):\n",
    "        \"\"\"Returns a float\"\"\"\n",
    "        return ((self._num * other._den) - (self._den * other._num)) / (self._den * other._den)\n",
    "    \n",
    "    def __mul__(self, other):\n",
    "        \"\"\"Returns a Fraction object\"\"\"\n",
    "        return Fraction((self._num * other._num), (self._den * other._den))\n",
    "    \n",
    "    def __float__(self):\n",
    "        \"\"\"Returns a float\"\"\"\n",
    "        return self._num / self._den\n",
    "    \n",
    "    \n",
    "    def inverse(self):\n",
    "        \"\"\"Returns a Fraction object\"\"\"\n",
    "        return Fraction(self._den, self._num)\n",
    "```\n",
    "    \n",
    "</details>"
   ]
  },
  {
   "cell_type": "markdown",
   "id": "313f7e32",
   "metadata": {},
   "source": [
    "Τώρα που έχουμε στη διάθεση μας την κλάση που περιγράφει ένα αντικείμενο ``Person`` μπορούμε να ξεκινήσουμε να δημιουργήσουμε μία δομή δεδομένων που θα αποθηκεύει τέτοια αντικείμενα, τα οποία θα αποτελούν τις επαφές μας.\n",
    "\n",
    "Υπάρχουν πολλές δομές δεδομένων που θα μπορούσαν να φανούν χρήσιμες, αλλά όπως είπαμε στην αρχή, μία κλάση θα μας προσφέρει πολύ περισσότερη λειτουργικότητα. Οπότε θα φτιάξουμε μία δεύτερη κλάση ``Contacts`` η οποία θα δέχεται αντικείμενα της κλάσης ``Person`` και θα τα αποθηκεύει σε μία λίστα.\n",
    "\n",
    "Τα στιγμιότυπα της κλάσης ``Contacts`` θα πρέπει να συνοδευόνται και από μία σειρά από μεθόδους που θα επιτελούν κάποια λειτουργία, όπως για παράδειγμα η προσθήκη/αφαίρεση κάποιας επαφής, η ταξινόμηση των επαφών, η αντικατάστη κάποιας επαφής κτλ.\n",
    "\n",
    "Η τελική μορφή της κλάσης ``Contacts`` φαίνεται στο παρακάτω κελί."
   ]
  },
  {
   "cell_type": "code",
   "execution_count": 17,
   "id": "3696f655",
   "metadata": {},
   "outputs": [],
   "source": [
    "class Contacts(object):    \n",
    "    \n",
    "    \"\"\"\n",
    "                            DOCSTRING\n",
    "                              -----\n",
    "    \n",
    "        This class defines a Contacts object.\n",
    "        \n",
    "        Parameters:\n",
    "        =================\n",
    "            contacts   : class Person object or tuple\n",
    "                            \n",
    "        Returns:\n",
    "        =================\n",
    "            - A Contacts object.\n",
    "    \"\"\"\n",
    "    \n",
    "    def __init__(self, *contacts):\n",
    "        self.contacts=[person for person in contacts]\n",
    "        self.__idx = 0 # an index that points to the location\n",
    "                       # within the contacts list\n",
    "            \n",
    "        self.contact_count = len(self.contacts) # instance attribute to keep track of number of contacts\n",
    "            \n",
    "    def __del__(self):\n",
    "        print(\"Contact list erased!\")\n",
    "        \n",
    "        \n",
    "    def __str__(self):\n",
    "        return '\\n'.join(str(person) for person in self.contacts)\n",
    "    \n",
    "    ## Uncomment the following two functions \n",
    "    ## if you want to make the class iterable\n",
    "    \n",
    "#     def __iter__(self):\n",
    "#         return self\n",
    "    \n",
    "#     def __next__(self):\n",
    "#         if self.__idx >= len(self.contacts):\n",
    "#             raise StopIteration\n",
    "            \n",
    "#         current_contact = self.contacts[self.idx]\n",
    "#         self.__idx += 1\n",
    "#         return current_contact\n",
    "    \n",
    "    \n",
    "    \n",
    "    \n",
    "    def get_contact(self, contact_name):\n",
    "        \"\"\"\n",
    "            It returns an existing contact.\n",
    "            \n",
    "            Parameters:\n",
    "            ============\n",
    "                - contact_name : str\n",
    "                                 the full name of the contact (capitalized).\n",
    "                                 \n",
    "            Returns:\n",
    "            ============\n",
    "                - A class Person object.\n",
    "        \"\"\"\n",
    "        \n",
    "        found = False\n",
    "        for person in self.contacts:\n",
    "            if person.get_full_name() == contact_name:\n",
    "                return person\n",
    "            \n",
    "        if not found: raise TypeError(\"Contact name does not exist!\")\n",
    "    \n",
    "    \n",
    "    \n",
    "    def remove(self, contact_name, verbose=True):\n",
    "        \"\"\"\n",
    "            It removes a contact from the contact list\n",
    "            \n",
    "            Parameters:\n",
    "            ============\n",
    "                - contact_name : str\n",
    "                                 the full name of the contact (capitalized)\n",
    "                                 to be removed.\n",
    "                                 \n",
    "                - verbose      : bool\n",
    "                                 if True (default) then print a message\n",
    "                                 that contact removed succesfully.\n",
    "                                 \n",
    "            Returns:\n",
    "            ============\n",
    "                - None\n",
    "        \"\"\"\n",
    "        self.contacts=[person for person in self.contacts if person.get_full_name() != contact_name]\n",
    "        self.contact_count = len(self.contacts)\n",
    "        \n",
    "        if verbose: print(\"Contact deleted!\")\n",
    "        return None\n",
    "    \n",
    "    # !! Not to be confused with __add__ !!\n",
    "    def add(self, person, verbose=True):\n",
    "        \"\"\"\n",
    "            It adds a contact to the contact list\n",
    "            \n",
    "            Parameters:\n",
    "            ============\n",
    "                - person  : class Person object\n",
    "                            the person to be added.\n",
    "                                 \n",
    "                - verbose : bool\n",
    "                            if True (default) then print a message\n",
    "                            that contact added succesfully.\n",
    "                                 \n",
    "            Returns:\n",
    "            ============\n",
    "                - None\n",
    "        \n",
    "        \"\"\"\n",
    "        self.contacts.append(person) \n",
    "        self.contact_count = len(self.contacts)\n",
    "        \n",
    "        if verbose: print(\"Contact added!\")\n",
    "        return None\n",
    "        \n",
    "    def replace(self, old_contact_name, new_contact, verbose=True):\n",
    "        \"\"\"\n",
    "            It replaces an existing contact with a new one\n",
    "            \n",
    "            Parameters:\n",
    "            ============\n",
    "                - old_contact_name : str\n",
    "                                     the full name of the contact (capitalized)\n",
    "                                     to be replaced.\n",
    "                                     \n",
    "                - new_contact      : class Person object\n",
    "                                     the person to be replacing the old one.\n",
    "                                 \n",
    "                - verbose          : bool\n",
    "                                     if True (default) then print a message\n",
    "                                     that contact replaced succesfully.\n",
    "                                 \n",
    "            Returns:\n",
    "            ============\n",
    "                - None\n",
    "        \"\"\"\n",
    "        self.remove(old_contact_name, verbose=False)\n",
    "        self.add(new_contact, verbose=False)\n",
    "        if verbose: print(\"Contact replaced!\")\n",
    "        return None\n",
    "    \n",
    "    \n",
    "    def update(self, contact_name, verbose=True, **kwargs):\n",
    "        \"\"\"\n",
    "            It updates fields of an existing contact\n",
    "            \n",
    "            Parameters:\n",
    "            =================\n",
    "                - contact_name : str\n",
    "                                 the full name of the contact (capitalized)\n",
    "                                 to be updated.\n",
    "                                 \n",
    "                - verbose      : bool\n",
    "                                 if True (default) then print a message\n",
    "                                 that contact updated succesfully.\n",
    "                                 \n",
    "            Returns:\n",
    "            =================\n",
    "                - None\n",
    "                \n",
    "            Other parameters:\n",
    "            =================\n",
    "            **kwargs           : properties, optional\n",
    "            \n",
    "                -------------------------------------------------\n",
    "                       Property        |       Description\n",
    "                -------------------------------------------------\n",
    "                     - nickname            str or None\n",
    "                                           a nickname of the\n",
    "                                           contact\n",
    "                                   \n",
    "                     - occupation          str or None\n",
    "                                           the occupation of\n",
    "                                           the contact\n",
    "                                     \n",
    "                     - marital_status      str or None\n",
    "                                           the marital status\n",
    "                                           of the contact\n",
    "                                           \n",
    "                     - phone_number        int or None\n",
    "                                           the phone number of\n",
    "                                           the contact\n",
    "                                           \n",
    "                     - mobile_number       int or None\n",
    "                                           the mobile number of\n",
    "                                           the contact\n",
    "                                           \n",
    "                     - email               str or None\n",
    "                                           the email of an \n",
    "                                           the contact\n",
    "                                           \n",
    "                     - address             str or None\n",
    "                                           the street address\n",
    "                                           othe contact\n",
    "                                           \n",
    "                     - website             str or None\n",
    "                                           the website url\n",
    "                                           the contact\n",
    "            \n",
    "        \"\"\"\n",
    "        found = False\n",
    "        for person in self.contacts:\n",
    "            if person.get_full_name() == contact_name:\n",
    "                found = True\n",
    "                \n",
    "                if \"nickname\" in kwargs: person.set_nickname(kwargs.get('nickname'))\n",
    "                if \"occupation\" in kwargs: person.set_occupation(kwargs.get('occupation'))\n",
    "                if \"marital_status\" in kwargs: person.set_marital_status(kwargs.get('marital_status'))\n",
    "                if \"phone_number\" in kwargs: person.set_phone(kwargs.get('phone_number'))\n",
    "                if \"mobile_number\" in kwargs: person.set_mobile_phone(kwargs.get('mobile_number'))\n",
    "                if \"email\" in kwargs: person.set_email(kwargs.get('email'))\n",
    "                if \"address\" in kwargs: person.set_address(kwargs.get('address'))\n",
    "                if \"website\" in kwargs: person.set_website(kwargs.get('website'))\n",
    "                \n",
    "        if not found: raise TypeError(\"Contact name does not exist!\")\n",
    "        \n",
    "        if verbose: print(\"Contact updated!\")\n",
    "        return None\n",
    "            \n",
    "            \n",
    "    def sort(self):\n",
    "        \"\"\"Inplace sorting of the contact list. \n",
    "           The sorting is done alphabetically according to last name.\n",
    "        \"\"\"\n",
    "        self.contacts.sort(key=lambda person: person.get_last_name())\n",
    "        return None"
   ]
  },
  {
   "cell_type": "markdown",
   "id": "ac99d820",
   "metadata": {},
   "source": [
    "### Sanity Checks"
   ]
  },
  {
   "cell_type": "code",
   "execution_count": 18,
   "id": "cbb03101",
   "metadata": {},
   "outputs": [],
   "source": [
    "my_contact_list = Contacts(Person(\"John\", \"Williams\", mobile_number=987654321, occupation=\"actor\"),\n",
    "                           Person(\"Maria\", \"Lopez\", occupation=\"doctor\"))"
   ]
  },
  {
   "cell_type": "code",
   "execution_count": 19,
   "id": "08b1f6fe",
   "metadata": {},
   "outputs": [
    {
     "name": "stdout",
     "output_type": "stream",
     "text": [
      "Person[\n",
      "                 Name: John Williams, \n",
      "                 Occupation: actor, \n",
      "                 Marital status: None, \n",
      "                 Phone: None, \n",
      "                 Mobile: 987654321, \n",
      "                 Email: None, \n",
      "                 Address: None, \n",
      "                 Website: None\n",
      "                ]\n",
      "Person[\n",
      "                 Name: Maria Lopez, \n",
      "                 Occupation: doctor, \n",
      "                 Marital status: None, \n",
      "                 Phone: None, \n",
      "                 Mobile: None, \n",
      "                 Email: None, \n",
      "                 Address: None, \n",
      "                 Website: None\n",
      "                ]\n"
     ]
    }
   ],
   "source": [
    "print(my_contact_list)"
   ]
  },
  {
   "cell_type": "code",
   "execution_count": 20,
   "id": "acf4ca8c",
   "metadata": {},
   "outputs": [
    {
     "name": "stdout",
     "output_type": "stream",
     "text": [
      "Contact added!\n",
      "Person[\n",
      "                 Name: John Williams, \n",
      "                 Occupation: actor, \n",
      "                 Marital status: None, \n",
      "                 Phone: None, \n",
      "                 Mobile: 987654321, \n",
      "                 Email: None, \n",
      "                 Address: None, \n",
      "                 Website: None\n",
      "                ]\n",
      "Person[\n",
      "                 Name: Maria Lopez, \n",
      "                 Occupation: doctor, \n",
      "                 Marital status: None, \n",
      "                 Phone: None, \n",
      "                 Mobile: None, \n",
      "                 Email: None, \n",
      "                 Address: None, \n",
      "                 Website: None\n",
      "                ]\n",
      "Person[\n",
      "                 Name: Bob Smith, \n",
      "                 Occupation: None, \n",
      "                 Marital status: None, \n",
      "                 Phone: None, \n",
      "                 Mobile: None, \n",
      "                 Email: bob.smith@email.com, \n",
      "                 Address: None, \n",
      "                 Website: None\n",
      "                ]\n"
     ]
    }
   ],
   "source": [
    "# Add a new contact\n",
    "my_contact_list.add(Person(\"Bob\", \"Smith\", email=\"bob.smith@email.com\"))\n",
    "\n",
    "print(my_contact_list)"
   ]
  },
  {
   "cell_type": "code",
   "execution_count": 21,
   "id": "6c7e7330",
   "metadata": {},
   "outputs": [
    {
     "name": "stdout",
     "output_type": "stream",
     "text": [
      "Person[\n",
      "                 Name: Maria Lopez, \n",
      "                 Occupation: doctor, \n",
      "                 Marital status: None, \n",
      "                 Phone: None, \n",
      "                 Mobile: None, \n",
      "                 Email: None, \n",
      "                 Address: None, \n",
      "                 Website: None\n",
      "                ]\n"
     ]
    }
   ],
   "source": [
    "# Get a single contact\n",
    "print(my_contact_list.get_contact(\"Maria Lopez\"))"
   ]
  },
  {
   "cell_type": "code",
   "execution_count": 22,
   "id": "565c02eb",
   "metadata": {},
   "outputs": [
    {
     "name": "stdout",
     "output_type": "stream",
     "text": [
      "Person[\n",
      "                 Name: Maria Lopez, \n",
      "                 Occupation: doctor, \n",
      "                 Marital status: None, \n",
      "                 Phone: None, \n",
      "                 Mobile: None, \n",
      "                 Email: None, \n",
      "                 Address: None, \n",
      "                 Website: None\n",
      "                ]\n",
      "Person[\n",
      "                 Name: Bob Smith, \n",
      "                 Occupation: None, \n",
      "                 Marital status: None, \n",
      "                 Phone: None, \n",
      "                 Mobile: None, \n",
      "                 Email: bob.smith@email.com, \n",
      "                 Address: None, \n",
      "                 Website: None\n",
      "                ]\n",
      "Person[\n",
      "                 Name: John Williams, \n",
      "                 Occupation: actor, \n",
      "                 Marital status: None, \n",
      "                 Phone: None, \n",
      "                 Mobile: 987654321, \n",
      "                 Email: None, \n",
      "                 Address: None, \n",
      "                 Website: None\n",
      "                ]\n"
     ]
    }
   ],
   "source": [
    "# Sort the list alphabetically\n",
    "my_contact_list.sort()\n",
    "\n",
    "print(my_contact_list)"
   ]
  },
  {
   "cell_type": "code",
   "execution_count": 23,
   "id": "90e2db71",
   "metadata": {},
   "outputs": [
    {
     "name": "stdout",
     "output_type": "stream",
     "text": [
      "Total number of contacts: 3\n"
     ]
    }
   ],
   "source": [
    "## Notice that contact_count is an attribute not a method\n",
    "## That's why it is called without parentheses\n",
    "print(\"Total number of contacts:\", my_contact_list.contact_count)"
   ]
  },
  {
   "cell_type": "code",
   "execution_count": 24,
   "id": "9777f9cb",
   "metadata": {},
   "outputs": [
    {
     "name": "stdout",
     "output_type": "stream",
     "text": [
      "Person removed!\n",
      "Contact deleted!\n",
      "2\n"
     ]
    }
   ],
   "source": [
    "# Remove a contact\n",
    "my_contact_list.remove(\"Bob Smith\")\n",
    "print(my_contact_list.contact_count)"
   ]
  },
  {
   "cell_type": "code",
   "execution_count": 25,
   "id": "8df6893f",
   "metadata": {},
   "outputs": [
    {
     "name": "stdout",
     "output_type": "stream",
     "text": [
      "Person[\n",
      "                 Name: Maria Lopez, \n",
      "                 Occupation: doctor, \n",
      "                 Marital status: None, \n",
      "                 Phone: None, \n",
      "                 Mobile: None, \n",
      "                 Email: None, \n",
      "                 Address: None, \n",
      "                 Website: None\n",
      "                ]\n",
      "Person[\n",
      "                 Name: John Williams, \n",
      "                 Occupation: actor, \n",
      "                 Marital status: None, \n",
      "                 Phone: None, \n",
      "                 Mobile: 987654321, \n",
      "                 Email: None, \n",
      "                 Address: None, \n",
      "                 Website: None\n",
      "                ]\n"
     ]
    }
   ],
   "source": [
    "# print(my_contact_list.get_contact(\"Bob Smith\")) # this will throw an error since this contact\n",
    "                                                  # does not exist anymore\n",
    "print(my_contact_list)"
   ]
  },
  {
   "cell_type": "code",
   "execution_count": 26,
   "id": "a9530173",
   "metadata": {},
   "outputs": [
    {
     "name": "stdout",
     "output_type": "stream",
     "text": [
      "Contact replaced!\n",
      "Contact replaced!\n",
      "Person[\n",
      "                 Name: John Williams, \n",
      "                 Occupation: actor, \n",
      "                 Marital status: Married to Maria Lopez, \n",
      "                 Phone: None, \n",
      "                 Mobile: 987654321, \n",
      "                 Email: None, \n",
      "                 Address: None, \n",
      "                 Website: None\n",
      "                ]\n",
      "Person[\n",
      "                 Name: Maria Lopez, \n",
      "                 Occupation: doctor, \n",
      "                 Marital status: Married to John Williams, \n",
      "                 Phone: None, \n",
      "                 Mobile: None, \n",
      "                 Email: None, \n",
      "                 Address: None, \n",
      "                 Website: None\n",
      "                ]\n"
     ]
    }
   ],
   "source": [
    "# Get two contacts and apply\n",
    "# Person methods/operations on them\n",
    "\n",
    "jw = my_contact_list.get_contact(\"John Williams\")\n",
    "ml = my_contact_list.get_contact(\"Maria Lopez\")\n",
    "\n",
    "# This will change the marital status\n",
    "# as defined in the Person class\n",
    "_ = jw + ml\n",
    "\n",
    "\n",
    "# replace the existing entries\n",
    "my_contact_list.replace(\"John Williams\", jw)\n",
    "my_contact_list.replace(\"Maria Lopez\", ml)\n",
    "\n",
    "print(my_contact_list)"
   ]
  },
  {
   "cell_type": "code",
   "execution_count": 27,
   "id": "41d5276d",
   "metadata": {},
   "outputs": [
    {
     "name": "stdout",
     "output_type": "stream",
     "text": [
      "Contact added!\n",
      "Contact updated!\n"
     ]
    }
   ],
   "source": [
    "# Add and Update an existing contact\n",
    "my_contact_list.add(Person(\"Anna\", \"Walker\", address=\"5th street\"))\n",
    "my_contact_list.update(\"Anna Walker\", phone_number=555123987, email=\"anna.walker@email.com\")"
   ]
  },
  {
   "cell_type": "code",
   "execution_count": 28,
   "id": "e18dc08c",
   "metadata": {},
   "outputs": [
    {
     "name": "stdout",
     "output_type": "stream",
     "text": [
      "Person[\n",
      "                 Name: John Williams, \n",
      "                 Occupation: actor, \n",
      "                 Marital status: Married to Maria Lopez, \n",
      "                 Phone: None, \n",
      "                 Mobile: 987654321, \n",
      "                 Email: None, \n",
      "                 Address: None, \n",
      "                 Website: None\n",
      "                ]\n",
      "Person[\n",
      "                 Name: Maria Lopez, \n",
      "                 Occupation: doctor, \n",
      "                 Marital status: Married to John Williams, \n",
      "                 Phone: None, \n",
      "                 Mobile: None, \n",
      "                 Email: None, \n",
      "                 Address: None, \n",
      "                 Website: None\n",
      "                ]\n",
      "Person[\n",
      "                 Name: Anna Walker, \n",
      "                 Occupation: None, \n",
      "                 Marital status: None, \n",
      "                 Phone: 555123987, \n",
      "                 Mobile: None, \n",
      "                 Email: anna.walker@email.com, \n",
      "                 Address: 5th street, \n",
      "                 Website: None\n",
      "                ]\n"
     ]
    }
   ],
   "source": [
    "print(my_contact_list)"
   ]
  },
  {
   "cell_type": "code",
   "execution_count": 29,
   "id": "4ce276d1",
   "metadata": {},
   "outputs": [],
   "source": [
    "# This can only work if \n",
    "# we make our contacts class iterable\n",
    "\n",
    "# for contact in my_contact_list:\n",
    "#     print(contact)"
   ]
  },
  {
   "cell_type": "markdown",
   "id": "cfdf67ef",
   "metadata": {},
   "source": [
    "## 7.5 Κληρονομικότητα (Inheritance)"
   ]
  },
  {
   "cell_type": "markdown",
   "id": "caf38cf6",
   "metadata": {},
   "source": [
    "Η κληρονομικότητα χαρακτηριστικών μίας κλάσης μας επιτρέπει να δώσουμε τα χαρακτηριστικά και τη γενική λειτουργία μιας κλάσης (attributes and methods) σε μία άλλη κλάση. Η αρχική κλάση που μοιράζεται τα χαρακτηριστικά και τις λειτουργίες της ονομάζεται **μητρική κλάση** ενώ αυτή που κληρονομεί τις λειτουργίες της ονομάζεται **θυγατρική κλάση**.\n",
    "\n",
    "Η κληρονομικότητα μας επιτρέπει να ορίζουμε υποκλάσεις στις οποίες μπορούμε να αντικαταστήσουμε μέρος της λειτουργίας της μητρικής κλάσης ή και να προσθέσουμε επιπλέον λειτουργίες χωρίς αυτή η επιπρόσθετη λειτουργικότητα να επηρεάζει την μητρική κλάση με κάποιον τρόπο.\n",
    "\n",
    "Ας δούμε τη χρησιμότητα αυτή επιστρέφοντας στο αρχικό παράδειγμα της κλάσης ``Pet`` στην οποία θα δώσουμε μία πολύ βασική λειτουργικότητα, όπως φαίνεται παρακάτω."
   ]
  },
  {
   "cell_type": "code",
   "execution_count": 30,
   "id": "563a64e6",
   "metadata": {},
   "outputs": [],
   "source": [
    "class Pet(object):\n",
    "    \n",
    "    \"\"\"\n",
    "        This class defines a Pet object based on \n",
    "        its name, type, and age.\n",
    "    \"\"\"\n",
    "    \n",
    "    def __init__(self, pet_name, animal_type, pet_age):\n",
    "        self._name = pet_name\n",
    "        self._type = animal_type\n",
    "        self._age = pet_age\n",
    "        \n",
    "    \n",
    "    # Setters\n",
    "    def set_name(self, new_name):\n",
    "        self._name = new_name\n",
    "        return None\n",
    "    \n",
    "    def set_type(self, new_type):\n",
    "        self._type = new_type\n",
    "        return None\n",
    "    \n",
    "    def set_age(self, new_age):\n",
    "        self._age = new_age\n",
    "        return None\n",
    "    \n",
    "    # Getters\n",
    "    def get_name(self):\n",
    "        return self._name\n",
    "    \n",
    "    def get_type(self):\n",
    "        return self._type\n",
    "    \n",
    "    def get_age(self):\n",
    "        return self._age\n",
    "    \n",
    "    # To be overwritten by subclasses\n",
    "    # For demo puprposes only\n",
    "    def speak(self):\n",
    "        pass"
   ]
  },
  {
   "cell_type": "markdown",
   "id": "ab3cb76c",
   "metadata": {},
   "source": [
    "### Sanity Checks"
   ]
  },
  {
   "cell_type": "code",
   "execution_count": 31,
   "id": "d954a8f5",
   "metadata": {},
   "outputs": [
    {
     "name": "stdout",
     "output_type": "stream",
     "text": [
      "Pet name: Casper\n",
      "Pet type: Pomeranian\n",
      "Pet age: 8\n",
      "10\n"
     ]
    }
   ],
   "source": [
    "# Define a pet object\n",
    "my_pet = Pet('Casper', animal_type=\"Pomeranian\", pet_age=8)\n",
    "\n",
    "print(\"Pet name:\", my_pet.get_name())\n",
    "print(\"Pet type:\", my_pet.get_type())\n",
    "print(\"Pet age:\", my_pet.get_age())\n",
    "\n",
    "my_pet.set_age(10)\n",
    "print(my_pet.get_age())\n",
    "\n",
    "# This does nothing\n",
    "my_pet.speak()"
   ]
  },
  {
   "cell_type": "markdown",
   "id": "83b9c7cd",
   "metadata": {},
   "source": [
    "Έχοντας μία τέτοια γενική κλάση μπορεί να μην αρκεί για την δουλειά που θέλουμε να κάνουμε. Για να γίνουμε πιο συγκεκριμένοι θα ορίσουμε τρεις ακόμα κλάσεις: ``Dog``, ``Cat`` και ``Fish``. \n",
    "\n",
    "Επειδή ένα αντικείμενο που ανήκει σε κάποια από αυτές τις τρεις κλάσεις θα πρέπει να αρχικοποιηθεί με κάποιο όνομα, τύπο και ηλικία, καθιστά τις τρεις αυτές κλάσεις ιδανικές για να κληρονομήσουν αυτές τις ιδιότητες που έχουμε ήδη ορίσει στην κλάση ``Pet``. Αυτό μας επιτρέπει να αποφύγουμε να αντιγράψουμε τρεις φορές τον ίδιο κώδικα για να προσδώσουμε στις κλάσεις αυτές την λειτουργικότητα που θέλουμε.\n",
    "\n",
    "Για να κληρονομήσει μία κλάση τις ιδιότητες από μία άλλη κλάση, γράφουμε το όνομα της θυγατρικής κλάσης ακολουθούμενο από ένα ζευγάρι παρενθέσεων, μέσα στις οποίες γράφουμε το όνομα της μητρικής κλάσης από την οποία θα κληρονομήσει αυτές τις ιδιότητες.\n",
    "\n",
    "Αρχικά θα ορίσουμε οι τρεις υποκλάσεις να μην κάνουν τίποτα, απλά για να επιδείξουμε πως χωρίς να κάνουμε τίποτα εκτός του να δηλώσουμε το από που θα αντλεί τα χαρακτηριστικά της η υποκλάση, κληρονομήσαμε όλες τις ιδιότητες της μητρικής κλάσης ``Pet``. Έτσι, χωρίς να γράψουμε καθόλου κώδικα μέσα σε αυτές τις υποκλάσεις, ένα αντικείμενο που ανήκει σε αυτές θα έχει πρόσβαση σε όλες τις μεθόδους και τα attributes της μητρικής κλάσης."
   ]
  },
  {
   "cell_type": "code",
   "execution_count": 32,
   "id": "bbf3e5cb",
   "metadata": {},
   "outputs": [],
   "source": [
    "class Dog(Pet):\n",
    "    pass\n",
    "\n",
    "class Cat(Pet):\n",
    "    pass\n",
    "\n",
    "class Fish(Pet):\n",
    "    pass"
   ]
  },
  {
   "cell_type": "markdown",
   "id": "4cd2d275",
   "metadata": {},
   "source": [
    "### Sanity Checks"
   ]
  },
  {
   "cell_type": "code",
   "execution_count": 33,
   "id": "fffbb688",
   "metadata": {},
   "outputs": [
    {
     "name": "stdout",
     "output_type": "stream",
     "text": [
      "Fluffy\n",
      "4\n",
      "Persian longhair\n"
     ]
    }
   ],
   "source": [
    "my_dog = Dog('Fluffy', animal_type=\"Golden retriever\", pet_age=3)\n",
    "my_cat = Cat('Whiskers', animal_type=\"Persian longhair\", pet_age=4)\n",
    "my_fish = Fish('Nemo', animal_type=\"Clown fish\", pet_age=1)\n",
    "\n",
    "print(my_dog.get_name())\n",
    "print(my_cat.get_age())\n",
    "print(my_cat.get_type())\n",
    "\n",
    "# This does nothing since\n",
    "# it inherited the speak method\n",
    "# from the Pet class\n",
    "my_dog.speak()"
   ]
  },
  {
   "cell_type": "markdown",
   "id": "eaf467a8",
   "metadata": {},
   "source": [
    "Ας προσθέσουμε τώρα λίγη λειτουργικότητα με τη μορφή δύο απλών εντολών.\n",
    "\n",
    "Την μία μέθοδο θα την πούμε ``speak`` η οποία υπάρχει και στην μητρική κλάση. Έχοντας ορίσει την ίδια μέθοδο στην υποκλάση μας, αυτή θα αντικαταστήσει την αρχική μέθοδο που κληρονόμησε από την μητρική κλάση.\n",
    "\n",
    "Την άλλη μέθοδο θα την ονομάσουμε ``sit`` και θα είναι μία λειτουργία που δεν υπήρχε στην μητρική κλάση.\n",
    "\n",
    "Βλέπουμε λοιπόν πως μπορούμε, χρησιμοποιώντας την κληρονομικότητα των κλάσεων, να αντικαταστήσουμε και να επεκτείνουμε την λειτουργικότητα των δομών μας. "
   ]
  },
  {
   "cell_type": "code",
   "execution_count": 34,
   "id": "1e7dd1c6",
   "metadata": {},
   "outputs": [],
   "source": [
    "class Dog(Pet):\n",
    "    \n",
    "    def speak(self):\n",
    "        print(\"Woof!\")\n",
    "        return None\n",
    "    \n",
    "    def sit(self):\n",
    "        print(f\"Command is effective! {self.get_name()} obeys!\")\n",
    "        return None\n",
    "\n",
    "    \n",
    "    \n",
    "class Cat(Pet):\n",
    "    \n",
    "    def speak(self):\n",
    "        print(\"Meow!\")\n",
    "        return None\n",
    "    \n",
    "    def sit(self):\n",
    "        print(f\"Command is not effective! {self.get_name()} does not obey!\")\n",
    "        return None\n",
    "\n",
    "    \n",
    "    \n",
    "class Fish(Pet):\n",
    "    \n",
    "    def sit(self):\n",
    "        print(f\"Command is not effective! {self.get_name()} ignores you!\")\n",
    "        return None"
   ]
  },
  {
   "cell_type": "markdown",
   "id": "e9514817",
   "metadata": {},
   "source": [
    "### Sanity Checks"
   ]
  },
  {
   "cell_type": "code",
   "execution_count": 35,
   "id": "aa6a3a3a",
   "metadata": {},
   "outputs": [
    {
     "name": "stdout",
     "output_type": "stream",
     "text": [
      "Woof!\n",
      "Meow!\n"
     ]
    }
   ],
   "source": [
    "# Create again the objects with the \n",
    "# updated functinality\n",
    "my_dog = Dog('Fluffy', animal_type=\"Golden retriever\", pet_age=3)\n",
    "my_cat = Cat('Whiskers', animal_type=\"Persian longhair\", pet_age=4)\n",
    "my_fish = Fish('Nemo', animal_type=\"Clown fish\", pet_age=1)\n",
    "\n",
    "\n",
    "my_dog.speak()\n",
    "my_cat.speak()\n",
    "\n",
    "# This does nothing since\n",
    "# it inherited the speak method\n",
    "# from the Pet class\n",
    "my_fish.speak()"
   ]
  },
  {
   "cell_type": "code",
   "execution_count": 36,
   "id": "1e8f3ddf",
   "metadata": {},
   "outputs": [
    {
     "name": "stdout",
     "output_type": "stream",
     "text": [
      "Command is effective! Fluffy obeys!\n",
      "Command is not effective! Whiskers does not obey!\n",
      "Command is not effective! Nemo ignores you!\n"
     ]
    },
    {
     "ename": "AttributeError",
     "evalue": "'Pet' object has no attribute 'sit'",
     "output_type": "error",
     "traceback": [
      "\u001b[0;31m---------------------------------------------------------------------------\u001b[0m",
      "\u001b[0;31mAttributeError\u001b[0m                            Traceback (most recent call last)",
      "\u001b[0;32m/var/folders/y6/62tg_s5s7536r0lp1mks4jl80000gn/T/ipykernel_10790/4158665593.py\u001b[0m in \u001b[0;36m<module>\u001b[0;34m\u001b[0m\n\u001b[1;32m      6\u001b[0m \u001b[0;31m# a Pet obect does not have a sit() method\u001b[0m\u001b[0;34m\u001b[0m\u001b[0;34m\u001b[0m\u001b[0m\n\u001b[1;32m      7\u001b[0m \u001b[0;31m# and didn't inherit such a method from a parent class\u001b[0m\u001b[0;34m\u001b[0m\u001b[0;34m\u001b[0m\u001b[0m\n\u001b[0;32m----> 8\u001b[0;31m \u001b[0mmy_pet\u001b[0m\u001b[0;34m.\u001b[0m\u001b[0msit\u001b[0m\u001b[0;34m(\u001b[0m\u001b[0;34m)\u001b[0m\u001b[0;34m\u001b[0m\u001b[0;34m\u001b[0m\u001b[0m\n\u001b[0m",
      "\u001b[0;31mAttributeError\u001b[0m: 'Pet' object has no attribute 'sit'"
     ]
    }
   ],
   "source": [
    "my_dog.sit()\n",
    "my_cat.sit()\n",
    "my_fish.sit()\n",
    "\n",
    "# This won't work since\n",
    "# a Pet obect does not have a sit() method\n",
    "# and didn't inherit such a method from a parent class\n",
    "my_pet.sit()"
   ]
  },
  {
   "cell_type": "markdown",
   "id": "9ff7b5cb",
   "metadata": {},
   "source": [
    "Μπορεί κανείς να πάρει μία εποπτική εικόνα για το ποιές μεθόδους και attributes έχουν οριστεί σε μία κλάση και ποιές έχουν κληρονομηθεί από κάπου αλλού με την εντολή ``help``."
   ]
  },
  {
   "cell_type": "code",
   "execution_count": 37,
   "id": "766063f6",
   "metadata": {},
   "outputs": [
    {
     "name": "stdout",
     "output_type": "stream",
     "text": [
      "Help on class Dog in module __main__:\n",
      "\n",
      "class Dog(Pet)\n",
      " |  Dog(pet_name, animal_type, pet_age)\n",
      " |  \n",
      " |  Method resolution order:\n",
      " |      Dog\n",
      " |      Pet\n",
      " |      builtins.object\n",
      " |  \n",
      " |  Methods defined here:\n",
      " |  \n",
      " |  sit(self)\n",
      " |  \n",
      " |  speak(self)\n",
      " |  \n",
      " |  ----------------------------------------------------------------------\n",
      " |  Methods inherited from Pet:\n",
      " |  \n",
      " |  __init__(self, pet_name, animal_type, pet_age)\n",
      " |      Initialize self.  See help(type(self)) for accurate signature.\n",
      " |  \n",
      " |  get_age(self)\n",
      " |  \n",
      " |  get_name(self)\n",
      " |      # Getters\n",
      " |  \n",
      " |  get_type(self)\n",
      " |  \n",
      " |  set_age(self, new_age)\n",
      " |  \n",
      " |  set_name(self, new_name)\n",
      " |      # Setters\n",
      " |  \n",
      " |  set_type(self, new_type)\n",
      " |  \n",
      " |  ----------------------------------------------------------------------\n",
      " |  Data descriptors inherited from Pet:\n",
      " |  \n",
      " |  __dict__\n",
      " |      dictionary for instance variables (if defined)\n",
      " |  \n",
      " |  __weakref__\n",
      " |      list of weak references to the object (if defined)\n",
      "\n"
     ]
    }
   ],
   "source": [
    "help(Dog)"
   ]
  }
 ],
 "metadata": {
  "kernelspec": {
   "display_name": "Python 3 (ipykernel)",
   "language": "python",
   "name": "python3"
  },
  "language_info": {
   "codemirror_mode": {
    "name": "ipython",
    "version": 3
   },
   "file_extension": ".py",
   "mimetype": "text/x-python",
   "name": "python",
   "nbconvert_exporter": "python",
   "pygments_lexer": "ipython3",
   "version": "3.9.13"
  }
 },
 "nbformat": 4,
 "nbformat_minor": 5
}
