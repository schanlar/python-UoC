{
 "cells": [
  {
   "cell_type": "markdown",
   "id": "9f7ffe61",
   "metadata": {},
   "source": [
    "# minilab2: Ασκήσεις εξάσκησης - Εισαγωγή στη Python"
   ]
  },
  {
   "cell_type": "markdown",
   "id": "880ce32e",
   "metadata": {},
   "source": [
    "## Μερικά σχόλια\n",
    "\n",
    "- Οι ασκήσεις αυτές προσπαθούν να καλύψουν ένα ευρύ μέρος του εννοιακού φάσματος που συζητήσαμε στο μάθημα.\n",
    "\n",
    "\n",
    "- Πολλές από αυτές τις ασκήσεις μπορεί να απαιτούν χρήση εργαλείων και μεθόδων τις οποίες αναφέραμε αλλά δεν είχαμε τον χρόνο να συζητήσουμε εις βάθος.\n",
    "\n",
    "\n",
    "- Γι' αυτό το λόγο, θα χρειαστεί να καταφύγετε στη τεκμηρίωση συναρτήσεων και μεθόδων μέσω αναζήτησης στο διαδίκτυο. Google is your friend!\n",
    "\n",
    "\n",
    "- Προσπαθήστε να μην ψάχνετε στο διαδίκτυο για τη λύση του προβλήματος αλλά για τεχνικές, βιβλιοθήκες και εργαλεία που θα σας βοηθήσουν να καταστρώσετε ένα σχέδιο επίλυσης.\n",
    "\n",
    "\n",
    "- Don't cheat on yourself! Ο σκοπός αυτών των μαθημάτων είναι να σας δώσει ένα έναυσμα για να μάθετε να δουλεύετε με τη γλώσσα προγραμματισμού Python. Το να ξοδεύεις σημαντικό μέρος (ίσως το μεγαλύτερο) του χρόνου σου αναζητώντας εργαλεία και καταστρώνοντας στρατηγικές επίλυσης ενός προβήματος είναι αναπόσπαστο μέρος της δουλειάς.\n",
    "\n",
    "\n",
    "- Συζητήσεις με συμφοιτητές ή δημιουργία κάποιων study groups ευνοούν σε μεγάλο βαθμό την κατανόηση των εννοιών. Ένα πρόβλημα τις περισσότερες φορές δεν έχει μία μοναδική λύση και κάθε ένας σκέφτεται με διαφορετικό τρόπο. Η επικοινωνία μεταξύ σας μπορεί να σας εμπνεύσει και να σας βοηθήσει να βγείτε από ένα αδιέξοδο.\n",
    "\n",
    "\n",
    "- Το να μαθαίνεις μία γλώσσα προγραμματισμού είναι σαν να μαθαίνεις μία καινούργια φυσική γλώσσα: την μαθαίνεις μόνο όσο προσπαθείς να την \"μιλήσεις\"."
   ]
  },
  {
   "cell_type": "markdown",
   "id": "8cd7153d",
   "metadata": {},
   "source": [
    "## Πως θα δουλέψετε\n",
    "\n",
    "- Όπως θα δείτε, κάτω από την εκφώνηση μιας άσκησης υπάρχει ένα κελί όπου θα πρέπει να συμπληρώσετε τον κώδικά σας.\n",
    "\n",
    "\n",
    "- Μπορείτε να προσθέσετε όσα κελιά χρειάζεστε και να τα οργανώσετε όπως πιστεύετε εσείς καλύτερα.\n",
    "\n",
    "\n",
    "- Μπορείτε επίσης να προσθέσετε κελιά που απλά δοκιμάζετε διάφορες προσεγγίσεις ή και τμήματα του κώδικα σας. Αυτά τα \"πρόχειρα\" κελιά θα πρέπει να τα διαγράψετε μόλις έχετε κατασταλλάξει στο κώδικα που θα χρησιμοποιήσετε, κρατώντας μόνο τα κελιά στα οποία περιέχεται ο εν λόγω κώδικας.\n",
    "\n",
    "\n",
    "- Προσπαθείστε να είστε αναλυτικοί/ες στον τρόπο που εργάζεστε. Αυτό σημαίνει ότι θα πρέπει να τεκμηριώνετε με τον καλύτερο δυνατό τρόπο τις ενέργειές σας, χρησιμοποιώντας σύντομα σχόλια στον κώδικα. Ιδανικά, αφού δουλεύουμε σε σημειωματάριο, θα μπορούσατε να προσθέσετε κελιά--όπως αυτό--για να αναλύσετε το σκεπτικό σας εις βάθος. Αυτό μπορεί να γίνει αν μετατρέψετε ένα κελί από Code σε Μarkdown από το drop down μενου στη γραμμή εργαλείων. Σκοπός δεν είναι μόνο να γράφετε καλό κώδικα αλλά να είναι και κατανοητός από άλλους.\n",
    "\n",
    "\n",
    "- Μην ξεχνάτε ότι όταν εκτελείται ένα κελί οι τιμές των μεταβλητών αποθηκεύονται στη μνήμη και παραμένουν εκεί ακόμα κι αν αυτό το κελί έχει διαγραφεί. Αυτό μπορεί πολλές φορές να δημιουργήσει σύγχηση όταν τεστάρουμε κομμάτια του κώδικα, επιτρέποντας τα να τρέξουν πιθανόν με μεταβλητές που είτε δεν υπάρχουν πλέον, είτε υπάρχουν και χρησιμοποιούν παλαιότερες μη-ανανεωμένες τιμές. Για ένα καθαρό νέο ξεκίνημα μπορείτε να κάνετε επανεκκίνηση του kernel απο τη γραμμή εντολών του σημειωματάριου.\n",
    "\n",
    "\n",
    "- Τέλος, είναι καλή πρακτική να αποθηκεύετε τις αλλάγες ανά τακτά χρονικά διαστήματα."
   ]
  },
  {
   "cell_type": "markdown",
   "id": "debff64b",
   "metadata": {},
   "source": [
    "## Ασκήσεις"
   ]
  },
  {
   "cell_type": "markdown",
   "id": "22c9cb7e",
   "metadata": {},
   "source": [
    "###  1. Αλληλεπίδραση με τον χρήστη & συναρτήσεις\n",
    "---"
   ]
  },
  {
   "cell_type": "markdown",
   "id": "ea5e908e",
   "metadata": {},
   "source": [
    "1. Γράψτε κώδικα που ζητάει από τον χρήστη 2 ακέραιους αριθμούς και εμφανίζει το άθροισμα, το γινόμενο και το μέσο όρο των δύο αριθμών."
   ]
  },
  {
   "cell_type": "code",
   "execution_count": null,
   "id": "13920cf9",
   "metadata": {},
   "outputs": [],
   "source": [
    "# Write your answer here"
   ]
  },
  {
   "cell_type": "markdown",
   "id": "d255dbf1",
   "metadata": {},
   "source": [
    "---"
   ]
  },
  {
   "cell_type": "markdown",
   "id": "e9c80dbd",
   "metadata": {},
   "source": [
    "2. Δίνεται η εξίσωση $y = 2x^3 + 3x^2 - x + 5$. Να γράψετε κώδικα που ζητάει το $x$ ως πραγματικό αριθμό από τον χρήστη και εμφανίζει το $y$ με ακρίβεια 2 δεκαδικών ψηφίων. Δοκιμάστε να λύσετε το πρόβλημα με τη χρήση συνάρτησης (απλής και ανώνυμης)."
   ]
  },
  {
   "cell_type": "code",
   "execution_count": null,
   "id": "0dd97a21",
   "metadata": {},
   "outputs": [],
   "source": [
    "# Write your answer here"
   ]
  },
  {
   "cell_type": "markdown",
   "id": "90d595f4",
   "metadata": {},
   "source": [
    "---"
   ]
  },
  {
   "cell_type": "markdown",
   "id": "49bf9153",
   "metadata": {},
   "source": [
    "3. Η κλίμακα θερμοκρασιών Fahrenheit συνδέεται με αυτή της κλίμακας Celsius με τη σχέση:\n",
    "\n",
    "    \\begin{equation}\n",
    "    F = \\frac{9C}{5} + 32\n",
    "    \\end{equation}\n",
    "όπου $F$ η θερμοκρασία σε βαθμούς Fahrenheit και $C$ η θερμοκρασία σε βαθμούς Κελσίου.\n",
    "\n",
    "**Ζητούμενα**\n",
    "* Γράψτε συνάρτηση που θα δέχεται μία θερμοκρασία σε βαθμούς Κελσίου και θα επιστρέφει τη θερμοκρασία σε βαθμούς Fahrenheit. Προσέξτε την περίπτωση του απόλυτου μηδενός. Εμφανίστε κατάλληλο μήνυμα ώστε να προειδοποιείτε τον χρήστη για την μη-έγκυρη εισαγωγή τιμής. Σε αυτή την περίπτωση η συνάρτηση θα επιστρέφει ``None``.\n",
    "\n",
    "\n",
    "* Γράψτε κώδικα που ζητάει από τον χρήστη μία θερμοκρασία και αξιοποιήστε τη συνάρτηση που γράψατε για να εμφανίσετε τη θερμοκρασία στη κλίμακα Fahrenheit."
   ]
  },
  {
   "cell_type": "code",
   "execution_count": null,
   "id": "e1eb04f5",
   "metadata": {},
   "outputs": [],
   "source": [
    "# Write your answer here"
   ]
  },
  {
   "cell_type": "markdown",
   "id": "8cd96cf1",
   "metadata": {},
   "source": [
    "---"
   ]
  },
  {
   "cell_type": "markdown",
   "id": "a43326cc",
   "metadata": {},
   "source": [
    "4. Γράψτε μία συνάρτηση που θα υπολογίζει την διακύμανση για το παρακάτω σύνολο τιμών: $$x = [2, 4, 4, 4, 5, 5, 7, 9]$$ Χρησιμοποιήστε μόνο built-in συναρτήσεις για να υπολογίσετε τις απαιτούμενες ποσότητες (π.χ. όχι ``np.mean()`` για τον υπολογισμό της μέσης τιμής, αλλά οι ``sum()`` και ``len()`` επιτρέπονται).\n",
    "\n",
    "> Θυμίζεται ότι η διακύμανση δίνεται από την σχέση $$\\sigma^2 = \\frac{\\sum (x_i - \\bar{x})^2}{N}$$ όπου $\\bar{x}$ είναι η μέση τιμή του δείγματος."
   ]
  },
  {
   "cell_type": "code",
   "execution_count": null,
   "id": "48e9c76d",
   "metadata": {},
   "outputs": [],
   "source": [
    "# Write your answer here"
   ]
  },
  {
   "cell_type": "markdown",
   "id": "e0fbbbd8",
   "metadata": {},
   "source": [
    "---"
   ]
  },
  {
   "cell_type": "markdown",
   "id": "1e0af4ad",
   "metadata": {},
   "source": [
    "5. Παντόγραμμα ονομάζεται μια πρόταση στην οποία χρησιμοποιούνται όλα τα γράμματα ενός αλφαβήτου, τουλάχιστον από μία φορά το καθένα, \n",
    "π.χ. \"The quick brown fox jumps over the lazy dog\"\n",
    "\n",
    "    Συμπληρώστε κατάλληλα την παρακάτω συνάρτηση ώστε να εξετάζει εαν μία συμβολοσειρά είναι παντόγραμμα ή όχι (υποθέστε ότι η συμβολοσειρά προς εξέταση δεν περιέχει σημεία στίξης).\n",
    "\n",
    ">**Hint**: Μπορεί να θέλετε να χρησιμοποιήσετε την μέθοδο ``.replace()`` ώστε να διώξετε τα κενά μεταξύ των λέξεων της πρότασης."
   ]
  },
  {
   "cell_type": "code",
   "execution_count": null,
   "id": "84ea9b14",
   "metadata": {},
   "outputs": [],
   "source": [
    "import string\n",
    "\n",
    "def ispangram(str1, alphabet=string.ascii_lowercase):\n",
    "    pass"
   ]
  },
  {
   "cell_type": "code",
   "execution_count": null,
   "id": "c282f812",
   "metadata": {},
   "outputs": [],
   "source": [
    "# Execute this cell first to understand what string.ascii_lowercase does\n",
    "string.ascii_lowercase"
   ]
  },
  {
   "cell_type": "code",
   "execution_count": null,
   "id": "0d467d58",
   "metadata": {},
   "outputs": [],
   "source": [
    "# Test your function here\n",
    "text = \"The quick brown fox jumps over the lazy dog\"\n",
    "ispangram(text)"
   ]
  },
  {
   "cell_type": "markdown",
   "id": "4e9c5a1e",
   "metadata": {},
   "source": [
    "---"
   ]
  },
  {
   "cell_type": "markdown",
   "id": "87460a87",
   "metadata": {},
   "source": [
    "6. Γράψτε μία συνάρτηση που θα δέχεται μία συμβολοσειρά και θα υπολογίζει τον αριθμό των κεφαλαίων και πεζών γραμμάτων που περιέχει, π.χ.\n",
    "\n",
    "        Sample String : 'Hello Mr. Rogers, how are you this fine Tuesday?'\n",
    "\n",
    "        Expected Output : \n",
    "\n",
    "        No. of Upper case characters : 4\n",
    "\n",
    "        No. of Lower case Characters : 33\n",
    "        \n",
    ">**Hint**: δύο μέθοδοι της κλάσης ``<string>`` που μπορεί να βρείτε χρήσιμες είναι οι: ``.isupper()`` και ``.islower()``"
   ]
  },
  {
   "cell_type": "code",
   "execution_count": null,
   "id": "34061192",
   "metadata": {},
   "outputs": [],
   "source": [
    "# Write your answer here"
   ]
  },
  {
   "cell_type": "markdown",
   "id": "44bc3d69",
   "metadata": {},
   "source": [
    "---"
   ]
  },
  {
   "cell_type": "markdown",
   "id": "a6c177ee",
   "metadata": {},
   "source": [
    "### 2. Διαχείριση εξαιρέσεων"
   ]
  },
  {
   "cell_type": "markdown",
   "id": "2a3dd049",
   "metadata": {},
   "source": [
    "1. Γράψτε μία συνάρτηση που ζητάει έναν ακέραιο αριθμό και τυπώνει το τετράγωνό του. Χρησιμοποιήστε έναν βρόγχο ``while`` μαζί με ένα ``try-except`` μπλοκ ώστε να διαχειριστείτε λανθασμένες εισόδους."
   ]
  },
  {
   "cell_type": "code",
   "execution_count": null,
   "id": "7286c32d",
   "metadata": {},
   "outputs": [],
   "source": [
    "# Write your answer here"
   ]
  },
  {
   "cell_type": "markdown",
   "id": "e0aea202",
   "metadata": {},
   "source": [
    "---"
   ]
  },
  {
   "cell_type": "markdown",
   "id": "4f3ea272",
   "metadata": {},
   "source": [
    "2\\. Έστω ότι πηγαίνετε σε μία τράπεζα και ανοίγετε έναν αποταμιευτικό λογαριασμό κάνοντας μία κατάθεση ενός αρχικού κεφαλαίου. Η τράπεζα σας προσφέρει ένα σταθερό ετήσιο επιτόκιο 1.5%.\n",
    "\n",
    "**Ζητούμενα**\n",
    "\n",
    "- Γράψτε συνάρτηση που θα υπολογίζει το ποσό κατά το οποίο θα αυξηθούν οι καταθέσεις σας στο τέλος ενός οικονομικού έτους. Η συνάρτηση θα παίρνει ως απαραίτητη παράμετρο το διαθέσιμο υπόλοιπο και ως προαιρετική παράμετρο το ετήσιο επιτόκιο με προκαθορισμένη τιμή το 1.5%.\n",
    "\n",
    "- Στη συνέχεια, δώστε στο χρήστη τη δυνατότητα να καθορίσει ένα αρχικό ποσό κατάθεσης και (προαιρετικά) το επιτόκιο της τράπεζας ελέγχοντας για μη-έγκυρες τιμές που μπορείτε να σκεφτείτε (π.χ. συμβολοσειρές, αρνητικοί αριθμοί κτλ).\n",
    "\n",
    "- Υπολογίστε πόσα χρόνια θα πάρει το χρήστη να γίνει εκατομμυριούχος με τα δεδομένα που παρείχε.\n",
    "\n",
    ">**Hint**: Χρησιμοποιήστε βρόγχο επανάληψης while."
   ]
  },
  {
   "cell_type": "code",
   "execution_count": null,
   "id": "983f7b70",
   "metadata": {},
   "outputs": [],
   "source": [
    "# Write your answer here"
   ]
  },
  {
   "cell_type": "markdown",
   "id": "7b5abb99",
   "metadata": {},
   "source": [
    "---"
   ]
  },
  {
   "cell_type": "markdown",
   "id": "bf84c244",
   "metadata": {},
   "source": [
    "### 3. Δημιουργήστε το δικό σας module"
   ]
  },
  {
   "cell_type": "markdown",
   "id": "0915699b",
   "metadata": {},
   "source": [
    "1\\. Η γραμμική άλγεβρα είναι ο κλάδος των μαθηματικών που ασχολείται με τους διανυσματικούς χώρους και παίζει σπουδαίο ρόλο στη Φυσική.\n",
    "Τα διανύσματα είναι σημεία σε κάποιον πολυδιάστατο χώρο και μπορούμε να τα αναπαραστήσουμε ως μία λίστα με αριθμούς. Αυτοί οι αριθμοί είναι οι συντεταγμένες του διανύσματος. Για παράδειγμα, το διάνυσμα $$\\mathbf{v} = 2\\hat{i} + 3\\hat{j} - 5\\hat{k}$$ θα μπορούσε να αναπαρασταθεί ως η λίστα:\n",
    "```python\n",
    "v = [2,3,-5]\n",
    "```\n",
    "\n",
    "Αντίστοιχα, ένας πίνακας μπορεί να θεωρηθεί ως μία διδιάστατη (2D) συλλογή από αριθμούς. Αυτή η διδιάστατη δομή μπορεί να αναπαρασταθεί ως μία λίστα που περιέχει άλλες λίστες (εμφωλευμένη λίστα), όπου κάθε εσωτερική λίστα αντιστοιχεί σε μία γραμμή του πίνακα. Για παράδειγμα ο πίνακας \n",
    "$$\n",
    "A = \\begin{bmatrix}\n",
    "    1&2&3\\\\\n",
    "    4&5&6\\\\\n",
    "    7&8&9\n",
    "\\end{bmatrix}\n",
    "$$\n",
    "θα μπορούσε να αναπαρασταθεί ως:\n",
    "```python \n",
    "A = [[1,2,3],\n",
    "     [4,5,6],\n",
    "     [7,8,9]]\n",
    "```\n",
    "\n",
    "Στην ``Python`` η βιβλιοθήκη NumPy μας παρέχει πολλές συναρτήσεις γραμμικής άλγεβρας και η χρήση της είναι ο τρόπος που συνιστάται να δουλεύετε όταν αυτό είναι απαραίτητο. Η βιβλιοθήκη NumPy θα συζητηθεί εκτενώς σε μελλοντικό μάθημα. Για την ώρα, θα φτιάξουμε την δική μας βιβλιοθήκη, που θα την ονομάσουμε ``linear_algebra``, και θα περιλαμβάνει βασικές συναρτήσεις που υλοποιούν έννοιες της γραμμικής άλγεβρας χωρίς την χρήση της βιβλιοθήκης NumPy.\n",
    "\n",
    "**Ζητούμενα**\n",
    "\n",
    "* Το αρχείο ``linear_algebra.py`` που έχετε στη διάθεσή σας, περιέχει τον βασικό κορμό μερικών συναρτήσεων. Από αυτές τις συναρτήσεις λείπουν κομμάτια κώδικα τα οποία **θα πρέπει να συμπληρώσετε εσείς** ώστε οι συναρτήσεις να δουλεύουν όπως πρέπει. Αλλάξτε **μόνο** τα κομμάτια κώδικα που σας υποδεικνύεται στα σχόλια.\n",
    "> **Σημείωση**: Στο αρχείο ``linear_algebra.py`` θα δείτε ότι το όνομα των μεταβλητών ακολουθείται από τον τύπο των δεδομένων που θα πρέπει να περιέχουν. Αυτό ονομάζεται \"[type annotation](https://docs.python.org/3/library/typing.html)\" στην Python και αποτελεί μία καλή πρακτική ώστε να ελέγχουμε και να καταλαβαίνουμε την λογική στην κατασκευή σχετικά πολύπλοκων δομών (π.χ. συναρτήσεις).\n",
    ">\n",
    "> Παρ' όλα αυτά, η Python εξακολουθεί να είναι μία δυναμική και όχι στατική γλώσσα προγραμματισμού, που σημαίνει ότι αυτά τα annotations δεν επιβάλλονται με κάποιον τρόπο, ούτε θα παραπονεθεί ο interpreter αν δώσετε κάποιο τύπο δεδομένων σε μία μεταβλητή που προορίζεται για κάτι άλλο. Η ύπαρξη τους είναι καθαρά προαιρετική.\n",
    ">\n",
    "> Πολλοί τύποι δεδομένων (π.χ. ``List`` -- με κεφαλαίο L) δεν είναι διαθέσιμοι με την εγκατάσταση της Python στον υπολογιστή μας και μας παρέχονται μέσω της βιβλιοθήκης ``typing``. Μερικά παραδείγματα χρήσης των annotations:\n",
    "> ```python\n",
    "num1: int = 1       # num1 intends to store an integer, here initialized with the number 1\n",
    "num2: float = 2.3   # num2 intends to store a real number, here initialized with the number 2.3\n",
    ">\n",
    "># This is a function that takes one argument, name, that intends to store a string\n",
    "># and returns a string\n",
    "def print_name(name:str) -> str\n",
    "    print(name) \n",
    "    return \"I am done\" \n",
    ">    \n",
    "># This is a list that intends to store real numbers\n",
    "># The List type requires the typing module\n",
    "l1: List[float] = [1.1, 2.2, 3.3]\n",
    ">\n",
    "># This is a tuple that inteds to store two strings\n",
    "># The Tuple type requires the typing module\n",
    "t1: Tuple[str,str] = [\"Hello\", \"world\"]\n",
    ">\n",
    "># This is a function that takes a variable-length homogeneous tuple (that stores strings)\n",
    "># and returns None\n",
    "def process_tuple(t: Tuple[str, ...]) -> None:\n",
    "    pass\n",
    "    return None\n",
    ">\n",
    "># This is a callable object (e.g. a function) that takes\n",
    "># two arguments (an integer and a real number) and returns a string\n",
    "># The Callable type requires the typing module\n",
    "> fn: Callable[[int, float], str]\n",
    ">```\n",
    ">\n",
    "> Αν αντιμετωπίζετε δυσκολίες στην εγκατάσταση της βιβλιοθήκης ``typing`` ή δεν θέλετε να εφαρμόσετε τα type annotations στη λύση σας μπορείτε να διαγράψετε ό,τι σχετίζεται με αυτά.\n",
    "\n",
    "\n",
    "* Εκτελέστε τα παρακάτω κελιά που περιέχουν τον ορισμό και την κλήση της συνάρτησης ``assert_functionality_in_linear_algebra_module()``. Η συνάρτηση αυτή εισάγει την βιβλιοθήκη ``linear_algebra`` που γράψατε και πραγματοποιεί μερικά τεστ ώστε να εξετάσει την ορθή λειτουργία των συναρτήσεων. Αν ο κώδικας που γράψετε είναι σωστός, θα πρέπει να δείτε στην οθόνη του υπολογιστή σας το μήνυμα ``ALL TESTS PASSED!``. Σε αντίθετη περίπτωση, θα σας ενημερώνει ότι κάποια συνάρτηση δεν υλοποιείται όπως πρέπει.\n",
    "\n",
    "\n",
    "* Πόσους διαφορετικούς τρόπους έχετε στη διάθεσή σας για να εισάγετε τη βιβλιοθήκη σας; Μπορείτε να εντοπίσετε αρνητικά στοιχεία σε κάποιον από αυτούς;"
   ]
  },
  {
   "cell_type": "code",
   "execution_count": null,
   "id": "41d19ef8",
   "metadata": {},
   "outputs": [],
   "source": [
    "def assert_functionality_in_linear_algebra_module():\n",
    "    # Import your linear_algebra module\n",
    "    import linear_algebra as la\n",
    "\n",
    "    try:\n",
    "        # Check that the add() function works as inteded\n",
    "        assert la.add([1,2,3], [4,5,6]) == [5,7,9], \"the add() function did not pass the test!\"\n",
    "\n",
    "        # Check that the subtract() function works as inteded\n",
    "        assert la.subtract([5,7,9], [4,5,6]) == [1,2,3], \"the subtract() function did not pass the test!\"\n",
    "\n",
    "        # Check that the vector_sum() function workds as inteded\n",
    "        assert la.vector_sum([[1,2], [3,4], [5,6], [7,8]]) == [16,20], \"the vector_sum() function did not pass the test!\"\n",
    "\n",
    "        # Check that the scalar_multiply() function works as inteded\n",
    "        assert la.scalar_multiply(2, [1,2,3]) == [2,4,6], \"the scalar_multiply() function did not pass the test!\"\n",
    "\n",
    "        # Check that the vector_mean() function works as inteded\n",
    "        assert la.vector_mean([[1,2], [3,4], [5,6]]) == [3,4], \"the vector_mean() function did not pass the test!\"\n",
    "\n",
    "        # Check that the dot() function works as inteded\n",
    "        # 1*4 + 2*5 + 3*6\n",
    "        assert la.dot([1,2,3], [4,5,6]) == 32, \"the dot() function did not pass the test!\"\n",
    "\n",
    "        # Check that the sum_of_squares() function works as inteded\n",
    "        # 1*1 + 2*2 + 3*3\n",
    "        assert la.sum_of_squares([1,2,3]) == 14, \"the sum_of_squares() function did not pass the test!\"\n",
    "\n",
    "        # Check that the magnitude() function works as inteded\n",
    "        assert la.magnitude([3,4]) == 5, \"the magnitude() function did not pass the test!\"\n",
    "\n",
    "        # Check that the shape() function works as inteded\n",
    "        # 2 rows, 3 columns\n",
    "        assert la.shape([[1,2,3], [4,5,6]]) == (2,3), \"the shape() function did not pass the test!\"\n",
    "        \n",
    "        # Check that the make_matrix() function works as inteded\n",
    "        # 2 rows, 3 columns\n",
    "        assert la.make_matrix(2, 3, lambda i,j: 2 if i==0 else 1) == [[2,2,2],\n",
    "                                                                      [1,1,1]], \"the make_matrix() function did not pass the test!\"\n",
    "\n",
    "        # Check that the identity_matrix() function works as inteded\n",
    "        assert la.identity_matrix(5) == [[1,0,0,0,0],\n",
    "                                      [0,1,0,0,0],\n",
    "                                      [0,0,1,0,0],\n",
    "                                      [0,0,0,1,0],\n",
    "                                      [0,0,0,0,1]], \"the identity_matrix() function did not pass the test!\"\n",
    "\n",
    "        # Check that the get_column() function works as inteded\n",
    "        assert la.get_column([[1,2,3], [4,5,6], [7,8,9]], 1) == [2,5,8], \"the get_column() function did not pass the test!\"\n",
    "\n",
    "        print(\"ALL TESTS PASSED!\")\n",
    "        \n",
    "    except AssertionError as e:\n",
    "        print(\"One (or more) functions do not work as intended!\")\n",
    "        print(e)\n",
    "        \n",
    "    return None"
   ]
  },
  {
   "cell_type": "code",
   "execution_count": null,
   "id": "50a14d09",
   "metadata": {},
   "outputs": [],
   "source": [
    "assert_functionality_in_linear_algebra_module()"
   ]
  },
  {
   "cell_type": "markdown",
   "id": "091719da",
   "metadata": {},
   "source": [
    "---"
   ]
  },
  {
   "cell_type": "markdown",
   "id": "d91d9395",
   "metadata": {},
   "source": [
    "2\\. Εκτός της γραμμικής άλγεβρας, η Στατιστική είναι ένα ακόμα εξαιρετικά χρήσιμο εργαλείο που μας παρέχει με μαθηματικές έννοιες και τεχνικές που χρησιμοποιούνται στη Φυσική ώστε να κατανοήσουμε και να περιγράψουμε τα δεδομένα.\n",
    "\n",
    "Σε αυτή την άσκηση, όπως και στην άσκηση 1, θα φτιάξουμε τη δική μας βιβλιοθήκη που θα περιέχει βασικές συναρτήσεις που υλοποιούν έννοιες και τεχνικές της Στατιστικής, χωρίς την χρήση εξωτερικών βιβλιοθηκών (π.χ. NumPy, SciPy κτλ).\n",
    "\n",
    "**Ζητούμενα**\n",
    "\n",
    "* Το αρχείο ``custom_statistics.py`` που έχετε στη διάθεσή σας, περιέχει τον βασικό κορμό μερικών συναρτήσεων. Από αυτές τις συναρτήσεις λείπουν κομμάτια κώδικα τα οποία **θα πρέπει να συμπληρώσετε εσείς** ώστε οι συναρτήσεις να δουλεύουν όπως πρέπει. Αλλάξτε **μόνο** τα κομμάτια κώδικα που σας υποδεικνύεται στα σχόλια. Μερικές από τις σχέσεις που θα χρειαστείτε παρουσιάζονται παρακάτω:\n",
    "\n",
    "$$\n",
    "\\begin{eqnarray*}\n",
    "    \\text{Arithmetic mean:}\\qquad \\bar{x} &=& \\frac{\\sum_{i=1}^{n} x_i}{n} \\\\\\\\\n",
    "    \\text{Arithmetic median:}\\qquad \\tilde{x} &=& \\begin{cases}\n",
    "                                                    x\\left[\\frac{n+1}{2}\\right],\\;\\text{if n is odd}\\\\\\\\\n",
    "                                                    \\frac{x\\left[\\frac{n}{2}\\right] + x\\left[\\frac{n}{2}+1\\right]}{2},\\;\\text{if n is even}\n",
    "                                                  \\end{cases}\\\\\\\\\n",
    "    \\text{Variance:}\\qquad s^2 &=& \\frac{\\sum (x_i - \\bar{x})^2 }{n-1}\\\\\\\\\n",
    "    \\text{Standard deviation:}\\qquad \\sigma &=& \\sqrt{\\frac{\\sum (x_i - \\bar{x})^2 }{n-1}} = \\sqrt{s^2}\\\\\\\\\n",
    "    \\text{Covariance:}\\qquad \\text{Cov}_{x,y} &=& \\frac{\\sum (x_i - \\bar{x})(y_i - \\bar{y})}{n-1}\n",
    "\\end{eqnarray*}\n",
    "$$\n",
    "\n",
    "\n",
    "* Εκτελέστε τα παρακάτω κελιά που περιέχουν τον ορισμό και την κλήση της συνάρτησης ``assert_functionality_in_custom_statistics_module()``. Η συνάρτηση αυτή εισάγει την βιβλιοθήκη ``custom_statistics`` που γράψατε και πραγματοποιεί μερικά τεστ ώστε να εξετάσει την ορθή λειτουργία των συναρτήσεων. Αν ο κώδικας που γράψετε είναι σωστός, θα πρέπει να δείτε στην οθόνη του υπολογιστή σας το μήνυμα ``ALL TESTS PASSED!``. Σε αντίθετη περίπτωση, θα σας ενημερώνει ότι κάποια συνάρτηση δεν υλοποιείται όπως πρέπει."
   ]
  },
  {
   "cell_type": "code",
   "execution_count": null,
   "id": "741db13c",
   "metadata": {},
   "outputs": [],
   "source": [
    "def assert_functionality_in_custom_statistics_module():\n",
    "    # Import your custom_statistics module\n",
    "    import custom_statistics as cs\n",
    "    \n",
    "    try:\n",
    "        # Check that the mean() function works as intended\n",
    "        assert cs.mean([i for i in range(101)]) == 50.0, \"the mean() function did not pass the test!\"\n",
    "        \n",
    "        # Check that the median() function works as intended\n",
    "        assert cs.median([1,10,2,9,5]) == 5, \"the median() function did not pass the test!\"\n",
    "        assert cs.median([1,9,2,10]) == (2 + 9) / 2, \"the median() function did not pass the test!\"\n",
    "        \n",
    "        # Check that the data_range() function works as intended\n",
    "        assert cs.data_range([4,2,3,1,10,8]) == 9, \"the data_range() function did not pass the test!\"\n",
    "        \n",
    "        # Check that the de_mean() function works as intended\n",
    "        assert cs.de_mean([i for i in range(12,16)]) == [-1.5, -0.5, 0.5, 1.5], \"the de_mean() function did not pass the test!\"\n",
    "        \n",
    "        # Check that the variance() function works as intended\n",
    "        assert cs.variance([i for i in range(8)]) == 6, \"the variance() function did not pass the test!\"\n",
    "        \n",
    "        # Check that the standard_deviation() function works as intended\n",
    "        assert cs.standard_deviation([i for i in range(3)]) == 1, \"the standard_deviation() function did not pass the test!\"\n",
    "        \n",
    "        # Check that the covariance() function works as intended\n",
    "        assert cs.covariance([i for i in range(8)], [j for j in range(8)]) == 6, \"the covariance() function did not pass the test!\"\n",
    "        \n",
    "        print(\"ALL TESTS PASSED!\")\n",
    "        \n",
    "    except AssertionError as e:\n",
    "        print(\"One (or more) functions do not work as intended!\")\n",
    "        print(e)\n",
    "        \n",
    "    return None"
   ]
  },
  {
   "cell_type": "code",
   "execution_count": null,
   "id": "5974f0fd",
   "metadata": {},
   "outputs": [],
   "source": [
    "assert_functionality_in_custom_statistics_module()"
   ]
  },
  {
   "cell_type": "markdown",
   "id": "7377f4fb",
   "metadata": {},
   "source": [
    "---"
   ]
  },
  {
   "cell_type": "markdown",
   "id": "23050f6d",
   "metadata": {},
   "source": [
    "### BONUS"
   ]
  },
  {
   "cell_type": "markdown",
   "id": "7535660d",
   "metadata": {},
   "source": [
    "3\\. Στο μάθημα δημιουργήσαμε μία δική μας συνάρτηση (``my_sqrt``) προκειμένου να εκτιμήσουμε τη τετραγωνική ρίζα $y$ ενός αριθμού $x$. \n",
    "\n",
    "\n",
    "Πλην όμως, ο αλγόριθμος στον οποίο βασιστήκαμε για να κάνουμε αυτή την εκτίμηση δεν μας δίνει καλά αποτελέσματα όταν $0 < x < 1$. Αυτό συμβαίνει γιατί, σε αυτή την περίπτωση, η τετραγωνική ρίζα του $x$ είναι μεγαλύτερη από τον ίδιο τον αριθμό $x$ ενώ εμείς ψάχνουμε να τη βρούμε στο διάστημα $y \\in [0, x]$.\n",
    "\n",
    "\n",
    "Για να καλύψουμε λοιπόν και αυτή την ειδική περίπτωση θα πρέπει να έχουμε την επιλογή να ψάχνουμε την τιμή του $y$ στο διάστημα $y \\in [0,1]$ όταν το x είναι μικρότερο της μονάδος.\n",
    "\n",
    "\n",
    "Αυτό σημαίνει ότι πρέπει να επεκτείνουμε τη συνάρτηση ``my_sqrt`` με τέτοιο τρόπο ώστε να επιλέγει τα κατάλληλα όρια αναζήτησης ανάλογα με τη τιμή του $x$."
   ]
  },
  {
   "cell_type": "markdown",
   "id": "64c9989b",
   "metadata": {},
   "source": [
    "**Ζητούμενα**\n",
    "\n",
    "* Τροποιήστε τη συνάρτηση με κατάλληλο τρόπο ώστε το μέγιστο σφάλμα $\\epsilon$ να είναι μία προαιρετική παράμετρος που μπορεί να καθοριστεί από τον χρήστη. Η προκαθορισμένη τιμή του σφάλματος θα είναι $\\epsilon = 10^{-6}$.\n",
    "\n",
    "\n",
    "* Αν ο χρήστης δώσει μία μη-έγκυρη τιμή τόσο για τον αριθμό του οποίου θέλουμε να εκτιμήσουμε τη τετραγωνική ρίζα, όσο και για το μέγιστο σφάλμα (δηλαδή αρνητικούς αριθμούς), τότε η συνάρτηση θα πρέπει να τυπώνει ένα μήνυμα που θα υποδηλώνει το σφάλμα και θα επιστρέφει ``None``. Σε αντίθετη περίπτωση, η συνάρτηση θα επιστρέφει την εκτίμηση για τη τετραγωνική ρίζα.\n",
    "\n",
    "\n",
    "* Επεκτείνετε τη συνάρτηση ``my_sqrt`` που γράψατε ώστε να λαμβάνει υπόψιν την ειδική περίπτωση όπου $0 < x < 1$.\n",
    "\n",
    ">**Hint**: Αναζητείστε στο διαδίκτυο τη λειτουργία της built-in συνάρτησης \"max(a,b)\". Το πρόβλημα μπορεί να λυθεί ουσιαστικά με την αντικατάσταση μιας γραμμής κώδικα.\n",
    "\n",
    "\n",
    "\n",
    "* Μόλις βεβαιωθείτε για τη σωστή λειτουργία της συνάρτησης, αποθηκεύστε την σε ένα αρχείο με το όνομα ``my_functions.py``. Βεβαιωθείτε ότι έχετε αποθηκεύσει το αρχείο στον ίδιο επίπεδο του φακέλου από τον οποίο τρέχετε το σημειωματάριο. Στη συνέχεια εισάγετε το αρχείο αυτό ως βιβλιοθήκη στο Jupyter notebook. Κάντε χρήση της συνάρτησης καλώντας την μέσα από το module για να εκτιμήσετε την τετραγωνική ρίζα των αριθμών ``[4, 121, 0.5, 8.3, 0.0, -5.0]``. Συγκρίνετε τις τιμές που παίρνετε χρησιμοποιώντας τη δική σας συνάρτηση με τις τιμές που παίρνετε χρησιμοποιώντας τη συνάρτηση ``sqrt`` από τη βιβλιοθήκη numpy."
   ]
  },
  {
   "cell_type": "code",
   "execution_count": null,
   "id": "e5756653",
   "metadata": {},
   "outputs": [],
   "source": [
    "# Write your answer here"
   ]
  },
  {
   "cell_type": "markdown",
   "id": "5546037e",
   "metadata": {},
   "source": [
    "---"
   ]
  }
 ],
 "metadata": {
  "kernelspec": {
   "display_name": "Python 3 (ipykernel)",
   "language": "python",
   "name": "python3"
  },
  "language_info": {
   "codemirror_mode": {
    "name": "ipython",
    "version": 3
   },
   "file_extension": ".py",
   "mimetype": "text/x-python",
   "name": "python",
   "nbconvert_exporter": "python",
   "pygments_lexer": "ipython3",
   "version": "3.9.13"
  }
 },
 "nbformat": 4,
 "nbformat_minor": 5
}
