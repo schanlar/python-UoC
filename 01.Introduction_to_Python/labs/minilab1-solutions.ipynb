{
 "cells": [
  {
   "cell_type": "markdown",
   "id": "380c480a",
   "metadata": {},
   "source": [
    "# Ασκήσεις εξάσκησης - Εισαγωγή στη Python"
   ]
  },
  {
   "cell_type": "markdown",
   "id": "9ad3f6e5",
   "metadata": {},
   "source": [
    "## Μερικά σχόλια για τις λύσεις\n",
    "\n",
    "- Οι λύσεις που παρέχονται εδώ είναι ενδεικτικές. Υπάρχουν πολλοί τρόποι επίλυσης των προβλημάτων.\n",
    "\n",
    "\n",
    "- Ένας αλγόριθμος μπορεί να δουλεύει ικανοποιητικά για ένα συγκεκριμένο πρόβλημα αλλά γρήγορα να γίνεται μη-αποδοτικός όταν αυξάνεται ο όγκος των δεδομένων που θέλουμε να επεξεργαστούμε (π.χ. χρήση εμφολευμένων βρόγχων επανάληψης). Η επίδοση ενός αλγορίθμου και η δυνατότητά του να κλιμακώνεται με τον όγκο των δεδομένων είναι κάτι το εξαιρετικά σημαντικό που δυστυχώς δεν έχουμε το χρόνο να συζητήσουμε διεξοδικά. Με τη συνεχή εξάσκηση θα είστε σε θέση να αναγνωρίζετε κακογραμμένο κώδικα, μεθόδους βελτιστοποίησής του κτλ.\n",
    "\n",
    "\n",
    "- Μερικές φορές η λύση που παρέχεται μπορεί να σας φαίνεται ανούσια πολύπλοκη σε σχέση με τα ζητούμενα. Το πιθανότερο είναι να καταλήξατε στη ζητούμενη συμπεριφορά με λιγότερες γραμμές κώδικα. Θυμηθείτε όμως ότι, όπως έχουμε πει, ένα πρόβλημα μπορεί να υποστηρίζει τη χρήση διαφορετικών προσεγγίσεων. Η έκθεση σε διαφορετικές τεχνικές επίλυσης σας προσφέρει τη δυνατότητα να δείτε μεθόδους, πλην των προφανών, που μπορείτε να αξιοποιήσετε μελλοντικά.\n",
    "\n",
    "\n",
    "- Προσπαθείστε να κατανοήσετε τη λογική πίσω από τις λύσεις που παρέχονται. Αν έχετε απορίες σχετικά με τη λειτουργία και τη χρήση κάποιων συναρτήσεων ή δομών που δεν παρουσιάστηκαν στο μάθημα λόγω έλλειψης χρόνου, αφιερώστε αρκετό χρόνο στην αναζήτηση κατάλληλης τεκμηρίωσης (έντυπη και διαδικτυακή βιβλιογραφία, συμφοιτητές, διδάσκοντες κτλ).  "
   ]
  },
  {
   "cell_type": "markdown",
   "id": "debff64b",
   "metadata": {},
   "source": [
    "## Ασκήσεις"
   ]
  },
  {
   "cell_type": "markdown",
   "id": "22c9cb7e",
   "metadata": {},
   "source": [
    "### 1. Αριθμοί, συμβολοσειρές et al.\n",
    "---"
   ]
  },
  {
   "cell_type": "markdown",
   "id": "ea5e908e",
   "metadata": {},
   "source": [
    "1. Υπολογίστε τον ετήσιο φόρο που θα κληθεί να πληρώσει κάποιος που λαμβάνει μηνιαίο μισθό 900 ευρώ, αν η κλίμακα φορολόγησης είναι 50%."
   ]
  },
  {
   "cell_type": "code",
   "execution_count": 1,
   "id": "13920cf9",
   "metadata": {},
   "outputs": [
    {
     "name": "stdout",
     "output_type": "stream",
     "text": [
      "Annual tax amount: 5400.0\n"
     ]
    }
   ],
   "source": [
    "monthly_salary = 900\n",
    "tax_rate = 0.5\n",
    "fiscal_year_in_months = 12\n",
    "\n",
    "taxed_amount = (fiscal_year_in_months * monthly_salary) * tax_rate\n",
    "\n",
    "print(\"Annual tax amount:\", taxed_amount)"
   ]
  },
  {
   "cell_type": "markdown",
   "id": "d255dbf1",
   "metadata": {},
   "source": [
    "---"
   ]
  },
  {
   "cell_type": "markdown",
   "id": "e9c80dbd",
   "metadata": {},
   "source": [
    "2. Έστω συμβολοσειρά ``name = 'george'``. Γράψτε κώδικα ώστε η μεταβλητή ``name`` να περιέχει το όνομα με αρχικό κεφαλαίο γράμμα.\n",
    "\n",
    ">**Hint**: Στη python αυτό μπορεί να υλοποιηθεί σε μία γραμμή κώδικα."
   ]
  },
  {
   "cell_type": "code",
   "execution_count": 2,
   "id": "0dd97a21",
   "metadata": {},
   "outputs": [
    {
     "name": "stdout",
     "output_type": "stream",
     "text": [
      "George\n"
     ]
    }
   ],
   "source": [
    "name = 'george'\n",
    "\n",
    "# Method 1:\n",
    "# Using the str method capitalize\n",
    "name = name.capitalize()\n",
    "\n",
    "# Method 2: \n",
    "# using the str method replace\n",
    "name = name.replace(name[0], name[0].upper(), 1)\n",
    "\n",
    "print(name)"
   ]
  },
  {
   "cell_type": "markdown",
   "id": "90d595f4",
   "metadata": {},
   "source": [
    "---"
   ]
  },
  {
   "cell_type": "markdown",
   "id": "c2758980",
   "metadata": {},
   "source": [
    "### 2. Δομές δεδομένων και βρόγχοι επανάληψης"
   ]
  },
  {
   "cell_type": "markdown",
   "id": "49bf9153",
   "metadata": {},
   "source": [
    "3. Δημιουργείστε μία λίστα με στοιχεία τα γράμματα της συμβολοσειράς ``name`` της παραπάνω άσκησης χρησιμοποιώντας ένα βρόγχο επανάληψης for. Δοκιμάστε να κάνετε το ίδιο χρησιμοποιώντας συνοπτική λίστα."
   ]
  },
  {
   "cell_type": "code",
   "execution_count": 3,
   "id": "e1eb04f5",
   "metadata": {},
   "outputs": [
    {
     "name": "stdout",
     "output_type": "stream",
     "text": [
      "['G', 'e', 'o', 'r', 'g', 'e']\n",
      "['G', 'e', 'o', 'r', 'g', 'e']\n"
     ]
    }
   ],
   "source": [
    "# Initialize an empty list\n",
    "letters = []\n",
    "\n",
    "# Method 1: Regular for-loop\n",
    "for letter in name:\n",
    "    letters.append(letter)\n",
    "    \n",
    "print(letters)\n",
    "\n",
    "# Method 2: Using list comprehension\n",
    "letters_2 = [letter for letter in name]\n",
    "\n",
    "print(letters_2)"
   ]
  },
  {
   "cell_type": "markdown",
   "id": "8cd96cf1",
   "metadata": {},
   "source": [
    "---"
   ]
  },
  {
   "cell_type": "markdown",
   "id": "4f3ea272",
   "metadata": {},
   "source": [
    "4. Γράψτε κώδικα που ελέγχει αν μία λέξη είναι παλίνδρομη ή όχι (παλίνδρομη είναι μία λέξη που διαβάζεται το ίδιο μπρος και πίσω). Δεν χρειάζεται να ανησυχείτε για ειδικούς χαρακτήρες ή τονούμενα φωνήεντα. Θα πρέπει όμως να αντιμετωπίσετε την περίπτωση των κεφαλαίων/πεζών χαρακτήρων (ο χαρακτήρας \"A\" είναι διαφορετικός από τον χαρακτήρα \"a\").\n",
    "\n",
    ">**Hint**: Φτιάξτε μία λίστα με διάφορες λέξεις που θέλετε να ελέγξετε και χρησιμοποιήστε έναν βρόγχο-for για την προσπέλασή της."
   ]
  },
  {
   "cell_type": "code",
   "execution_count": 4,
   "id": "983f7b70",
   "metadata": {},
   "outputs": [
    {
     "name": "stdout",
     "output_type": "stream",
     "text": [
      "The word 'Python' is not a palindrome!\n",
      "The word 'anna' is a palindrome!\n",
      "The word 'MARIA' is not a palindrome!\n",
      "The word 'JOe' is not a palindrome!\n"
     ]
    }
   ],
   "source": [
    "# Some test words that do not contain any special character or accent\n",
    "test_words = ['Python', 'anna', 'MARIA', 'JOe']\n",
    "\n",
    "for word in test_words:\n",
    "\n",
    "    # Make sure all characters in string\n",
    "    # are lowercase\n",
    "    word_forward = word.lower()\n",
    "\n",
    "    # Get the word backwards\n",
    "    word_backward = word_forward[::-1] \n",
    "    # Or simply: word_backward = word.lower()[::-1]\n",
    "    # This way you can avoid using the \"word_forward\" variable (memory efficient)\n",
    "\n",
    "    if word_forward == word_backward:\n",
    "        print(f\"The word '{word}' is a palindrome!\")\n",
    "    else:\n",
    "        print(f\"The word '{word}' is not a palindrome!\")"
   ]
  },
  {
   "cell_type": "markdown",
   "id": "e0aea202",
   "metadata": {},
   "source": [
    "---"
   ]
  },
  {
   "cell_type": "markdown",
   "id": "71badc63",
   "metadata": {},
   "source": [
    "5. Χρησιμοποιήστε τις δομές ``for`` και ``if`` καθώς και την μέθοδο ``.split()`` της κλάσης ``<string>`` ώστε να γράψετε κώδικα που θα τυπώνει τις λέξεις που ξεκινάνε με το γράμμα 's' από την πρόταση που σας δίνεται στο παρακάτω κελί."
   ]
  },
  {
   "cell_type": "code",
   "execution_count": 5,
   "id": "d1316fd7",
   "metadata": {},
   "outputs": [],
   "source": [
    "st = \"Print only the words that start with s in this sentence\""
   ]
  },
  {
   "cell_type": "code",
   "execution_count": 6,
   "id": "9f280615",
   "metadata": {},
   "outputs": [
    {
     "name": "stdout",
     "output_type": "stream",
     "text": [
      "start\n",
      "s\n",
      "sentence\n"
     ]
    }
   ],
   "source": [
    "words = st.split(\" \")\n",
    "\n",
    "for word in words:\n",
    "    if word[0] == 's':\n",
    "        print(word)"
   ]
  },
  {
   "cell_type": "markdown",
   "id": "5bc16fbf",
   "metadata": {},
   "source": [
    "---"
   ]
  },
  {
   "cell_type": "markdown",
   "id": "e41e3919",
   "metadata": {},
   "source": [
    "6. Χρησιμοποιήστε τον γεννήτορα ``range()`` ώστε να τυπώστε όλους τους άρτιους αριθμούς μεταξύ του 0 και του 10."
   ]
  },
  {
   "cell_type": "code",
   "execution_count": 7,
   "id": "1eef69a7",
   "metadata": {},
   "outputs": [
    {
     "name": "stdout",
     "output_type": "stream",
     "text": [
      "0\n",
      "2\n",
      "4\n",
      "6\n",
      "8\n",
      "10\n"
     ]
    }
   ],
   "source": [
    "for i in range(0,11):\n",
    "    if i % 2 == 0:\n",
    "        print(i)"
   ]
  },
  {
   "cell_type": "markdown",
   "id": "f15ecc24",
   "metadata": {},
   "source": [
    "---"
   ]
  },
  {
   "cell_type": "markdown",
   "id": "9188b942",
   "metadata": {},
   "source": [
    "7. Χρησιμοποιήστε μία συνοπτική λίστα για να δημιουργήσετε μία λίστα με όλους του αριθμούς μεταξύ του 1 και του 50 που διαιρούνται με το 3."
   ]
  },
  {
   "cell_type": "code",
   "execution_count": 8,
   "id": "ee28163f",
   "metadata": {},
   "outputs": [
    {
     "data": {
      "text/plain": [
       "[3, 6, 9, 12, 15, 18, 21, 24, 27, 30, 33, 36, 39, 42, 45, 48]"
      ]
     },
     "execution_count": 8,
     "metadata": {},
     "output_type": "execute_result"
    }
   ],
   "source": [
    "l = [x for x in range(1,51) if x%3 == 0]\n",
    "l"
   ]
  },
  {
   "cell_type": "markdown",
   "id": "a5ebd9d7",
   "metadata": {},
   "source": [
    "---"
   ]
  },
  {
   "cell_type": "markdown",
   "id": "28f23503",
   "metadata": {},
   "source": [
    "8. Γράψτε κώδικα που να τυπώνει \"Word '...' is even!\" αν το μήκος της λέξης στην παρακάτω συμβολοσειρά είναι άρτιος αριθμός.\n",
    ">**Σημείωση**: Τα \"...\" θα πρέπει να αντικατασταθούν με την λέξη που ικανοποιεί την εν λόγω συνθήκη. Γι' αυτό το σκόπο, χρησιμοποιήστε όποια μέθοδο string formatting επιθυμείτε."
   ]
  },
  {
   "cell_type": "code",
   "execution_count": 9,
   "id": "ad0fc69d",
   "metadata": {},
   "outputs": [],
   "source": [
    "st = \"Print every word in this sentence that has an even number of letters\""
   ]
  },
  {
   "cell_type": "code",
   "execution_count": 10,
   "id": "b8b228c0",
   "metadata": {},
   "outputs": [
    {
     "name": "stdout",
     "output_type": "stream",
     "text": [
      "Word 'word' is even!\n",
      "Word 'in' is even!\n",
      "Word 'this' is even!\n",
      "Word 'sentence' is even!\n",
      "Word 'that' is even!\n",
      "Word 'an' is even!\n",
      "Word 'even' is even!\n",
      "Word 'number' is even!\n",
      "Word 'of' is even!\n"
     ]
    }
   ],
   "source": [
    "for word in st.split(\" \"):\n",
    "    if len(word) % 2 == 0:\n",
    "        print(f\"Word {word!r} is even!\")"
   ]
  },
  {
   "cell_type": "markdown",
   "id": "6325f6bc",
   "metadata": {},
   "source": [
    "---"
   ]
  },
  {
   "cell_type": "markdown",
   "id": "73902924",
   "metadata": {},
   "source": [
    "9. Χρησιμοποιήστε συνοπτική λίστα για να δημιουργήσετε μία λίστα με το πρώτο γράμμα της κάθε λέξης από την πρόταση που σας δίνεται στο παρακάτω κελί"
   ]
  },
  {
   "cell_type": "code",
   "execution_count": 11,
   "id": "a24f3cab",
   "metadata": {},
   "outputs": [],
   "source": [
    "st = \"Create a list of the first letters of every word in this string\""
   ]
  },
  {
   "cell_type": "code",
   "execution_count": 12,
   "id": "8f6f84d1",
   "metadata": {},
   "outputs": [
    {
     "data": {
      "text/plain": [
       "['C', 'a', 'l', 'o', 't', 'f', 'l', 'o', 'e', 'w', 'i', 't', 's']"
      ]
     },
     "execution_count": 12,
     "metadata": {},
     "output_type": "execute_result"
    }
   ],
   "source": [
    "l = [word[0] for word in st.split(\" \")]\n",
    "l"
   ]
  },
  {
   "cell_type": "markdown",
   "id": "7b8772c5",
   "metadata": {},
   "source": [
    "---"
   ]
  },
  {
   "cell_type": "markdown",
   "id": "4e9857b1",
   "metadata": {},
   "source": [
    "10. Εάν απαριθμήσουμε όλους τους φυσικούς αριθμούς μικρότερων του 10 που είναι πολλαπλάσια του 3 ή του 5, παίρνουμε 3, 5, 6 και 9. Το άθροισμα αυτών των πολλαπλάσιων είναι 23.\n",
    "Βρείτε το άθροισμα όλων των πολλαπλάσιων του 3 ή του 5 για όλους τους αριθμούς μικρότερων του 1000.\n",
    ">**Hint**: Το πρόβλημα μπορεί να λυθεί με δύο γραμμές κώδικα. Η πρώτη από αυτές είναι: \n",
    "```python\n",
    "           numbers = np.arange(1, 1000, 1)\n",
    "```"
   ]
  },
  {
   "cell_type": "code",
   "execution_count": 13,
   "id": "8242bc5c",
   "metadata": {},
   "outputs": [
    {
     "name": "stdout",
     "output_type": "stream",
     "text": [
      "The total sum is: 233168\n"
     ]
    }
   ],
   "source": [
    "# A way to solve this problem is the following\n",
    "i = 1\n",
    "total = 0\n",
    "\n",
    "while i < 1000:\n",
    "    if (i % 3 == 0) or (i % 5 == 0):\n",
    "        total = total + i\n",
    "    i = i + 1\n",
    "        \n",
    "print(\"The total sum is:\", total) "
   ]
  },
  {
   "cell_type": "code",
   "execution_count": 14,
   "id": "3104d856",
   "metadata": {},
   "outputs": [
    {
     "name": "stdout",
     "output_type": "stream",
     "text": [
      "The total sum is: 233168\n"
     ]
    }
   ],
   "source": [
    "# The pythonic way is the following\n",
    "import numpy as np\n",
    "\n",
    "numbers = np.arange(1, 1000, 1)\n",
    "sum_of_multiples = sum([x for x in numbers if (x%3==0 or x%5==0)])\n",
    "\n",
    "print(\"The total sum is:\", sum_of_multiples)"
   ]
  },
  {
   "cell_type": "markdown",
   "id": "765aa979",
   "metadata": {},
   "source": [
    "---"
   ]
  },
  {
   "cell_type": "markdown",
   "id": "df476394",
   "metadata": {},
   "source": [
    "11. Στο παρακάτω κελί σας δίνεται ένας αριθμός με 1000 ψηφία σε μορφή συμβολοσειράς. Τα τέσσερα γειτονικά ψηφία με το μέγιστο δυνατό γινόμενο είναι $9 \\times 9 \\times 8 \\times 9 = 5832$.\n",
    "Βρείτε το συνδυασμό των δεκατριών γειτονικών ψηφίων αυτού του 1000-ψήφιου αριθμού που έχουν το μέγιστο γινόμενο. Ποιά είναι η τιμή αυτού του γινομένου;\n",
    "> **Hint**: Φτιάξτε ένα λεξικό όπου θα κρατάτε τον κάθε συνδυασμό που εξετάζετε ως το \"κλειδί\" και το γινόμενο του συνδυασμού ως την \"τιμή\" αυτού του κλειδιού. Προσέξτε τους χαρακτήρες που εισάγουν νέα γραμμή στη συμβολοσειρά."
   ]
  },
  {
   "cell_type": "code",
   "execution_count": 15,
   "id": "903b4b5d",
   "metadata": {},
   "outputs": [],
   "source": [
    "number = \"\"\"\n",
    "73167176531330624919225119674426574742355349194934\n",
    "96983520312774506326239578318016984801869478851843\n",
    "85861560789112949495459501737958331952853208805511\n",
    "12540698747158523863050715693290963295227443043557\n",
    "66896648950445244523161731856403098711121722383113\n",
    "62229893423380308135336276614282806444486645238749\n",
    "30358907296290491560440772390713810515859307960866\n",
    "70172427121883998797908792274921901699720888093776\n",
    "65727333001053367881220235421809751254540594752243\n",
    "52584907711670556013604839586446706324415722155397\n",
    "53697817977846174064955149290862569321978468622482\n",
    "83972241375657056057490261407972968652414535100474\n",
    "82166370484403199890008895243450658541227588666881\n",
    "16427171479924442928230863465674813919123162824586\n",
    "17866458359124566529476545682848912883142607690042\n",
    "24219022671055626321111109370544217506941658960408\n",
    "07198403850962455444362981230987879927244284909188\n",
    "84580156166097919133875499200524063689912560717606\n",
    "05886116467109405077541002256983155200055935729725\n",
    "71636269561882670428252483600823257530420752963450\n",
    "\"\"\""
   ]
  },
  {
   "cell_type": "code",
   "execution_count": 16,
   "id": "6e6b02ab",
   "metadata": {},
   "outputs": [],
   "source": [
    "# Replace all newline characters with an empty character\n",
    "number = number.replace('\\n', '')\n",
    "\n",
    "# Create 13-digit long combinations\n",
    "starting_index = 0\n",
    "ending_index = 13\n",
    "\n",
    "# Dictionary to keep key--value pairs of the combination--product\n",
    "log_keeper = {}\n",
    "\n",
    "while ending_index < len(number)-1:\n",
    "    combo = ''\n",
    "    product = 1\n",
    "    for i in number[starting_index:ending_index]:\n",
    "        combo = combo + i\n",
    "        product = product * int(i)\n",
    "        \n",
    "    # Update the dictionary\n",
    "    log_keeper[combo] = product\n",
    "    \n",
    "    # Move forward by one digit\n",
    "    starting_index += 1\n",
    "    ending_index += 1"
   ]
  },
  {
   "cell_type": "code",
   "execution_count": 17,
   "id": "4f6f54fa",
   "metadata": {},
   "outputs": [
    {
     "name": "stdout",
     "output_type": "stream",
     "text": [
      "The thirteen adjacent digits 5576689664895 have the greatest product of 23514624000\n"
     ]
    }
   ],
   "source": [
    "for key, value in log_keeper.items():\n",
    "    if value == max(log_keeper.values()):\n",
    "        print('The thirteen adjacent digits {} have the greatest product of {}'.format(key, value))\n",
    "        break"
   ]
  },
  {
   "cell_type": "code",
   "execution_count": 18,
   "id": "e2d0ce40",
   "metadata": {},
   "outputs": [
    {
     "name": "stdout",
     "output_type": "stream",
     "text": [
      "The thirteen adjacent digits 5576689664895 have the greatest product of 23514624000\n",
      "The thirteen adjacent digits 5576689664895 have the greatest product of 23514624000\n"
     ]
    }
   ],
   "source": [
    "# ----\n",
    "# Check two alternative ways to unpack key-value pairs. Try to figure out the functionallity\n",
    "# of the built-in functions zip() and enumerate()!\n",
    "\n",
    "# # Unpack keys (combinations) and values (products)\n",
    "key_list = list(log_keeper.keys())\n",
    "val_list = list(log_keeper.values())\n",
    "\n",
    "\n",
    "# Find the combo with the greatest product using the built-in zip function\n",
    "for key, value in zip(key_list, val_list):\n",
    "    if value == max(val_list):\n",
    "        print('The thirteen adjacent digits {} have the greatest product of {}'.format(key, value))\n",
    "        break\n",
    "\n",
    "# Find the combo with the greatest product using the built-in enumerate function\n",
    "for idx, val in enumerate(val_list):\n",
    "    if val == max(val_list):\n",
    "        combo = key_list[idx]\n",
    "        print('The thirteen adjacent digits {} have the greatest product of {}'.format(combo, val))\n",
    "        break"
   ]
  },
  {
   "cell_type": "markdown",
   "id": "b057ec14",
   "metadata": {},
   "source": [
    "---"
   ]
  }
 ],
 "metadata": {
  "kernelspec": {
   "display_name": "Python 3 (ipykernel)",
   "language": "python",
   "name": "python3"
  },
  "language_info": {
   "codemirror_mode": {
    "name": "ipython",
    "version": 3
   },
   "file_extension": ".py",
   "mimetype": "text/x-python",
   "name": "python",
   "nbconvert_exporter": "python",
   "pygments_lexer": "ipython3",
   "version": "3.9.13"
  }
 },
 "nbformat": 4,
 "nbformat_minor": 5
}
