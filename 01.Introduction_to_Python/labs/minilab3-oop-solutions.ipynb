{
 "cells": [
  {
   "cell_type": "markdown",
   "id": "9f7ffe61",
   "metadata": {},
   "source": [
    "# minilab3: Ασκήσεις εξάσκησης - Εισαγωγή στη Python"
   ]
  },
  {
   "cell_type": "markdown",
   "id": "880ce32e",
   "metadata": {},
   "source": [
    "## Μερικά σχόλια για τις λύσεις\n",
    "\n",
    "- Οι λύσεις που παρέχονται εδώ είναι ενδεικτικές. Υπάρχουν πολλοί τρόποι επίλυσης των προβλημάτων.\n",
    "\n",
    "\n",
    "- Ένας αλγόριθμος μπορεί να δουλεύει ικανοποιητικά για ένα συγκεκριμένο πρόβλημα αλλά γρήγορα να γίνεται μη-αποδοτικός όταν αυξάνεται ο όγκος των δεδομένων που θέλουμε να επεξεργαστούμε (π.χ. χρήση εμφολευμένων βρόγχων επανάληψης). Η επίδοση ενός αλγορίθμου και η δυνατότητά του να κλιμακώνεται με τον όγκο των δεδομένων είναι κάτι το εξαιρετικά σημαντικό που δυστυχώς δεν έχουμε το χρόνο να συζητήσουμε διεξοδικά. Με τη συνεχή εξάσκηση θα είστε σε θέση να αναγνωρίζετε κακογραμμένο κώδικα, μεθόδους βελτιστοποίησής του κτλ.\n",
    "\n",
    "\n",
    "- Μερικές φορές η λύση που παρέχεται μπορεί να σας φαίνεται ανούσια πολύπλοκη σε σχέση με τα ζητούμενα. Το πιθανότερο είναι να καταλήξατε στη ζητούμενη συμπεριφορά με λιγότερες γραμμές κώδικα. Θυμηθείτε όμως ότι, όπως έχουμε πει, ένα πρόβλημα μπορεί να υποστηρίζει τη χρήση διαφορετικών προσεγγίσεων. Η έκθεση σε διαφορετικές τεχνικές επίλυσης σας προσφέρει τη δυνατότητα να δείτε μεθόδους, πλην των προφανών, που μπορείτε να αξιοποιήσετε μελλοντικά.\n",
    "\n",
    "\n",
    "- Προσπαθείστε να κατανοήσετε τη λογική πίσω από τις λύσεις που παρέχονται. Αν έχετε απορίες σχετικά με τη λειτουργία και τη χρήση κάποιων συναρτήσεων ή δομών που δεν παρουσιάστηκαν στο μάθημα λόγω έλλειψης χρόνου, αφιερώστε αρκετό χρόνο στην αναζήτηση κατάλληλης τεκμηρίωσης (έντυπη και διαδικτυακή βιβλιογραφία, συμφοιτητές, διδάσκοντες κτλ).  "
   ]
  },
  {
   "cell_type": "markdown",
   "id": "debff64b",
   "metadata": {},
   "source": [
    "## Ασκήσεις"
   ]
  },
  {
   "cell_type": "markdown",
   "id": "22c9cb7e",
   "metadata": {},
   "source": [
    "Αντικειμενοστρεφής Προγραμματισμός\n",
    "---"
   ]
  },
  {
   "cell_type": "markdown",
   "id": "7de2eb01",
   "metadata": {},
   "source": [
    "1. Θέλουμε να οργανώσουμε τα δεδομένα που αφορούν προπτυχιακούς φοιτητές ενός Πανεπιστημίου σε μία κλάση.\n",
    "\n",
    "- Φτιάξτε μία κλάση ``Student`` όπου το κάθε αντικείμενο (φοιτητής) της κλάσης θα ορίζεται βάσει του ονόματος (``first_name``), επιθέτου (``last_name``) και αριθμού μητρώου (``id_number``).\n",
    "\n",
    "    \n",
    "- Δημιουργήστε μία **ιδιότητα της κλάσης** (class attribute) με το όνομα ``total_students`` όπου θα κρατάει τον συνολικό αριθμό των προπτυχιακών φοιτητών του Πανεπιστημίου. Μία ιδιότητα της κλάσης είναι μία μεταβλητή που μοιράζεται από όλα τα αντικείμενα της κλάσης (ανάλογη μιας global μεταβλητής).\n",
    "\n",
    "    \n",
    "- Επίσης, ας υποθέσουμε ότι τα συνολικά μαθήματα που πρέπει να περάσει ένας προπτυχιακός φοιτητής αυτού του Πανεπιστημίου είναι 40. Φτιάξτε δύο **ιδιότητες στιγμιοτύπων** (instance attributes) με τα ονόματα ``courses_to_pass`` και ``passed_courses`` όπου θα αρχικοποιούνται με τις τιμές 40 και 0 αντίστοιχα, την στιγμή που δημιουργείται ένα νέο αντικείμενο.\n",
    "\n",
    "    \n",
    "- Γράψτε δύο **accessor methods** που θα επιστρέφουν το πλήρες όνομα του φοιτητή (``get_full_name``) και την ηλικία του (``get_age``).\n",
    "    \n",
    "    \n",
    "- Γράψτε δύο **mutator methods** που θα αποθηκεύουν την ηλικία του φοιτητή (``set_age``) και τα μαθήματα που πέρασε σε κάποια εξεταστική (``set_passed_courses``). Η τελευταία μέθοδος θα πρέπει προφανώς να ενημερώνει τις δύο μεταβλητές ``courses_to_pass``, ``passed_courses`` που ορίσατε αρχικά ώστε να αντικατοπτρίζουν την τωρινή κατάσταση των χρωστούμενων μαθημάτων.\n",
    "    \n",
    "    Η τελική σας κλάση θα πρέπει να περνάει τα τεστ που υπάρχουν στο επόμενο κελί."
   ]
  },
  {
   "cell_type": "code",
   "execution_count": 1,
   "id": "fb1c360f",
   "metadata": {},
   "outputs": [],
   "source": [
    "class Student:\n",
    "\n",
    "    # Class attribute shared by all instances\n",
    "    total_students = 0\n",
    "\n",
    "    # Constructor\n",
    "    def __init__(self, first_name, last_name, id_number, age=None):\n",
    "        \"\"\"Initialize (construct) a Student object\"\"\"\n",
    "        self.first = first_name\n",
    "        self.last = last_name\n",
    "        self.id_number = id_number\n",
    "        self.age = age\n",
    "\n",
    "        # Instance attributes/variables\n",
    "        self.courses_to_pass = 40\n",
    "        self.passed_courses = 0\n",
    "\n",
    "        # Each time a new Student object is created\n",
    "        # increment this class attribute by one\n",
    "        Student.total_students += 1\n",
    "\n",
    "\n",
    "    # Getters\n",
    "    def get_full_name(self):\n",
    "        return f\"{self.first} {self.last}\"\n",
    "\n",
    "    def get_age(self):\n",
    "        return self.age\n",
    "\n",
    "\n",
    "    # Setters\n",
    "    def set_age(self, age):\n",
    "        self.age = age\n",
    "        return None\n",
    "\n",
    "    def set_passed_courses(self, num):\n",
    "        self.passed_courses = self.passed_courses + num\n",
    "        self.courses_to_pass = self.courses_to_pass - num\n",
    "        return None"
   ]
  },
  {
   "cell_type": "code",
   "execution_count": 2,
   "id": "fae18288",
   "metadata": {},
   "outputs": [
    {
     "name": "stdout",
     "output_type": "stream",
     "text": [
      "TEST 1 PASSED\n",
      "TEST 2 PASSED\n",
      "TEST 3 PASSED\n",
      "TEST 4 PASSED\n",
      "TEST 5 PASSED\n",
      "TEST 6 PASSED\n"
     ]
    }
   ],
   "source": [
    "# Testing the Student class\n",
    "from unittest import TestCase\n",
    "\n",
    "class TestStudent(TestCase):\n",
    "    \n",
    "    def assert_name(self):\n",
    "        s = Student(\"Joe\", \"Doe\", id_number=1234)\n",
    "        assert s.get_full_name() == \"Joe Doe\", \"get_full_name test failed\"\n",
    "        print(\"TEST 1 PASSED\")\n",
    "        \n",
    "    def assert_age(self):\n",
    "        s = Student(\"Joe\", \"Doe\", id_number=1234)\n",
    "        assert s.get_age() is None, \"get_age test failed\"\n",
    "        print(\"TEST 2 PASSED\")  \n",
    "        \n",
    "    def assert_set_age(self):\n",
    "        s = Student(\"Joe\", \"Doe\", id_number=1234)\n",
    "        s.set_age(20)\n",
    "        assert s.get_age() == 20, \"set_age test failed\"\n",
    "        print(\"TEST 3 PASSED\")\n",
    "    \n",
    "    def assert_passed_courses(self):\n",
    "        s = Student(\"Joe\", \"Doe\", id_number=1234)\n",
    "        assert s.passed_courses == 0, \"passed_courses failed\"\n",
    "        print(\"TEST 4 PASSED\")  \n",
    "        \n",
    "    def assert_courses_to_pass(self):\n",
    "        s = Student(\"Joe\", \"Doe\", id_number=1234)\n",
    "        assert s.courses_to_pass == 40, \"courses_to_pass failed\"\n",
    "        print(\"TEST 5 PASSED\")  \n",
    "        \n",
    "    def assert_set_passed_courses(self):\n",
    "        s = Student(\"Joe\", \"Doe\", id_number=1234)\n",
    "        s.set_passed_courses(6)\n",
    "        assert (s.passed_courses == 6) and (s.courses_to_pass == 34), \"set_passed_courses failed\"\n",
    "        print(\"TEST 6 PASSED\")\n",
    "        \n",
    "test = TestStudent()\n",
    "test.assert_name()\n",
    "test.assert_age()\n",
    "test.assert_set_age()\n",
    "test.assert_passed_courses()\n",
    "test.assert_courses_to_pass()\n",
    "test.assert_set_passed_courses()"
   ]
  },
  {
   "cell_type": "markdown",
   "id": "b948410b",
   "metadata": {},
   "source": [
    "---"
   ]
  },
  {
   "cell_type": "markdown",
   "id": "7e221b23",
   "metadata": {},
   "source": [
    "2. Θέλουμε να φτιάξουμε μία κλάση που θα δημιουργεί ένα αντικείμενο βάσει τις συντεταγμένες του στο καρτεσιανό επίπεδο και θα μπορεί να υπολογίζει την Ευκλείδια απόσταση μεταξύ δύο τέτοιων αντικειμένων.\n",
    "\n",
    "- Φτιάξτε μία κλάση ``Coordinates`` όπου το κάθε στιγμιότυπο της κλάσης θα ορίζεται βάσει δύο τιμών x, y που θα υποδηλώνουν τις συντεταγμένες στο καρτεσιανό επίπεδο.\n",
    "\n",
    "    \n",
    "- Όταν ο χρήστης προσπαθεί να εκτυπώσει ένα στιγμιότυπο της κλάσης, τότε θα πρέπει να εμφανίζεται στην οθόνη το ζευγάρι των συντεταγμένων με τη μορφή ``<x,y>``.\n",
    "\n",
    "    \n",
    "- Γράψτε μία μέθοδο ``distance`` για να υπολογίζετε την Ευκλείδια απόσταση μεταξύ δύο αντικειμένων της κλάσης. Υπενθυμίζουμε ότι η Ευκλείδια απόσταση δίνεται από την σχέση: $$d = \\sqrt{(x - x_0)^2 + (y-y_0)^2}$$\n",
    "\n",
    "    \n",
    "- Δημιουργήστε δύο στιγμιότυπα της κλάσης σας και βρείτε την απόσταση μεταξύ τους χρησιμοποιώντας δύο διαφορετικούς τρόπους για να καλέσετε την μέθοδο ``distance``: έναν όπου θα χρησιμοποιείτε το dot notation και έναν όπου θα καλείτε την μέθοδο μέσω του ονόματος της κλάσης. \n",
    "    \n",
    "    Η τελική σας κλάση θα πρέπει να περνάει τα τεστ που υπάρχουν στο επόμενο κελί."
   ]
  },
  {
   "cell_type": "code",
   "execution_count": 3,
   "id": "3cb05b50",
   "metadata": {},
   "outputs": [],
   "source": [
    "class Coordinates(object):\n",
    "\n",
    "    def __init__(self, x, y):\n",
    "        self.x = x\n",
    "        self.y = y\n",
    "\n",
    "    def __str__(self):\n",
    "        return (f\"<{self.x},{self.y}>\")\n",
    "\n",
    "    def distance(self, other):\n",
    "        x_diff_sqr = (self.x - other.x)**2\n",
    "        y_diff_sqr = (self.y - other.y)**2\n",
    "\n",
    "        return (x_diff_sqr + y_diff_sqr)**0.5"
   ]
  },
  {
   "cell_type": "code",
   "execution_count": 4,
   "id": "bbe9fb06",
   "metadata": {},
   "outputs": [
    {
     "name": "stdout",
     "output_type": "stream",
     "text": [
      "3.1622776601683795\n",
      "3.1622776601683795\n"
     ]
    }
   ],
   "source": [
    "# Instantiate two Coordinates objects p0 and p1\n",
    "p0 = Coordinates(1,2)\n",
    "p1 = Coordinates(4,3)\n",
    "\n",
    "# One way to access the distance method\n",
    "print(p0.distance(p1))\n",
    "\n",
    "# Another way to access the distance method\n",
    "print(Coordinates.distance(p0, p1))"
   ]
  },
  {
   "cell_type": "code",
   "execution_count": 5,
   "id": "be9b4948",
   "metadata": {},
   "outputs": [
    {
     "name": "stdout",
     "output_type": "stream",
     "text": [
      "TEST 1 PASSED\n",
      "TEST 2 PASSED\n"
     ]
    }
   ],
   "source": [
    "# Testing the Coordinates class\n",
    "from io import StringIO\n",
    "from unittest import TestCase\n",
    "from unittest.mock import patch\n",
    "\n",
    "class TestCoordinates(TestCase):\n",
    "    \n",
    "    def assert_stdout(self):\n",
    "        expected_output = \"<0,0>\\n<3,4>\\n\"\n",
    "        try:\n",
    "            with patch('sys.stdout', new = StringIO()) as fake_out:\n",
    "                p0 = Coordinates(0,0)\n",
    "                p1 = Coordinates(3,4)\n",
    "                print(p0)\n",
    "                print(p1)\n",
    "                self.assertEqual(fake_out.getvalue(), expected_output)\n",
    "        except AssertionError:\n",
    "            raise AssertionError(\"__str__ test failed\")\n",
    "        print(\"TEST 1 PASSED\")\n",
    "        \n",
    "    def assert_distance(self):\n",
    "        p0 = Coordinates(0,0)\n",
    "        p1 = Coordinates(3,4)\n",
    "        assert p0.distance(p1) == 5.0, \"distance test failed\"\n",
    "        assert Coordinates.distance(p0, p1) == 5.0, \"distance test failed\"\n",
    "        print(\"TEST 2 PASSED\")\n",
    "\n",
    "        \n",
    "            \n",
    "\n",
    "test = TestCoordinates()\n",
    "test.assert_stdout()\n",
    "test.assert_distance()"
   ]
  },
  {
   "cell_type": "markdown",
   "id": "d40f9600",
   "metadata": {},
   "source": [
    "---"
   ]
  },
  {
   "cell_type": "markdown",
   "id": "ea5e908e",
   "metadata": {},
   "source": [
    "3. Σε αυτήν την άσκηση θέλουμε να εξερευνήσουμε τις ειδικές μεθόδους ``__iter__`` και ``__next__`` που σχετίζονται με την ιδιότητα ενός αντικειμένου να είναι επαναλήψιμο ή όχι.\n",
    "\n",
    "- Γράψτε μία κλάση ``Sentence``. Κάθε instance της κλάσης θα αρχικοποιείται με μία πρόταση η οποία θα δίνεται με τη μορφή συμβολοσειράς.\n",
    "\n",
    "\n",
    "- Φτιάξτε ένα instance attribute ``words`` το οποίο θα περιέχει τις λέξεις που αποτελούν την πρόταση.\n",
    "\n",
    "\n",
    "- Κάντε την κλάση σας να είναι επαναλήψιμη (iterable **and** iterator) χρησιμοποιώντας τις ειδικές συναρτήσεις ``__iter__`` και ``__next__``. Αναζητείστε στο διαδίκτυο τις διαφορές μεταξύ ενός iterable αντικειμένου και ενός iterator, καθώς και την έννοια των generators. Μία καλή αρχή είναι [εδώ](https://book.pythontips.com/en/latest/generators.html)."
   ]
  },
  {
   "cell_type": "code",
   "execution_count": 6,
   "id": "13920cf9",
   "metadata": {},
   "outputs": [],
   "source": [
    "class Sentence:\n",
    "    \n",
    "    def __init__(self, sentence):\n",
    "        self.sentence = sentence\n",
    "        self.words = self.sentence.split(\" \")\n",
    "        self.idx = 0\n",
    "  \n",
    "    # This method has to return an iterator\n",
    "    # This means an object that has a __next__ method\n",
    "    # Since we will create such a method below, we can\n",
    "    # simply return the same object from the __iter__ method\n",
    "    def __iter__(self):\n",
    "        return self\n",
    "\n",
    "    # This method will make the self object an iterator\n",
    "    def __next__(self):\n",
    "        if self.idx >= len(self.words):\n",
    "            raise StopIteration\n",
    "\n",
    "        current_word = self.words[self.idx]\n",
    "        self.idx += 1\n",
    "        return current_word"
   ]
  },
  {
   "cell_type": "code",
   "execution_count": 7,
   "id": "beda5773",
   "metadata": {},
   "outputs": [
    {
     "name": "stdout",
     "output_type": "stream",
     "text": [
      "This\n",
      "is\n",
      "a\n",
      "sentence\n",
      "------------------------------\n",
      "This\n",
      "is\n",
      "another\n",
      "sentence\n"
     ]
    }
   ],
   "source": [
    "# Sanity checks\n",
    "sentence = Sentence(\"This is a sentence\")\n",
    "\n",
    "for word in sentence:\n",
    "    print(word)\n",
    "    \n",
    "\n",
    "print(\"-\" * 30)\n",
    "\n",
    "\n",
    "# The __next__ method makes the class an iterator so it remembers\n",
    "# the state where they left off in the iteration.\n",
    "# For this reason we can call the next() method\n",
    "# until we run out of words and an iteration error is raised\n",
    "sentence2 = Sentence(\"This is another sentence\")\n",
    "\n",
    "print(next(sentence2))\n",
    "print(next(sentence2))\n",
    "print(next(sentence2))\n",
    "print(next(sentence2))\n",
    "# print(next(sentence2)) # This will throw an iteration error"
   ]
  },
  {
   "cell_type": "markdown",
   "id": "d255dbf1",
   "metadata": {},
   "source": [
    "---"
   ]
  },
  {
   "cell_type": "markdown",
   "id": "e9c80dbd",
   "metadata": {},
   "source": [
    "**BONUS**: Με τις συναρτήσεις ``__iter__`` και ``__next__`` ουσιαστικά δώσαμε στην κλάση μας την λειτουργικότητα ενός generator. Ένας generator μοιάζει πολύ με μία συνάρτηση αλλά αντί να επιστρέφει κάποιο αποτέλεσμα, απλά παράγει μία τιμή μέχρι να κληθεί ξανά και να παράγει την επόμενη τιμή. Άρα ένας generator είναι και αυτός ένας iterator, αλλά σε αυτή την περίπτωση οι μέθοδοι ``__iter__`` και ``__next__`` δημιουργούνται αυτόματα και άρα δεν χρειάζεται να τις φτιάξουμε εμείς όπως κάναμε στην κλάση μας. Δείτε [εδώ](https://wiki.python.org/moin/Generators) για πληροφορίες.\n",
    "\n",
    "Για να πείσετε τον εαυτό σας, κατασκευάστε έναν generator που κάνει την ίδια ακριβώς δουλειά με αυτή της κλάσης που φτιάξατε προηγουμένως."
   ]
  },
  {
   "cell_type": "code",
   "execution_count": 8,
   "id": "0dd97a21",
   "metadata": {},
   "outputs": [
    {
     "name": "stdout",
     "output_type": "stream",
     "text": [
      "This\n",
      "is\n",
      "yet\n",
      "another\n",
      "sentence\n"
     ]
    }
   ],
   "source": [
    "# A generator yields a value and remains\n",
    "# in this state until it is called again\n",
    "# and yield the next value.\n",
    "def word_generator(sentence):\n",
    "    \"\"\"\n",
    "       This is a generator that does the same \n",
    "       job as the Sentence class.\n",
    "    \"\"\"\n",
    "    words = sentence.split()\n",
    "    \n",
    "    for word in words:\n",
    "        yield word # Note the usage of \"yield\" in generators\n",
    "                   # instead of \"return\" like in the case of functions !\n",
    "        \n",
    "# Sanity check\n",
    "sentence3 = \"This is yet another sentence\"\n",
    "\n",
    "# Call the generator repeatedly\n",
    "for word in word_generator(sentence3):\n",
    "    print(word)"
   ]
  },
  {
   "cell_type": "markdown",
   "id": "90d595f4",
   "metadata": {},
   "source": [
    "---"
   ]
  }
 ],
 "metadata": {
  "kernelspec": {
   "display_name": "Python 3 (ipykernel)",
   "language": "python",
   "name": "python3"
  },
  "language_info": {
   "codemirror_mode": {
    "name": "ipython",
    "version": 3
   },
   "file_extension": ".py",
   "mimetype": "text/x-python",
   "name": "python",
   "nbconvert_exporter": "python",
   "pygments_lexer": "ipython3",
   "version": "3.9.13"
  }
 },
 "nbformat": 4,
 "nbformat_minor": 5
}
