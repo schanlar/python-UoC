{
 "cells": [
  {
   "cell_type": "markdown",
   "id": "9f7ffe61",
   "metadata": {},
   "source": [
    "# Ασκήσεις εξάσκησης - Εισαγωγή στη Python"
   ]
  },
  {
   "cell_type": "markdown",
   "id": "880ce32e",
   "metadata": {},
   "source": [
    "## Μερικά σχόλια\n",
    "\n",
    "- Οι ασκήσεις αυτές προσπαθούν να καλύψουν ένα ευρύ μέρος του εννοιακού φάσματος που συζητήσαμε στο μάθημα.\n",
    "\n",
    "\n",
    "- Πολλές από αυτές τις ασκήσεις μπορεί να απαιτούν χρήση εργαλείων και μεθόδων τις οποίες αναφέραμε αλλά δεν είχαμε τον χρόνο να συζητήσουμε εις βάθος.\n",
    "\n",
    "\n",
    "- Γι' αυτό το λόγο, θα χρειαστεί να καταφύγετε στη τεκμηρίωση συναρτήσεων και μεθόδων μέσω αναζήτησης στο διαδίκτυο. Google is your friend!\n",
    "\n",
    "\n",
    "- Προσπαθήστε να μην ψάχνετε στο διαδίκτυο για τη λύση του προβλήματος αλλά για τεχνικές, βιβλιοθήκες και εργαλεία που θα σας βοηθήσουν να καταστρώσετε ένα σχέδιο επίλυσης.\n",
    "\n",
    "\n",
    "- Don't cheat on yourself! Ο σκοπός αυτών των μαθημάτων είναι να σας δώσει ένα έναυσμα για να μάθετε να δουλεύετε με τη γλώσσα προγραμματισμού Python. Το να ξοδεύεις σημαντικό μέρος (ίσως το μεγαλύτερο) του χρόνου σου αναζητώντας εργαλεία και καταστρώνοντας στρατηγικές επίλυσης ενός προβήματος είναι αναπόσπαστο μέρος της δουλειάς.\n",
    "\n",
    "\n",
    "- Συζητήσεις με συμφοιτητές ή δημιουργία κάποιων study groups ευνοούν σε μεγάλο βαθμό την κατανόηση των εννοιών. Ένα πρόβλημα τις περισσότερες φορές δεν έχει μία μοναδική λύση και κάθε ένας σκέφτεται με διαφορετικό τρόπο. Η επικοινωνία μεταξύ σας μπορεί να σας εμπνεύσει και να σας βοηθήσει να βγείτε από ένα αδιέξοδο.\n",
    "\n",
    "\n",
    "- Το να μαθαίνεις μία γλώσσα προγραμματισμού είναι σαν να μαθαίνεις μία καινούργια φυσική γλώσσα: την μαθαίνεις μόνο όσο προσπαθείς να την \"μιλήσεις\"."
   ]
  },
  {
   "cell_type": "markdown",
   "id": "8cd7153d",
   "metadata": {},
   "source": [
    "## Πως θα δουλέψετε\n",
    "\n",
    "- Όπως θα δείτε, κάτω από την εκφώνηση μιας άσκησης υπάρχει ένα κελί όπου θα πρέπει να συμπληρώσετε τον κώδικά σας.\n",
    "\n",
    "\n",
    "- Μπορείτε να προσθέσετε όσα κελιά χρειάζεστε και να τα οργανώσετε όπως πιστεύετε εσείς καλύτερα.\n",
    "\n",
    "\n",
    "- Μπορείτε επίσης να προσθέσετε κελιά που απλά δοκιμάζετε διάφορες προσεγγίσεις ή και τμήματα του κώδικα σας. Αυτά τα \"πρόχειρα\" κελιά θα πρέπει να τα διαγράψετε μόλις έχετε κατασταλλάξει στο κώδικα που θα χρησιμοποιήσετε, κρατώντας μόνο τα κελιά στα οποία περιέχεται ο εν λόγω κώδικας.\n",
    "\n",
    "\n",
    "- Προσπαθείστε να είστε αναλυτικοί/ες στον τρόπο που εργάζεστε. Αυτό σημαίνει ότι θα πρέπει να τεκμηριώνετε με τον καλύτερο δυνατό τρόπο τις ενέργειές σας, χρησιμοποιώντας σύντομα σχόλια στον κώδικα. Ιδανικά, αφού δουλεύουμε σε σημειωματάριο, θα μπορούσατε να προσθέσετε κελιά--όπως αυτό--για να αναλύσετε το σκεπτικό σας εις βάθος. Αυτό μπορεί να γίνει αν μετατρέψετε ένα κελί από Code σε Μarkdown από το drop down μενου στη γραμμή εργαλείων. Σκοπός δεν είναι μόνο να γράφετε καλό κώδικα αλλά να είναι και κατανοητός από άλλους.\n",
    "\n",
    "\n",
    "- Μην ξεχνάτε ότι όταν εκτελείται ένα κελί οι τιμές των μεταβλητών αποθηκεύονται στη μνήμη και παραμένουν εκεί ακόμα κι αν αυτό το κελί έχει διαγραφεί. Αυτό μπορεί πολλές φορές να δημιουργήσει σύγχηση όταν τεστάρουμε κομμάτια του κώδικα, επιτρέποντας τα να τρέξουν πιθανόν με μεταβλητές που είτε δεν υπάρχουν πλέον, είτε υπάρχουν και χρησιμοποιούν παλαιότερες μη-ανανεωμένες τιμές. Για ένα καθαρό νέο ξεκίνημα μπορείτε να κάνετε επανεκκίνηση του kernel απο τη γραμμή εντολών του σημειωματάριου.\n",
    "\n",
    "\n",
    "- Τέλος, είναι καλή πρακτική να αποθηκεύετε τις αλλάγες ανά τακτά χρονικά διαστήματα."
   ]
  },
  {
   "cell_type": "markdown",
   "id": "debff64b",
   "metadata": {},
   "source": [
    "## Ασκήσεις"
   ]
  },
  {
   "cell_type": "markdown",
   "id": "22c9cb7e",
   "metadata": {},
   "source": [
    "Αντικειμενοστρεφής Προγραμματισμός\n",
    "---"
   ]
  },
  {
   "cell_type": "markdown",
   "id": "ea5e908e",
   "metadata": {},
   "source": [
    "- Γράψτε μία κλάση ``Sentence``. Κάθε instance της κλάσης θα αρχικοποιείται με μία πρόταση η οποία θα δίνεται με τη μορφή συμβολοσειράς.\n",
    "\n",
    "- Φτιάξτε ένα instance attribute ``words`` το οποίο θα περιέχει τις λέξεις που αποτελούν την πρόταση.\n",
    "\n",
    "- Κάντε την κλάση σας να είναι επαναλήψιμη (iterable **and** iterator) χρησιμοποιώντας τις ειδικές συναρτήσεις ``__iter__`` και ``__next__``. Αναζητείστε στο διαδίκτυο τις διαφορές μεταξύ ενός iterable αντικειμένου και ενός iterator, καθώς και την έννοια των generators. Μία καλή αρχή είναι [εδώ](https://book.pythontips.com/en/latest/generators.html)."
   ]
  },
  {
   "cell_type": "code",
   "execution_count": 1,
   "id": "13920cf9",
   "metadata": {},
   "outputs": [
    {
     "name": "stdout",
     "output_type": "stream",
     "text": [
      "This\n",
      "is\n",
      "a\n",
      "sentence\n",
      "------------------------------\n",
      "This\n",
      "is\n",
      "another\n",
      "sentence\n"
     ]
    }
   ],
   "source": [
    "class Sentence:\n",
    "    \n",
    "    def __init__(self, sentence):\n",
    "        self.sentence = sentence\n",
    "        self.words = self.sentence.split(\" \")\n",
    "        self.idx = 0\n",
    "  \n",
    "    # This method has to return an iterator\n",
    "    # This means an object that has a __next__ method\n",
    "    # Since we will create such a method below, we can\n",
    "    # simply return the same object from the __iter__ method\n",
    "    def __iter__(self):\n",
    "        return self\n",
    "\n",
    "    # This method will make the self object an iterator\n",
    "    def __next__(self):\n",
    "        if self.idx >= len(self.words):\n",
    "            raise StopIteration\n",
    "\n",
    "        current_word = self.words[self.idx]\n",
    "        self.idx += 1\n",
    "        return current_word\n",
    "\n",
    "    \n",
    "\n",
    "# Sanity checks\n",
    "sentence = Sentence(\"This is a sentence\")\n",
    "\n",
    "for word in sentence:\n",
    "    print(word)\n",
    "    \n",
    "\n",
    "print(\"-\" * 30)\n",
    "\n",
    "\n",
    "# The __next__ method makes the class an iterator so it remembers\n",
    "# the state where they left off in the iteration.\n",
    "# For this reason we can call the next() method\n",
    "# until we run out of words and an iteration error is raised\n",
    "sentence2 = Sentence(\"This is another sentence\")\n",
    "\n",
    "print(next(sentence2))\n",
    "print(next(sentence2))\n",
    "print(next(sentence2))\n",
    "print(next(sentence2))\n",
    "# print(next(sentence2)) # This will throw an iteration error"
   ]
  },
  {
   "cell_type": "markdown",
   "id": "d255dbf1",
   "metadata": {},
   "source": [
    "---"
   ]
  },
  {
   "cell_type": "markdown",
   "id": "e9c80dbd",
   "metadata": {},
   "source": [
    "Με τις συναρτήσεις ``__iter__`` και ``__next__`` ουσιαστικά δώσαμε στην κλάση μας την λειτουργικότητα ενός generator. Ένας generator μοιάζει πολύ με μία συνάρτηση αλλά αντί να επιστρέφει κάποιο αποτέλεσμα, απλά παράγει μία τιμή μέχρι να κληθεί ξανά και να παράγει την επόμενη τιμή. Άρα ένας generator είναι και αυτός ένας iterator, αλλά σε αυτή την περίπτωση οι μέθοδοι ``__iter__`` και ``__next__`` δημιουργούνται αυτόματα και άρα δεν χρειάζεται να τις φτιάξουμε εμείς όπως κάναμε στην κλάση μας. Δείτε [εδώ](https://wiki.python.org/moin/Generators) για πληροφορίες.\n",
    "\n",
    "Για να πείσετε τον εαυτό σας, κατασκευάστε έναν generator που κάνει την ίδια ακριβώς δουλειά με αυτή της κλάσης που φτιάξατε προηγουμένως."
   ]
  },
  {
   "cell_type": "code",
   "execution_count": 2,
   "id": "0dd97a21",
   "metadata": {},
   "outputs": [
    {
     "name": "stdout",
     "output_type": "stream",
     "text": [
      "This\n",
      "is\n",
      "yet\n",
      "another\n",
      "sentence\n"
     ]
    }
   ],
   "source": [
    "# A generator yields a value and remains\n",
    "# in this state until it is called again\n",
    "# and yield the next value.\n",
    "def word_generator(sentence):\n",
    "    \"\"\"\n",
    "       This is a generator that does the same \n",
    "       job as the Sentence class.\n",
    "    \"\"\"\n",
    "    words = sentence.split()\n",
    "    \n",
    "    for word in words:\n",
    "        yield word # Note the usage of \"yield\" in generators\n",
    "                   # instead of \"return\" like in the case of functions !\n",
    "        \n",
    "# Sanity check\n",
    "sentence3 = \"This is yet another sentence\"\n",
    "\n",
    "# Call the generator repeatedly\n",
    "for word in word_generator(sentence3):\n",
    "    print(word)"
   ]
  },
  {
   "cell_type": "markdown",
   "id": "90d595f4",
   "metadata": {},
   "source": [
    "---"
   ]
  }
 ],
 "metadata": {
  "kernelspec": {
   "display_name": "Python 3 (ipykernel)",
   "language": "python",
   "name": "python3"
  },
  "language_info": {
   "codemirror_mode": {
    "name": "ipython",
    "version": 3
   },
   "file_extension": ".py",
   "mimetype": "text/x-python",
   "name": "python",
   "nbconvert_exporter": "python",
   "pygments_lexer": "ipython3",
   "version": "3.9.13"
  }
 },
 "nbformat": 4,
 "nbformat_minor": 5
}
