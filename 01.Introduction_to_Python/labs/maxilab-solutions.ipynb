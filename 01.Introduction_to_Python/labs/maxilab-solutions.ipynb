{
 "cells": [
  {
   "cell_type": "markdown",
   "id": "9f7ffe61",
   "metadata": {},
   "source": [
    "# maxilab: Ασκήσεις εξάσκησης - Εισαγωγή στη Python"
   ]
  },
  {
   "cell_type": "markdown",
   "id": "880ce32e",
   "metadata": {},
   "source": [
    "## Μερικά σχόλια για τις λύσεις\n",
    "\n",
    "- Οι λύσεις που παρέχονται εδώ είναι ενδεικτικές. Υπάρχουν πολλοί τρόποι επίλυσης των προβλημάτων.\n",
    "\n",
    "\n",
    "- Ένας αλγόριθμος μπορεί να δουλεύει ικανοποιητικά για ένα συγκεκριμένο πρόβλημα αλλά γρήγορα να γίνεται μη-αποδοτικός όταν αυξάνεται ο όγκος των δεδομένων που θέλουμε να επεξεργαστούμε (π.χ. χρήση εμφολευμένων βρόγχων επανάληψης). Η επίδοση ενός αλγορίθμου και η δυνατότητά του να κλιμακώνεται με τον όγκο των δεδομένων είναι κάτι το εξαιρετικά σημαντικό που δυστυχώς δεν έχουμε το χρόνο να συζητήσουμε διεξοδικά. Με τη συνεχή εξάσκηση θα είστε σε θέση να αναγνωρίζετε κακογραμμένο κώδικα, μεθόδους βελτιστοποίησής του κτλ.\n",
    "\n",
    "\n",
    "- Μερικές φορές η λύση που παρέχεται μπορεί να σας φαίνεται ανούσια πολύπλοκη σε σχέση με τα ζητούμενα. Το πιθανότερο είναι να καταλήξατε στη ζητούμενη συμπεριφορά με λιγότερες γραμμές κώδικα. Θυμηθείτε όμως ότι, όπως έχουμε πει, ένα πρόβλημα μπορεί να υποστηρίζει τη χρήση διαφορετικών προσεγγίσεων. Η έκθεση σε διαφορετικές τεχνικές επίλυσης σας προσφέρει τη δυνατότητα να δείτε μεθόδους, πλην των προφανών, που μπορείτε να αξιοποιήσετε μελλοντικά.\n",
    "\n",
    "\n",
    "- Προσπαθείστε να κατανοήσετε τη λογική πίσω από τις λύσεις που παρέχονται. Αν έχετε απορίες σχετικά με τη λειτουργία και τη χρήση κάποιων συναρτήσεων ή δομών που δεν παρουσιάστηκαν στο μάθημα λόγω έλλειψης χρόνου, αφιερώστε αρκετό χρόνο στην αναζήτηση κατάλληλης τεκμηρίωσης (έντυπη και διαδικτυακή βιβλιογραφία, συμφοιτητές, διδάσκοντες κτλ).  "
   ]
  },
  {
   "cell_type": "markdown",
   "id": "debff64b",
   "metadata": {},
   "source": [
    "## Mini Project"
   ]
  },
  {
   "cell_type": "markdown",
   "id": "22c9cb7e",
   "metadata": {},
   "source": [
    "### Παιχνίδι: Μάντεψε τον αριθμό\n",
    "---"
   ]
  },
  {
   "cell_type": "markdown",
   "id": "ea5e908e",
   "metadata": {},
   "source": [
    "**Σκοπός**\n",
    "\n",
    "* Ο παίκτης προσπαθεί να μαντέψει ένα αριθμό μεταξύ του 1 και του 100, που ο υπολογιστής έχει επιλέξει με τυχαίο τρόπο.\n",
    "\n",
    "\n",
    "**Πως λειτουργεί**\n",
    "\n",
    "* Το παιχνίδι ξεκινά και ο χρήστης μαντεύει ένα θετικό ακέραιο αριθμό από το 1 έως το 100. Ο υπολογιστής εμφανίζει ένα μήνυμα σχετικά με το αν ο χρήστης μάντεψε σωστά ή αν πρέπει να μαντέψει μεγαλύτερο/μικρότερο αριθμό.\n",
    "\n",
    "\n",
    "* Το παιχνίδι τελειώνει όταν ο παίκτης βρει τον αριθμό ενώ κερδίζει $10-n$ πόντους, όπου $n$ οι αποτυχημένες προσπάθειες, και 0 αν $n\\geq10$.\n",
    "\n",
    "\n",
    "**Ζητούμενα**\n",
    "\n",
    "\n",
    "* Γράψτε κώδικα που θα υλοποιεί το εν λόγω παιχνίδι.\n",
    "\n",
    ">**Hint**: Για την επίλυση του προβλήματος θα πρέπει να χρησιμοποιήσετε τη βιβλιοθήκη \"random\".\n",
    "\n",
    "\n",
    "* Χρησιμοποιήστε αμυντικό προγραμματισμό, δηλαδή προσπαθείστε να διαχειριστείτε πιθανές μη-έγκυρες εισαγωγές από τον χρήστη.\n",
    "\n",
    "\n",
    "* Δοκιμάστε να διαχειριστείτε αυτές τις εξαιρέσεις χρησιμοποιώντας τη δομή ``try/except``.\n",
    "\n",
    "\n",
    "* Το παιχνίδι θα πρέπει να επαναλαμβάνεται αν το ζητήσει ο χρήστης."
   ]
  },
  {
   "cell_type": "code",
   "execution_count": 1,
   "id": "13920cf9",
   "metadata": {},
   "outputs": [],
   "source": [
    "# Module to generate pseudo-random numbers\n",
    "import random"
   ]
  },
  {
   "cell_type": "code",
   "execution_count": 2,
   "id": "07204160",
   "metadata": {},
   "outputs": [],
   "source": [
    "def print_congrats_msg(s):\n",
    "    \"\"\"\n",
    "        ARGS\n",
    "        =======\n",
    "            - s : score of user\n",
    "\n",
    "        RETURNS\n",
    "        =======\n",
    "            - None. The function prints out a congratulatory message\n",
    "            and the score achieved by the user.\n",
    "    \"\"\"\n",
    "    print('--'*20)\n",
    "    print(\"YOU GOT IT! CONGRATS!\")\n",
    "    \n",
    "    print('*'*20)\n",
    "    print(f\"You scored {s} points!\")\n",
    "    print('*'*20)\n",
    "    print('\\n\\n')\n",
    "    \n",
    "    return None"
   ]
  },
  {
   "cell_type": "code",
   "execution_count": 3,
   "id": "9c3736a6",
   "metadata": {},
   "outputs": [
    {
     "name": "stdout",
     "output_type": "stream",
     "text": [
      "Guess a number: 50\n",
      "Guess lower!\n",
      "Guess a number: 25\n",
      "Guess higher!\n",
      "Guess a number: 37\n",
      "Guess higher!\n",
      "Guess a number: 44\n",
      "Guess higher!\n",
      "Guess a number: 47\n",
      "Guess higher!\n",
      "Guess a number: 49\n",
      "----------------------------------------\n",
      "YOU GOT IT! CONGRATS!\n",
      "********************\n",
      "You scored 4 points!\n",
      "********************\n",
      "\n",
      "\n",
      "\n",
      "Do you want to play again? [y/n] n\n",
      "========================================\n",
      "Thank you for playing! Goodbye!\n"
     ]
    }
   ],
   "source": [
    "# Flag variable\n",
    "keep_playing = True\n",
    "\n",
    "while keep_playing:\n",
    "    \n",
    "    # Reset score and trials after each game\n",
    "    number_of_trials = 0\n",
    "    score = 10\n",
    "\n",
    "    # Generate a (pseudo)-random integer number between 1 and 100\n",
    "    random_number = random.randint(1,100)\n",
    "\n",
    "    while True:\n",
    "\n",
    "        try:\n",
    "            user_guess = int(input(\"Guess a number: \"))\n",
    "\n",
    "            # Check for invalid input and raise error\n",
    "            # if number is negative, above 100, or float\n",
    "            if (user_guess <= 0) or (user_guess > 100) or (type(user_guess) == float):\n",
    "                raise ValueError\n",
    "                \n",
    "            else:\n",
    "                # Take into account only trials of valid inputs\n",
    "                number_of_trials += 1\n",
    "                \n",
    "            \n",
    "            if user_guess > random_number:\n",
    "                print(\"Guess lower!\")\n",
    "\n",
    "            elif user_guess < random_number:\n",
    "                print(\"Guess higher!\")\n",
    "\n",
    "            else:            \n",
    "                # Update score; set to 0 if trials >= 10\n",
    "                if number_of_trials >= 10:\n",
    "                    score = 0\n",
    "                elif number_of_trials == 1:\n",
    "                    score = 10\n",
    "                else:\n",
    "                    score = score - number_of_trials\n",
    "\n",
    "                # Since the user guessed correctly congratulate her/him\n",
    "                # and break out of the loop\n",
    "                print_congrats_msg(score)\n",
    "                break\n",
    "\n",
    "        except ValueError:\n",
    "            print(\"You have to guess a positive integer between 1 and 100!\")\n",
    "    \n",
    "    \n",
    "    # Check if the user wants to continue playing the game\n",
    "    user_answer = input(\"Do you want to play again? [y/n] \")\n",
    "    \n",
    "    if user_answer.lower() == 'n':\n",
    "        print('=='*20)\n",
    "        print('Thank you for playing! Goodbye!')\n",
    "        keep_playing = False\n",
    "        \n",
    "    elif user_answer.lower() == 'y':\n",
    "        print('=='*20)\n",
    "        \n",
    "    else:\n",
    "        print('=='*20)\n",
    "        print(\"I didn't understand that! I'm exiting the game. Goodbye!\")\n",
    "        keep_playing = False"
   ]
  },
  {
   "cell_type": "markdown",
   "id": "d255dbf1",
   "metadata": {},
   "source": [
    "---"
   ]
  }
 ],
 "metadata": {
  "kernelspec": {
   "display_name": "Python 3 (ipykernel)",
   "language": "python",
   "name": "python3"
  },
  "language_info": {
   "codemirror_mode": {
    "name": "ipython",
    "version": 3
   },
   "file_extension": ".py",
   "mimetype": "text/x-python",
   "name": "python",
   "nbconvert_exporter": "python",
   "pygments_lexer": "ipython3",
   "version": "3.9.13"
  }
 },
 "nbformat": 4,
 "nbformat_minor": 5
}
