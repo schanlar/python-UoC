{
 "cells": [
  {
   "cell_type": "markdown",
   "id": "9f7ffe61",
   "metadata": {},
   "source": [
    "# Ασκήσεις εξάσκησης - Εισαγωγή στη Python"
   ]
  },
  {
   "cell_type": "markdown",
   "id": "880ce32e",
   "metadata": {},
   "source": [
    "## Μερικά σχόλια\n",
    "\n",
    "- Οι ασκήσεις αυτές προσπαθούν να καλύψουν ένα ευρύ μέρος του εννοιακού φάσματος που συζητήσαμε στο μάθημα.\n",
    "\n",
    "\n",
    "- Πολλές από αυτές τις ασκήσεις μπορεί να απαιτούν χρήση εργαλείων και μεθόδων τις οποίες αναφέραμε αλλά δεν είχαμε τον χρόνο να συζητήσουμε εις βάθος.\n",
    "\n",
    "\n",
    "- Γι' αυτό το λόγο, θα χρειαστεί να καταφύγετε στη τεκμηρίωση συναρτήσεων και μεθόδων μέσω αναζήτησης στο διαδίκτυο. Google is your friend!\n",
    "\n",
    "\n",
    "- Προσπαθήστε να μην ψάχνετε στο διαδίκτυο για τη λύση του προβλήματος αλλά για τεχνικές, βιβλιοθήκες και εργαλεία που θα σας βοηθήσουν να καταστρώσετε ένα σχέδιο επίλυσης.\n",
    "\n",
    "\n",
    "- Don't cheat on yourself! Ο σκοπός αυτών των μαθημάτων είναι να σας δώσει ένα έναυσμα για να μάθετε να δουλεύετε με τη γλώσσα προγραμματισμού Python. Το να ξοδεύεις σημαντικό μέρος (ίσως το μεγαλύτερο) του χρόνου σου αναζητώντας εργαλεία και καταστρώνοντας στρατηγικές επίλυσης ενός προβήματος είναι αναπόσπαστο μέρος της δουλειάς.\n",
    "\n",
    "\n",
    "- Συζητήσεις με συμφοιτητές ή δημιουργία κάποιων study groups ευνοούν σε μεγάλο βαθμό την κατανόηση των εννοιών. Ένα πρόβλημα τις περισσότερες φορές δεν έχει μία μοναδική λύση και κάθε ένας σκέφτεται με διαφορετικό τρόπο. Η επικοινωνία μεταξύ σας μπορεί να σας εμπνεύσει και να σας βοηθήσει να βγείτε από ένα αδιέξοδο.\n",
    "\n",
    "\n",
    "- Το να μαθαίνεις μία γλώσσα προγραμματισμού είναι σαν να μαθαίνεις μία καινούργια φυσική γλώσσα: την μαθαίνεις μόνο όσο προσπαθείς να την \"μιλήσεις\"."
   ]
  },
  {
   "cell_type": "markdown",
   "id": "8cd7153d",
   "metadata": {},
   "source": [
    "## Πως θα δουλέψετε\n",
    "\n",
    "- Όπως θα δείτε, κάτω από την εκφώνηση μιας άσκησης υπάρχει ένα κελί όπου θα πρέπει να συμπληρώσετε τον κώδικά σας.\n",
    "\n",
    "\n",
    "- Μπορείτε να προσθέσετε όσα κελιά χρειάζεστε και να τα οργανώσετε όπως πιστεύετε εσείς καλύτερα.\n",
    "\n",
    "\n",
    "- Μπορείτε επίσης να προσθέσετε κελιά που απλά δοκιμάζετε διάφορες προσεγγίσεις ή και τμήματα του κώδικα σας. Αυτά τα \"πρόχειρα\" κελιά θα πρέπει να τα διαγράψετε μόλις έχετε κατασταλλάξει στο κώδικα που θα χρησιμοποιήσετε, κρατώντας μόνο τα κελιά στα οποία περιέχεται ο εν λόγω κώδικας.\n",
    "\n",
    "\n",
    "- Προσπαθείστε να είστε αναλυτικοί/ες στον τρόπο που εργάζεστε. Αυτό σημαίνει ότι θα πρέπει να τεκμηριώνετε με τον καλύτερο δυνατό τρόπο τις ενέργειές σας, χρησιμοποιώντας σύντομα σχόλια στον κώδικα. Ιδανικά, αφού δουλεύουμε σε σημειωματάριο, θα μπορούσατε να προσθέσετε κελιά--όπως αυτό--για να αναλύσετε το σκεπτικό σας εις βάθος. Αυτό μπορεί να γίνει αν μετατρέψετε ένα κελί από Code σε Μarkdown από το drop down μενου στη γραμμή εργαλείων. Σκοπός δεν είναι μόνο να γράφετε καλό κώδικα αλλά να είναι και κατανοητός από άλλους.\n",
    "\n",
    "\n",
    "- Μην ξεχνάτε ότι όταν εκτελείται ένα κελί οι τιμές των μεταβλητών αποθηκεύονται στη μνήμη και παραμένουν εκεί ακόμα κι αν αυτό το κελί έχει διαγραφεί. Αυτό μπορεί πολλές φορές να δημιουργήσει σύγχηση όταν τεστάρουμε κομμάτια του κώδικα, επιτρέποντας τα να τρέξουν πιθανόν με μεταβλητές που είτε δεν υπάρχουν πλέον, είτε υπάρχουν και χρησιμοποιούν παλαιότερες μη-ανανεωμένες τιμές. Για ένα καθαρό νέο ξεκίνημα μπορείτε να κάνετε επανεκκίνηση του kernel απο τη γραμμή εντολών του σημειωματάριου.\n",
    "\n",
    "\n",
    "- Τέλος, είναι καλή πρακτική να αποθηκεύετε τις αλλάγες ανά τακτά χρονικά διαστήματα."
   ]
  },
  {
   "cell_type": "markdown",
   "id": "debff64b",
   "metadata": {},
   "source": [
    "## Mini Project"
   ]
  },
  {
   "cell_type": "markdown",
   "id": "22c9cb7e",
   "metadata": {},
   "source": [
    "### Παιχνίδι: Μάντεψε τον αριθμό\n",
    "---"
   ]
  },
  {
   "cell_type": "markdown",
   "id": "ea5e908e",
   "metadata": {},
   "source": [
    "**Σκοπός**\n",
    "\n",
    "* Ο παίκτης προσπαθεί να μαντέψει ένα αριθμό μεταξύ του 1 και του 100, που ο υπολογιστής έχει επιλέξει με τυχαίο τρόπο.\n",
    "\n",
    "\n",
    "**Πως λειτουργεί**\n",
    "\n",
    "* Το παιχνίδι ξεκινά και ο χρήστης μαντεύει ένα θετικό ακέραιο αριθμό από το 1 έως το 100. Ο υπολογιστής εμφανίζει ένα μήνυμα σχετικά με το αν ο χρήστης μάντεψε σωστά ή αν πρέπει να μαντέψει μεγαλύτερο/μικρότερο αριθμό.\n",
    "\n",
    "\n",
    "* Το παιχνίδι τελειώνει όταν ο παίκτης βρει τον αριθμό ενώ κερδίζει $10-n$ πόντους, όπου $n$ οι αποτυχημένες προσπάθειες, και 0 αν $n\\geq10$.\n",
    "\n",
    "\n",
    "**Ζητούμενα**\n",
    "\n",
    "\n",
    "* Γράψτε κώδικα που θα υλοποιεί το εν λόγω παιχνίδι.\n",
    "\n",
    ">**Hint**: Για την επίλυση του προβλήματος θα πρέπει να χρησιμοποιήσετε τη βιβλιοθήκη \"random\".\n",
    "\n",
    "\n",
    "* Χρησιμοποιήστε αμυντικό προγραμματισμό, δηλαδή προσπαθείστε να διαχειριστείτε πιθανές μη-έγκυρες εισαγωγές από τον χρήστη.\n",
    "\n",
    "\n",
    "* Δοκιμάστε να διαχειριστείτε αυτές τις εξαιρέσεις χρησιμοποιώντας τη δομή ``try/except``.\n",
    "\n",
    "\n",
    "* Το παιχνίδι θα πρέπει να επαναλαμβάνεται αν το ζητήσει ο χρήστης."
   ]
  },
  {
   "cell_type": "code",
   "execution_count": 1,
   "id": "13920cf9",
   "metadata": {},
   "outputs": [],
   "source": [
    "# Module to generate pseudo-random numbers\n",
    "import random"
   ]
  },
  {
   "cell_type": "code",
   "execution_count": 2,
   "id": "07204160",
   "metadata": {},
   "outputs": [],
   "source": [
    "def print_congrats_msg(s):\n",
    "    \"\"\"\n",
    "        ARGS\n",
    "        =======\n",
    "            - s : score of user\n",
    "\n",
    "        RETURNS\n",
    "        =======\n",
    "            - None. The function prints out a congratulatory message\n",
    "            and the score achieved by the user.\n",
    "    \"\"\"\n",
    "    print('--'*20)\n",
    "    print(\"YOU GOT IT! CONGRATS!\")\n",
    "    \n",
    "    print('*'*20)\n",
    "    print(f\"You scored {s} points!\")\n",
    "    print('*'*20)\n",
    "    print('\\n\\n')\n",
    "    \n",
    "    return None"
   ]
  },
  {
   "cell_type": "code",
   "execution_count": 3,
   "id": "9c3736a6",
   "metadata": {},
   "outputs": [
    {
     "name": "stdout",
     "output_type": "stream",
     "text": [
      "Guess a number: 50\n",
      "Guess lower!\n",
      "Guess a number: 25\n",
      "Guess higher!\n",
      "Guess a number: 37\n",
      "Guess higher!\n",
      "Guess a number: 44\n",
      "Guess higher!\n",
      "Guess a number: 47\n",
      "Guess higher!\n",
      "Guess a number: 49\n",
      "----------------------------------------\n",
      "YOU GOT IT! CONGRATS!\n",
      "********************\n",
      "You scored 4 points!\n",
      "********************\n",
      "\n",
      "\n",
      "\n",
      "Do you want to play again? [y/n] n\n",
      "========================================\n",
      "Thank you for playing! Goodbye!\n"
     ]
    }
   ],
   "source": [
    "# Flag variable\n",
    "keep_playing = True\n",
    "\n",
    "while keep_playing:\n",
    "    \n",
    "    # Reset score and trials after each game\n",
    "    number_of_trials = 0\n",
    "    score = 10\n",
    "\n",
    "    # Generate a (pseudo)-random integer number between 1 and 100\n",
    "    random_number = random.randint(1,100)\n",
    "\n",
    "    while True:\n",
    "\n",
    "        try:\n",
    "            user_guess = int(input(\"Guess a number: \"))\n",
    "\n",
    "            # Check for invalid input and raise error\n",
    "            # if number is negative, above 100, or float\n",
    "            if (user_guess <= 0) or (user_guess > 100) or (type(user_guess) == float):\n",
    "                raise ValueError\n",
    "                \n",
    "            else:\n",
    "                # Take into account only trials of valid inputs\n",
    "                number_of_trials += 1\n",
    "                \n",
    "            \n",
    "            if user_guess > random_number:\n",
    "                print(\"Guess lower!\")\n",
    "\n",
    "            elif user_guess < random_number:\n",
    "                print(\"Guess higher!\")\n",
    "\n",
    "            else:            \n",
    "                # Update score; set to 0 if trials >= 10\n",
    "                if number_of_trials >= 10:\n",
    "                    score = 0\n",
    "                elif number_of_trials == 1:\n",
    "                    score = 10\n",
    "                else:\n",
    "                    score = score - number_of_trials\n",
    "\n",
    "                # Since the user guessed correctly congratulate her/him\n",
    "                # and break out of the loop\n",
    "                print_congrats_msg(score)\n",
    "                break\n",
    "\n",
    "        except ValueError:\n",
    "            print(\"You have to guess a positive integer between 1 and 100!\")\n",
    "    \n",
    "    \n",
    "    # Check if the user wants to continue playing the game\n",
    "    user_answer = input(\"Do you want to play again? [y/n] \")\n",
    "    \n",
    "    if user_answer.lower() == 'n':\n",
    "        print('=='*20)\n",
    "        print('Thank you for playing! Goodbye!')\n",
    "        keep_playing = False\n",
    "        \n",
    "    elif user_answer.lower() == 'y':\n",
    "        print('=='*20)\n",
    "        \n",
    "    else:\n",
    "        print('=='*20)\n",
    "        print(\"I didn't understand that! I'm exiting the game. Goodbye!\")\n",
    "        keep_playing = False"
   ]
  },
  {
   "cell_type": "markdown",
   "id": "d255dbf1",
   "metadata": {},
   "source": [
    "---"
   ]
  }
 ],
 "metadata": {
  "kernelspec": {
   "display_name": "Python 3 (ipykernel)",
   "language": "python",
   "name": "python3"
  },
  "language_info": {
   "codemirror_mode": {
    "name": "ipython",
    "version": 3
   },
   "file_extension": ".py",
   "mimetype": "text/x-python",
   "name": "python",
   "nbconvert_exporter": "python",
   "pygments_lexer": "ipython3",
   "version": "3.9.13"
  }
 },
 "nbformat": 4,
 "nbformat_minor": 5
}
