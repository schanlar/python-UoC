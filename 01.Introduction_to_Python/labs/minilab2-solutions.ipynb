{
 "cells": [
  {
   "cell_type": "markdown",
   "id": "9f7ffe61",
   "metadata": {},
   "source": [
    "# Ασκήσεις εξάσκησης - Εισαγωγή στη Python"
   ]
  },
  {
   "cell_type": "markdown",
   "id": "880ce32e",
   "metadata": {},
   "source": [
    "## Μερικά σχόλια\n",
    "\n",
    "- Οι ασκήσεις αυτές προσπαθούν να καλύψουν ένα ευρύ μέρος του εννοιακού φάσματος που συζητήσαμε στο μάθημα.\n",
    "\n",
    "\n",
    "- Πολλές από αυτές τις ασκήσεις μπορεί να απαιτούν χρήση εργαλείων και μεθόδων τις οποίες αναφέραμε αλλά δεν είχαμε τον χρόνο να συζητήσουμε εις βάθος.\n",
    "\n",
    "\n",
    "- Γι' αυτό το λόγο, θα χρειαστεί να καταφύγετε στη τεκμηρίωση συναρτήσεων και μεθόδων μέσω αναζήτησης στο διαδίκτυο. Google is your friend!\n",
    "\n",
    "\n",
    "- Προσπαθήστε να μην ψάχνετε στο διαδίκτυο για τη λύση του προβλήματος αλλά για τεχνικές, βιβλιοθήκες και εργαλεία που θα σας βοηθήσουν να καταστρώσετε ένα σχέδιο επίλυσης.\n",
    "\n",
    "\n",
    "- Don't cheat on yourself! Ο σκοπός αυτών των μαθημάτων είναι να σας δώσει ένα έναυσμα για να μάθετε να δουλεύετε με τη γλώσσα προγραμματισμού Python. Το να ξοδεύεις σημαντικό μέρος (ίσως το μεγαλύτερο) του χρόνου σου αναζητώντας εργαλεία και καταστρώνοντας στρατηγικές επίλυσης ενός προβήματος είναι αναπόσπαστο μέρος της δουλειάς.\n",
    "\n",
    "\n",
    "- Συζητήσεις με συμφοιτητές ή δημιουργία κάποιων study groups ευνοούν σε μεγάλο βαθμό την κατανόηση των εννοιών. Ένα πρόβλημα τις περισσότερες φορές δεν έχει μία μοναδική λύση και κάθε ένας σκέφτεται με διαφορετικό τρόπο. Η επικοινωνία μεταξύ σας μπορεί να σας εμπνεύσει και να σας βοηθήσει να βγείτε από ένα αδιέξοδο.\n",
    "\n",
    "\n",
    "- Το να μαθαίνεις μία γλώσσα προγραμματισμού είναι σαν να μαθαίνεις μία καινούργια φυσική γλώσσα: την μαθαίνεις μόνο όσο προσπαθείς να την \"μιλήσεις\"."
   ]
  },
  {
   "cell_type": "markdown",
   "id": "8cd7153d",
   "metadata": {},
   "source": [
    "## Πως θα δουλέψετε\n",
    "\n",
    "- Όπως θα δείτε, κάτω από την εκφώνηση μιας άσκησης υπάρχει ένα κελί όπου θα πρέπει να συμπληρώσετε τον κώδικά σας.\n",
    "\n",
    "\n",
    "- Μπορείτε να προσθέσετε όσα κελιά χρειάζεστε και να τα οργανώσετε όπως πιστεύετε εσείς καλύτερα.\n",
    "\n",
    "\n",
    "- Μπορείτε επίσης να προσθέσετε κελιά που απλά δοκιμάζετε διάφορες προσεγγίσεις ή και τμήματα του κώδικα σας. Αυτά τα \"πρόχειρα\" κελιά θα πρέπει να τα διαγράψετε μόλις έχετε κατασταλλάξει στο κώδικα που θα χρησιμοποιήσετε, κρατώντας μόνο τα κελιά στα οποία περιέχεται ο εν λόγω κώδικας.\n",
    "\n",
    "\n",
    "- Προσπαθείστε να είστε αναλυτικοί/ες στον τρόπο που εργάζεστε. Αυτό σημαίνει ότι θα πρέπει να τεκμηριώνετε με τον καλύτερο δυνατό τρόπο τις ενέργειές σας, χρησιμοποιώντας σύντομα σχόλια στον κώδικα. Ιδανικά, αφού δουλεύουμε σε σημειωματάριο, θα μπορούσατε να προσθέσετε κελιά--όπως αυτό--για να αναλύσετε το σκεπτικό σας εις βάθος. Αυτό μπορεί να γίνει αν μετατρέψετε ένα κελί από Code σε Μarkdown από το drop down μενου στη γραμμή εργαλείων. Σκοπός δεν είναι μόνο να γράφετε καλό κώδικα αλλά να είναι και κατανοητός από άλλους.\n",
    "\n",
    "\n",
    "- Μην ξεχνάτε ότι όταν εκτελείται ένα κελί οι τιμές των μεταβλητών αποθηκεύονται στη μνήμη και παραμένουν εκεί ακόμα κι αν αυτό το κελί έχει διαγραφεί. Αυτό μπορεί πολλές φορές να δημιουργήσει σύγχηση όταν τεστάρουμε κομμάτια του κώδικα, επιτρέποντας τα να τρέξουν πιθανόν με μεταβλητές που είτε δεν υπάρχουν πλέον, είτε υπάρχουν και χρησιμοποιούν παλαιότερες μη-ανανεωμένες τιμές. Για ένα καθαρό νέο ξεκίνημα μπορείτε να κάνετε επανεκκίνηση του kernel απο τη γραμμή εντολών του σημειωματάριου.\n",
    "\n",
    "\n",
    "- Τέλος, είναι καλή πρακτική να αποθηκεύετε τις αλλάγες ανά τακτά χρονικά διαστήματα."
   ]
  },
  {
   "cell_type": "markdown",
   "id": "debff64b",
   "metadata": {},
   "source": [
    "## Ασκήσεις"
   ]
  },
  {
   "cell_type": "markdown",
   "id": "22c9cb7e",
   "metadata": {},
   "source": [
    "###  1. Αλληλεπίδραση με τον χρήστη & συναρτήσεις\n",
    "---"
   ]
  },
  {
   "cell_type": "markdown",
   "id": "ea5e908e",
   "metadata": {},
   "source": [
    "Γράψτε κώδικα που ζητάει από τον χρήστη 2 ακέραιους αριθμούς και εμφανίζει το άθροισμα, το γινόμενο και το μέσο όρο των δύο αριθμών."
   ]
  },
  {
   "cell_type": "code",
   "execution_count": 1,
   "id": "13920cf9",
   "metadata": {},
   "outputs": [
    {
     "name": "stdout",
     "output_type": "stream",
     "text": [
      "Give first number: 2\n",
      "Give second number: 3\n",
      "Sum: 5\n",
      "Product: 6\n",
      "Average: 2.5\n"
     ]
    }
   ],
   "source": [
    "a = int(input(\"Give first number: \"))\n",
    "b = int(input(\"Give second number: \"))\n",
    "\n",
    "print(\"Sum:\", a+b)\n",
    "print(\"Product:\", a*b)\n",
    "print(\"Average:\", (a+b)/2)"
   ]
  },
  {
   "cell_type": "markdown",
   "id": "d255dbf1",
   "metadata": {},
   "source": [
    "---"
   ]
  },
  {
   "cell_type": "markdown",
   "id": "e9c80dbd",
   "metadata": {},
   "source": [
    "Δίνεται η εξίσωση $y = 2x^3 + 3x^2 - x + 5$. Να γράψετε κώδικα που ζητάει το $x$ ως πραγματικό αριθμό από τον χρήστη και εμφανίζει το $y$ με ακρίβεια 2 δεκαδικών ψηφίων. Δοκιμάστε να λύσετε το πρόβλημα με τη χρήση συνάρτησης (απλής και ανώνυμης)."
   ]
  },
  {
   "cell_type": "code",
   "execution_count": 2,
   "id": "0dd97a21",
   "metadata": {},
   "outputs": [
    {
     "name": "stdout",
     "output_type": "stream",
     "text": [
      "Give number: 4.1\n",
      "Output: 189.17\n"
     ]
    }
   ],
   "source": [
    "def polynomial_fn(x):\n",
    "    return (2*(x**3) + 3*(x**2) - x + 5)\n",
    "\n",
    "a = float(input(\"Give number: \"))\n",
    "print(\"Output:\", round(polynomial_fn(a),2))"
   ]
  },
  {
   "cell_type": "markdown",
   "id": "f03470a8",
   "metadata": {},
   "source": [
    "Προσέξτε πως δύναται να δώσουμε ως παράμετρο σε μία συνάρτηση μία άλλη συνάρτηση. Εδώ δώσαμε στη συνάρτηση round\n",
    "τη τιμή που επιστρέφει η συνάρτηση ``polynomial_fn`` χωρίς να την εκχωρίσουμε πρώτα σε κάποια μεταβλητή.\n",
    "\n",
    "Επειδή το ζητούμενο είναι απλό και δεν θα χρησιμοποιήσουμε τη συνάρτηση ``polynomial_fn`` παρακάτω, θα μπορούσαμε να\n",
    "λύσουμε την άσκηση χρησιμοποιώντας και μία ανώνυμη συνάρτηση."
   ]
  },
  {
   "cell_type": "code",
   "execution_count": 3,
   "id": "52943d19",
   "metadata": {},
   "outputs": [
    {
     "name": "stdout",
     "output_type": "stream",
     "text": [
      "Give number: 4.1\n",
      "Output: 189.17\n"
     ]
    }
   ],
   "source": [
    "b = float(input(\"Give number: \"))\n",
    "\n",
    "# Small anonymous function\n",
    "y = lambda x: 2*(x**3) + 3*(x**2) - x + 5\n",
    "\n",
    "print(\"Output:\", round(y(b), 2))"
   ]
  },
  {
   "cell_type": "markdown",
   "id": "90d595f4",
   "metadata": {},
   "source": [
    "---"
   ]
  },
  {
   "cell_type": "markdown",
   "id": "49bf9153",
   "metadata": {},
   "source": [
    "Η κλίμακα θερμοκρασιών Fahrenheit συνδέεται με αυτή της κλίμακας Celsius με τη σχέση:\n",
    "\n",
    "\\begin{equation}\n",
    "    F = \\frac{9C}{5} + 32\n",
    "\\end{equation}\n",
    "\n",
    "όπου $F$ η θερμοκρασία σε βαθμούς Fahrenheit και $C$ η θερμοκρασία σε βαθμούς Κελσίου.\n",
    "\n",
    "**Ζητούμενα**\n",
    "\n",
    "* Γράψτε συνάρτηση που θα δέχεται μία θερμοκρασία σε βαθμούς Κελσίου και θα επιστρέφει τη θερμοκρασία σε βαθμούς Fahrenheit. Προσέξτε την περίπτωση του απόλυτου μηδενός. Εμφανίστε κατάλληλο μήνυμα ώστε να προειδοποιείτε τον χρήστη για την μη-έγκυρη εισαγωγή τιμής. Σε αυτή την περίπτωση η συνάρτηση θα επιστρέφει ``None``.\n",
    "\n",
    "\n",
    "* Γράψτε κώδικα που ζητάει από τον χρήστη μία θερμοκρασία και αξιοποιήστε τη συνάρτηση που γράψατε για να εμφανίσετε τη θερμοκρασία στη κλίμακα Fahrenheit."
   ]
  },
  {
   "cell_type": "code",
   "execution_count": 4,
   "id": "e1eb04f5",
   "metadata": {},
   "outputs": [],
   "source": [
    "def C2F(C):\n",
    "    '''\n",
    "        A function that converts temperature (given\n",
    "        in the Celsius scale) to Fahrenheit scale.\n",
    "        \n",
    "        ARGS\n",
    "        =======\n",
    "            - C : The temperature in Celsius.\n",
    "            \n",
    "        RETURNS\n",
    "        =======\n",
    "            - The temperature in Fahrnheit. If temperature\n",
    "            is lower than abs zero, it returns None.\n",
    "    '''\n",
    "    \n",
    "    if C < -273.15:\n",
    "        raise ValueError(\"Temperature cannot be lower than abs zero\")\n",
    "        return None\n",
    "    \n",
    "    F = (9 * C)/5 + 32\n",
    "    return F"
   ]
  },
  {
   "cell_type": "code",
   "execution_count": 5,
   "id": "57279da2",
   "metadata": {},
   "outputs": [
    {
     "name": "stdout",
     "output_type": "stream",
     "text": [
      "Give temperature in Celsius: 22.4\n",
      "The temperature in Fahrenheit scale is: 72.32\n"
     ]
    }
   ],
   "source": [
    "temperature = float(input(\"Give temperature in Celsius: \"))\n",
    "print(\"The temperature in Fahrenheit scale is:\", C2F(temperature))"
   ]
  },
  {
   "cell_type": "code",
   "execution_count": 6,
   "id": "9173741e",
   "metadata": {},
   "outputs": [
    {
     "name": "stdout",
     "output_type": "stream",
     "text": [
      "Give temperature in Celsius: -513.9\n"
     ]
    },
    {
     "ename": "ValueError",
     "evalue": "Temperature cannot be lower than abs zero",
     "output_type": "error",
     "traceback": [
      "\u001b[0;31m---------------------------------------------------------------------------\u001b[0m",
      "\u001b[0;31mValueError\u001b[0m                                Traceback (most recent call last)",
      "\u001b[0;32m/var/folders/y6/62tg_s5s7536r0lp1mks4jl80000gn/T/ipykernel_78225/2325192348.py\u001b[0m in \u001b[0;36m<module>\u001b[0;34m\u001b[0m\n\u001b[1;32m      1\u001b[0m \u001b[0mtemperature2\u001b[0m \u001b[0;34m=\u001b[0m \u001b[0mfloat\u001b[0m\u001b[0;34m(\u001b[0m\u001b[0minput\u001b[0m\u001b[0;34m(\u001b[0m\u001b[0;34m\"Give temperature in Celsius: \"\u001b[0m\u001b[0;34m)\u001b[0m\u001b[0;34m)\u001b[0m\u001b[0;34m\u001b[0m\u001b[0;34m\u001b[0m\u001b[0m\n\u001b[0;32m----> 2\u001b[0;31m \u001b[0mprint\u001b[0m\u001b[0;34m(\u001b[0m\u001b[0;34m\"The temperature in Fahrenheit scale is:\"\u001b[0m\u001b[0;34m,\u001b[0m \u001b[0mC2F\u001b[0m\u001b[0;34m(\u001b[0m\u001b[0mtemperature2\u001b[0m\u001b[0;34m)\u001b[0m\u001b[0;34m)\u001b[0m\u001b[0;34m\u001b[0m\u001b[0;34m\u001b[0m\u001b[0m\n\u001b[0m",
      "\u001b[0;32m/var/folders/y6/62tg_s5s7536r0lp1mks4jl80000gn/T/ipykernel_78225/3498982644.py\u001b[0m in \u001b[0;36mC2F\u001b[0;34m(C)\u001b[0m\n\u001b[1;32m     15\u001b[0m \u001b[0;34m\u001b[0m\u001b[0m\n\u001b[1;32m     16\u001b[0m     \u001b[0;32mif\u001b[0m \u001b[0mC\u001b[0m \u001b[0;34m<\u001b[0m \u001b[0;34m-\u001b[0m\u001b[0;36m273.15\u001b[0m\u001b[0;34m:\u001b[0m\u001b[0;34m\u001b[0m\u001b[0;34m\u001b[0m\u001b[0m\n\u001b[0;32m---> 17\u001b[0;31m         \u001b[0;32mraise\u001b[0m \u001b[0mValueError\u001b[0m\u001b[0;34m(\u001b[0m\u001b[0;34m\"Temperature cannot be lower than abs zero\"\u001b[0m\u001b[0;34m)\u001b[0m\u001b[0;34m\u001b[0m\u001b[0;34m\u001b[0m\u001b[0m\n\u001b[0m\u001b[1;32m     18\u001b[0m         \u001b[0;32mreturn\u001b[0m \u001b[0;32mNone\u001b[0m\u001b[0;34m\u001b[0m\u001b[0;34m\u001b[0m\u001b[0m\n\u001b[1;32m     19\u001b[0m \u001b[0;34m\u001b[0m\u001b[0m\n",
      "\u001b[0;31mValueError\u001b[0m: Temperature cannot be lower than abs zero"
     ]
    }
   ],
   "source": [
    "temperature2 = float(input(\"Give temperature in Celsius: \"))\n",
    "print(\"The temperature in Fahrenheit scale is:\", C2F(temperature2))"
   ]
  },
  {
   "cell_type": "markdown",
   "id": "8cd96cf1",
   "metadata": {},
   "source": [
    "---"
   ]
  },
  {
   "cell_type": "markdown",
   "id": "4f3ea272",
   "metadata": {},
   "source": [
    "Έστω ότι πηγαίνετε σε μία τράπεζα και ανοίγετε έναν αποταμιευτικό λογαριασμό κάνοντας μία κατάθεση ενός αρχικού κεφαλαίου. Η τράπεζα σας προσφέρει ένα σταθερό ετήσιο επιτόκιο 1.5%.\n",
    "\n",
    "**Ζητούμενα**\n",
    "\n",
    "- Γράψτε συνάρτηση που θα υπολογίζει το ποσό κατά το οποίο θα αυξηθούν οι καταθέσεις σας στο τέλος ενός οικονομικού έτους. Η συνάρτηση θα παίρνει ως απαραίτητη παράμετρο το διαθέσιμο υπόλοιπο και ως προαιρετική παράμετρο το ετήσιο επιτόκιο με προκαθορισμένη τιμή το 1.5%.\n",
    "\n",
    "\n",
    "- Στη συνέχεια, δώστε στο χρήστη τη δυνατότητα να καθορίσει ένα αρχικό ποσό κατάθεσης και (προαιρετικά) το επιτόκιο της τράπεζας ελέγχοντας για μη-έγκυρες τιμές που μπορείτε να σκεφτείτε (π.χ. συμβολοσειρές, αρνητικοί αριθμοί κτλ).\n",
    "\n",
    "\n",
    "- Υπολογίστε πόσα χρόνια θα πάρει το χρήστη να γίνει εκατομμυριούχος με τα δεδομένα που παρείχε.\n",
    "\n",
    ">**Hint**: Χρησιμοποιήστε βρόγχο επανάληψης while."
   ]
  },
  {
   "cell_type": "code",
   "execution_count": 7,
   "id": "a8048ca9",
   "metadata": {},
   "outputs": [],
   "source": [
    "\"\"\"\n",
    "Although this function provides next to nothing in terms of productivity it is requested\n",
    "to familiarize students with functions and required/optional arguments.\n",
    "\"\"\"\n",
    "\n",
    "def amount_increased(balance, rate=0.015):\n",
    "    \"\"\"\n",
    "        ARGS\n",
    "        =======\n",
    "            - balance : current balance \n",
    "            - rate : interest rate\n",
    "\n",
    "        RETURNS\n",
    "        ======= \n",
    "            - The amount by which the current balance\n",
    "            will increase at the end of fiscal year.\n",
    "    \"\"\"\n",
    "    \n",
    "    return balance * rate"
   ]
  },
  {
   "cell_type": "code",
   "execution_count": 8,
   "id": "983f7b70",
   "metadata": {},
   "outputs": [],
   "source": [
    "\"\"\"\n",
    "DEFINE PYTHON USER-DEFINED EXCEPTIONS\n",
    "-----\n",
    "These facets are not trivial nor necessary for solving this exercise. We just want to \n",
    "provide the student with the opportunity to get a mere glimpse on what you can do with Python and \n",
    "Object Oriented Programming (OOP). Although we will not discuss concepts such as Inheritance, we advise the \n",
    "interested student to take a closer look to the fascinating world of OOP in order to make the most out of the\n",
    "next lines of code.\n",
    "\"\"\"\n",
    "\n",
    "class MillionaireError(Exception):\n",
    "    \"\"\"Raised when user provides a value >= 1e6\"\"\"\n",
    "    pass\n",
    "\n",
    "class BrokeError(Exception):\n",
    "    \"\"\"Raised when user provides a deposit of zero\"\"\"\n",
    "    pass\n",
    "\n",
    "class ZeroInterestError(Exception):\n",
    "    \"\"\"Raised when user provides a zero interest rate\"\"\"\n",
    "    pass"
   ]
  },
  {
   "cell_type": "code",
   "execution_count": 9,
   "id": "769f48ec",
   "metadata": {},
   "outputs": [
    {
     "name": "stdout",
     "output_type": "stream",
     "text": [
      "Give initial deposit amount: 3788.69\n",
      "Default change interest is 1.5%. Do you want to chage that [y/n]: n\n",
      "With an interest rate of 1.5%, you will become a millionaire in 375 years!\n"
     ]
    }
   ],
   "source": [
    "# Ask user for input\n",
    "try:\n",
    "    initial_deposit = float(input(\"Give initial deposit amount: \"))\n",
    "    \n",
    "    \n",
    "    # Check if user is already a millionare\n",
    "    # or if an invalid input is provided\n",
    "    if initial_deposit >= 1e6:\n",
    "        raise MillionaireError\n",
    "    \n",
    "    elif initial_deposit == 0.0:\n",
    "        raise BrokeError\n",
    "        \n",
    "    elif initial_deposit < 0:\n",
    "        raise ValueError\n",
    "        \n",
    "        \n",
    "        \n",
    "    # Check if user wants to change the default interest rate\n",
    "    # and set a custom rate. Otherwise keep default.\n",
    "    change_interest = input(\"Default change interest is 1.5%. Do you want to chage that [y/n]: \")\n",
    "    \n",
    "    if change_interest.lower() == 'y':\n",
    "        interest_rate = float(input(\"Give percentage of interest rate: \")) / 100\n",
    "        \n",
    "        # Check if user provides a null or negative interest\n",
    "        if interest_rate < 0:\n",
    "            raise ValueError\n",
    "        elif interest_rate == 0.0:\n",
    "            raise ZeroInterestError\n",
    "            \n",
    "    else: # we'll take anything else as a \"no\"\n",
    "        interest_rate = 0.015\n",
    "        \n",
    "        \n",
    "    # Calculate years till user hits one million euros\n",
    "    current_amount = initial_deposit\n",
    "    years_passed = 0\n",
    "\n",
    "    while current_amount < 1e6:\n",
    "        current_amount = current_amount + amount_increased(current_amount, rate=interest_rate)\n",
    "        years_passed += 1\n",
    "\n",
    "    print(\"With an interest rate of {:.1f}%, you will become a millionaire in {} years!\".format(interest_rate*100,\n",
    "                                                                                               years_passed))\n",
    "    \n",
    "except ValueError: # catch value error caused by trying to cast str to float or providing negative number\n",
    "    print(\"Deposit amount and interest rate must be non-negative numbers!\")\n",
    "    \n",
    "except RuntimeError:\n",
    "    # Ok, maybe you can come up with something better than this vague message \n",
    "    print('Something went wrong in the \"while-loop\"!')\n",
    "    \n",
    "except MillionaireError:\n",
    "    print('You are already a millinonaire!')\n",
    "    \n",
    "except BrokeError:\n",
    "    print('A deposit of zero euros is invalid!')\n",
    "    \n",
    "except ZeroInterestError:\n",
    "    print('With an interest rate of 0% you won\\'t become a millionaire!')\n",
    "    \n",
    "except Exception as e: # catch any other exception that we couldn't think of\n",
    "    print(e)"
   ]
  },
  {
   "cell_type": "markdown",
   "id": "e0aea202",
   "metadata": {},
   "source": [
    "---"
   ]
  },
  {
   "cell_type": "markdown",
   "id": "bf84c244",
   "metadata": {},
   "source": [
    "### 2. Δημιουργήστε το δικό σας module"
   ]
  },
  {
   "cell_type": "markdown",
   "id": "7535660d",
   "metadata": {},
   "source": [
    "- Στο μάθημα δημιουργήσαμε μία δική μας συνάρτηση (``my_sqrt``) προκειμένου να εκτιμήσουμε τη τετραγωνική ρίζα $y$ ενός αριθμού $x$. \n",
    "\n",
    "\n",
    "- Πλην όμως, ο αλγόριθμος στον οποίο βασιστήκαμε για να κάνουμε αυτή την εκτίμηση δεν μας δίνει καλά αποτελέσματα όταν $0 < x < 1$. Αυτό συμβαίνει γιατί, σε αυτή την περίπτωση, η τετραγωνική ρίζα του $x$ είναι μεγαλύτερη από τον ίδιο τον αριθμό $x$ ενώ εμείς ψάχνουμε να τη βρούμε στο διάστημα $y \\in [0, x]$.\n",
    "\n",
    "\n",
    "- Για να καλύψουμε λοιπόν και αυτή την ειδική περίπτωση θα πρέπει να έχουμε την επιλογή να ψάχνουμε την τιμή του $y$ στο διάστημα $y \\in [0,1]$ όταν το x είναι μικρότερο της μονάδος.\n",
    "\n",
    "\n",
    "- Αυτό σημαίνει ότι πρέπει να επεκτείνουμε τη συνάρτηση ``my_sqrt`` με τέτοιο τρόπο ώστε να επιλέγει τα κατάλληλα όρια αναζήτησης ανάλογα με τη τιμή του $x$."
   ]
  },
  {
   "cell_type": "markdown",
   "id": "64c9989b",
   "metadata": {},
   "source": [
    "**Ζητούμενα**\n",
    "\n",
    "* Τροποιήστε τη συνάρτηση με κατάλληλο τρόπο ώστε το μέγιστο σφάλμα $\\epsilon$ να είναι μία προαιρετική παράμετρος που μπορεί να καθοριστεί από τον χρήστη. Η προκαθορισμένη τιμή του σφάλματος θα είναι $\\epsilon = 10^{-6}$.\n",
    "\n",
    "\n",
    "* Αν ο χρήστης δώσει μία μη-έγκυρη τιμή τόσο για τον αριθμό του οποίου θέλουμε να εκτιμήσουμε τη τετραγωνική ρίζα, όσο και για το μέγιστο σφάλμα (δηλαδή αρνητικούς αριθμούς), τότε η συνάρτηση θα πρέπει να τυπώνει ένα μήνυμα που θα υποδηλώνει το σφάλμα και θα επιστρέφει ``None``. Σε αντίθετη περίπτωση, η συνάρτηση θα επιστρέφει την εκτίμηση για τη τετραγωνική ρίζα.\n",
    "\n",
    "\n",
    "* Επεκτείνετε τη συνάρτηση ``my_sqrt`` που γράψατε ώστε να λαμβάνει υπόψιν την ειδική περίπτωση όπου $0 < x < 1$.\n",
    "\n",
    ">**Hint**: Αναζητείστε στο διαδίκτυο τη λειτουργία της built-in συνάρτησης \"max(a,b)\". Το πρόβλημα μπορεί να λυθεί ουσιαστικά με την αντικατάσταση μιας γραμμής κώδικα.\n",
    "\n",
    "\n",
    "\n",
    "* Μόλις βεβαιωθείτε για τη σωστή λειτουργία της συνάρτησης, αποθηκεύστε την σε ένα αρχείο με το όνομα ``my_functions.py``. Βεβαιωθείτε ότι έχετε αποθηκεύσει το αρχείο στον ίδιο επίπεδο του φακέλου από τον οποίο τρέχετε το σημειωματάριο. Στη συνέχεια εισάγετε το αρχείο αυτό ως βιβλιοθήκη στο Jupyter notebook. Κάντε χρήση της συνάρτησης καλώντας την μέσα από το module για να εκτιμήσετε την τετραγωνική ρίζα των αριθμών ``[4, 121, 0.5, 8.3, 0.0, -5.0]``. Συγκρίνετε τις τιμές που παίρνετε χρησιμοποιώντας τη δική σας συνάρτηση με τις τιμές που παίρνετε χρησιμοποιώντας τη συνάρτηση ``sqrt`` από τη βιβλιοθήκη numpy.\n",
    "\n",
    "\n",
    "\n",
    "* Πόσους διαφορετικούς τρόπους έχετε στη διάθεσή σας για να εισάγετε τη βιβλιοθήκη σας; Μπορείτε να εντοπίσετε αρνητικά στοιχεία σε κάποιον από αυτούς;"
   ]
  },
  {
   "cell_type": "code",
   "execution_count": 10,
   "id": "e5756653",
   "metadata": {},
   "outputs": [
    {
     "name": "stdout",
     "output_type": "stream",
     "text": [
      "My sqrt: 2.0\n",
      "numpy's sqrt: 2.0\n",
      "diff: 0.0\n",
      "-----\n",
      "My sqrt: 10.999999989755452\n",
      "numpy's sqrt: 11.0\n",
      "diff: -1.0244548320770264e-08\n",
      "-----\n",
      "My sqrt: 0.7071065902709961\n",
      "numpy's sqrt: 0.7071067811865476\n",
      "diff: -1.909155514789873e-07\n",
      "-----\n",
      "My sqrt: 2.880972212553025\n",
      "numpy's sqrt: 2.8809720581775866\n",
      "diff: 1.543754382105078e-07\n",
      "-----\n",
      "My sqrt: 0.0009765625\n",
      "numpy's sqrt: 0.0\n",
      "diff: 0.0009765625\n",
      "-----\n"
     ]
    },
    {
     "ename": "ValueError",
     "evalue": "x and eps must not be negative numbers!",
     "output_type": "error",
     "traceback": [
      "\u001b[0;31m---------------------------------------------------------------------------\u001b[0m",
      "\u001b[0;31mValueError\u001b[0m                                Traceback (most recent call last)",
      "\u001b[0;32m/var/folders/y6/62tg_s5s7536r0lp1mks4jl80000gn/T/ipykernel_78225/2515551559.py\u001b[0m in \u001b[0;36m<module>\u001b[0;34m\u001b[0m\n\u001b[1;32m      5\u001b[0m \u001b[0;34m\u001b[0m\u001b[0m\n\u001b[1;32m      6\u001b[0m \u001b[0;32mfor\u001b[0m \u001b[0mn\u001b[0m \u001b[0;32min\u001b[0m \u001b[0mnums\u001b[0m\u001b[0;34m:\u001b[0m\u001b[0;34m\u001b[0m\u001b[0;34m\u001b[0m\u001b[0m\n\u001b[0;32m----> 7\u001b[0;31m     \u001b[0mprint\u001b[0m\u001b[0;34m(\u001b[0m\u001b[0;34mf\"My sqrt: {mf.my_sqrt(n)}\\nnumpy's sqrt: {np.sqrt(n)}\\ndiff: {(mf.my_sqrt(n) - np.sqrt(n))}\\n-----\"\u001b[0m\u001b[0;34m)\u001b[0m\u001b[0;34m\u001b[0m\u001b[0;34m\u001b[0m\u001b[0m\n\u001b[0m",
      "\u001b[0;32m~/Documents/GitHub/python-UoC/01.Introduction_to_Python/my_functions.py\u001b[0m in \u001b[0;36mmy_sqrt\u001b[0;34m(x, eps)\u001b[0m\n\u001b[1;32m      9\u001b[0m     \u001b[0;31m# Check validity of input\u001b[0m\u001b[0;34m\u001b[0m\u001b[0;34m\u001b[0m\u001b[0m\n\u001b[1;32m     10\u001b[0m     \u001b[0;32mif\u001b[0m \u001b[0;34m(\u001b[0m\u001b[0mx\u001b[0m \u001b[0;34m<\u001b[0m \u001b[0;36m0\u001b[0m\u001b[0;34m)\u001b[0m \u001b[0;32mor\u001b[0m \u001b[0;34m(\u001b[0m\u001b[0meps\u001b[0m \u001b[0;34m<\u001b[0m \u001b[0;36m0\u001b[0m\u001b[0;34m)\u001b[0m\u001b[0;34m:\u001b[0m\u001b[0;34m\u001b[0m\u001b[0;34m\u001b[0m\u001b[0m\n\u001b[0;32m---> 11\u001b[0;31m         \u001b[0;32mraise\u001b[0m \u001b[0mValueError\u001b[0m\u001b[0;34m(\u001b[0m\u001b[0;34m\"x and eps must not be negative numbers!\"\u001b[0m\u001b[0;34m)\u001b[0m\u001b[0;34m\u001b[0m\u001b[0;34m\u001b[0m\u001b[0m\n\u001b[0m\u001b[1;32m     12\u001b[0m         \u001b[0;32mreturn\u001b[0m \u001b[0;32mNone\u001b[0m\u001b[0;34m\u001b[0m\u001b[0;34m\u001b[0m\u001b[0m\n\u001b[1;32m     13\u001b[0m \u001b[0;34m\u001b[0m\u001b[0m\n",
      "\u001b[0;31mValueError\u001b[0m: x and eps must not be negative numbers!"
     ]
    }
   ],
   "source": [
    "import numpy as np\n",
    "import my_functions as mf\n",
    "\n",
    "nums = [4, 121, 0.5, 8.3, 0.0, -5.0]\n",
    "\n",
    "for n in nums:\n",
    "    print(f\"My sqrt: {mf.my_sqrt(n)}\\nnumpy's sqrt: {np.sqrt(n)}\\ndiff: {(mf.my_sqrt(n) - np.sqrt(n))}\\n-----\")"
   ]
  },
  {
   "cell_type": "markdown",
   "id": "79a22dfa",
   "metadata": {},
   "source": [
    "**Εισαγωγή ολόκληρης της βιβλιοθήκης με/χωρίς συντομογραφία**\n",
    "\n",
    "```python \n",
    "    import my_functions (as mf)\n",
    "```\n",
    "    \n",
    "\n",
    "**Εισαγωγή μόνο κάποιας συγκεκριμένης συνάρτησης χρησιμοποιώντας κάποια ονοματοδοσία**\n",
    "```python\n",
    "    import my_functions.my_sqrt as square_root_estimator\n",
    "    from my_functions import my_sqrt as square_root_estimator\n",
    "``` \n",
    "\n",
    "**Εισαγωγή όλων των περιεχομένων της βιβλιοθήκης**\n",
    "```python\n",
    "    from my_functions import *\n",
    "```    \n",
    "    \n",
    "Η τελευταία επιλογή, αν και εφαρμόσιμη σε πολλές περιπτώσεις, μπορεί να γίνει πηγή σύγχησης αν υπάρχουν άλλες συναρτήσεις με το ίδιο όνομα με αυτές που προσπαθούμε να εισάγουμε. Η εισαγωγή με αυτόν τον τρόπο δεν μας δείχνει από που προέρχεται η συνάρτηση που θέλουμε να χρησιμοποιήσουμε γιατί μπορεί να κληθεί άμεσα.\n",
    "\n",
    "Για παράδειγμα οι συναρτήσεις ``math.sqrt()`` και ``numpy.sqrt()`` είναι δύο διαφορετικές συναρτήσεις που προέρχονται από δύο διαφορετικές βιβλιοθήκες. Αν επιλέγαμε να εισάγουμε τις 2 αυτές βιβλιοθήκες με τον τελευταίο τρόπο, γίνεται αντιληπτό ότι θα είχαμε δύο συναρτήσεις με το ίδιο όνομα χωρίς να ξέρουμε όμως ποιά από τις δύο χρησιμοποιούμε τελικά. "
   ]
  },
  {
   "cell_type": "markdown",
   "id": "5546037e",
   "metadata": {},
   "source": [
    "---"
   ]
  }
 ],
 "metadata": {
  "kernelspec": {
   "display_name": "Python 3 (ipykernel)",
   "language": "python",
   "name": "python3"
  },
  "language_info": {
   "codemirror_mode": {
    "name": "ipython",
    "version": 3
   },
   "file_extension": ".py",
   "mimetype": "text/x-python",
   "name": "python",
   "nbconvert_exporter": "python",
   "pygments_lexer": "ipython3",
   "version": "3.9.13"
  }
 },
 "nbformat": 4,
 "nbformat_minor": 5
}
