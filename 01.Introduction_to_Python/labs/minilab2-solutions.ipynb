{
 "cells": [
  {
   "cell_type": "markdown",
   "id": "9f7ffe61",
   "metadata": {},
   "source": [
    "# minilab2: Ασκήσεις εξάσκησης - Εισαγωγή στη Python"
   ]
  },
  {
   "cell_type": "markdown",
   "id": "880ce32e",
   "metadata": {},
   "source": [
    "## Μερικά σχόλια για τις λύσεις\n",
    "\n",
    "- Οι λύσεις που παρέχονται εδώ είναι ενδεικτικές. Υπάρχουν πολλοί τρόποι επίλυσης των προβλημάτων.\n",
    "\n",
    "\n",
    "- Ένας αλγόριθμος μπορεί να δουλεύει ικανοποιητικά για ένα συγκεκριμένο πρόβλημα αλλά γρήγορα να γίνεται μη-αποδοτικός όταν αυξάνεται ο όγκος των δεδομένων που θέλουμε να επεξεργαστούμε (π.χ. χρήση εμφολευμένων βρόγχων επανάληψης). Η επίδοση ενός αλγορίθμου και η δυνατότητά του να κλιμακώνεται με τον όγκο των δεδομένων είναι κάτι το εξαιρετικά σημαντικό που δυστυχώς δεν έχουμε το χρόνο να συζητήσουμε διεξοδικά. Με τη συνεχή εξάσκηση θα είστε σε θέση να αναγνωρίζετε κακογραμμένο κώδικα, μεθόδους βελτιστοποίησής του κτλ.\n",
    "\n",
    "\n",
    "- Μερικές φορές η λύση που παρέχεται μπορεί να σας φαίνεται ανούσια πολύπλοκη σε σχέση με τα ζητούμενα. Το πιθανότερο είναι να καταλήξατε στη ζητούμενη συμπεριφορά με λιγότερες γραμμές κώδικα. Θυμηθείτε όμως ότι, όπως έχουμε πει, ένα πρόβλημα μπορεί να υποστηρίζει τη χρήση διαφορετικών προσεγγίσεων. Η έκθεση σε διαφορετικές τεχνικές επίλυσης σας προσφέρει τη δυνατότητα να δείτε μεθόδους, πλην των προφανών, που μπορείτε να αξιοποιήσετε μελλοντικά.\n",
    "\n",
    "\n",
    "- Προσπαθείστε να κατανοήσετε τη λογική πίσω από τις λύσεις που παρέχονται. Αν έχετε απορίες σχετικά με τη λειτουργία και τη χρήση κάποιων συναρτήσεων ή δομών που δεν παρουσιάστηκαν στο μάθημα λόγω έλλειψης χρόνου, αφιερώστε αρκετό χρόνο στην αναζήτηση κατάλληλης τεκμηρίωσης (έντυπη και διαδικτυακή βιβλιογραφία, συμφοιτητές, διδάσκοντες κτλ).  "
   ]
  },
  {
   "cell_type": "markdown",
   "id": "debff64b",
   "metadata": {},
   "source": [
    "## Ασκήσεις"
   ]
  },
  {
   "cell_type": "markdown",
   "id": "22c9cb7e",
   "metadata": {},
   "source": [
    "###  1. Αλληλεπίδραση με τον χρήστη & συναρτήσεις\n",
    "---"
   ]
  },
  {
   "cell_type": "markdown",
   "id": "ea5e908e",
   "metadata": {},
   "source": [
    "1. Γράψτε κώδικα που ζητάει από τον χρήστη 2 ακέραιους αριθμούς και εμφανίζει το άθροισμα, το γινόμενο και το μέσο όρο των δύο αριθμών."
   ]
  },
  {
   "cell_type": "code",
   "execution_count": 1,
   "id": "13920cf9",
   "metadata": {},
   "outputs": [
    {
     "name": "stdout",
     "output_type": "stream",
     "text": [
      "Give first number: 2\n",
      "Give second number: 3\n",
      "Sum: 5\n",
      "Product: 6\n",
      "Average: 2.5\n"
     ]
    }
   ],
   "source": [
    "a = int(input(\"Give first number: \"))\n",
    "b = int(input(\"Give second number: \"))\n",
    "\n",
    "print(\"Sum:\", a+b)\n",
    "print(\"Product:\", a*b)\n",
    "print(\"Average:\", (a+b)/2)"
   ]
  },
  {
   "cell_type": "markdown",
   "id": "d255dbf1",
   "metadata": {},
   "source": [
    "---"
   ]
  },
  {
   "cell_type": "markdown",
   "id": "e9c80dbd",
   "metadata": {},
   "source": [
    "2. Δίνεται η εξίσωση $y = 2x^3 + 3x^2 - x + 5$. Να γράψετε κώδικα που ζητάει το $x$ ως πραγματικό αριθμό από τον χρήστη και εμφανίζει το $y$ με ακρίβεια 2 δεκαδικών ψηφίων. Δοκιμάστε να λύσετε το πρόβλημα με τη χρήση συνάρτησης (απλής και ανώνυμης)."
   ]
  },
  {
   "cell_type": "code",
   "execution_count": 2,
   "id": "0dd97a21",
   "metadata": {},
   "outputs": [
    {
     "name": "stdout",
     "output_type": "stream",
     "text": [
      "Give number: 4\n",
      "Output: 177.0\n"
     ]
    }
   ],
   "source": [
    "def polynomial_fn(x):\n",
    "    return (2*(x**3) + 3*(x**2) - x + 5)\n",
    "\n",
    "a = float(input(\"Give number: \"))\n",
    "print(\"Output:\", round(polynomial_fn(a),2))"
   ]
  },
  {
   "cell_type": "markdown",
   "id": "f03470a8",
   "metadata": {},
   "source": [
    "Προσέξτε πως δύναται να δώσουμε ως παράμετρο σε μία συνάρτηση μία άλλη συνάρτηση. Εδώ δώσαμε στη συνάρτηση round\n",
    "τη τιμή που επιστρέφει η συνάρτηση ``polynomial_fn`` χωρίς να την εκχωρίσουμε πρώτα σε κάποια μεταβλητή.\n",
    "\n",
    "Επειδή το ζητούμενο είναι απλό και δεν θα χρησιμοποιήσουμε τη συνάρτηση ``polynomial_fn`` παρακάτω, θα μπορούσαμε να\n",
    "λύσουμε την άσκηση χρησιμοποιώντας και μία ανώνυμη συνάρτηση."
   ]
  },
  {
   "cell_type": "code",
   "execution_count": 3,
   "id": "52943d19",
   "metadata": {},
   "outputs": [
    {
     "name": "stdout",
     "output_type": "stream",
     "text": [
      "Give number: 4\n",
      "Output: 177.0\n"
     ]
    }
   ],
   "source": [
    "b = float(input(\"Give number: \"))\n",
    "\n",
    "# Small anonymous function\n",
    "y = lambda x: 2*(x**3) + 3*(x**2) - x + 5\n",
    "\n",
    "print(\"Output:\", round(y(b), 2))"
   ]
  },
  {
   "cell_type": "markdown",
   "id": "90d595f4",
   "metadata": {},
   "source": [
    "---"
   ]
  },
  {
   "cell_type": "markdown",
   "id": "49bf9153",
   "metadata": {},
   "source": [
    "3. Η κλίμακα θερμοκρασιών Fahrenheit συνδέεται με αυτή της κλίμακας Celsius με τη σχέση:\n",
    "\n",
    "    \\begin{equation}\n",
    "        F = \\frac{9C}{5} + 32\n",
    "    \\end{equation}\n",
    "\n",
    "    όπου $F$ η θερμοκρασία σε βαθμούς Fahrenheit και $C$ η θερμοκρασία σε βαθμούς Κελσίου.\n",
    "\n",
    "**Ζητούμενα**\n",
    "\n",
    "* Γράψτε συνάρτηση που θα δέχεται μία θερμοκρασία σε βαθμούς Κελσίου και θα επιστρέφει τη θερμοκρασία σε βαθμούς Fahrenheit. Προσέξτε την περίπτωση του απόλυτου μηδενός. Εμφανίστε κατάλληλο μήνυμα ώστε να προειδοποιείτε τον χρήστη για την μη-έγκυρη εισαγωγή τιμής. Σε αυτή την περίπτωση η συνάρτηση θα επιστρέφει ``None``.\n",
    "\n",
    "\n",
    "* Γράψτε κώδικα που ζητάει από τον χρήστη μία θερμοκρασία και αξιοποιήστε τη συνάρτηση που γράψατε για να εμφανίσετε τη θερμοκρασία στη κλίμακα Fahrenheit."
   ]
  },
  {
   "cell_type": "code",
   "execution_count": 4,
   "id": "e1eb04f5",
   "metadata": {},
   "outputs": [],
   "source": [
    "def C2F(C):\n",
    "    '''\n",
    "        A function that converts temperature (given\n",
    "        in the Celsius scale) to Fahrenheit scale.\n",
    "        \n",
    "        ARGS\n",
    "        =======\n",
    "            - C : The temperature in Celsius.\n",
    "            \n",
    "        RETURNS\n",
    "        =======\n",
    "            - The temperature in Fahrnheit. If temperature\n",
    "            is lower than abs zero, it returns None.\n",
    "    '''\n",
    "    \n",
    "    if C < -273.15:\n",
    "        raise ValueError(\"Temperature cannot be lower than abs zero\")\n",
    "        return None\n",
    "    \n",
    "    F = (9 * C)/5 + 32\n",
    "    return F"
   ]
  },
  {
   "cell_type": "code",
   "execution_count": 5,
   "id": "57279da2",
   "metadata": {},
   "outputs": [
    {
     "name": "stdout",
     "output_type": "stream",
     "text": [
      "Give temperature in Celsius: 22.1\n",
      "The temperature in Fahrenheit scale is: 71.78\n"
     ]
    }
   ],
   "source": [
    "temperature = float(input(\"Give temperature in Celsius: \"))\n",
    "print(\"The temperature in Fahrenheit scale is:\", C2F(temperature))"
   ]
  },
  {
   "cell_type": "code",
   "execution_count": 6,
   "id": "9173741e",
   "metadata": {},
   "outputs": [
    {
     "name": "stdout",
     "output_type": "stream",
     "text": [
      "Give temperature in Celsius: -314.88\n"
     ]
    },
    {
     "ename": "ValueError",
     "evalue": "Temperature cannot be lower than abs zero",
     "output_type": "error",
     "traceback": [
      "\u001b[0;31m---------------------------------------------------------------------------\u001b[0m",
      "\u001b[0;31mValueError\u001b[0m                                Traceback (most recent call last)",
      "\u001b[0;32m/var/folders/y6/62tg_s5s7536r0lp1mks4jl80000gn/T/ipykernel_50055/2325192348.py\u001b[0m in \u001b[0;36m<module>\u001b[0;34m\u001b[0m\n\u001b[1;32m      1\u001b[0m \u001b[0mtemperature2\u001b[0m \u001b[0;34m=\u001b[0m \u001b[0mfloat\u001b[0m\u001b[0;34m(\u001b[0m\u001b[0minput\u001b[0m\u001b[0;34m(\u001b[0m\u001b[0;34m\"Give temperature in Celsius: \"\u001b[0m\u001b[0;34m)\u001b[0m\u001b[0;34m)\u001b[0m\u001b[0;34m\u001b[0m\u001b[0;34m\u001b[0m\u001b[0m\n\u001b[0;32m----> 2\u001b[0;31m \u001b[0mprint\u001b[0m\u001b[0;34m(\u001b[0m\u001b[0;34m\"The temperature in Fahrenheit scale is:\"\u001b[0m\u001b[0;34m,\u001b[0m \u001b[0mC2F\u001b[0m\u001b[0;34m(\u001b[0m\u001b[0mtemperature2\u001b[0m\u001b[0;34m)\u001b[0m\u001b[0;34m)\u001b[0m\u001b[0;34m\u001b[0m\u001b[0;34m\u001b[0m\u001b[0m\n\u001b[0m",
      "\u001b[0;32m/var/folders/y6/62tg_s5s7536r0lp1mks4jl80000gn/T/ipykernel_50055/3498982644.py\u001b[0m in \u001b[0;36mC2F\u001b[0;34m(C)\u001b[0m\n\u001b[1;32m     15\u001b[0m \u001b[0;34m\u001b[0m\u001b[0m\n\u001b[1;32m     16\u001b[0m     \u001b[0;32mif\u001b[0m \u001b[0mC\u001b[0m \u001b[0;34m<\u001b[0m \u001b[0;34m-\u001b[0m\u001b[0;36m273.15\u001b[0m\u001b[0;34m:\u001b[0m\u001b[0;34m\u001b[0m\u001b[0;34m\u001b[0m\u001b[0m\n\u001b[0;32m---> 17\u001b[0;31m         \u001b[0;32mraise\u001b[0m \u001b[0mValueError\u001b[0m\u001b[0;34m(\u001b[0m\u001b[0;34m\"Temperature cannot be lower than abs zero\"\u001b[0m\u001b[0;34m)\u001b[0m\u001b[0;34m\u001b[0m\u001b[0;34m\u001b[0m\u001b[0m\n\u001b[0m\u001b[1;32m     18\u001b[0m         \u001b[0;32mreturn\u001b[0m \u001b[0;32mNone\u001b[0m\u001b[0;34m\u001b[0m\u001b[0;34m\u001b[0m\u001b[0m\n\u001b[1;32m     19\u001b[0m \u001b[0;34m\u001b[0m\u001b[0m\n",
      "\u001b[0;31mValueError\u001b[0m: Temperature cannot be lower than abs zero"
     ]
    }
   ],
   "source": [
    "temperature2 = float(input(\"Give temperature in Celsius: \"))\n",
    "print(\"The temperature in Fahrenheit scale is:\", C2F(temperature2))"
   ]
  },
  {
   "cell_type": "markdown",
   "id": "8cd96cf1",
   "metadata": {},
   "source": [
    "---"
   ]
  },
  {
   "cell_type": "markdown",
   "id": "a40f5f5e",
   "metadata": {},
   "source": [
    "4. Παντόγραμμα ονομάζεται μια πρόταση στην οποία χρησιμοποιούνται όλα τα γράμματα ενός αλφαβήτου, τουλάχιστον από μία φορά το καθένα, \n",
    "π.χ. \"The quick brown fox jumps over the lazy dog\".\n",
    "\n",
    "    Συμπληρώστε κατάλληλα την παρακάτω συνάρτηση ώστε να εξετάζει εαν μία συμβολοσειρά είναι παντόγραμμα ή όχι (υποθέστε ότι η συμβολοσειρά προς εξέταση δεν περιέχει σημεία στίξης).\n",
    "\n",
    ">**Hint**: Μπορεί να θέλετε να χρησιμοποιήσετε την μέθοδο ``.replace()`` ώστε να διώξετε τα κενά μεταξύ των λέξεων της πρότασης."
   ]
  },
  {
   "cell_type": "code",
   "execution_count": 7,
   "id": "e34c8258",
   "metadata": {},
   "outputs": [],
   "source": [
    "import string\n",
    "\n",
    "def ispangram(str1, alphabet=string.ascii_lowercase):\n",
    "    for letter in alphabet:\n",
    "        if letter not in str1.replace(\" \", \"\"):\n",
    "            return False\n",
    "    return True"
   ]
  },
  {
   "cell_type": "code",
   "execution_count": 8,
   "id": "122f0f17",
   "metadata": {},
   "outputs": [
    {
     "data": {
      "text/plain": [
       "'abcdefghijklmnopqrstuvwxyz'"
      ]
     },
     "execution_count": 8,
     "metadata": {},
     "output_type": "execute_result"
    }
   ],
   "source": [
    "string.ascii_lowercase"
   ]
  },
  {
   "cell_type": "code",
   "execution_count": 9,
   "id": "488ce96d",
   "metadata": {},
   "outputs": [
    {
     "data": {
      "text/plain": [
       "True"
      ]
     },
     "execution_count": 9,
     "metadata": {},
     "output_type": "execute_result"
    }
   ],
   "source": [
    "# Test your function here\n",
    "text = \"The quick brown fox jumps over the lazy dog\"\n",
    "ispangram(text)"
   ]
  },
  {
   "cell_type": "markdown",
   "id": "ef96d7ed",
   "metadata": {},
   "source": [
    "---"
   ]
  },
  {
   "cell_type": "markdown",
   "id": "962429d5",
   "metadata": {},
   "source": [
    "5. Γράψτε μία συνάρτηση που θα δέχεται μία συμβολοσειρά και θα υπολογίζει τον αριθμό των κεφαλαίων και πεζών γραμμάτων που περιέχει, π.χ.\n",
    "\n",
    "        Sample String : 'Hello Mr. Rogers, how are you this fine Tuesday?'\n",
    "\n",
    "        Expected Output : \n",
    "\n",
    "        No. of Upper case characters : 4\n",
    "\n",
    "        No. of Lower case Characters : 33\n",
    "        \n",
    ">**Hint**: δύο μέθοδοι της κλάσης ``<string>`` που μπορεί να βρείτε χρήσιμες είναι οι: ``.isupper()`` και ``.islower()``"
   ]
  },
  {
   "cell_type": "code",
   "execution_count": 10,
   "id": "a5a30fa2",
   "metadata": {},
   "outputs": [],
   "source": [
    "def case_counter(st):\n",
    "    lower_case_counter = 0\n",
    "    upper_case_counter = 0\n",
    "    \n",
    "    for letter in st:\n",
    "        if letter.islower():\n",
    "            lower_case_counter += 1\n",
    "        elif letter.isupper():\n",
    "            upper_case_counter += 1\n",
    "        else:\n",
    "            # ignore spaces and punctuation\n",
    "            pass\n",
    "        \n",
    "    return lower_case_counter, upper_case_counter"
   ]
  },
  {
   "cell_type": "code",
   "execution_count": 11,
   "id": "4b9cab22",
   "metadata": {},
   "outputs": [
    {
     "name": "stdout",
     "output_type": "stream",
     "text": [
      "No. of Upper case characters : 4\n",
      "No. of Lower case characters : 33\n"
     ]
    }
   ],
   "source": [
    "res = case_counter(\"Hello Mr. Rogers, how are you this fine Tuesday?\")\n",
    "print(f\"No. of Upper case characters : {res[1]}\")\n",
    "print(f\"No. of Lower case characters : {res[0]}\")"
   ]
  },
  {
   "cell_type": "markdown",
   "id": "5fe4f018",
   "metadata": {},
   "source": [
    "---"
   ]
  },
  {
   "cell_type": "markdown",
   "id": "376589ee",
   "metadata": {},
   "source": [
    "### 2. Διαχείριση εξαιρέσεων"
   ]
  },
  {
   "cell_type": "markdown",
   "id": "61f90208",
   "metadata": {},
   "source": [
    "6. Γράψτε μία συνάρτηση που ζητάει έναν ακέραιο αριθμό και τυπώνει το τετράγωνό του. Χρησιμοποιήστε έναν βρόγχο ``while`` μαζί με ένα ``try-except`` μπλοκ ώστε να διαχειριστείτε λανθασμένες εισόδους."
   ]
  },
  {
   "cell_type": "code",
   "execution_count": 12,
   "id": "77cda6dc",
   "metadata": {},
   "outputs": [],
   "source": [
    "def ask():\n",
    "    while True:\n",
    "        try:\n",
    "            num = int(input(\"Input an integer: \"))\n",
    "            print(\"Thank you, your number squared is: \", num**2)\n",
    "            break\n",
    "        except ValueError:\n",
    "            print(\"An error occured! Please try again!\")"
   ]
  },
  {
   "cell_type": "code",
   "execution_count": 13,
   "id": "c49d0030",
   "metadata": {},
   "outputs": [
    {
     "name": "stdout",
     "output_type": "stream",
     "text": [
      "Input an integer: asdf\n",
      "An error occured! Please try again!\n",
      "Input an integer: 2.3\n",
      "An error occured! Please try again!\n",
      "Input an integer: 9\n",
      "Thank you, your number squared is:  81\n"
     ]
    }
   ],
   "source": [
    "ask()"
   ]
  },
  {
   "cell_type": "markdown",
   "id": "55f6c4ca",
   "metadata": {},
   "source": [
    "---"
   ]
  },
  {
   "cell_type": "markdown",
   "id": "4f3ea272",
   "metadata": {},
   "source": [
    "7\\. Έστω ότι πηγαίνετε σε μία τράπεζα και ανοίγετε έναν αποταμιευτικό λογαριασμό κάνοντας μία κατάθεση ενός αρχικού κεφαλαίου. Η τράπεζα σας προσφέρει ένα σταθερό ετήσιο επιτόκιο 1.5%.\n",
    "\n",
    "**Ζητούμενα**\n",
    "\n",
    "- Γράψτε συνάρτηση που θα υπολογίζει το ποσό κατά το οποίο θα αυξηθούν οι καταθέσεις σας στο τέλος ενός οικονομικού έτους. Η συνάρτηση θα παίρνει ως απαραίτητη παράμετρο το διαθέσιμο υπόλοιπο και ως προαιρετική παράμετρο το ετήσιο επιτόκιο με προκαθορισμένη τιμή το 1.5%.\n",
    "\n",
    "- Στη συνέχεια, δώστε στο χρήστη τη δυνατότητα να καθορίσει ένα αρχικό ποσό κατάθεσης και (προαιρετικά) το επιτόκιο της τράπεζας ελέγχοντας για μη-έγκυρες τιμές που μπορείτε να σκεφτείτε (π.χ. συμβολοσειρές, αρνητικοί αριθμοί κτλ).\n",
    "\n",
    "- Υπολογίστε πόσα χρόνια θα πάρει το χρήστη να γίνει εκατομμυριούχος με τα δεδομένα που παρείχε.\n",
    "\n",
    ">**Hint**: Χρησιμοποιήστε βρόγχο επανάληψης while."
   ]
  },
  {
   "cell_type": "code",
   "execution_count": 14,
   "id": "a8048ca9",
   "metadata": {},
   "outputs": [],
   "source": [
    "\"\"\"\n",
    "Although this function provides next to nothing in terms of productivity it is requested\n",
    "to familiarize students with functions and required/optional arguments.\n",
    "\"\"\"\n",
    "\n",
    "def amount_increased(balance, rate=0.015):\n",
    "    \"\"\"\n",
    "        ARGS\n",
    "        =======\n",
    "            - balance : current balance \n",
    "            - rate : interest rate\n",
    "\n",
    "        RETURNS\n",
    "        ======= \n",
    "            - The amount by which the current balance\n",
    "            will increase at the end of fiscal year.\n",
    "    \"\"\"\n",
    "    \n",
    "    return balance * rate"
   ]
  },
  {
   "cell_type": "code",
   "execution_count": 15,
   "id": "983f7b70",
   "metadata": {},
   "outputs": [],
   "source": [
    "\"\"\"\n",
    "DEFINE PYTHON USER-DEFINED EXCEPTIONS\n",
    "-----\n",
    "These facets are not trivial nor necessary for solving this exercise. We just want to \n",
    "provide the student with the opportunity to get a mere glimpse on what you can do with Python and \n",
    "Object Oriented Programming (OOP). Although we will not discuss concepts such as Inheritance, we advise the \n",
    "interested student to take a closer look to the fascinating world of OOP in order to make the most out of the\n",
    "next lines of code.\n",
    "\"\"\"\n",
    "\n",
    "class MillionaireError(Exception):\n",
    "    \"\"\"Raised when user provides a value >= 1e6\"\"\"\n",
    "    pass\n",
    "\n",
    "class BrokeError(Exception):\n",
    "    \"\"\"Raised when user provides a deposit of zero\"\"\"\n",
    "    pass\n",
    "\n",
    "class ZeroInterestError(Exception):\n",
    "    \"\"\"Raised when user provides a zero interest rate\"\"\"\n",
    "    pass"
   ]
  },
  {
   "cell_type": "code",
   "execution_count": 16,
   "id": "769f48ec",
   "metadata": {},
   "outputs": [
    {
     "name": "stdout",
     "output_type": "stream",
     "text": [
      "Give initial deposit amount: 3788.69\n",
      "Default change interest is 1.5%. Do you want to chage that [y/n]: n\n",
      "With an interest rate of 1.5%, you will become a millionaire in 375 years!\n"
     ]
    }
   ],
   "source": [
    "# Ask user for input\n",
    "try:\n",
    "    initial_deposit = float(input(\"Give initial deposit amount: \"))\n",
    "    \n",
    "    \n",
    "    # Check if user is already a millionare\n",
    "    # or if an invalid input is provided\n",
    "    if initial_deposit >= 1e6:\n",
    "        raise MillionaireError\n",
    "    \n",
    "    elif initial_deposit == 0.0:\n",
    "        raise BrokeError\n",
    "        \n",
    "    elif initial_deposit < 0:\n",
    "        raise ValueError\n",
    "        \n",
    "        \n",
    "        \n",
    "    # Check if user wants to change the default interest rate\n",
    "    # and set a custom rate. Otherwise keep default.\n",
    "    change_interest = input(\"Default change interest is 1.5%. Do you want to chage that [y/n]: \")\n",
    "    \n",
    "    if change_interest.lower() == 'y':\n",
    "        interest_rate = float(input(\"Give percentage of interest rate: \")) / 100\n",
    "        \n",
    "        # Check if user provides a null or negative interest\n",
    "        if interest_rate < 0:\n",
    "            raise ValueError\n",
    "        elif interest_rate == 0.0:\n",
    "            raise ZeroInterestError\n",
    "            \n",
    "    else: # we'll take anything else as a \"no\"\n",
    "        interest_rate = 0.015\n",
    "        \n",
    "        \n",
    "    # Calculate years till user hits one million euros\n",
    "    current_amount = initial_deposit\n",
    "    years_passed = 0\n",
    "\n",
    "    while current_amount < 1e6:\n",
    "        current_amount = current_amount + amount_increased(current_amount, rate=interest_rate)\n",
    "        years_passed += 1\n",
    "\n",
    "    print(\"With an interest rate of {:.1f}%, you will become a millionaire in {} years!\".format(interest_rate*100,\n",
    "                                                                                               years_passed))\n",
    "    \n",
    "except ValueError: # catch value error caused by trying to cast str to float or providing negative number\n",
    "    print(\"Deposit amount and interest rate must be non-negative numbers!\")\n",
    "    \n",
    "except RuntimeError:\n",
    "    # Ok, maybe you can come up with something better than this vague message \n",
    "    print('Something went wrong in the \"while-loop\"!')\n",
    "    \n",
    "except MillionaireError:\n",
    "    print('You are already a millinonaire!')\n",
    "    \n",
    "except BrokeError:\n",
    "    print('A deposit of zero euros is invalid!')\n",
    "    \n",
    "except ZeroInterestError:\n",
    "    print('With an interest rate of 0% you won\\'t become a millionaire!')\n",
    "    \n",
    "except Exception as e: # catch any other exception that we couldn't think of\n",
    "    print(e)"
   ]
  },
  {
   "cell_type": "markdown",
   "id": "e0aea202",
   "metadata": {},
   "source": [
    "---"
   ]
  },
  {
   "cell_type": "markdown",
   "id": "bf84c244",
   "metadata": {},
   "source": [
    "### 3. Δημιουργήστε το δικό σας module"
   ]
  },
  {
   "cell_type": "markdown",
   "id": "54157291",
   "metadata": {},
   "source": [
    "1\\. Η γραμμική άλγεβρα είναι ο κλάδος των μαθηματικών που ασχολείται με τους διανυσματικούς χώρους και παίζει σπουδαίο ρόλο στη Φυσική.\n",
    "Τα διανύσματα είναι σημεία σε κάποιον πολυδιάστατο χώρο και μπορούμε να τα αναπαραστήσουμε ως μία λίστα με αριθμούς. Αυτοί οι αριθμοί είναι οι συντεταγμένες του διανύσματος. Για παράδειγμα, το διάνυσμα $$\\mathbf{v} = 2\\hat{i} + 3\\hat{j} - 5\\hat{k}$$ θα μπορούσε να αναπαρασταθεί ως η λίστα:\n",
    "```python\n",
    "v = [2,3,-5]\n",
    "```\n",
    "\n",
    "Αντίστοιχα, ένας πίνακας μπορεί να θεωρηθεί ως μία διδιάστατη (2D) συλλογή από αριθμούς. Αυτή η διδιάστατη δομή μπορεί να αναπαρασταθεί ως μία λίστα που περιέχει άλλες λίστες (εμφωλευμένη λίστα), όπου κάθε εσωτερική λίστα αντιστοιχεί σε μία γραμμή του πίνακα. Για παράδειγμα ο πίνακας \n",
    "$$\n",
    "A = \\begin{bmatrix}\n",
    "    1&2&3\\\\\n",
    "    4&5&6\\\\\n",
    "    7&8&9\n",
    "\\end{bmatrix}\n",
    "$$\n",
    "θα μπορούσε να αναπαρασταθεί ως:\n",
    "```python \n",
    "A = [[1,2,3],\n",
    "     [4,5,6],\n",
    "     [7,8,9]]\n",
    "```\n",
    "\n",
    "Στην ``Python`` η βιβλιοθήκη NumPy μας παρέχει πολλές συναρτήσεις γραμμικής άλγεβρας και η χρήση της είναι ο τρόπος που συνιστάται να δουλεύετε όταν αυτό είναι απαραίτητο. Η βιβλιοθήκη NumPy θα συζητηθεί εκτενώς σε μελλοντικό μάθημα. Για την ώρα, θα φτιάξουμε την δική μας βιβλιοθήκη, που θα την ονομάσουμε ``linear_algebra``, και θα περιλαμβάνει βασικές συναρτήσεις που υλοποιούν έννοιες της γραμμικής άλγεβρας χωρίς την χρήση της βιβλιοθήκης NumPy.\n",
    "\n",
    "**Ζητούμενα**\n",
    "\n",
    "* Το αρχείο ``linear_algebra.py`` που έχετε στη διάθεσή σας, περιέχει τον βασικό κορμό μερικών συναρτήσεων. Από αυτές τις συναρτήσεις λείπουν κομμάτια κώδικα τα οποία **θα πρέπει να συμπληρώσετε εσείς** ώστε οι συναρτήσεις να δουλεύουν όπως πρέπει. Αλλάξτε **μόνο** τα κομμάτια κώδικα που σας υποδεικνύεται στα σχόλια.\n",
    "> **Σημείωση**: Στο αρχείο ``linear_algebra.py`` θα δείτε ότι το όνομα των μεταβλητών ακολουθείται από τον τύπο των δεδομένων που θα πρέπει να περιέχουν. Αυτό ονομάζεται \"[type annotation](https://docs.python.org/3/library/typing.html)\" στην Python και αποτελεί μία καλή πρακτική ώστε να ελέγχουμε και να καταλαβαίνουμε την λογική στην κατασκευή σχετικά πολύπλοκων δομών (π.χ. συναρτήσεις).\n",
    ">\n",
    "> Παρ' όλα αυτά, η Python εξακολουθεί να είναι μία δυναμική και όχι στατική γλώσσα προγραμματισμού, που σημαίνει ότι αυτά τα annotations δεν επιβάλλονται με κάποιον τρόπο, ούτε θα παραπονεθεί ο interpreter αν δώσετε κάποιο τύπο δεδομένων σε μία μεταβλητή που προορίζεται για κάτι άλλο. Η ύπαρξη τους είναι καθαρά προαιρετική.\n",
    ">\n",
    "> Πολλοί τύποι δεδομένων (π.χ. ``List`` -- με κεφαλαίο L) δεν είναι διαθέσιμοι με την εγκατάσταση της Python στον υπολογιστή μας και μας παρέχονται μέσω της βιβλιοθήκης ``typing``. Μερικά παραδείγματα χρήσης των annotations:\n",
    "> ```python\n",
    "num1: int = 1       # num1 intends to store an integer, here initialized with the number 1\n",
    "num2: float = 2.3   # num2 intends to store a real number, here initialized with the number 2.3\n",
    ">\n",
    "># This is a function that takes one argument, name, that intends to store a string\n",
    "># and returns a string\n",
    "def print_name(name:str) -> str\n",
    "    print(name) \n",
    "    return \"I am done\" \n",
    ">    \n",
    "># This is a list that intends to store real numbers\n",
    "># The List type requires the typing module\n",
    "l1: List[float] = [1.1, 2.2, 3.3]\n",
    ">\n",
    "># This is a tuple that inteds to store two strings\n",
    "># The Tuple type requires the typing module\n",
    "t1: Tuple[str,str] = [\"Hello\", \"world\"]\n",
    ">\n",
    "># This is a function that takes a variable-length homogeneous tuple (that stores strings)\n",
    "># and returns None\n",
    "def process_tuple(t: Tuple[str, ...]) -> None:\n",
    "    pass\n",
    "    return None\n",
    ">\n",
    "># This is a callable object (e.g. a function) that takes\n",
    "># two arguments (an integer and a real number) and returns a string\n",
    "># The Callable type requires the typing module\n",
    "> fn: Callable[[int, float], str]\n",
    ">```\n",
    ">\n",
    "> Αν αντιμετωπίζετε δυσκολίες στην εγκατάσταση της βιβλιοθήκης ``typing`` ή δεν θέλετε να εφαρμόσετε τα type annotations στη λύση σας μπορείτε να διαγράψετε ό,τι σχετίζεται με αυτά.\n",
    "\n",
    "\n",
    "* Εκτελέστε τα παρακάτω κελιά που περιέχουν τον ορισμό και την κλήση της συνάρτησης ``assert_functionality_in_linear_algebra_module()``. Η συνάρτηση αυτή εισάγει την βιβλιοθήκη ``linear_algebra`` που γράψατε και πραγματοποιεί μερικά τεστ ώστε να εξετάσει την ορθή λειτουργία των συναρτήσεων. Αν ο κώδικας που γράψετε είναι σωστός, θα πρέπει να δείτε στην οθόνη του υπολογιστή σας το μήνυμα ``ALL TESTS PASSED!``. Σε αντίθετη περίπτωση, θα σας ενημερώνει ότι κάποια συνάρτηση δεν υλοποιείται όπως πρέπει.\n",
    "\n",
    "\n",
    "* Πόσους διαφορετικούς τρόπους έχετε στη διάθεσή σας για να εισάγετε τη βιβλιοθήκη σας; Μπορείτε να εντοπίσετε αρνητικά στοιχεία σε κάποιον από αυτούς;"
   ]
  },
  {
   "cell_type": "code",
   "execution_count": 17,
   "id": "8328bf12",
   "metadata": {},
   "outputs": [],
   "source": [
    "def assert_functionality_in_linear_algebra_module():\n",
    "    # Import your linear_algebra module\n",
    "    import linear_algebra_solutions as la\n",
    "\n",
    "    try:\n",
    "        # Check that the add() function works as inteded\n",
    "        assert la.add([1,2,3], [4,5,6]) == [5,7,9], \"the add() function did not pass the test!\"\n",
    "\n",
    "        # Check that the subtract() function works as inteded\n",
    "        assert la.subtract([5,7,9], [4,5,6]) == [1,2,3], \"the subtract() function did not pass the test!\"\n",
    "\n",
    "        # Check that the vector_sum() function workds as inteded\n",
    "        assert la.vector_sum([[1,2], [3,4], [5,6], [7,8]]) == [16,20], \"the vector_sum() function did not pass the test!\"\n",
    "\n",
    "        # Check that the scalar_multiply() function works as inteded\n",
    "        assert la.scalar_multiply(2, [1,2,3]) == [2,4,6], \"the scalar_multiply() function did not pass the test!\"\n",
    "\n",
    "        # Check that the vector_mean() function works as inteded\n",
    "        assert la.vector_mean([[1,2], [3,4], [5,6]]) == [3,4], \"the vector_mean() function did not pass the test!\"\n",
    "\n",
    "        # Check that the dot() function works as inteded\n",
    "        # 1*4 + 2*5 + 3*6\n",
    "        assert la.dot([1,2,3], [4,5,6]) == 32, \"the dot() function did not pass the test!\"\n",
    "\n",
    "        # Check that the sum_of_squares() function works as inteded\n",
    "        # 1*1 + 2*2 + 3*3\n",
    "        assert la.sum_of_squares([1,2,3]) == 14, \"the sum_of_squares() function did not pass the test!\"\n",
    "\n",
    "        # Check that the magnitude() function works as inteded\n",
    "        assert la.magnitude([3,4]) == 5, \"the magnitude() function did not pass the test!\"\n",
    "\n",
    "        # Check that the shape() function works as inteded\n",
    "        # 2 rows, 3 columns\n",
    "        assert la.shape([[1,2,3], [4,5,6]]) == (2,3), \"the shape() function did not pass the test!\"\n",
    "        \n",
    "        # Check that the make_matrix() function works as inteded\n",
    "        # 2 rows, 3 columns\n",
    "        assert la.make_matrix(2, 3, lambda i,j: 2 if i==0 else 1) == [[2,2,2],\n",
    "                                                                      [1,1,1]], \"the make_matrix() function did not pass the test!\"\n",
    "\n",
    "        # Check that the identity_matrix() function works as inteded\n",
    "        assert la.identity_matrix(5) == [[1,0,0,0,0],\n",
    "                                      [0,1,0,0,0],\n",
    "                                      [0,0,1,0,0],\n",
    "                                      [0,0,0,1,0],\n",
    "                                      [0,0,0,0,1]], \"the identity_matrix() function did not pass the test!\"\n",
    "\n",
    "        # Check that the get_column() function works as inteded\n",
    "        assert la.get_column([[1,2,3], [4,5,6], [7,8,9]], 1) == [2,5,8], \"the get_column() function did not pass the test!\"\n",
    "\n",
    "        print(\"ALL TESTS PASSED!\")\n",
    "        \n",
    "    except AssertionError as e:\n",
    "        print(\"One (or more) functions do not work as intended!\")\n",
    "        print(e)\n",
    "        \n",
    "    return None"
   ]
  },
  {
   "cell_type": "code",
   "execution_count": 18,
   "id": "8410a94c",
   "metadata": {},
   "outputs": [
    {
     "name": "stdout",
     "output_type": "stream",
     "text": [
      "ALL TESTS PASSED!\n"
     ]
    }
   ],
   "source": [
    "assert_functionality_in_linear_algebra_module()"
   ]
  },
  {
   "cell_type": "markdown",
   "id": "025d294b",
   "metadata": {},
   "source": [
    "**Εισαγωγή ολόκληρης της βιβλιοθήκης με/χωρίς συντομογραφία**\n",
    "\n",
    "```python \n",
    "    import linear_algebra (as la)\n",
    "```\n",
    "    \n",
    "\n",
    "**Εισαγωγή μόνο κάποιας συγκεκριμένης συνάρτησης χρησιμοποιώντας κάποια ονοματοδοσία**\n",
    "```python\n",
    "    import linear_algebra.identity_matrix as identity_matrix\n",
    "    from linear_algebra import dot as inner_product\n",
    "``` \n",
    "\n",
    "**Εισαγωγή όλων των περιεχομένων της βιβλιοθήκης**\n",
    "```python\n",
    "    from linear_algebra import *\n",
    "```    \n",
    "    \n",
    "Η τελευταία επιλογή, αν και εφαρμόσιμη σε πολλές περιπτώσεις, μπορεί να γίνει πηγή σύγχησης αν υπάρχουν άλλες συναρτήσεις με το ίδιο όνομα με αυτές που προσπαθούμε να εισάγουμε. Η εισαγωγή με αυτόν τον τρόπο δεν μας δείχνει από που προέρχεται η συνάρτηση που θέλουμε να χρησιμοποιήσουμε γιατί μπορεί να κληθεί άμεσα.\n",
    "\n",
    "Για παράδειγμα οι συναρτήσεις ``math.sqrt()`` και ``numpy.sqrt()`` είναι δύο διαφορετικές συναρτήσεις που προέρχονται από δύο διαφορετικές βιβλιοθήκες. Αν επιλέγαμε να εισάγουμε τις 2 αυτές βιβλιοθήκες με τον τελευταίο τρόπο, γίνεται αντιληπτό ότι θα είχαμε δύο συναρτήσεις με το ίδιο όνομα χωρίς να ξέρουμε όμως ποιά από τις δύο χρησιμοποιούμε τελικά. "
   ]
  },
  {
   "cell_type": "markdown",
   "id": "a80b2324",
   "metadata": {},
   "source": [
    "---"
   ]
  },
  {
   "cell_type": "markdown",
   "id": "a18a3d27",
   "metadata": {},
   "source": [
    "2\\. Εκτός της γραμμικής άλγεβρας, η Στατιστική είναι ένα ακόμα εξαιρετικά χρήσιμο εργαλείο που μας παρέχει με μαθηματικές έννοιες και τεχνικές που χρησιμοποιούνται στη Φυσική ώστε να κατανοήσουμε και να περιγράψουμε τα δεδομένα.\n",
    "\n",
    "Σε αυτή την άσκηση, όπως και στην άσκηση 1, θα φτιάξουμε τη δική μας βιβλιοθήκη που θα περιέχει βασικές συναρτήσεις που υλοποιούν έννοιες και τεχνικές της Στατιστικής, χωρίς την χρήση εξωτερικών βιβλιοθηκών (π.χ. NumPy, SciPy κτλ).\n",
    "\n",
    "**Ζητούμενα**\n",
    "\n",
    "* Το αρχείο ``custom_statistics.py`` που έχετε στη διάθεσή σας, περιέχει τον βασικό κορμό μερικών συναρτήσεων. Από αυτές τις συναρτήσεις λείπουν κομμάτια κώδικα τα οποία **θα πρέπει να συμπληρώσετε εσείς** ώστε οι συναρτήσεις να δουλεύουν όπως πρέπει. Αλλάξτε **μόνο** τα κομμάτια κώδικα που σας υποδεικνύεται στα σχόλια. Μερικές από τις σχέσεις που θα χρειαστείτε παρουσιάζονται παρακάτω:\n",
    "\n",
    "$$\n",
    "\\begin{eqnarray}\n",
    "    \\text{Arithmetic mean:}\\qquad \\bar{x} &=& \\frac{\\sum_{i=1}^{n} x_i}{n} \\\\\\\\\n",
    "    \\text{Arithmetic median:}\\qquad \\tilde{x} &=& \\begin{cases}\n",
    "                                                    x\\left[\\frac{n+1}{2}\\right],\\;\\text{if n is odd}\\\\\\\\\n",
    "                                                    \\frac{x\\left[\\frac{n}{2}\\right] + x\\left[\\frac{n}{2}+1\\right]}{2},\\;\\text{if n is even}\n",
    "                                                  \\end{cases}\\\\\\\\\n",
    "    \\text{Variance:}\\qquad s^2 &=& \\frac{\\sum (x_i - \\bar{x})^2 }{n-1}\\\\\\\\\n",
    "    \\text{Standard deviation:}\\qquad \\sigma &=& \\sqrt{\\frac{\\sum (x_i - \\bar{x})^2 }{n-1}} = \\sqrt{s^2}\\\\\\\\\n",
    "    \\text{Covariance:}\\qquad \\text{Cov}_{x,y} &=& \\frac{\\sum (x_i - \\bar{x})(y_i - \\bar{y})}{n-1}\n",
    "\\end{eqnarray}\n",
    "$$\n",
    "\n",
    "\n",
    "* Εκτελέστε τα παρακάτω κελιά που περιέχουν τον ορισμό και την κλήση της συνάρτησης ``assert_functionality_in_custom_statistics_module()``. Η συνάρτηση αυτή εισάγει την βιβλιοθήκη ``custom_statistics`` που γράψατε και πραγματοποιεί μερικά τεστ ώστε να εξετάσει την ορθή λειτουργία των συναρτήσεων. Αν ο κώδικας που γράψετε είναι σωστός, θα πρέπει να δείτε στην οθόνη του υπολογιστή σας το μήνυμα ``ALL TESTS PASSED!``. Σε αντίθετη περίπτωση, θα σας ενημερώνει ότι κάποια συνάρτηση δεν υλοποιείται όπως πρέπει."
   ]
  },
  {
   "cell_type": "code",
   "execution_count": 19,
   "id": "261240bd",
   "metadata": {},
   "outputs": [],
   "source": [
    "def assert_functionality_in_custom_statistics_module():\n",
    "    # Import your custom_statistics module\n",
    "    import custom_statistics_solutions as cs\n",
    "    \n",
    "    try:\n",
    "        # Check that the mean() function works as intended\n",
    "        assert cs.mean([i for i in range(101)]) == 50.0, \"the mean() function did not pass the test!\"\n",
    "        \n",
    "        # Check that the median() function works as intended\n",
    "        assert cs.median([1,10,2,9,5]) == 5, \"the median() function did not pass the test!\"\n",
    "        assert cs.median([1,9,2,10]) == (2 + 9) / 2, \"the median() function did not pass the test!\"\n",
    "        \n",
    "        # Check that the data_range() function works as intended\n",
    "        assert cs.data_range([4,2,3,1,10,8]) == 9, \"the data_range() function did not pass the test!\"\n",
    "        \n",
    "        # Check that the de_mean() function works as intended\n",
    "        assert cs.de_mean([i for i in range(12,16)]) == [-1.5, -0.5, 0.5, 1.5], \"the de_mean() function did not pass the test!\"\n",
    "        \n",
    "        # Check that the variance() function works as intended\n",
    "        assert cs.variance([i for i in range(8)]) == 6, \"the variance() function did not pass the test!\"\n",
    "        \n",
    "        # Check that the standard_deviation() function works as intended\n",
    "        assert cs.standard_deviation([i for i in range(3)]) == 1, \"the standard_deviation() function did not pass the test!\"\n",
    "        \n",
    "        # Check that the covariance() function works as intended\n",
    "        assert cs.covariance([i for i in range(8)], [j for j in range(8)]) == 6, \"the covariance() function did not pass the test!\"\n",
    "        \n",
    "        print(\"ALL TESTS PASSED!\")\n",
    "        \n",
    "    except AssertionError as e:\n",
    "        print(\"One (or more) functions do not work as intended!\")\n",
    "        print(e)\n",
    "        \n",
    "    return None"
   ]
  },
  {
   "cell_type": "code",
   "execution_count": 20,
   "id": "5bb1e2fb",
   "metadata": {},
   "outputs": [
    {
     "name": "stdout",
     "output_type": "stream",
     "text": [
      "ALL TESTS PASSED!\n"
     ]
    }
   ],
   "source": [
    "assert_functionality_in_custom_statistics_module()"
   ]
  },
  {
   "cell_type": "markdown",
   "id": "26d361a5",
   "metadata": {},
   "source": [
    "---"
   ]
  },
  {
   "cell_type": "markdown",
   "id": "36fd48e7",
   "metadata": {},
   "source": [
    "### BONUS"
   ]
  },
  {
   "cell_type": "markdown",
   "id": "7535660d",
   "metadata": {},
   "source": [
    "3\\. Στο μάθημα δημιουργήσαμε μία δική μας συνάρτηση (``my_sqrt``) προκειμένου να εκτιμήσουμε τη τετραγωνική ρίζα $y$ ενός αριθμού $x$. \n",
    "\n",
    "\n",
    "Πλην όμως, ο αλγόριθμος στον οποίο βασιστήκαμε για να κάνουμε αυτή την εκτίμηση δεν μας δίνει καλά αποτελέσματα όταν $0 < x < 1$. Αυτό συμβαίνει γιατί, σε αυτή την περίπτωση, η τετραγωνική ρίζα του $x$ είναι μεγαλύτερη από τον ίδιο τον αριθμό $x$ ενώ εμείς ψάχνουμε να τη βρούμε στο διάστημα $y \\in [0, x]$.\n",
    "\n",
    "\n",
    "Για να καλύψουμε λοιπόν και αυτή την ειδική περίπτωση θα πρέπει να έχουμε την επιλογή να ψάχνουμε την τιμή του $y$ στο διάστημα $y \\in [0,1]$ όταν το x είναι μικρότερο της μονάδος.\n",
    "\n",
    "\n",
    "Αυτό σημαίνει ότι πρέπει να επεκτείνουμε τη συνάρτηση ``my_sqrt`` με τέτοιο τρόπο ώστε να επιλέγει τα κατάλληλα όρια αναζήτησης ανάλογα με τη τιμή του $x$."
   ]
  },
  {
   "cell_type": "markdown",
   "id": "64c9989b",
   "metadata": {},
   "source": [
    "**Ζητούμενα**\n",
    "\n",
    "* Τροποιήστε τη συνάρτηση με κατάλληλο τρόπο ώστε το μέγιστο σφάλμα $\\epsilon$ να είναι μία προαιρετική παράμετρος που μπορεί να καθοριστεί από τον χρήστη. Η προκαθορισμένη τιμή του σφάλματος θα είναι $\\epsilon = 10^{-6}$.\n",
    "\n",
    "\n",
    "* Αν ο χρήστης δώσει μία μη-έγκυρη τιμή τόσο για τον αριθμό του οποίου θέλουμε να εκτιμήσουμε τη τετραγωνική ρίζα, όσο και για το μέγιστο σφάλμα (δηλαδή αρνητικούς αριθμούς), τότε η συνάρτηση θα πρέπει να τυπώνει ένα μήνυμα που θα υποδηλώνει το σφάλμα και θα επιστρέφει ``None``. Σε αντίθετη περίπτωση, η συνάρτηση θα επιστρέφει την εκτίμηση για τη τετραγωνική ρίζα.\n",
    "\n",
    "\n",
    "* Επεκτείνετε τη συνάρτηση ``my_sqrt`` που γράψατε ώστε να λαμβάνει υπόψιν την ειδική περίπτωση όπου $0 < x < 1$.\n",
    "\n",
    ">**Hint**: Αναζητείστε στο διαδίκτυο τη λειτουργία της built-in συνάρτησης \"max(a,b)\". Το πρόβλημα μπορεί να λυθεί ουσιαστικά με την αντικατάσταση μιας γραμμής κώδικα.\n",
    "\n",
    "\n",
    "\n",
    "* Μόλις βεβαιωθείτε για τη σωστή λειτουργία της συνάρτησης, αποθηκεύστε την σε ένα αρχείο με το όνομα ``my_functions.py``. Βεβαιωθείτε ότι έχετε αποθηκεύσει το αρχείο στον ίδιο επίπεδο του φακέλου από τον οποίο τρέχετε το σημειωματάριο. Στη συνέχεια εισάγετε το αρχείο αυτό ως βιβλιοθήκη στο Jupyter notebook. Κάντε χρήση της συνάρτησης καλώντας την μέσα από το module για να εκτιμήσετε την τετραγωνική ρίζα των αριθμών ``[4, 121, 0.5, 8.3, 0.0, -5.0]``. Συγκρίνετε τις τιμές που παίρνετε χρησιμοποιώντας τη δική σας συνάρτηση με τις τιμές που παίρνετε χρησιμοποιώντας τη συνάρτηση ``sqrt`` από τη βιβλιοθήκη numpy."
   ]
  },
  {
   "cell_type": "code",
   "execution_count": 21,
   "id": "e5756653",
   "metadata": {},
   "outputs": [
    {
     "name": "stdout",
     "output_type": "stream",
     "text": [
      "My sqrt: 2.0\n",
      "numpy's sqrt: 2.0\n",
      "diff: 0.0\n",
      "-----\n",
      "My sqrt: 10.999999989755452\n",
      "numpy's sqrt: 11.0\n",
      "diff: -1.0244548320770264e-08\n",
      "-----\n",
      "My sqrt: 0.7071065902709961\n",
      "numpy's sqrt: 0.7071067811865476\n",
      "diff: -1.909155514789873e-07\n",
      "-----\n",
      "My sqrt: 2.880972212553025\n",
      "numpy's sqrt: 2.8809720581775866\n",
      "diff: 1.543754382105078e-07\n",
      "-----\n",
      "My sqrt: 0.0009765625\n",
      "numpy's sqrt: 0.0\n",
      "diff: 0.0009765625\n",
      "-----\n"
     ]
    },
    {
     "ename": "ValueError",
     "evalue": "x and eps must not be negative numbers!",
     "output_type": "error",
     "traceback": [
      "\u001b[0;31m---------------------------------------------------------------------------\u001b[0m",
      "\u001b[0;31mValueError\u001b[0m                                Traceback (most recent call last)",
      "\u001b[0;32m/var/folders/y6/62tg_s5s7536r0lp1mks4jl80000gn/T/ipykernel_50055/2515551559.py\u001b[0m in \u001b[0;36m<module>\u001b[0;34m\u001b[0m\n\u001b[1;32m      5\u001b[0m \u001b[0;34m\u001b[0m\u001b[0m\n\u001b[1;32m      6\u001b[0m \u001b[0;32mfor\u001b[0m \u001b[0mn\u001b[0m \u001b[0;32min\u001b[0m \u001b[0mnums\u001b[0m\u001b[0;34m:\u001b[0m\u001b[0;34m\u001b[0m\u001b[0;34m\u001b[0m\u001b[0m\n\u001b[0;32m----> 7\u001b[0;31m     \u001b[0mprint\u001b[0m\u001b[0;34m(\u001b[0m\u001b[0;34mf\"My sqrt: {mf.my_sqrt(n)}\\nnumpy's sqrt: {np.sqrt(n)}\\ndiff: {(mf.my_sqrt(n) - np.sqrt(n))}\\n-----\"\u001b[0m\u001b[0;34m)\u001b[0m\u001b[0;34m\u001b[0m\u001b[0;34m\u001b[0m\u001b[0m\n\u001b[0m",
      "\u001b[0;32m~/Documents/GitHub/python-UoC/01.Introduction_to_Python/labs/my_functions.py\u001b[0m in \u001b[0;36mmy_sqrt\u001b[0;34m(x, eps)\u001b[0m\n\u001b[1;32m      9\u001b[0m     \u001b[0;31m# Check validity of input\u001b[0m\u001b[0;34m\u001b[0m\u001b[0;34m\u001b[0m\u001b[0m\n\u001b[1;32m     10\u001b[0m     \u001b[0;32mif\u001b[0m \u001b[0;34m(\u001b[0m\u001b[0mx\u001b[0m \u001b[0;34m<\u001b[0m \u001b[0;36m0\u001b[0m\u001b[0;34m)\u001b[0m \u001b[0;32mor\u001b[0m \u001b[0;34m(\u001b[0m\u001b[0meps\u001b[0m \u001b[0;34m<\u001b[0m \u001b[0;36m0\u001b[0m\u001b[0;34m)\u001b[0m\u001b[0;34m:\u001b[0m\u001b[0;34m\u001b[0m\u001b[0;34m\u001b[0m\u001b[0m\n\u001b[0;32m---> 11\u001b[0;31m         \u001b[0;32mraise\u001b[0m \u001b[0mValueError\u001b[0m\u001b[0;34m(\u001b[0m\u001b[0;34m\"x and eps must not be negative numbers!\"\u001b[0m\u001b[0;34m)\u001b[0m\u001b[0;34m\u001b[0m\u001b[0;34m\u001b[0m\u001b[0m\n\u001b[0m\u001b[1;32m     12\u001b[0m         \u001b[0;32mreturn\u001b[0m \u001b[0;32mNone\u001b[0m\u001b[0;34m\u001b[0m\u001b[0;34m\u001b[0m\u001b[0m\n\u001b[1;32m     13\u001b[0m \u001b[0;34m\u001b[0m\u001b[0m\n",
      "\u001b[0;31mValueError\u001b[0m: x and eps must not be negative numbers!"
     ]
    }
   ],
   "source": [
    "import numpy as np\n",
    "import my_functions as mf\n",
    "\n",
    "nums = [4, 121, 0.5, 8.3, 0.0, -5.0]\n",
    "\n",
    "for n in nums:\n",
    "    print(f\"My sqrt: {mf.my_sqrt(n)}\\nnumpy's sqrt: {np.sqrt(n)}\\ndiff: {(mf.my_sqrt(n) - np.sqrt(n))}\\n-----\")"
   ]
  },
  {
   "cell_type": "markdown",
   "id": "5546037e",
   "metadata": {},
   "source": [
    "---"
   ]
  }
 ],
 "metadata": {
  "kernelspec": {
   "display_name": "Python 3 (ipykernel)",
   "language": "python",
   "name": "python3"
  },
  "language_info": {
   "codemirror_mode": {
    "name": "ipython",
    "version": 3
   },
   "file_extension": ".py",
   "mimetype": "text/x-python",
   "name": "python",
   "nbconvert_exporter": "python",
   "pygments_lexer": "ipython3",
   "version": "3.9.13"
  }
 },
 "nbformat": 4,
 "nbformat_minor": 5
}
