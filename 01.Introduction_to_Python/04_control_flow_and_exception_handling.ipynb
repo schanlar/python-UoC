{
 "cells": [
  {
   "cell_type": "markdown",
   "id": "a2b119cb",
   "metadata": {},
   "source": [
    "# Έλεγχος ροής προγράμματος"
   ]
  },
  {
   "cell_type": "markdown",
   "id": "0aa53883",
   "metadata": {},
   "source": [
    "**Note**: This notebook is heavily influenced by the lectures of Dr. Thomas Erben @ University of Bonn"
   ]
  },
  {
   "cell_type": "markdown",
   "id": "625a8350",
   "metadata": {},
   "source": [
    "Μια σειριακή δομή ακολουθίας όπου ένα σύνολο εντολών εκτελούνται η μία μετά την άλλη, επιτρέπει την επίλυση πολύ απλών προβλημάτων.\n",
    "\n",
    "Για πιο σύνθετα προβλήματα απαιτείται η συγγραφή κώδικα όπου εκτελούνται διαφορετικά σύνολα εντολών ανάλογα με τις δεδομένες συνθήκες που έχουμε καθορίσει. Γενικά, θα θέλαμε να έχουμε έλεγχο τόσο για το ποιές εντολές θα εκτελούνται κάθε φορά όσο και για το πόσες φορές θα πρέπει να επαναληφθεί ένα κομμάτι κώδικα.\n",
    "\n",
    "Αυτό το επιτυγχάνουμε με τις δομές αποφάσεων και επανάληψης αντίστοιχα."
   ]
  },
  {
   "cell_type": "markdown",
   "id": "25567f45",
   "metadata": {},
   "source": [
    "## Η δομή απόφασης if"
   ]
  },
  {
   "cell_type": "markdown",
   "id": "5e50a1d8",
   "metadata": {},
   "source": [
    "- Η δομή απόφασης if, χρησιμοποιείται όταν θέλουμε να επιλέξουμε τι εντολές να εκτελεστούν. Η επιλογή γίνεται βάσει κάποιας έκφρασης (συνθήκη) η οποία θα πρέπει να παίρνει τιμές ``True`` ή ``False``.\n",
    "\n",
    "\n",
    "- Για να κατασκευάσουμε μία τέτοια συνθήκη χρησιμοποιούμε:\n",
    "    >\n",
    "    > **Τελεστές σύγκρισης**: ``==``, ``!=``, ``>``, ``<``, ``>=``, ``<=``.\n",
    "    >\n",
    "    >\n",
    "    > **Λογικοί τελεστές**: ``and``, ``or``, ``not``.\n",
    "    >\n",
    "    >\n",
    "    > **Τελεστές \"ανήκει\" σε κάποια δομή**: ``in``, ``not in``\n",
    "\n",
    "\n",
    "    Το βασικό συντακτικό μίας δομής απόφασης είναι το ακόλουθο:\n",
    "```python\n",
    "if condition1:\n",
    "    # execute some commands\n",
    "elif condition2:\n",
    "    # execute some commands\n",
    "elif condition3:\n",
    "    # execute some commands\n",
    "else:\n",
    "    # execute some commands\n",
    "```\n",
    "\n",
    "- Προσέξτε τον τελεστή ``:`` στο τέλος της λογικής συνθήκης!\n",
    "\n",
    "\n",
    "- Η Python δεν έχει κάποιον ειδικό χαρακτήρα που να δηλώνει την αρχή και το τέλος κάποιας δομής. Τα μπλοκ της δομής φαίνονται από την εσοχή και το πόσο εμφωλευμένες είναι! **Αυτό ισχύει για όλες τις δομές ελέγχου στην Python!** Όλες οι γραμμές εντολών που ανήκουν σε κάποιο μπλοκ πρέπει πάντα να έχουν **τον ίδιο βαθμό εμφώλευσης**. Συνήθως 1 tab = 4 spaces.\n",
    "\n",
    "\n",
    "- Μόνο ένα μπλοκ εντολών θα εκτελεστεί σε μία τέτοια δομή επιλογής.\n",
    "\n",
    "\n",
    "- Το πρόγραμμα θα ελέγξει τη συνθήκη 1 και αν είναι αληθής θα εκτελέσει το μπλοκ των εντολών που περιέχονται. Στη συνέχεια θα προσπεράσει **χωρίς να εξετάσει** τις υπόλοιπες συνθήκες.\n",
    "\n",
    "\n",
    "- Εάν η συνθήκη 1 είναι ψευδής, δεν θα εκτελέσει το μπλοκ των εντολών που αντιστοιχούν σε αυτή τη συνθήκη και θα συνεχίσει εξετάζοντας τη συνθήκη 2. Εάν η συνθήκη 2 είναι αληθής, θα εκτελέσει το αντίστοιχο μπλοκ εντολών και θα προσπεράσει τις υπόλοιπες συνθήκες χωρίς να τις εξετάσει. Στη περίπτωση που η συνθήκη 2 είναι ψευδής, θα προσπεράσει το μπλοκ εντολών και θα εξετάσει τη συνθήκη 3 κτλ.\n",
    "\n",
    "\n",
    "- Εάν παραπάνω από μία συνθήκες είναι αληθείς, τότε θα εκτελεστεί **μόνο** το μπλοκ εντολών που αντιστοιχούν στη **πρώτη** αληθή συνθήκη που συνάντησε ο κώδικας. Όλες οι υπόλοιπες θα προσπεραστούν χωρίς να εξεταστούν εφόσον ολοκληρώθηκε το μπλοκ εντολών που αντιστοιχεί στην αληθή συνθήκη.\n",
    "\n",
    "\n",
    "- Εάν καμία από τις συνθήκες δεν είναι αληθής, τότε θα εκτελεστεί μόνο το μπλοκ εντολών της συνθήκης ``else``. Αυτό δεν είναι απαραίτητο στοιχείο της δομής. Θα μπορούσαμε να έχουμε έναν απλό έλεγχο μιας συνθήκης χωρίς να συμπεριλάβουμε απαραίτητα την περίπτωση ``else``."
   ]
  },
  {
   "cell_type": "code",
   "execution_count": 1,
   "id": "b09765dd",
   "metadata": {},
   "outputs": [
    {
     "name": "stdout",
     "output_type": "stream",
     "text": [
      "x is between 10 and 20!\n",
      "x is odd!\n"
     ]
    }
   ],
   "source": [
    "x = 15\n",
    "\n",
    "# The else statement is optional\n",
    "if (x > 10) and (x < 20):\n",
    "    print(\"x is between 10 and 20!\")\n",
    "    \n",
    "    \n",
    "# Check if number is odd    \n",
    "if (x % 2 == 0):\n",
    "    print(\"x is even!\")\n",
    "else:\n",
    "    print(\"x is odd!\")"
   ]
  },
  {
   "cell_type": "markdown",
   "id": "1bf39299",
   "metadata": {},
   "source": [
    "**Challenge**\n",
    "\n",
    "Να γράψετε κώδικα που βρίσκει τις λύσεις της δευτεροβάθμιας\tεξίσωσης. Ο χρήστης δίνει 3 αριθμούς a, b, c που είναι οι παράμετροι της γνωστής μας δευτεροβάθμιας εξίσωσης:\n",
    "\n",
    "> $ax^2 + bx + c = 0$\n",
    "                                    \n",
    "Το πρόγραμμα θα πρέπει να τυπώνει τις λύσεις ή κατάλληλο μήνυμα αν η εξίσωση δεν είναι επιλύσιμη.\n",
    "\n",
    "**Hint:** Χρησιμοποιήστε την built-in συνάρτηση ``input()`` για να πάρετε τιμές από τον χρήστη. Προσοχή στη τεκμηρίωση της συνάρτησης! Επίσης, μπορείτε να χρησιμοποιήσετε τη συνάρτηση ``numpy.sqrt()`` για υπολογισμό τετραγωνικής ρίζας."
   ]
  },
  {
   "cell_type": "code",
   "execution_count": 2,
   "id": "ace7f9ba",
   "metadata": {},
   "outputs": [],
   "source": [
    "# You can try it here"
   ]
  },
  {
   "cell_type": "markdown",
   "id": "78cf6498",
   "metadata": {},
   "source": [
    "## Η δομή επανάληψης for-else"
   ]
  },
  {
   "cell_type": "markdown",
   "id": "ad10fdab",
   "metadata": {},
   "source": [
    "- Η δομή επανάληψης for, χρησιμοποιείται όταν θέλουμε να εκτελέσουμε επαναληπτικά (πολλές φορές) ένα σύνολο εντολών για προκαθορισμένο αριθμό επαναλήψεων.\n",
    "\n",
    "    Το βασικό συντακτικό μιας δομής επανάληψης for είναι το ακόλουθο:\n",
    "    \n",
    "    ```python\n",
    "    for item in some_iterable_object:\n",
    "        # execute some commands\n",
    "    ```\n",
    "    \n",
    "- Η ακολουθία ``some_iterable_object`` συνήθως είναι κάποια λίστα, πλειάδα, λεξικό, σύνολο ή συμβολοσειρά. Μπορεί όμως να είναι γενικά κάποια δομή που να υποστηρίζει επαναληψιμότητα.\n",
    "\n",
    "\n",
    "- Προσοχή στο τύπο της μεταβλητής ``item``! Ανάλογα με το αντικείμενο στο οποίο εφαρμόζουμε το βρόγχο επανάληψης, μπορεί να είναι αριθμητικό, αλφαριθμητικό κτλ.\n",
    "\n",
    "\n",
    "- Η συνάρτηση ``range`` χρησιμοποιείται εξαιρετικά συχνά για να δημιουργήσουμε ένα εύρος τιμών στο οποίο θέλουμε να εφαρμόσουμε το συγκεκριμένο βρόγχο επανάληψης. Δείτε τη τεκμηρίωσή της!\n",
    "\n",
    "\n",
    "- Προσπαθείστε να αποφεύγετε (όσο γίνεται) τη χρήση εμφωλευμένων βρόγχων επανάληψης for. Ανάλογα με τον όγκο των δεδομένων σας μπορεί να κάνει το πρόγραμμά σας απροσπέλαστο."
   ]
  },
  {
   "cell_type": "code",
   "execution_count": 3,
   "id": "41aa5949",
   "metadata": {},
   "outputs": [
    {
     "name": "stdout",
     "output_type": "stream",
     "text": [
      "1 2 3 4 5 6 7 8 9 \n",
      "The loop has finished\n",
      "P y t h o n "
     ]
    }
   ],
   "source": [
    "# the variable item in this case is numeric\n",
    "for item in range(1, 10):\n",
    "    print(item, end=' ')\n",
    "\n",
    "print()\n",
    "print(\"The loop has finished\")\n",
    "\n",
    "# the variable item in this case is alphanumeric\n",
    "for item in 'Python':\n",
    "    print(item, end=' ')"
   ]
  },
  {
   "cell_type": "markdown",
   "id": "f2cc6423",
   "metadata": {},
   "source": [
    "### Η εντολή break"
   ]
  },
  {
   "cell_type": "markdown",
   "id": "fd8fbed5",
   "metadata": {},
   "source": [
    "- Η εντολή ``break`` χρησιμοποιείται όταν θέλουμε να βγούμε από ένα βρόγχο επανάληψης όταν δεν θέλουμε να συνεχίσει η επανάληψη.\n",
    "\n",
    "\n",
    "- Μόλις εκτελεστεί η εντολή ``break`` τότε καμία άλλη εντολή που ακολουθεί δεν θα εκτελεστεί. \n",
    "\n",
    "\n",
    "- Η χρήση της δεν περιορίζεται μόνο στη περίπτωση του βρόγχου επανάληψης for."
   ]
  },
  {
   "cell_type": "code",
   "execution_count": 4,
   "id": "a9e5f3d6",
   "metadata": {},
   "outputs": [
    {
     "name": "stdout",
     "output_type": "stream",
     "text": [
      "1\n",
      "2\n",
      "3\n",
      "4\n",
      "5\n",
      "6\n",
      "7\n",
      "8\n",
      "9\n",
      "10\n",
      "Bye!\n",
      "The loop has finished\n"
     ]
    }
   ],
   "source": [
    "# Exit the loop if number is above 10\n",
    "for number in range(1, 10000):\n",
    "    if number <= 10:\n",
    "        print(number)\n",
    "    else:\n",
    "        print('Bye!')\n",
    "        break\n",
    "        print('This statement will not be executed')\n",
    "        \n",
    "print(\"The loop has finished\")"
   ]
  },
  {
   "cell_type": "markdown",
   "id": "c62e21e7",
   "metadata": {},
   "source": [
    "### Η εντολή continue"
   ]
  },
  {
   "cell_type": "markdown",
   "id": "24c406dc",
   "metadata": {},
   "source": [
    "- Η εντολή ``continue`` χρησιμοποιείται όταν θέλουμε να συνεχίσουμε μεταπηδώντας στον επόμενο κύκλο επανάληψης χωρίς να ολοκληρωθεί ο προηγούμενος.\n",
    "\n",
    "\n",
    "- Μόλις εκτελεστεί η εντολή ``continue`` τότε καμία άλλη εντολή που ακολουθεί δεν θα εκτελεστεί. \n",
    "\n",
    "\n",
    "- Η χρήση της δεν περιορίζεται μόνο στη περίπτωση του βρόγχου επανάληψης for."
   ]
  },
  {
   "cell_type": "code",
   "execution_count": 5,
   "id": "74bf067b",
   "metadata": {},
   "outputs": [
    {
     "name": "stdout",
     "output_type": "stream",
     "text": [
      "1\n",
      "2\n",
      "3\n",
      "4\n",
      "6\n",
      "7\n",
      "8\n",
      "9\n",
      "10\n",
      "Bye!\n",
      "The loop has finished\n"
     ]
    }
   ],
   "source": [
    "# Exit the loop if number is above 10\n",
    "# Continue with next iteration if number is 5\n",
    "for number in range(1, 10000):\n",
    "    \n",
    "    if number <= 10 and number != 5:\n",
    "        print(number)\n",
    "        \n",
    "    elif number == 5:\n",
    "        continue\n",
    "        print('This print call will not be executed')\n",
    "        \n",
    "    else:\n",
    "        print('Bye!')\n",
    "        break\n",
    "        print('This print call will not be executed')\n",
    "        \n",
    "print(\"The loop has finished\")"
   ]
  },
  {
   "cell_type": "markdown",
   "id": "6235510e",
   "metadata": {},
   "source": [
    "**Challenge**\n",
    "\n",
    "Γράψτε κώδικα για να υπολογίσετε το άθροισμα $\\sum_{i=1}^{10}i^3$, χρησιμοποιώντας βρόγχο επανάληψης for, και εκτυπώστε το αποτέλεσμα."
   ]
  },
  {
   "cell_type": "code",
   "execution_count": 6,
   "id": "5095ca53",
   "metadata": {},
   "outputs": [],
   "source": [
    "# You can try it here"
   ]
  },
  {
   "cell_type": "markdown",
   "id": "babff0bf",
   "metadata": {},
   "source": [
    "Ένα από τα λιγότερο γνωστά χαρακτηριστικά του βρόγχου-επανάληψης-for είναι ότι **υποστηρίζει την χρήση της ρήτρας else στο τέλος του**.\n",
    "\n",
    "Η ρήτρα else εκτελείται αφού ο βρόγχος επανάληψης ολοκληρωθεί κανονικά (δηλαδή χωρίς να συναντήσει κάποια εντολή διακοπής break).\n",
    "\n",
    "Ίσως η πιο κοινή χρήση ενός βρόγχου-επανάληψης-for είναι η αναζήτηση ενός στοιχείου. Εάν βρεθεί το στοιχείο, βγαίνουμε από τον βρόγχο χρησιμοποιώντας την εντολή break. Υπάρχουν δύο σενάρια στα οποία μπορεί να τερματίσει ο βρόγχος: το πρώτο είναι όταν βρεθεί το στοιχείο και άρα βγαίνουμε πρόωρα από τον βρόγχο λόγω της εντολής διακοπής break. Το δεύτερο σενάριο είναι ότι ο βρόγχος τερματίζει χωρίς να συναντήσει την εντολή διακοπής.\n",
    "\n",
    "Μπορεί, όμως, να θέλουμε να μάθουμε ποιό από αυτά τα δύο σενάριο είναι ο λόγος για την ολοκλήρωση του βρόγχου. Μια μέθοδος είναι να ορίσουμε μια \"σημαία\" (flag variable) και στη συνέχεια να την ελέγξουμε μόλις τερματίσει ο βρόγχος. Μία εναλλακτική είναι να χρησιμοποιήσουμε τη ρήτρα else όπως στο παρακάτω παράδειγμα."
   ]
  },
  {
   "cell_type": "code",
   "execution_count": 7,
   "id": "e5623c11",
   "metadata": {},
   "outputs": [
    {
     "name": "stdout",
     "output_type": "stream",
     "text": [
      "Variable never reached 10!\n"
     ]
    }
   ],
   "source": [
    "import random\n",
    "\n",
    "var = 0\n",
    "for i in range(random.randint(5,15)):\n",
    "\n",
    "    var = var + 1\n",
    "\n",
    "    if var == 10:\n",
    "        print(f\"Variable: {var}\")\n",
    "        break\n",
    "\n",
    "else:\n",
    "    print(\"Variable never reached 10!\")\n",
    "    # print(i)"
   ]
  },
  {
   "cell_type": "markdown",
   "id": "acf8228b",
   "metadata": {},
   "source": [
    "## Η δομή επανάληψης while"
   ]
  },
  {
   "cell_type": "markdown",
   "id": "a4651723",
   "metadata": {},
   "source": [
    "- Η δομή επανάληψης while, χρησιμοποιείται όταν θέλουμε να εκτελέσουμε επαναληπτικά (πολλές φορές) ένα σύνολο εντολών για όσο μια συνθήκη παραμένει αληθής.\n",
    "\n",
    "    Το βασικό συντακτικό μιας δομής επανάληψης while είναι το ακόλουθο:\n",
    "    ```python\n",
    "    while condition:\n",
    "        # execute some commands \n",
    "        # until condition evaluates to False\n",
    "    ```\n",
    "    \n",
    "- **Προσοχή:** Η συνθήκη πρέπει κάποια στιγμή να επιστρέφει ``False`` ώστε να τερματιστεί ο βρόγχος επανάληψης.\n",
    "\n",
    "\n",
    "- Αυτό σημαίνει ότι μέσα στο βρόγχο η συνθήκη πρέπει να ανανεώνεται με τη προοπτική ότι κάποια στιγμή θα γίνει ψευδής. \n",
    "\n",
    "\n",
    "- Εναλλακτικά, πρέπει να υπάρχει κάποια εσωτερική συνθήκη όπου όταν γίνει αληθής να βγαίνουμε από το βρόγχο χρησιμοποιώντας την εντολή ``break``. "
   ]
  },
  {
   "cell_type": "code",
   "execution_count": 8,
   "id": "82fd7ce5",
   "metadata": {},
   "outputs": [
    {
     "name": "stdout",
     "output_type": "stream",
     "text": [
      "1\n",
      "4\n",
      "9\n",
      "16\n",
      "25\n",
      "36\n",
      "49\n",
      "64\n",
      "81\n",
      "100\n",
      "The loop has finished\n",
      "1\n",
      "4\n",
      "9\n",
      "16\n",
      "25\n",
      "36\n",
      "49\n",
      "64\n",
      "81\n",
      "100\n",
      "The loop has finished\n"
     ]
    }
   ],
   "source": [
    "# print the squares of the numbers 1 to 10\n",
    "i = 1\n",
    "\n",
    "while (i <= 10):\n",
    "    print(i**2)\n",
    "    i = i + 1\n",
    "    \n",
    "print(\"The loop has finished\")\n",
    "\n",
    "\n",
    "# Same result without updating the conditon\n",
    "i = 1\n",
    "while True:\n",
    "    print(i**2)\n",
    "    i += 1\n",
    "    \n",
    "    if i > 10:\n",
    "        break\n",
    "        \n",
    "print(\"The loop has finished\")"
   ]
  },
  {
   "cell_type": "markdown",
   "id": "64162f56",
   "metadata": {},
   "source": [
    "**Challenge**\n",
    "\n",
    "Γράψτε κώδικα για να υπολογίσετε το άθροισμα $\\sum_{i=1}^{10}i^3$, χρησιμοποιώντας βρόγχο επανάληψης while, και εκτυπώστε το αποτέλεσμα. Συμφωνεί με το αποτέλεσμα που βγάλατε χρησιμοποιώντας το βρόγχο for;"
   ]
  },
  {
   "cell_type": "code",
   "execution_count": 9,
   "id": "b6336cec",
   "metadata": {},
   "outputs": [],
   "source": [
    "# You can try it here"
   ]
  },
  {
   "cell_type": "markdown",
   "id": "b2b6929d",
   "metadata": {},
   "source": [
    "**Challenge**\n",
    "\n",
    "Προσπαθείστε να εξηγήσετε με απλά λόγια τι κάνει ο κώδικας που ακολουθεί \n",
    "\n",
    "```python\n",
    "i = 1\n",
    "total = 0\n",
    "\n",
    "while i <= 509:\n",
    "    if i % 3 == 0 or i % 5 == 0:\n",
    "        total = total + i\n",
    "    i = i + 1\n",
    "        \n",
    "print(\"The total sum is: \", total) \n",
    "```"
   ]
  },
  {
   "cell_type": "code",
   "execution_count": 10,
   "id": "84e41398",
   "metadata": {},
   "outputs": [],
   "source": [
    "# You can try it here"
   ]
  },
  {
   "cell_type": "markdown",
   "id": "71c0b91b",
   "metadata": {},
   "source": [
    "# Διαχείριση εξαιρέσεων"
   ]
  },
  {
   "cell_type": "markdown",
   "id": "39495d1a",
   "metadata": {},
   "source": [
    "Η Python έχει πολλές built-in εξαιρέσεις οι οποίες εγείρονται όταν το πρόγραμμα συναντήσει κάποιο σφάλμα στην προσπάθεια εκτέλεσής του. Αν δεν διαχειριστεί μία τέτοια εξαίρεση τότε ο διερμηνέας θα σταματήσει την εκτέλεση και θα εκτυπώσει ένα μήνυμα που θα εξηγεί (ελπίζουμε) το τι πήγε στραβά. "
   ]
  },
  {
   "cell_type": "code",
   "execution_count": 11,
   "id": "eec6448c",
   "metadata": {},
   "outputs": [
    {
     "ename": "TypeError",
     "evalue": "unsupported operand type(s) for +: 'int' and 'str'",
     "output_type": "error",
     "traceback": [
      "\u001b[0;31m---------------------------------------------------------------------------\u001b[0m",
      "\u001b[0;31mTypeError\u001b[0m                                 Traceback (most recent call last)",
      "\u001b[0;32m<ipython-input-11-bf7b4593833e>\u001b[0m in \u001b[0;36m<module>\u001b[0;34m\u001b[0m\n\u001b[1;32m      3\u001b[0m \u001b[0mb\u001b[0m \u001b[0;34m=\u001b[0m \u001b[0;34m'3'\u001b[0m\u001b[0;34m\u001b[0m\u001b[0;34m\u001b[0m\u001b[0m\n\u001b[1;32m      4\u001b[0m \u001b[0;34m\u001b[0m\u001b[0m\n\u001b[0;32m----> 5\u001b[0;31m \u001b[0msum_of_numbers\u001b[0m \u001b[0;34m=\u001b[0m \u001b[0ma\u001b[0m\u001b[0;34m+\u001b[0m\u001b[0mb\u001b[0m\u001b[0;34m\u001b[0m\u001b[0;34m\u001b[0m\u001b[0m\n\u001b[0m\u001b[1;32m      6\u001b[0m \u001b[0mprint\u001b[0m\u001b[0;34m(\u001b[0m\u001b[0;34m'The sum is:'\u001b[0m\u001b[0;34m,\u001b[0m \u001b[0msum_of_numbers\u001b[0m\u001b[0;34m)\u001b[0m\u001b[0;34m\u001b[0m\u001b[0;34m\u001b[0m\u001b[0m\n",
      "\u001b[0;31mTypeError\u001b[0m: unsupported operand type(s) for +: 'int' and 'str'"
     ]
    }
   ],
   "source": [
    "# Try to perform numerics between integer and string\n",
    "a = 5\n",
    "b = '3'\n",
    "\n",
    "sum_of_numbers = a+b\n",
    "print('The sum is:', sum_of_numbers)"
   ]
  },
  {
   "cell_type": "markdown",
   "id": "a74ba193",
   "metadata": {},
   "source": [
    "- Στη Python, οι εξαιρέσεις μπορούν να διαχειριστούν  χρησιμοποιώντας τη δομή ``try/except``.\n",
    "\n",
    "    \n",
    "    Το βασικό συντακτικό της δομής try/except είναι το ακόλουθο:\n",
    "```python\n",
    "try:\n",
    "    # some commands\n",
    "except Exception:\n",
    "    # then do something\n",
    "```\n",
    "\n",
    "\n",
    "- Το κομμάτι του κώδικα το οποίο μπορεί να εγείρει κάποια εξαίρεση τοποθετείται μέσα σε ένα try μπλοκ. Οι εντολές που διαχειρίζονται την εξαίρεση βρίσκονται μέσα σε ένα except μπλοκ.\n",
    "\n",
    "\n",
    "\n",
    "- Αν δεν υπάρξει κάποια εξαίρεση που πρέπει να διαχειριστούμε, τότε το except μπλοκ προσπερνάται και συνεχίζεται η κανονική ροή του προγράμματος. Αν όμως υπάρξει κάποια εξαίρεση τότε αυτή διαχειρίζεται από το αντίστοιχο μπλοκ.\n",
    "\n"
   ]
  },
  {
   "cell_type": "code",
   "execution_count": 12,
   "id": "6bde6573",
   "metadata": {},
   "outputs": [
    {
     "name": "stdout",
     "output_type": "stream",
     "text": [
      "Something went wrong!\n",
      "unsupported operand type(s) for +: 'int' and 'str'\n"
     ]
    }
   ],
   "source": [
    "# Now try to catch the exception\n",
    "try:\n",
    "    sum_of_numbers = a+b\n",
    "    print('The sum is:', sum_of_numbers)\n",
    "\n",
    "except Exception as e:\n",
    "    print('Something went wrong!')\n",
    "    print(e)\n",
    "    "
   ]
  },
  {
   "cell_type": "markdown",
   "id": "b75a2e01",
   "metadata": {},
   "source": [
    "### Διαχείριση συγκεκριμένων εξαιρέσεων"
   ]
  },
  {
   "cell_type": "markdown",
   "id": "b86f5d25",
   "metadata": {},
   "source": [
    "- Όπως είπαμε, η Python έχει μια πληθώρα από built-in εξαιρέσεις (π.χ. ``TypeError``, ``ValueError``, ``IndexError``, ``ZeroDivisionError`` κτλ) που η κάθε μία σχετίζεται με συγκεκριμένου είδους σφάλματα.\n",
    "\n",
    "\n",
    "- Στο προηγούμενο παράδειγμα προσπαθήσαμε να διαχειριστούμε ένα σφάλμα χωρίς όμως να προσδιορίσουμε ποιό είναι αυτό. Αυτό δεν είναι καλή πρακτική καθώς το ίδιο μπλοκ θα διαχειριστεί οποιαδήποτε εξαίρεση με τον ίδιο τρόπο. Καλό είναι να προσπαθούμε να διαχειριζόμαστε ξεχωριστά κάθε δυνατή εξαίρεση στην οποία μπορεί να υποπέσει ο κώδικας μας.\n",
    "\n",
    "\n",
    "- Μία δομή try/except μπορεί να περιέχει όσα except μπλοκ θέλουμε, αλλά θα εκτελεστεί μόνο ένα από αυτά (το πρώτο που αντιστοιχεί στην εξαίρεση που θα εγερθεί).\n",
    "\n",
    "\n",
    "- Αν μια ομάδα εξαιρέσεων θέλουμε να τη διαχειριστούμε με τον ίδιο τρόπο, μπορούμε να χρησιμοποιήσουμε πλειάδες."
   ]
  },
  {
   "cell_type": "code",
   "execution_count": 13,
   "id": "80a374c7",
   "metadata": {},
   "outputs": [],
   "source": [
    "# This code of block does nothing\n",
    "# It is here for demonstration purposes\n",
    "\n",
    "try:\n",
    "   # do something\n",
    "   pass\n",
    "\n",
    "except ValueError:\n",
    "   # handle ValueError exception in some way\n",
    "   pass\n",
    "\n",
    "except (TypeError, ZeroDivisionError):\n",
    "   # handle multiple exceptions in some other way\n",
    "    pass\n",
    "\n",
    "except:\n",
    "   # handle all other exceptions\n",
    "   pass"
   ]
  },
  {
   "cell_type": "markdown",
   "id": "035c32f4",
   "metadata": {},
   "source": [
    "### Έγερση εξαιρέσεων"
   ]
  },
  {
   "cell_type": "markdown",
   "id": "0a82fce5",
   "metadata": {},
   "source": [
    "- Η διαχείριση εξαιρέσεων είναι απαραίτητη όταν εκχωρούμε το δικαιώμα σε τρίτους να επέμβουν στον κώδικά μας (π.χ. αλληλεπίδραση με χρήστη).\n",
    "\n",
    "\n",
    "- Στο επόμενο παράδειγμα δεχόμαστε δύο τιμές από τον χρήση που υποτίθεται ότι πρέπει να είναι θετικοί ακέραιοι αριθμοί και επιστρέφουμε το πηλικό τους. Τι θα συμβεί όμως αν ο χρήστης μας δώσει μία συμβολοσειρά που δεν μπορεί να μετατραπεί σε ακέραιο;\n",
    "\n",
    "\n",
    "- Τότε η Python θα εγείρει ένα ``ValueError``.\n",
    "\n",
    "\n",
    "- Θα πρέπει να σκεφτούμε αυτή την περίπτωση (και άλλες που μπορεί να υπάρξουν στο δεδομένο πρόβλημα) και να τη διαχειριστούμε ανάλογα."
   ]
  },
  {
   "cell_type": "code",
   "execution_count": 14,
   "id": "ce1816bc",
   "metadata": {},
   "outputs": [
    {
     "name": "stdout",
     "output_type": "stream",
     "text": [
      "Enter a positive integer: asdf\n"
     ]
    },
    {
     "ename": "ValueError",
     "evalue": "invalid literal for int() with base 10: 'asdf'",
     "output_type": "error",
     "traceback": [
      "\u001b[0;31m---------------------------------------------------------------------------\u001b[0m",
      "\u001b[0;31mValueError\u001b[0m                                Traceback (most recent call last)",
      "\u001b[0;32m<ipython-input-14-3efb2bdcf26a>\u001b[0m in \u001b[0;36m<module>\u001b[0;34m\u001b[0m\n\u001b[1;32m      1\u001b[0m \u001b[0;31m# Try this first\u001b[0m\u001b[0;34m\u001b[0m\u001b[0;34m\u001b[0m\u001b[0;34m\u001b[0m\u001b[0m\n\u001b[0;32m----> 2\u001b[0;31m \u001b[0ma\u001b[0m \u001b[0;34m=\u001b[0m \u001b[0mint\u001b[0m\u001b[0;34m(\u001b[0m\u001b[0minput\u001b[0m\u001b[0;34m(\u001b[0m\u001b[0;34m\"Enter a positive integer: \"\u001b[0m\u001b[0;34m)\u001b[0m\u001b[0;34m)\u001b[0m\u001b[0;34m\u001b[0m\u001b[0;34m\u001b[0m\u001b[0m\n\u001b[0m\u001b[1;32m      3\u001b[0m \u001b[0;34m\u001b[0m\u001b[0m\n\u001b[1;32m      4\u001b[0m \u001b[0;31m# try:\u001b[0m\u001b[0;34m\u001b[0m\u001b[0;34m\u001b[0m\u001b[0;34m\u001b[0m\u001b[0m\n\u001b[1;32m      5\u001b[0m \u001b[0;31m#     a = int(input(\"Enter first positive integer: \"))\u001b[0m\u001b[0;34m\u001b[0m\u001b[0;34m\u001b[0m\u001b[0;34m\u001b[0m\u001b[0m\n",
      "\u001b[0;31mValueError\u001b[0m: invalid literal for int() with base 10: 'asdf'"
     ]
    }
   ],
   "source": [
    "# Try this first\n",
    "a = int(input(\"Enter a positive integer: \"))    \n",
    "\n",
    "# try:\n",
    "#     a = int(input(\"Enter first positive integer: \")) \n",
    "#     b = int(input(\"Enter second positive integer: \"))\n",
    "    \n",
    "#     # Although a negative number is not technically wrong\n",
    "#     # we will consider it as a ValueError and treat it like that\n",
    "#     if a <= 0 or b < 0:\n",
    "#         raise ValueError\n",
    "        \n",
    "#     # A denominator of zero is actually wrong and\n",
    "#     # will throw a specific error. We need to handle this\n",
    "#     if b == 0:\n",
    "#         raise ZeroDivisionError\n",
    "        \n",
    "    \n",
    "#     # This is all about\n",
    "#     print('The ratio is:', a/b)\n",
    "    \n",
    "# except ValueError as e:\n",
    "#     print('Both numbers must be positive integers!')\n",
    "#     print(e)\n",
    "    \n",
    "# except ZeroDivisionError as e:\n",
    "#     print(\"Second number must not be zero!\")\n",
    "#     print(e)"
   ]
  },
  {
   "cell_type": "markdown",
   "id": "3b82b989",
   "metadata": {},
   "source": [
    "### Δημιουργία δικών μας εξαιρέσεων"
   ]
  },
  {
   "cell_type": "markdown",
   "id": "11736306",
   "metadata": {},
   "source": [
    "Κάθε εξαίρεση στην Python κληρονομεί ιδιότητες από τη βασική κλάση ``Exception``. Με λίγες γνώσεις αντικειμενοστραφούς προγραμματισμού, μπορούμε να χρησιμοποιήσουμε αυτή τη κληρονομικότητα ώστε να δημιουργήσουμε τις δικές μας κλάσεις εξαιρέσεων."
   ]
  },
  {
   "cell_type": "code",
   "execution_count": 15,
   "id": "9e67da04",
   "metadata": {},
   "outputs": [],
   "source": [
    "class MyCustomError(Exception):\n",
    "    '''It is raised when a custom error occurs'''\n",
    "    pass"
   ]
  },
  {
   "cell_type": "code",
   "execution_count": 16,
   "id": "ddc99729",
   "metadata": {},
   "outputs": [
    {
     "name": "stdout",
     "output_type": "stream",
     "text": [
      "I will accept any programming language except \"Fortran\": fortran\n",
      "Nah! Fortran is a tough pill to swallow!\n"
     ]
    }
   ],
   "source": [
    "try:\n",
    "    language = input('I will accept any programming language except \"Fortran\": ')\n",
    "    \n",
    "    if language.capitalize() == 'Fortran':\n",
    "        raise MyCustomError\n",
    "        \n",
    "    print(\"That's cool! {} language is neat!\".format(language.capitalize()))\n",
    "    \n",
    "except MyCustomError:\n",
    "    print('Nah! Fortran is a tough pill to swallow!')\n",
    "    \n",
    "    "
   ]
  }
 ],
 "metadata": {
  "kernelspec": {
   "display_name": "Python 3",
   "language": "python",
   "name": "python3"
  },
  "language_info": {
   "codemirror_mode": {
    "name": "ipython",
    "version": 3
   },
   "file_extension": ".py",
   "mimetype": "text/x-python",
   "name": "python",
   "nbconvert_exporter": "python",
   "pygments_lexer": "ipython3",
   "version": "3.8.8"
  }
 },
 "nbformat": 4,
 "nbformat_minor": 5
}
