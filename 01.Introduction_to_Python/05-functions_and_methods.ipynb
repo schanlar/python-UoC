{
 "cells": [
  {
   "cell_type": "markdown",
   "id": "2d83b208",
   "metadata": {},
   "source": [
    "# 5. Συναρτήσεις & Μέθοδοι"
   ]
  },
  {
   "cell_type": "markdown",
   "id": "5605a04a",
   "metadata": {},
   "source": [
    "**Note**: This notebook is heavily influenced by the lectures of Dr. Thomas Erben @ University of Bonn"
   ]
  },
  {
   "cell_type": "markdown",
   "id": "4a07ad67",
   "metadata": {},
   "source": [
    "<div class=\"alert alert-block alert-info\" style=\"margin-top: 20px\">\n",
    "    \n",
    "<b>Περιεχόμενα</b>\n",
    "    \n",
    "5.1 Μέθοδοι\n",
    "    \n",
    "5.2 Η χρησιμότητα των συναρτήσεων\n",
    "    \n",
    "5.3 Ανώνυμες συναρτήσεις (συναρτήσεις-λάμδα)\n",
    "    \n",
    "</div>"
   ]
  },
  {
   "cell_type": "markdown",
   "id": "d4053e70",
   "metadata": {},
   "source": [
    "## 5.1 Μέθοδοι"
   ]
  },
  {
   "cell_type": "markdown",
   "id": "a8c76423",
   "metadata": {},
   "source": [
    "Έχουμε ήδη δει μερικά παραδείγματα μεθόδων όταν μαθαίνουμε για τους τύπους αντικειμένων και δομών δεδομένων στην Python. Οι μέθοδοι είναι ουσιαστικά συναρτήσεις ενσωματωμένες σε αντικείμενα. Αργότερα θα μάθουμε πώς να δημιουργήσουμε τα δικά μας αντικείμενα και μεθόδους χρησιμοποιώντας Αντικειμενοστρεφή Προγραμματισμό (OOP) και κλάσεις.\n",
    "\n",
    "Οι μέθοδοι εκτελούν συγκεκριμένες ενέργειες σε ένα αντικείμενο και μπορούν επίσης να λάβουν ορίσματα, ακριβώς όπως μια συνάρτηση. \n",
    "\n",
    "Οι μέθοδοι έχουν τη μορφή:\n",
    "\n",
    "    object.method(arg1,arg2, etc...)\n",
    "\n",
    "δρουν, δηλαδή, πάνω στο αντικείμενο της κλάσης στην οποία έχουν οριστεί. Για παράδειγμα, η κλάση ``<string>`` έχει μία μέθοδο ``.replace()`` που μας επιτρέπει να γράψουμε:\n",
    "\n",
    "```python\n",
    "\"Hello World!\".replace(\" \", \", \")\n",
    "```\n",
    "\n",
    "και η οποία αντικαθιστά τον κενό χαρακτήρα μεταξύ των λέξεων \"Hello\" και \"World\" με ένα κόμμα ακολουθούμενο από έναν κενό χαρακτήρα ώστε να επιστρέψει την συμβολοσειρά: \"Hello, World!\". Σε αυτό το παράδειγμα, το αντικείμενο είναι η συμβολοσειρά \"Hello World!\" και πάνω του δρα η μέθοδος ``.replace()`` που είναι μέρος της κλάσης ``<string>`` στην οποία ανήκει και η συμβολοσειρά πάνω στην οποία δρα.\n",
    "\n",
    "Αυτό θα βγάζει περισσότερο νόημα μόλις μάθουμε βασικά στοιχεία του Αντικειμενοστρεφούς Προγραμματισμού."
   ]
  },
  {
   "cell_type": "markdown",
   "id": "b92b6c5b",
   "metadata": {},
   "source": [
    "## 5.2 Η χρησιμότητα των συναρτήσεων"
   ]
  },
  {
   "cell_type": "markdown",
   "id": "d6877395",
   "metadata": {},
   "source": [
    "Οι συναρτήσεις χρησιμεύουν στο να ελαχιστοποιήσουμε την επανάληψη κώδικα με το να μας επιτρέπουν να ομαδοποιούμε και να επαναχρησιμοποιούμε κώδικα που επιτελεί μία συγκεκριμένη λειτουργία. Αυτή η λογική μπορεί να επεκταθεί για τη δημιουργία βιβλιοθηκών.\n",
    "\n",
    "Το βασικό συντακτικό μιας συνάρτησης είναι το ακόλουθο:\n",
    "```python\n",
    "def func(arguments):\n",
    "    \"\"\" The docstring appears in help messages\"\"\"\n",
    "    \n",
    "    # execute function commands\n",
    "\n",
    "    return value(s)\n",
    "\n",
    "```\n",
    "\n",
    "- Η συνάρτηση ξεκινάει με τη λέξη-κλειδί ``def``, ακολουθούμενη από το όνομά της, παρενθέσεις και τον τελεστή ``:``. Ανάμεσα στις παρενθέσεις μπορούν να οριστούν τυχόν παράμετροι εισόδου χωρίς αυτό να είναι απαραίτητο.\n",
    "\n",
    "\n",
    "- Μία συνάρτηση δύναται να δέχεται έναν αυθαίρετα μεγάλο αριθμό παραμέτρων, προκαθορισμένης ή μη-προκαθορισμένης τιμής (positional arguments vs keyword arguments).\n",
    "\n",
    "\n",
    "- Οι παράμετροι μιας συνάρτησης, ως μεταβλητές, δεν έχουν προκαθορισμένο τύπο.\n",
    "\n",
    "\n",
    "- Ο κώδικας που εμπεριέχει η συνάρτηση πρέπει να είναι εμφωλευμένος!\n",
    "\n",
    "\n",
    "- Μία συνάρτηση μπορεί να επιστρέφει έναν αυθαίρετα μεγάλο αριθμό τιμών.\n",
    "\n",
    "\n",
    "- Η δήλωση επιστροφής ``return`` είναι προαιρετική. Χρησιμοποιείται για να επιστρέψει τιμές στον καλούντα.\n",
    "\n",
    "\n",
    "- Μία συνάρτηση που δεν επιστρέφει καμία τιμή, στη πραγματικότητα επιστρέφει \"σιωπηλά\" την ειδική τιμή ``None``.\n",
    "\n",
    "\n",
    "- Αναπτύξτε από νωρίς τη συνήθεια να τεκμηριώνετε τις συναρτήσεις σας χρησιμοποιώντας κάποιο docstring. Θα γίνει κατανοητό γιατί αργότερα που θα μιλήσουμε για τις βιβλιοθήκες.\n",
    "\n",
    "\n",
    "- Όλοι οι παράμετροι και οι μεταβλητές που ορίζονται μέσα σε μία συνάρτηση είναι **τοπικές** στη συγκεκριμένη συνάρτηση, που σημαίνει ότι δεν μπορούν να χρησιμοποιηθούν από κώδικα εκτός της συνάρτησης. Αυτό είναι σε αντίθεση με τις **καθολικές** (global) μεταβλητές που γενικά, όμως, η χρήση τους πρέπει να αποφεύγεται όσο γίνεται. Με άλλα λόγια, το πεδίο ορισμού (scope) των παραμέτρων/μεταβλητών μέσα σε μία συνάρτηση είναι από τη στιγμή της δημιουργίας τους μέσα στη συνάρτηση μέχρι το τέλος αυτής.\n",
    "\n",
    "\n",
    "- Για την κλήση της συνάρτησης, η οποία μπορεί να γίνει είτε από το κύριο πρόγραμμα είτε από κάποια άλλη συνάρτηση, χρησιμοποιείται το όνομα της συνάρτησης μαζί με τις παρενθέσεις. "
   ]
  },
  {
   "cell_type": "markdown",
   "id": "c6e8e234",
   "metadata": {},
   "source": [
    "### Κλήση συνάρτησης"
   ]
  },
  {
   "cell_type": "code",
   "execution_count": 1,
   "id": "f0395e43",
   "metadata": {},
   "outputs": [],
   "source": [
    "def foo():\n",
    "    return 2"
   ]
  },
  {
   "cell_type": "code",
   "execution_count": 2,
   "id": "6a700244",
   "metadata": {},
   "outputs": [
    {
     "name": "stdout",
     "output_type": "stream",
     "text": [
      "<function foo at 0x7fd0780800d0>\n",
      "2\n"
     ]
    }
   ],
   "source": [
    "# This only shows the location in memory where foo function is stored\n",
    "print(foo)\n",
    "\n",
    "# To actually call the function we need the parentheses\n",
    "print(foo())"
   ]
  },
  {
   "cell_type": "markdown",
   "id": "6f350309",
   "metadata": {},
   "source": [
    "### Εμβέλεια μεταβλητών και Χώροι Ονομάτων (Variable scope  and Namespaces)\n",
    "\n",
    "Η εμβέλεια (scope) των μεταβλητών καθώς και οι χώροι ονομάτων είναι συναφείς έννοιες στην Python αλλά έχουν διαφορετική σημασία και εξυπηρετούν διαφορετικούς σκοπούς.\n",
    "\n",
    "\n",
    "1. Εμβέλεια μεταβλητής (Variable Scope):\n",
    "\n",
    "    Η εμβέλεια μεταβλητής αναφέρεται στην περιοχή του κώδικα όπου μια συγκεκριμένη μεταβλητή είναι προσβάσιμη και μπορεί να χρησιμοποιηθεί. Στην Python, υπάρχουν δύο βασικοί τύποι εμβέλειας μεταβλητής:\n",
    "\n",
    "    α) **Τοπική Εμβέλεια**: Οι μεταβλητές που καθορίζονται μέσα σε μια συνάρτηση θεωρούνται ότι βρίσκονται σε τοπική εμβέλεια. Είναι προσβάσιμες μόνο μέσα σε αυτή τη συνάρτηση και δεν είναι ορατές έξω από αυτή.\n",
    "\n",
    "    β) **Καθολική Εμβέλεια**: Οι μεταβλητές που ορίζονται εκτός συναρτήσεων θεωρούνται ότι βρίσκονται σε καθολική εμβέλεια. Είναι προσβάσιμες από οπουδήποτε στον κώδικα, συμπεριλαμβανομένων των συναρτήσεων.\n",
    "\n",
    "\n",
    "\n",
    "\n",
    "2. Χώρος Ονομάτων (Namespace):\n",
    "\n",
    "    Ένας χώρος ονομάτων είναι ένα \"δοχείο\" (container) που περιέχει ένα σύνολο αναγνωριστικών (ονόματα μεταβλητών, ονόματα συναρτήσεων, ονόματα κλάσεων κλπ.) και τα αντίστοιχα αντικείμενά τους. Η Python χρησιμοποιεί ονοματοχώρους για να διαχειρίζεται και να οργανώνει τα ονόματα που χρησιμοποιούνται στον κώδικά μας. Υπάρχουν τέσσερις βασικοί τύποι ονοματοχώρων στην Python:\n",
    "\n",
    "    α) Ενσωματωμένος Ονοματοχώρος (built-in namespace): Αυτός ο ονοματοχώρος περιλαμβάνει ονόματα για ενσωματωμένες συναρτήσεις και αντικείμενα που παρέχονται από την Python, όπως η ``print()``, η ``len()`` και η ``str``.\n",
    "\n",
    "    β) Καθολικός Ονοματοχώρος (global namespace): Αυτός ο ονοματοχώρος περιλαμβάνει όλα τα ονόματα που καθορίζονται στο κυρίως πρόγραμμα ή σε ένα άρθρωμα (module). Αυτές οι μεταβλητές είναι προσβάσιμες σε όλο τον κώδικα.\n",
    "\n",
    "    γ) Τοπικός Ονοματοχώρος (local namespace): Κάθε κλήση συνάρτησης δημιουργεί τον δικό της τοπικό ονοματοχώρο, ο οποίος περιλαμβάνει τις παραμέτρους της συνάρτησης και τυχόν μεταβλητές που έχουν καθοριστεί μέσα στη συνάρτηση.\n",
    "    \n",
    "    δ) Περικλειόμενος Ονοματοχώρος (enclosing namespace): Αυτός ο ονοματοχώρος αναφέρεται στον ονοματοχώρο μιας εξωτερικής συνάρτησης όταν ασχολούμαστε με διάνυσμα συναρτήσεων (closures). Είναι ουσιώδης για την κατανόηση του πώς λειτουργούν οι εμφωλιασμένες συναρτήσεις και πώς μπορούν να έχουν πρόσβαση σε μεταβλητές από την εμβέλεια που τις περικλείει.\n",
    "\n",
    "    Ο διερμηνευτής της Python διατηρεί αυτούς τους ονοματοχώρους για να καθορίσει την εμβέλεια και την ορατότητα των ονομάτων στον κώδικά σας.\n",
    "    \n",
    "#### Ο κανόνας LEGB\n",
    "\n",
    "Ο συγκεκριμένος κανόνας περιγράφει την σειρά με την οποία η Python ψάχνει να βρει ένα όνομα μιας μεταβλητής μέσα στους ονοματοχώρους. Η σειρά αυτή είναι:\n",
    "\n",
    "**L**ocal --> **E**nclosing --> **G**lobal --> **B**uilt-in\n",
    "\n",
    "Αν δεν βρει σε κανένα από αυτούς τους ονοματοχώρους το όνομα της μεταβλητής που ζητάμε, εγείρει ένα ``NameError`` που υποδεικνύει ότι το όνομα αυτής της μεταβλητής δεν έχει οριστεί."
   ]
  },
  {
   "cell_type": "code",
   "execution_count": 3,
   "id": "d5ad85e4",
   "metadata": {},
   "outputs": [
    {
     "name": "stdout",
     "output_type": "stream",
     "text": [
      "I am the local variable 'var'\n"
     ]
    }
   ],
   "source": [
    "# A variable created inside a function belongs to the local scope of that function, \n",
    "# and can only be used inside that function.\n",
    "\n",
    "def foo():\n",
    "    \n",
    "    # local scope variable\n",
    "    var = \"I am the local variable 'var'\"\n",
    "    print(var)\n",
    "\n",
    "# Call the function\n",
    "foo()\n",
    "\n",
    "# The next line will raise a NameError since \n",
    "# variable name \"var\" is not defined outside the scope of the function\n",
    "\n",
    "# print(var)"
   ]
  },
  {
   "cell_type": "code",
   "execution_count": 4,
   "id": "9719afaa",
   "metadata": {},
   "outputs": [
    {
     "name": "stdout",
     "output_type": "stream",
     "text": [
      "I am the global variable 'var'\n",
      "I am the global variable 'var'\n"
     ]
    }
   ],
   "source": [
    "# A variable created in the main body of the Python code \n",
    "# is a global variable and belongs to the global scope.\n",
    "\n",
    "# Global variables are available from within any scope, global and local.\n",
    "\n",
    "# global scope variable\n",
    "var = \"I am the global variable 'var'\"\n",
    "\n",
    "def foo():\n",
    "    print(var)\n",
    "\n",
    "# Call the function\n",
    "foo()\n",
    "\n",
    "print(var)"
   ]
  },
  {
   "cell_type": "markdown",
   "id": "0ad37a23",
   "metadata": {},
   "source": [
    "#### Ονομασία μεταβλητών με διαφορετική εμβέλεια"
   ]
  },
  {
   "cell_type": "code",
   "execution_count": 5,
   "id": "031b86fe",
   "metadata": {},
   "outputs": [
    {
     "name": "stdout",
     "output_type": "stream",
     "text": [
      "I am the local variable 'var'\n",
      "I am the global variable 'var'\n"
     ]
    }
   ],
   "source": [
    "# If you operate with the same variable name inside and outside of a function, \n",
    "# Python will treat them as two separate variables, \n",
    "# one available in the global scope (outside the function) \n",
    "# and one available in the local scope (inside the function)\n",
    "\n",
    "# global scope variable\n",
    "var = \"I am the global variable 'var'\"\n",
    "\n",
    "def foo():\n",
    "    \n",
    "    # local scope variable with the same name \n",
    "    var = \"I am the local variable 'var'\"\n",
    "    print(var)\n",
    "\n",
    "# Call the function\n",
    "foo()\n",
    "\n",
    "print(var)"
   ]
  },
  {
   "cell_type": "code",
   "execution_count": 6,
   "id": "12455450",
   "metadata": {},
   "outputs": [
    {
     "name": "stdout",
     "output_type": "stream",
     "text": [
      "I am the global variable var\n",
      "I am the enclosing variable var (local to foo function)\n",
      "I am the enclosing variable var (local to foo function)\n"
     ]
    }
   ],
   "source": [
    "var = \"I am the global variable var\"\n",
    "\n",
    "def foo():\n",
    "    var = \"I am the enclosing variable var (local to foo function)\"\n",
    "    print(var)\n",
    "    \n",
    "    def goo():\n",
    "        print(var) # There is no var variable in the local namespace of goo\n",
    "        return None\n",
    "    \n",
    "    goo()\n",
    "    return None\n",
    "\n",
    "\n",
    "print(var)\n",
    "foo()"
   ]
  },
  {
   "cell_type": "markdown",
   "id": "5f5eb7cc",
   "metadata": {},
   "source": [
    "#### The ``global`` keyword"
   ]
  },
  {
   "cell_type": "code",
   "execution_count": 7,
   "id": "93c0ae46",
   "metadata": {},
   "outputs": [
    {
     "name": "stdout",
     "output_type": "stream",
     "text": [
      "asdf\n",
      "asdf\n"
     ]
    }
   ],
   "source": [
    "# You can access/create/modify a global variable from \n",
    "# within a function using the \"global\" keyword\n",
    "\n",
    "var = \"I am the global variable 'var'\"\n",
    "\n",
    "def foo():\n",
    "    \n",
    "    global var\n",
    "    \n",
    "    var = \"asdf\"\n",
    "    print(var)\n",
    "\n",
    "# Call the function\n",
    "foo()\n",
    "\n",
    "print(var)"
   ]
  },
  {
   "cell_type": "markdown",
   "id": "3ad929a9",
   "metadata": {},
   "source": [
    "Προσέξτε πως στο τελευταίο παράδειγμα χρησιμοποιήσαμε τη δεσμευμένη λέξη ``global`` για να έχουμε πρόσβαση στην καθολική μεταβλητή ``var``  και να τροποποιήσουμε την τιμή της μέσα από τη συνάρτηση ``foo``.\n",
    "\n",
    "Αντιλαμβάνεστε ότι κάτι τέτοιο μπορεί να οδηγήσει σε ακούσιες αλλαγές μεταβλητών και σε λογικά σφάλματα που είναι πολύ δύκολο να εντοπιστούν. Γι' αυτό το λόγο, η χρήση καθολικών μεταβλητών θα πρέπει να **αποφεύγεται** όσο δυνατόν περισσότερο."
   ]
  },
  {
   "cell_type": "markdown",
   "id": "94612e76",
   "metadata": {},
   "source": [
    "### Μερικά παραδείγματα"
   ]
  },
  {
   "cell_type": "code",
   "execution_count": 8,
   "id": "0fc95c83",
   "metadata": {},
   "outputs": [],
   "source": [
    "import numpy as np\n",
    "\n",
    "# a function with two input and two output values\n",
    "def xy_to_polar(x, y):\n",
    "    \"\"\" Here is the docstring for xy_polar \"\"\"\n",
    "    \n",
    "    # transform two-dimensional cartesian coordinates\n",
    "    r = np.sqrt(x**2 + y**2)\n",
    "    theta = np.arctan2(y, x)\n",
    "    \n",
    "    # These can be considered as the elements of a tuple\n",
    "    # that will be unpacked\n",
    "    return r, theta\n",
    "\n",
    "\n",
    "\n",
    "# A function with no arguments\n",
    "def greetings():\n",
    "    \"\"\"A function that prints a simple\n",
    "    welcome message\"\"\"\n",
    "    \n",
    "    print(\"Welcome to this Python crash course!\")\n",
    "    \n",
    "    # Not necessary to explicitly return None\n",
    "    # can be ommitted \n",
    "    # (but is a good practice to return something in any case)\n",
    "    return None\n",
    "\n",
    "\n",
    "# A function with one keyword argument\n",
    "def goodbye(msg=\"Goodbye!\"):\n",
    "    \"\"\"A function that prints a simple \n",
    "    goodbye message\"\"\"\n",
    "    \n",
    "    print(msg)\n",
    "    "
   ]
  },
  {
   "cell_type": "code",
   "execution_count": 9,
   "id": "9af93b87",
   "metadata": {},
   "outputs": [
    {
     "name": "stdout",
     "output_type": "stream",
     "text": [
      "Welcome to this Python crash course!\n",
      "(1.4142135623730951, 0.7853981633974483)\n",
      "Goodbye!\n"
     ]
    }
   ],
   "source": [
    "# call the greetings function\n",
    "greetings()\n",
    "\n",
    "# call xy_to_polar function\n",
    "# (remember tuple unpacking)\n",
    "t = xy_to_polar(1.0, 1.0)\n",
    "print(t)\n",
    "\n",
    "\n",
    "# radius, angle = xy_to_polar(1.0, 1.0)\n",
    "\n",
    "# note that the angle is given in radians!\n",
    "# print(radius, angle)\n",
    "\n",
    "# Call goodbye function without providing input\n",
    "goodbye()"
   ]
  },
  {
   "cell_type": "markdown",
   "id": "c57e0c5d",
   "metadata": {},
   "source": [
    "Οι παρακάτω συναρτήσεις μας δίνουν τη συνάρτηση Gauss:\n",
    "\n",
    "<center>$f(x) = \\frac{1}{\\sigma \\sqrt{2\\pi}} \\exp\\left[-\\frac{1}{2}\\left(\\frac{x - \\mu}{\\sigma}\\right)^2\\right]$<center>"
   ]
  },
  {
   "cell_type": "code",
   "execution_count": 10,
   "id": "03f5a757",
   "metadata": {},
   "outputs": [
    {
     "name": "stdout",
     "output_type": "stream",
     "text": [
      "1.557407724654902 0.24197072451914337\n"
     ]
    }
   ],
   "source": [
    "import numpy as np\n",
    "\n",
    "# a classical mathematical function\n",
    "def gauss(x):\n",
    "    \"\"\"\n",
    "    Calculates the value of a Gauss function with mu = 0 and sigma = 1.0\n",
    "    \n",
    "    input: A number number x (float or int) at which to evaluate\n",
    "           the function\n",
    "    return: The calculated gauss value at x \n",
    "    \"\"\"\n",
    "    \n",
    "    return (1.0 / np.sqrt(2.0 * np.pi)) * np.exp(-x**2 / 2.0)\n",
    "\n",
    "x = 1.0\n",
    "print(np.tan(x), gauss(x))"
   ]
  },
  {
   "cell_type": "code",
   "execution_count": 11,
   "id": "c521c6e0",
   "metadata": {},
   "outputs": [
    {
     "name": "stdout",
     "output_type": "stream",
     "text": [
      "0.24197072451914337\n",
      "0.19947114020071635\n",
      "0.3989422804014327\n",
      "0.17603266338214976\n"
     ]
    }
   ],
   "source": [
    "import numpy as np\n",
    "\n",
    "# a fucntion with default (or keyword) arguments:\n",
    "def gauss_mu_sigma(x, mu=0.0, sigma=1.0):\n",
    "    \"\"\" Calculates the value of a Gauss at an input\n",
    "        value x\n",
    "        \n",
    "        input(s):\n",
    "        - The value at which to evaluate the Gauss\n",
    "          (required argument)\n",
    "        - Tne mean mu of the distribution\n",
    "          (optional argument)\n",
    "        - The width sigma of the distribution\n",
    "          (optional argument)\n",
    "          \n",
    "        return:\n",
    "        - The calculated gauss function value\n",
    "    \"\"\"\n",
    "    factor = (1.0 / np.sqrt(2.0 * sigma**2 * np.pi))\n",
    "    expon = np.exp(-(x - mu)**2 / (2.0 * sigma**2))\n",
    "    \n",
    "    return factor * expon\n",
    "\n",
    "x_test = 1.0\n",
    "\n",
    "# implicit mu = 0.0, sigma = 1.0\n",
    "print(gauss_mu_sigma(x_test))\n",
    "\n",
    "# explicit mu and sigma\n",
    "print(gauss_mu_sigma(x_test, mu = 1.0, sigma = 2.0))\n",
    "\n",
    "# implicit sigma = 1.0\n",
    "print(gauss_mu_sigma(x_test, mu = 1.0))\n",
    "\n",
    "# implicit mu = 0.0\n",
    "print(gauss_mu_sigma(x_test, sigma = 2.0))\n",
    "\n",
    "\n",
    "# Trying to access a local variable to the function\n",
    "# print(factor)"
   ]
  },
  {
   "cell_type": "markdown",
   "id": "fd32e1b3",
   "metadata": {},
   "source": [
    "<div class=\"alert alert-block alert-warning\" style=\"margin-top: 20px\">\n",
    "    <b>Παράδειγμα 5.1</b>\n",
    "    \n",
    "Γράψτε μία συνάρτηση που υλοποιεί την παρακάτω εξίσωση: $$F = G \\frac{M_1 M_2}{r^2}$$\n",
    "όπου $G = 6.674 \\times 10^{-11}\\,\\mathrm{N}\\,\\mathrm{m^2}/\\mathrm{kg^2}$ και $1\\,\\mathrm{Ν} = 1\\,\\mathrm{k}\\,\\mathrm{m}/\\mathrm{s^2}$\n",
    "    \n",
    "Στη συνέχεια εφαρμόστε τη συνάρτηση αυτή για να υπολογίσετε την δύναμη της βαρύτητας μεταξύ της Γης και της Σελήνης, αν γνωρίζετε ότι\n",
    "    \n",
    "- Η μάζα της Γης είναι ίση με $5.9742 \\times 10^{24}\\,\\mathrm{km}$\n",
    "\n",
    "- Η μάζα της Σελήνης είναι ίση με $7.36 \\times 10^{22}\\,\\mathrm{km}$\n",
    "\n",
    "- Η μέση απόσταση Γης-Σελήνης είναι $384402\\,\\mathrm{km}$"
   ]
  },
  {
   "cell_type": "markdown",
   "id": "d3fca83e",
   "metadata": {},
   "source": [
    "<div class=\"alert alert-danger alertdanger\" style=\"margin-top: 20px\">\n",
    "<details>\n",
    "<br>\n",
    "<b>Λύση</b>\n",
    "    \n",
    "```python \n",
    "def newton_grav(m1, m2, r, G=6.674e-11):\n",
    "    \"\"\"\n",
    "    Arguments\n",
    "    ---------\n",
    "        m1   : Mass of object 1\n",
    "        m2   : Mass of object 2\n",
    "        r    : Distance between centers of the masses\n",
    "        G    : Gravitational constant. Default value is 6.674e-11 \n",
    "               which corresponds to SI units.\n",
    "               \n",
    "    Returns\n",
    "    -------\n",
    "        The gravitational force between two objects with masses m1 and m2 that are\n",
    "        separated a distance r.\n",
    "    \"\"\"\n",
    "    \n",
    "    return (G * m1 * m2) / (r**2)\n",
    "    \n",
    "\n",
    "print(f\"The gravitational force between Earth and Moon is {newton_grav(5.9742e22, 7.36e22, 384402*1e3)} N.\")\n",
    "```\n",
    "    \n",
    "</details>"
   ]
  },
  {
   "cell_type": "markdown",
   "id": "fb5d9e22",
   "metadata": {},
   "source": [
    "### Printing vs Returning "
   ]
  },
  {
   "cell_type": "markdown",
   "id": "2f23d2be",
   "metadata": {},
   "source": [
    "Πολλοί όταν ξεκινούν να μαθαίνουν μία γλώσσα προγραμματισμού αντιμετωπίζουν κάποιες δυσκολίες στο να κατανοήσουν τη διαφορά μεταξύ της \"επιστροφής\" του αποτελέσματος μίας συνάρτηση και της \"εκτύπωσης\" του αποτελέσματος. Η σύγχηση προκύπτει διότι, σε συγκεκριμένες περιπτώσεις, η συμπεριφορά είναι παρόμοια και μη-εύκολα διαχωρίσιμη (π.χ. όταν δουλεύουμε διαδραστικά)."
   ]
  },
  {
   "cell_type": "code",
   "execution_count": 12,
   "id": "2c31c5a7",
   "metadata": {},
   "outputs": [],
   "source": [
    "def p(x):    # p(x) prints its result 'and' returns None!\n",
    "    print(2 * x)\n",
    "    \n",
    "def r(x):    # r(x) returns its result!\n",
    "    return 2 * x"
   ]
  },
  {
   "cell_type": "code",
   "execution_count": 13,
   "id": "32a5cb64",
   "metadata": {},
   "outputs": [
    {
     "name": "stdout",
     "output_type": "stream",
     "text": [
      "20\n"
     ]
    },
    {
     "data": {
      "text/plain": [
       "20"
      ]
     },
     "execution_count": 13,
     "metadata": {},
     "output_type": "execute_result"
    }
   ],
   "source": [
    "# When interactively calling the two functions, they both seem to\n",
    "# behave the same way:\n",
    "p(10)\n",
    "r(10)"
   ]
  },
  {
   "cell_type": "code",
   "execution_count": 14,
   "id": "a15c171d",
   "metadata": {},
   "outputs": [
    {
     "name": "stdout",
     "output_type": "stream",
     "text": [
      "20\n",
      "None 20\n"
     ]
    }
   ],
   "source": [
    "# The results are however different, when 'assiging' the functions\n",
    "# results to variables:\n",
    "p_result = p(10)\n",
    "r_result = r(10)\n",
    "\n",
    "print(p_result, r_result)\n",
    "\n",
    "# Note that you need to 'return' the result of a function if you\n",
    "# want to use it later (assign it to a variable)! If in doubt, then\n",
    "# return the result!"
   ]
  },
  {
   "cell_type": "code",
   "execution_count": 15,
   "id": "830df731",
   "metadata": {},
   "outputs": [
    {
     "name": "stdout",
     "output_type": "stream",
     "text": [
      "40\n",
      "40\n"
     ]
    }
   ],
   "source": [
    "# functions as arguments for functions\n",
    "p(r(10))\n",
    "\n",
    "# or with keyword argument...\n",
    "p(x=r(10))\n",
    "\n",
    "# This will raise an error!\n",
    "# Υou do not pass the function r as argument! \n",
    "# You have to call function r to pass its return value!\n",
    "# p(x=r)"
   ]
  },
  {
   "cell_type": "markdown",
   "id": "e6c47c0c",
   "metadata": {},
   "source": [
    "<div class=\"alert alert-block alert-warning\" style=\"margin-top: 20px\">\n",
    "    <b>Παράδειγμα 5.2</b>\n",
    "\n",
    "- Εξηγήστε με απλά λόγια τι γίνεται αν στο παραπάνω παράδειγμα προσπαθήσουμε να εκτελέσουμε τον κώδικα:\n",
    "```python\n",
    "r(x=p(10))\n",
    "```\n",
    "\n",
    ">**Hint:** Σιγουρευτείτε αν η συνάρτηση ``print`` επιστρέφει κάποια τιμή ή όχι."
   ]
  },
  {
   "cell_type": "code",
   "execution_count": 16,
   "id": "a9d87322",
   "metadata": {},
   "outputs": [],
   "source": [
    "# You can try it here"
   ]
  },
  {
   "cell_type": "markdown",
   "id": "7f6a8040",
   "metadata": {},
   "source": [
    "<div class=\"alert alert-block alert-warning\" style=\"margin-top: 20px\">\n",
    "    <b>Παράδειγμα 5.3</b>\n",
    "    \n",
    "- Ποιό είναι το αποτέλεσμα της εκτύπωσης στον παρακάτω κώδικα;\n",
    "\n",
    "```python\n",
    "def triple(x):\n",
    "  x = x * 3\n",
    "  print(x)        \n",
    "\n",
    "x = 5\n",
    "print(triple(x))\n",
    "```\n",
    "    What did the programmer of the function probably intend to do?\n",
    "\n",
    "\n",
    "\n",
    "- Ποιό είναι το αποτέλεσμα της εκτύπωσης στον παρακάτω κώδικα;\n",
    "\n",
    "```python\n",
    "def increase_a(a):\n",
    "    a = a + 1\n",
    "    return(a)\n",
    "\n",
    "a = 5\n",
    "print(a, increase_a(a), a)\n",
    "```\n",
    "\n",
    "\n",
    "\n",
    "- Ποιό είναι το αποτέλεσμα της εκτύπωσης στον παρακάτω κώδικα;\n",
    "\n",
    "```python\n",
    "def f(x):\n",
    "    return x + 2, x * 2\n",
    "\n",
    "x, y = f(5)\n",
    "print(x + y)\n",
    "```"
   ]
  },
  {
   "cell_type": "code",
   "execution_count": 17,
   "id": "55a867a4",
   "metadata": {},
   "outputs": [],
   "source": [
    "# You can try it here"
   ]
  },
  {
   "cell_type": "markdown",
   "id": "8fd14fd6",
   "metadata": {},
   "source": [
    "### Αλγοριθμική εφαρμογή: Εκτίμηση τετραγωνικής ρίζας αριθμού"
   ]
  },
  {
   "cell_type": "markdown",
   "id": "40acfdd2",
   "metadata": {},
   "source": [
    "**Τι είναι αλγόριθμος**\n",
    "\n",
    "Informally, an **algorithm** is any well-defined computational procedure that takes some value, or set of values, as **input** and produces some value, or set of values, as **output**. An algorithm is thus a sequence of computational steps that transform the input into the output.\n",
    "\n",
    "We can also view an algorithm as a tool for solving a well-specified **computational problem**. The statement of the problem specifies in general terms the desired input/output relationship. The algorithm describes a specific computational procedure for achieving that input/output relationship.\n",
    "\n",
    "\n",
    "<div style=\"text-align: right\">\n",
    "<br>\n",
    "    <i>Introduction to algorithms</i> / Thomas H. Cormen . . . [et al.]—3rd ed.\n",
    "<br>\n",
    "</div>\n",
    "\n",
    "\n",
    "\n",
    "- Η ανάπτυξη αλγοριθμικού τρόπου σκέψης είναι μείζονος σημασίας για τη συγγραφή κώδικα. Σε αυτό το παράδειγμα θα υλοποιήσουμε στη γλώσσα Python έναν αλγόριθμο, που συζητήσαμε στη τάξη, για την εκτίμηση της τετραγωνικής ρίζας ενός θετικού αριθμού.\n",
    "\n",
    "\n",
    "- Ο αλγόριθμός αυτός βασίζεται στη τεχνική \"διαίρει και βασίλευε\" (divide and conquer).\n",
    "\n",
    "\n",
    "- Μπορείτε να βρείτε περιπτώσεις όπου ο αλγόριθμος δεν συμπεριφέρεται όπως θα έπρεπε;\n",
    "\n",
    "\n",
    "- Αν ναι, γιατί συμβαίνει αυτό;"
   ]
  },
  {
   "cell_type": "code",
   "execution_count": 18,
   "id": "3c02c620",
   "metadata": {},
   "outputs": [],
   "source": [
    "def my_sqrt(x, eps=1e-6, n_max=10000):\n",
    "    \"\"\"\n",
    "        ARGUMENTS\n",
    "        =========\n",
    "            - x       : float or int\n",
    "            - eps     : float or int. The accuracy of the estimation\n",
    "            - n_max   : int. The maximum number of iterations to try\n",
    "                        to converge to solution.\n",
    "                        \n",
    "        RETURNS\n",
    "        =======\n",
    "            float. The square root estimation for number x.\n",
    "    \"\"\"\n",
    "    \n",
    "    try:\n",
    "        # Check validity of input\n",
    "        if (x < 0) or (eps < 0) or (n_max < 0):\n",
    "            raise ValueError\n",
    "\n",
    "        # Define the boundaries for the search space\n",
    "        a = 0\n",
    "        b = x\n",
    "\n",
    "        # Divide and conquer: guess value in the middle of the search space\n",
    "        guess = (a+b)/2\n",
    "\n",
    "        # A counter to count the number of iterations required\n",
    "        # for convergence\n",
    "        n = 0\n",
    "    \n",
    "        while abs(guess**2 - x) > eps:\n",
    "            \n",
    "            if guess**2 < x:\n",
    "                a = guess\n",
    "                guess = (a+b)/2\n",
    "                \n",
    "            else:\n",
    "                b = guess\n",
    "                guess = (a+b)/2\n",
    "            \n",
    "            # Increment the counter\n",
    "            n += 1\n",
    "            \n",
    "            if n > n_max:\n",
    "                raise RuntimeError\n",
    "                \n",
    "    except ValueError:\n",
    "        print(\"ERROR: x, eps, and n_max cannot be negative numbers\")\n",
    "        return None\n",
    "                \n",
    "    except RuntimeError:\n",
    "        print(\"ERROR: could not convergence to solution\")\n",
    "        return None\n",
    "    \n",
    "    return guess"
   ]
  },
  {
   "cell_type": "code",
   "execution_count": 19,
   "id": "908ab75e",
   "metadata": {},
   "outputs": [
    {
     "name": "stdout",
     "output_type": "stream",
     "text": [
      "my_sqrt estimation: 12.000000022351742\n",
      "Compare the estimation from my_sqrt to nympy's sqrt: 2.2351741790771484e-08\n",
      "Compare the estimation from my_sqrt to maths's sqrt: 2.2351741790771484e-08\n"
     ]
    }
   ],
   "source": [
    "# Test the function and compare the results with numpy and math\n",
    "import numpy as np\n",
    "import math\n",
    "\n",
    "\n",
    "print(f\"my_sqrt estimation: {my_sqrt(144)}\")\n",
    "print(f\"Compare the estimation from my_sqrt to nympy's sqrt: {abs(my_sqrt(144) - np.sqrt(144))}\")\n",
    "print(f\"Compare the estimation from my_sqrt to maths's sqrt: {abs(my_sqrt(144) - math.sqrt(144))}\")"
   ]
  },
  {
   "cell_type": "code",
   "execution_count": 20,
   "id": "8a78d604",
   "metadata": {},
   "outputs": [
    {
     "name": "stdout",
     "output_type": "stream",
     "text": [
      "5.000000074505806 5.0\n"
     ]
    }
   ],
   "source": [
    "# See how the provided accuracy affects the result\n",
    "print(my_sqrt(25), my_sqrt(25, eps=1e-20))"
   ]
  },
  {
   "cell_type": "code",
   "execution_count": 21,
   "id": "8355d9d4",
   "metadata": {},
   "outputs": [
    {
     "name": "stdout",
     "output_type": "stream",
     "text": [
      "ERROR: could not convergence to solution\n",
      "None\n"
     ]
    }
   ],
   "source": [
    "# What happens if we try to calculate the square root of numbers < 1?\n",
    "q = my_sqrt(0.5)\n",
    "\n",
    "print(q)"
   ]
  },
  {
   "cell_type": "markdown",
   "id": "70e1668e",
   "metadata": {},
   "source": [
    "Την πλήρη λύση του προβλήματος την αντιμετωπίζουμε στην άσκηση \"Δημιουργήστε το δικό σας module\" από το σετ ασκήσεων που θα σας δωθούν.\n",
    "\n",
    "Μπορείτε να βρείτε περισσότερες πληροφορίες για τις τεχνικές και τους αλγορίθμους που συζητήσαμε στο μάθημα στις παρακάτω πηγές:\n",
    "\n",
    "- [Algorithm (Wiki page)](https://en.wikipedia.org/wiki/Algorithm#Informal_definition)\n",
    "\n",
    "- [Brute-force search (Wiki page)](https://en.wikipedia.org/wiki/Brute-force_search)\n",
    "\n",
    "- [Divide and conquer technique (Wiki page)](https://en.wikipedia.org/wiki/Divide-and-conquer_algorithm)\n",
    "\n",
    "- [Binary search algorithm (Wiki page)](https://en.wikipedia.org/wiki/Binary_search_algorithm)"
   ]
  },
  {
   "cell_type": "markdown",
   "id": "865715a7",
   "metadata": {},
   "source": [
    "### Η σημασία των ``*args`` και  ``**kwargs``"
   ]
  },
  {
   "cell_type": "markdown",
   "id": "c5ebad6d",
   "metadata": {},
   "source": [
    "Πολλές φορές, όταν αναζητάτε την τεκμηρίωση κάποιας συνάρτησης από κάποια πηγή, θα συναντήσετε τους όρους ``*args`` και ``**kwargs``.\n",
    "\n",
    "Οι δύο αυτές παράμετροι σημαίνουν έναν αυθαίρετα μεγάλο αριθμό παραμέτρων (``*args``) και έναν αυθαίρετα μεγάλο αριθμό keyword-παραμέτρων (``**kwargs``).\n",
    "\n",
    "Παίζουν σημαντικό ρόλο στο ξε-πακετάρισμα παραμέτρων από πλειάδες."
   ]
  },
  {
   "cell_type": "code",
   "execution_count": 22,
   "id": "b96e73b1",
   "metadata": {},
   "outputs": [
    {
     "name": "stdout",
     "output_type": "stream",
     "text": [
      "Help on function plot in module matplotlib.pyplot:\n",
      "\n",
      "plot(*args, scalex=True, scaley=True, data=None, **kwargs)\n",
      "    Plot y versus x as lines and/or markers.\n",
      "    \n",
      "    Call signatures::\n",
      "    \n",
      "        plot([x], y, [fmt], *, data=None, **kwargs)\n",
      "        plot([x], y, [fmt], [x2], y2, [fmt2], ..., **kwargs)\n",
      "    \n",
      "    The coordinates of the points or line nodes are given by *x*, *y*.\n",
      "    \n",
      "    The optional parameter *fmt* is a convenient way for defining basic\n",
      "    formatting like color, marker and linestyle. It's a shortcut string\n",
      "    notation described in the *Notes* section below.\n",
      "    \n",
      "    >>> plot(x, y)        # plot x and y using default line style and color\n",
      "    >>> plot(x, y, 'bo')  # plot x and y using blue circle markers\n",
      "    >>> plot(y)           # plot y using x as index array 0..N-1\n",
      "    >>> plot(y, 'r+')     # ditto, but with red plusses\n",
      "    \n",
      "    You can use `.Line2D` properties as keyword arguments for more\n",
      "    control on the appearance. Line properties and *fmt* can be mixed.\n",
      "    The following two calls yield identical results:\n",
      "    \n",
      "    >>> plot(x, y, 'go--', linewidth=2, markersize=12)\n",
      "    >>> plot(x, y, color='green', marker='o', linestyle='dashed',\n",
      "    ...      linewidth=2, markersize=12)\n",
      "    \n",
      "    When conflicting with *fmt*, keyword arguments take precedence.\n",
      "    \n",
      "    \n",
      "    **Plotting labelled data**\n",
      "    \n",
      "    There's a convenient way for plotting objects with labelled data (i.e.\n",
      "    data that can be accessed by index ``obj['y']``). Instead of giving\n",
      "    the data in *x* and *y*, you can provide the object in the *data*\n",
      "    parameter and just give the labels for *x* and *y*::\n",
      "    \n",
      "    >>> plot('xlabel', 'ylabel', data=obj)\n",
      "    \n",
      "    All indexable objects are supported. This could e.g. be a `dict`, a\n",
      "    `pandas.DataFrame` or a structured numpy array.\n",
      "    \n",
      "    \n",
      "    **Plotting multiple sets of data**\n",
      "    \n",
      "    There are various ways to plot multiple sets of data.\n",
      "    \n",
      "    - The most straight forward way is just to call `plot` multiple times.\n",
      "      Example:\n",
      "    \n",
      "      >>> plot(x1, y1, 'bo')\n",
      "      >>> plot(x2, y2, 'go')\n",
      "    \n",
      "    - If *x* and/or *y* are 2D arrays a separate data set will be drawn\n",
      "      for every column. If both *x* and *y* are 2D, they must have the\n",
      "      same shape. If only one of them is 2D with shape (N, m) the other\n",
      "      must have length N and will be used for every data set m.\n",
      "    \n",
      "      Example:\n",
      "    \n",
      "      >>> x = [1, 2, 3]\n",
      "      >>> y = np.array([[1, 2], [3, 4], [5, 6]])\n",
      "      >>> plot(x, y)\n",
      "    \n",
      "      is equivalent to:\n",
      "    \n",
      "      >>> for col in range(y.shape[1]):\n",
      "      ...     plot(x, y[:, col])\n",
      "    \n",
      "    - The third way is to specify multiple sets of *[x]*, *y*, *[fmt]*\n",
      "      groups::\n",
      "    \n",
      "      >>> plot(x1, y1, 'g^', x2, y2, 'g-')\n",
      "    \n",
      "      In this case, any additional keyword argument applies to all\n",
      "      datasets. Also this syntax cannot be combined with the *data*\n",
      "      parameter.\n",
      "    \n",
      "    By default, each line is assigned a different style specified by a\n",
      "    'style cycle'. The *fmt* and line property parameters are only\n",
      "    necessary if you want explicit deviations from these defaults.\n",
      "    Alternatively, you can also change the style cycle using\n",
      "    :rc:`axes.prop_cycle`.\n",
      "    \n",
      "    \n",
      "    Parameters\n",
      "    ----------\n",
      "    x, y : array-like or scalar\n",
      "        The horizontal / vertical coordinates of the data points.\n",
      "        *x* values are optional and default to ``range(len(y))``.\n",
      "    \n",
      "        Commonly, these parameters are 1D arrays.\n",
      "    \n",
      "        They can also be scalars, or two-dimensional (in that case, the\n",
      "        columns represent separate data sets).\n",
      "    \n",
      "        These arguments cannot be passed as keywords.\n",
      "    \n",
      "    fmt : str, optional\n",
      "        A format string, e.g. 'ro' for red circles. See the *Notes*\n",
      "        section for a full description of the format strings.\n",
      "    \n",
      "        Format strings are just an abbreviation for quickly setting\n",
      "        basic line properties. All of these and more can also be\n",
      "        controlled by keyword arguments.\n",
      "    \n",
      "        This argument cannot be passed as keyword.\n",
      "    \n",
      "    data : indexable object, optional\n",
      "        An object with labelled data. If given, provide the label names to\n",
      "        plot in *x* and *y*.\n",
      "    \n",
      "        .. note::\n",
      "            Technically there's a slight ambiguity in calls where the\n",
      "            second label is a valid *fmt*. ``plot('n', 'o', data=obj)``\n",
      "            could be ``plt(x, y)`` or ``plt(y, fmt)``. In such cases,\n",
      "            the former interpretation is chosen, but a warning is issued.\n",
      "            You may suppress the warning by adding an empty format string\n",
      "            ``plot('n', 'o', '', data=obj)``.\n",
      "    \n",
      "    Returns\n",
      "    -------\n",
      "    list of `.Line2D`\n",
      "        A list of lines representing the plotted data.\n",
      "    \n",
      "    Other Parameters\n",
      "    ----------------\n",
      "    scalex, scaley : bool, default: True\n",
      "        These parameters determine if the view limits are adapted to the\n",
      "        data limits. The values are passed on to `autoscale_view`.\n",
      "    \n",
      "    **kwargs : `.Line2D` properties, optional\n",
      "        *kwargs* are used to specify properties like a line label (for\n",
      "        auto legends), linewidth, antialiasing, marker face color.\n",
      "        Example::\n",
      "    \n",
      "        >>> plot([1, 2, 3], [1, 2, 3], 'go-', label='line 1', linewidth=2)\n",
      "        >>> plot([1, 2, 3], [1, 4, 9], 'rs', label='line 2')\n",
      "    \n",
      "        If you specify multiple lines with one plot call, the kwargs apply\n",
      "        to all those lines. In case the label object is iterable, each\n",
      "        element is used as labels for each set of data.\n",
      "    \n",
      "        Here is a list of available `.Line2D` properties:\n",
      "    \n",
      "        Properties:\n",
      "        agg_filter: a filter function, which takes a (m, n, 3) float array and a dpi value, and returns a (m, n, 3) array\n",
      "        alpha: scalar or None\n",
      "        animated: bool\n",
      "        antialiased or aa: bool\n",
      "        clip_box: `.Bbox`\n",
      "        clip_on: bool\n",
      "        clip_path: Patch or (Path, Transform) or None\n",
      "        color or c: color\n",
      "        dash_capstyle: `.CapStyle` or {'butt', 'projecting', 'round'}\n",
      "        dash_joinstyle: `.JoinStyle` or {'miter', 'round', 'bevel'}\n",
      "        dashes: sequence of floats (on/off ink in points) or (None, None)\n",
      "        data: (2, N) array or two 1D arrays\n",
      "        drawstyle or ds: {'default', 'steps', 'steps-pre', 'steps-mid', 'steps-post'}, default: 'default'\n",
      "        figure: `.Figure`\n",
      "        fillstyle: {'full', 'left', 'right', 'bottom', 'top', 'none'}\n",
      "        gid: str\n",
      "        in_layout: bool\n",
      "        label: object\n",
      "        linestyle or ls: {'-', '--', '-.', ':', '', (offset, on-off-seq), ...}\n",
      "        linewidth or lw: float\n",
      "        marker: marker style string, `~.path.Path` or `~.markers.MarkerStyle`\n",
      "        markeredgecolor or mec: color\n",
      "        markeredgewidth or mew: float\n",
      "        markerfacecolor or mfc: color\n",
      "        markerfacecoloralt or mfcalt: color\n",
      "        markersize or ms: float\n",
      "        markevery: None or int or (int, int) or slice or list[int] or float or (float, float) or list[bool]\n",
      "        path_effects: `.AbstractPathEffect`\n",
      "        picker: float or callable[[Artist, Event], tuple[bool, dict]]\n",
      "        pickradius: float\n",
      "        rasterized: bool\n",
      "        sketch_params: (scale: float, length: float, randomness: float)\n",
      "        snap: bool or None\n",
      "        solid_capstyle: `.CapStyle` or {'butt', 'projecting', 'round'}\n",
      "        solid_joinstyle: `.JoinStyle` or {'miter', 'round', 'bevel'}\n",
      "        transform: unknown\n",
      "        url: str\n",
      "        visible: bool\n",
      "        xdata: 1D array\n",
      "        ydata: 1D array\n",
      "        zorder: float\n",
      "    \n",
      "    See Also\n",
      "    --------\n",
      "    scatter : XY scatter plot with markers of varying size and/or color (\n",
      "        sometimes also called bubble chart).\n",
      "    \n",
      "    Notes\n",
      "    -----\n",
      "    **Format Strings**\n",
      "    \n",
      "    A format string consists of a part for color, marker and line::\n",
      "    \n",
      "        fmt = '[marker][line][color]'\n",
      "    \n",
      "    Each of them is optional. If not provided, the value from the style\n",
      "    cycle is used. Exception: If ``line`` is given, but no ``marker``,\n",
      "    the data will be a line without markers.\n",
      "    \n",
      "    Other combinations such as ``[color][marker][line]`` are also\n",
      "    supported, but note that their parsing may be ambiguous.\n",
      "    \n",
      "    **Markers**\n",
      "    \n",
      "    =============   ===============================\n",
      "    character       description\n",
      "    =============   ===============================\n",
      "    ``'.'``         point marker\n",
      "    ``','``         pixel marker\n",
      "    ``'o'``         circle marker\n",
      "    ``'v'``         triangle_down marker\n",
      "    ``'^'``         triangle_up marker\n",
      "    ``'<'``         triangle_left marker\n",
      "    ``'>'``         triangle_right marker\n",
      "    ``'1'``         tri_down marker\n",
      "    ``'2'``         tri_up marker\n",
      "    ``'3'``         tri_left marker\n",
      "    ``'4'``         tri_right marker\n",
      "    ``'8'``         octagon marker\n",
      "    ``'s'``         square marker\n",
      "    ``'p'``         pentagon marker\n",
      "    ``'P'``         plus (filled) marker\n",
      "    ``'*'``         star marker\n",
      "    ``'h'``         hexagon1 marker\n",
      "    ``'H'``         hexagon2 marker\n",
      "    ``'+'``         plus marker\n",
      "    ``'x'``         x marker\n",
      "    ``'X'``         x (filled) marker\n",
      "    ``'D'``         diamond marker\n",
      "    ``'d'``         thin_diamond marker\n",
      "    ``'|'``         vline marker\n",
      "    ``'_'``         hline marker\n",
      "    =============   ===============================\n",
      "    \n",
      "    **Line Styles**\n",
      "    \n",
      "    =============    ===============================\n",
      "    character        description\n",
      "    =============    ===============================\n",
      "    ``'-'``          solid line style\n",
      "    ``'--'``         dashed line style\n",
      "    ``'-.'``         dash-dot line style\n",
      "    ``':'``          dotted line style\n",
      "    =============    ===============================\n",
      "    \n",
      "    Example format strings::\n",
      "    \n",
      "        'b'    # blue markers with default shape\n",
      "        'or'   # red circles\n",
      "        '-g'   # green solid line\n",
      "        '--'   # dashed line with default color\n",
      "        '^k:'  # black triangle_up markers connected by a dotted line\n",
      "    \n",
      "    **Colors**\n",
      "    \n",
      "    The supported color abbreviations are the single letter codes\n",
      "    \n",
      "    =============    ===============================\n",
      "    character        color\n",
      "    =============    ===============================\n",
      "    ``'b'``          blue\n",
      "    ``'g'``          green\n",
      "    ``'r'``          red\n",
      "    ``'c'``          cyan\n",
      "    ``'m'``          magenta\n",
      "    ``'y'``          yellow\n",
      "    ``'k'``          black\n",
      "    ``'w'``          white\n",
      "    =============    ===============================\n",
      "    \n",
      "    and the ``'CN'`` colors that index into the default property cycle.\n",
      "    \n",
      "    If the color is the only part of the format string, you can\n",
      "    additionally use any  `matplotlib.colors` spec, e.g. full names\n",
      "    (``'green'``) or hex strings (``'#008000'``).\n",
      "\n"
     ]
    }
   ],
   "source": [
    "import matplotlib.pyplot as plt\n",
    "help(plt.plot)"
   ]
  },
  {
   "cell_type": "code",
   "execution_count": 23,
   "id": "03880c3e",
   "metadata": {},
   "outputs": [
    {
     "name": "stdout",
     "output_type": "stream",
     "text": [
      "(1.0, 'Python')\n",
      "{'mu': 1.0, 'name': 'Jane'}\n",
      "(1,)\n",
      "{'profession': 'physicist'}\n"
     ]
    }
   ],
   "source": [
    "def dummy(*args, **kwargs):\n",
    "    # The arguments are given to the function as\n",
    "    # tuples and dictionaries (container types)\n",
    "    print(args)\n",
    "    print(kwargs)\n",
    "    \n",
    "    return None\n",
    "\n",
    "# Note *args return a tuple containing all positional arguments\n",
    "# Note **kwargs return a dictionary containing all keyword-parameter--value pairs\n",
    "dummy(1.0, \"Python\", mu=1.0, name=\"Jane\")\n",
    "dummy(1, profession=\"physicist\")"
   ]
  },
  {
   "cell_type": "markdown",
   "id": "6e5e375d",
   "metadata": {},
   "source": [
    "Μπορούμε να ξε-πακετάρουμε λίστες ή πλειάδες σε πολλαπλές παραμέτρους."
   ]
  },
  {
   "cell_type": "code",
   "execution_count": 24,
   "id": "35ac527c",
   "metadata": {},
   "outputs": [
    {
     "name": "stdout",
     "output_type": "stream",
     "text": [
      "1 2\n",
      "3\n"
     ]
    }
   ],
   "source": [
    "# normal 'unpacking'\n",
    "tupled_args = (1, 2)\n",
    "x, y = tupled_args\n",
    "\n",
    "def my_add(x, y):\n",
    "    return x + y\n",
    "\n",
    "print(x, y)\n",
    "\n",
    "# unpacking a list into function arguments happens\n",
    "# with an asterisk:\n",
    "print(my_add(*tupled_args))"
   ]
  },
  {
   "cell_type": "code",
   "execution_count": 25,
   "id": "307d72f0",
   "metadata": {},
   "outputs": [
    {
     "name": "stdout",
     "output_type": "stream",
     "text": [
      "5\n"
     ]
    }
   ],
   "source": [
    "def line(x, a, b):\n",
    "    return a * x + b\n",
    "\n",
    "# often functions return multiple arguments (or tuples)\n",
    "# as result. These tuples can diretly been given to\n",
    "# functions as arguments\n",
    "\n",
    "result = (2, 3)  # fictive result of a line-slope and a line intercept\n",
    "\n",
    "print(line(1, *result)) # the same as print(line(1, 2, 3))"
   ]
  },
  {
   "cell_type": "markdown",
   "id": "ef464b65",
   "metadata": {},
   "source": [
    "<div class=\"alert alert-block alert-warning\" style=\"margin-top: 20px\">\n",
    "    <b>Παράδειγμα 5.4</b>\n",
    "\n",
    "Γράψτε μία συνάρτηση που δέχεται πραγματικούς αριθμούς και επιστρέφει τον μέσο όρο τους. Η συνάρτηση θα πρέπει να δουλεύει με έναν αυθαίρετα μεγάλο αριθμό παραμέτρων."
   ]
  },
  {
   "cell_type": "code",
   "execution_count": 26,
   "id": "8100e25f",
   "metadata": {},
   "outputs": [],
   "source": [
    "# You can try it here\n",
    "# If you are struggling you can click on details below for the solution"
   ]
  },
  {
   "cell_type": "markdown",
   "id": "fc2867d4",
   "metadata": {},
   "source": [
    "<div class=\"alert alert-danger alertdanger\" style=\"margin-top: 20px\">\n",
    "<details>\n",
    "<br>\n",
    "<b>Λύση</b>\n",
    "    \n",
    "```python \n",
    "# Average value of numbers\n",
    "def average(*args):\n",
    "    avg = sum(args) / len(args)\n",
    "    return avg\n",
    "\n",
    "# Testing\n",
    "print(average(4)) # one parameter\n",
    "print(average(2, 3)) # two parameters\n",
    "print(average(12, 24, 32, 63)) # four parameters\n",
    "print(average(3, 5, 2, 9, 4, 1)) # six parameters\n",
    "```\n",
    "    \n",
    "</details>"
   ]
  },
  {
   "cell_type": "markdown",
   "id": "c49440ee",
   "metadata": {},
   "source": [
    "## 5.3 Ανώνυμες συναρτήσεις ($\\lambda$-functions)"
   ]
  },
  {
   "cell_type": "markdown",
   "id": "52a1307d",
   "metadata": {},
   "source": [
    "Η Python υποστηρίζει τη χρήση ανώνυμων συναρτήσεων (aka λ-συναρτήσεων). Αυτές είναι **σύντομες** συναρτήσεις που δέχονται έναν αυθαίρετα μεγάλο αριθμό παραμέτρων και εκτελούν μόνο **μία** λειτουργία και επιστρέφοντας το αποτέλεσμα. \n",
    "\n",
    "Οι ανώνυμες συναρτήσεις χρησιμοποιούνται, πολλές φορές, για να περαστούν ως όρισμα σε κάποια άλλη συνάρτηση.\n",
    "\n",
    "Αντί της λέξης-κλειδί ``def`` χρησιμοποιείται η λέξη-κλειδί ``lambda``. Στις ανώνυμες συναρτήσεις, το όνομα της συνάρτησης και οι παρενθέσεις από τα ορίσματα παραλείπονται ενώ επιστρέφει τη ζητούμενη τιμή χωρίς κάποια δήλωση επιστροφής ``return``.\n",
    "\n",
    "Το βασικό συντακτικό μιας ανώνυμης συνάρτησης είναι το ακόλουθο:\n",
    "\n",
    "```python\n",
    "lambda arg1, arg2, ... : expression\n",
    "```"
   ]
  },
  {
   "cell_type": "code",
   "execution_count": 27,
   "id": "d4708f76",
   "metadata": {},
   "outputs": [
    {
     "name": "stdout",
     "output_type": "stream",
     "text": [
      "25 25\n",
      "12\n"
     ]
    }
   ],
   "source": [
    "# define functions f and g with lambda expressions:\n",
    "f = lambda x: x**2  # quadratic function\n",
    "g = lambda x, a, b: a * x + b\n",
    "\n",
    "# f_func is completely equivalent to f above:\n",
    "def f_func(x):\n",
    "    return x**2\n",
    "\n",
    "print(f(5), f_func(5))\n",
    "print(g(10, 1, 2))"
   ]
  },
  {
   "cell_type": "markdown",
   "id": "8ae074c7",
   "metadata": {},
   "source": [
    "Οι ανώνυμες συναρτήσεις είναι εξαιρετικά χρήσιμες όταν θέλουμε να περάσουμε μία συνάρτηση ως όρισμα σε κάποια άλλη συνάρτηση.\n",
    "\n",
    "Το επόμενο παράδειγμα δείχνει την κατασκευή μίας συνάρτησης ``plotter()`` που κατασκευάζει την γραφική παράσταση μίας συνάρτησης. Η συνάρτηση για την οποία ενδιαφερόμαστε να φτιάξουμε την γραφική της παράσταση δίνεται ως όρισμα στην ``plotter()``."
   ]
  },
  {
   "cell_type": "code",
   "execution_count": 28,
   "id": "a3abd66c",
   "metadata": {},
   "outputs": [],
   "source": [
    "# This is a module that allows us to create plots\n",
    "import matplotlib.pyplot as plt\n",
    "\n",
    "def plotter(fn):\n",
    "    \n",
    "    # Create data ranges for the x and y axes\n",
    "    x = [i for i in range(1,100)]\n",
    "    y = [fn(j) for j in range(1,100)]\n",
    "    \n",
    "    # Create a scatter plot and display it\n",
    "    plt.scatter(x,y)\n",
    "    plt.show()\n",
    "    \n",
    "    return None"
   ]
  },
  {
   "cell_type": "markdown",
   "id": "da63a369",
   "metadata": {},
   "source": [
    "Θα μπορούσαμε να δημιουργήσουμε τις συναρτήσεις για τις οποίες θέλουμε να πάρουμε την γραφική παράσταση με τον \"παραδοσιακό\" τροπο και να τις περάσουμε ως ορίσματα στην ``plotter()`` ως εξής:"
   ]
  },
  {
   "cell_type": "code",
   "execution_count": 29,
   "id": "7678ad8b",
   "metadata": {},
   "outputs": [],
   "source": [
    "import numpy as np\n",
    "\n",
    "\n",
    "def linear(x):\n",
    "    return x\n",
    "\n",
    "def quadratic(x):\n",
    "    return x**2\n",
    "\n",
    "def exponential(x):\n",
    "    return np.exp(x)"
   ]
  },
  {
   "cell_type": "code",
   "execution_count": 30,
   "id": "ead783a8",
   "metadata": {},
   "outputs": [
    {
     "data": {
      "image/png": "[encoded data removed]",
      "text/plain": [
       "<Figure size 640x480 with 1 Axes>"
      ]
     },
     "metadata": {},
     "output_type": "display_data"
    }
   ],
   "source": [
    "plotter(linear)"
   ]
  },
  {
   "cell_type": "code",
   "execution_count": 31,
   "id": "dd3ec5c0",
   "metadata": {},
   "outputs": [
    {
     "data": {
      "image/png": "[encoded data removed]",
      "text/plain": [
       "<Figure size 640x480 with 1 Axes>"
      ]
     },
     "metadata": {},
     "output_type": "display_data"
    }
   ],
   "source": [
    "plotter(quadratic)"
   ]
  },
  {
   "cell_type": "code",
   "execution_count": 32,
   "id": "c3cd924a",
   "metadata": {},
   "outputs": [
    {
     "data": {
      "image/png": "[encoded data removed]",
      "text/plain": [
       "<Figure size 640x480 with 1 Axes>"
      ]
     },
     "metadata": {},
     "output_type": "display_data"
    }
   ],
   "source": [
    "plotter(exponential)"
   ]
  },
  {
   "cell_type": "markdown",
   "id": "adc10f03",
   "metadata": {},
   "source": [
    "Ενώ αυτός ο τρόπος λειτουργεί όπως περιμέναμε, θα μπορούσαμε αντ' αυτού να δώσουμε ως όρισμα στην ``plotter()`` κάποια ανώνυμη συνάρτηση και να αποφύγουμε με αυτόν τον τρόπο να σκεφτούμε κάποιο περιγραφικό όνομα για κάθε μία από τις συναρτήσεις που θέλουμε να πάρουμε την γραφική της παράσταση."
   ]
  },
  {
   "cell_type": "code",
   "execution_count": 33,
   "id": "8980a3c8",
   "metadata": {},
   "outputs": [
    {
     "data": {
      "image/png": "[encoded data removed]",
      "text/plain": [
       "<Figure size 640x480 with 1 Axes>"
      ]
     },
     "metadata": {},
     "output_type": "display_data"
    }
   ],
   "source": [
    "plotter(fn=lambda x: x)"
   ]
  },
  {
   "cell_type": "code",
   "execution_count": 34,
   "id": "1bf22a90",
   "metadata": {},
   "outputs": [
    {
     "data": {
      "image/png": "[encoded data removed]",
      "text/plain": [
       "<Figure size 640x480 with 1 Axes>"
      ]
     },
     "metadata": {},
     "output_type": "display_data"
    }
   ],
   "source": [
    "plotter(lambda x: x**2)"
   ]
  },
  {
   "cell_type": "code",
   "execution_count": 35,
   "id": "cb4cd414",
   "metadata": {},
   "outputs": [
    {
     "data": {
      "image/png": "[encoded data removed]",
      "text/plain": [
       "<Figure size 640x480 with 1 Axes>"
      ]
     },
     "metadata": {},
     "output_type": "display_data"
    }
   ],
   "source": [
    "plotter(lambda x: np.exp(x))"
   ]
  },
  {
   "cell_type": "code",
   "execution_count": 36,
   "id": "6abb95a8",
   "metadata": {},
   "outputs": [
    {
     "data": {
      "image/png": "[encoded data removed]",
      "text/plain": [
       "<Figure size 640x480 with 1 Axes>"
      ]
     },
     "metadata": {},
     "output_type": "display_data"
    }
   ],
   "source": [
    "plotter(lambda x: np.log10(x))"
   ]
  }
 ],
 "metadata": {
  "kernelspec": {
   "display_name": "Python 3 (ipykernel)",
   "language": "python",
   "name": "python3"
  },
  "language_info": {
   "codemirror_mode": {
    "name": "ipython",
    "version": 3
   },
   "file_extension": ".py",
   "mimetype": "text/x-python",
   "name": "python",
   "nbconvert_exporter": "python",
   "pygments_lexer": "ipython3",
   "version": "3.9.13"
  }
 },
 "nbformat": 4,
 "nbformat_minor": 5
}
