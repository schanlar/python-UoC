{
 "cells": [
  {
   "cell_type": "markdown",
   "id": "a2b119cb",
   "metadata": {},
   "source": [
    "# 3. Έλεγχος ροής προγράμματος"
   ]
  },
  {
   "cell_type": "markdown",
   "id": "0aa53883",
   "metadata": {},
   "source": [
    "**Note**: This notebook is heavily influenced by the lectures of Dr. Thomas Erben @ University of Bonn"
   ]
  },
  {
   "cell_type": "markdown",
   "id": "a7679d3a",
   "metadata": {},
   "source": [
    "<div class=\"alert alert-block alert-info\" style=\"margin-top: 20px\">\n",
    "    \n",
    "<b>Περιεχόμενα</b>\n",
    "    \n",
    "3.1 Η δομή απόφασης ``if``\n",
    "    \n",
    "3.2 Η δομή επανάληψης ``for-else``\n",
    "    \n",
    "3.3 Η δομή επανάληψης ``while``\n",
    "    \n",
    "</div>"
   ]
  },
  {
   "cell_type": "markdown",
   "id": "625a8350",
   "metadata": {},
   "source": [
    "Μια σειριακή δομή ακολουθίας όπου ένα σύνολο εντολών εκτελούνται η μία μετά την άλλη, επιτρέπει την επίλυση μόνο πολύ απλών προβλημάτων.\n",
    "\n",
    "Για πιο σύνθετα προβλήματα απαιτείται η συγγραφή κώδικα όπου εκτελούνται διαφορετικά σύνολα εντολών ανάλογα με τις δεδομένες συνθήκες που έχουμε καθορίσει. Γενικά, θα θέλαμε να έχουμε έλεγχο τόσο για το ποιές εντολές θα εκτελούνται κάθε φορά όσο και για το πόσες φορές θα πρέπει να επαναληφθεί ένα κομμάτι κώδικα.\n",
    "\n",
    "Αυτό το επιτυγχάνουμε με τις δομές αποφάσεων και επανάληψης αντίστοιχα."
   ]
  },
  {
   "cell_type": "markdown",
   "id": "25567f45",
   "metadata": {},
   "source": [
    "## 3.1 Η δομή απόφασης if"
   ]
  },
  {
   "cell_type": "markdown",
   "id": "5e50a1d8",
   "metadata": {},
   "source": [
    "- Η δομή απόφασης if, χρησιμοποιείται όταν θέλουμε να επιλέξουμε τι εντολές να εκτελεστούν. Η επιλογή γίνεται βάσει κάποιας έκφρασης (συνθήκη) η οποία θα πρέπει να παίρνει τιμές ``True`` ή ``False``.\n",
    "\n",
    "\n",
    "- Για να κατασκευάσουμε μία τέτοια συνθήκη χρησιμοποιούμε:\n",
    "    >\n",
    "    > **Τελεστές σύγκρισης**: ``==``, ``!=``, ``>``, ``<``, ``>=``, ``<=``.\n",
    "    >\n",
    "    >\n",
    "    > **Λογικοί τελεστές**: ``and``, ``or``, ``not``.\n",
    "    >\n",
    "    >\n",
    "    > **Τελεστές \"ανήκει\" σε κάποια δομή**: ``in``, ``not in``\n",
    "\n",
    "\n",
    "    Το βασικό συντακτικό μίας δομής απόφασης είναι το ακόλουθο:\n",
    "```python\n",
    "if condition1:\n",
    "    # execute some commands\n",
    "elif condition2:\n",
    "    # execute some commands\n",
    "elif condition3:\n",
    "    # execute some commands\n",
    "else:\n",
    "    # execute some commands\n",
    "```\n",
    "\n",
    "- Προσέξτε τον τελεστή ``:`` στο τέλος της λογικής συνθήκης!\n",
    "\n",
    "\n",
    "- Η Python δεν έχει κάποιον ειδικό χαρακτήρα που να δηλώνει την αρχή και το τέλος κάποιας δομής. Τα μπλοκ της δομής φαίνονται από την εσοχή και το πόσο εμφωλευμένες είναι! **Αυτό ισχύει για όλες τις δομές ελέγχου στην Python!** Όλες οι γραμμές εντολών που ανήκουν σε κάποιο μπλοκ πρέπει πάντα να έχουν **τον ίδιο βαθμό εμφώλευσης**. Συνήθως 1 tab = 4 spaces.\n",
    "\n",
    "\n",
    "- Μόνο ένα μπλοκ εντολών θα εκτελεστεί σε μία τέτοια δομή επιλογής.\n",
    "\n",
    "\n",
    "- Το πρόγραμμα θα ελέγξει τη συνθήκη 1 και αν είναι αληθής θα εκτελέσει το μπλοκ των εντολών που περιέχονται. Στη συνέχεια θα προσπεράσει **χωρίς να εξετάσει** τις υπόλοιπες συνθήκες.\n",
    "\n",
    "\n",
    "- Εάν η συνθήκη 1 είναι ψευδής, δεν θα εκτελέσει το μπλοκ των εντολών που αντιστοιχούν σε αυτή τη συνθήκη και θα συνεχίσει εξετάζοντας τη συνθήκη 2. Εάν η συνθήκη 2 είναι αληθής, θα εκτελέσει το αντίστοιχο μπλοκ εντολών και θα προσπεράσει τις υπόλοιπες συνθήκες χωρίς να τις εξετάσει. Στη περίπτωση που η συνθήκη 2 είναι ψευδής, θα προσπεράσει το μπλοκ εντολών και θα εξετάσει τη συνθήκη 3 κτλ.\n",
    "\n",
    "\n",
    "- Εάν παραπάνω από μία συνθήκες είναι αληθείς, τότε θα εκτελεστεί **μόνο** το μπλοκ εντολών που αντιστοιχούν στη **πρώτη** αληθή συνθήκη που συνάντησε ο κώδικας. Όλες οι υπόλοιπες θα προσπεραστούν χωρίς να εξεταστούν εφόσον ολοκληρώθηκε το μπλοκ εντολών που αντιστοιχεί στην αληθή συνθήκη.\n",
    "\n",
    "\n",
    "- Εάν καμία από τις συνθήκες δεν είναι αληθής, τότε θα εκτελεστεί μόνο το μπλοκ εντολών της συνθήκης ``else``. Αυτό δεν είναι απαραίτητο στοιχείο της δομής. Θα μπορούσαμε να έχουμε έναν απλό έλεγχο μιας συνθήκης χωρίς να συμπεριλάβουμε απαραίτητα την περίπτωση ``else``."
   ]
  },
  {
   "cell_type": "code",
   "execution_count": 1,
   "id": "b09765dd",
   "metadata": {},
   "outputs": [
    {
     "name": "stdout",
     "output_type": "stream",
     "text": [
      "x is between 10 and 20!\n",
      "x is odd!\n"
     ]
    }
   ],
   "source": [
    "x = 15\n",
    "\n",
    "# The else statement is optional\n",
    "if (x > 10) and (x < 20):\n",
    "    print(\"x is between 10 and 20!\")\n",
    "    \n",
    "    \n",
    "# Check if number is odd    \n",
    "if (x % 2 == 0):\n",
    "    print(\"x is even!\")\n",
    "else:\n",
    "    print(\"x is odd!\")"
   ]
  },
  {
   "cell_type": "markdown",
   "id": "1bf39299",
   "metadata": {},
   "source": [
    "<div class=\"alert alert-block alert-warning\" style=\"margin-top: 20px\">\n",
    "    <b>Παράδειγμα 3.1</b>\n",
    "\n",
    "Να γράψετε κώδικα που βρίσκει τις λύσεις της δευτεροβάθμιας\tεξίσωσης. Ο χρήστης δίνει 3 αριθμούς a, b, c που είναι οι παράμετροι της γνωστής μας δευτεροβάθμιας εξίσωσης:\n",
    "\n",
    "> $ax^2 + bx + c = 0$\n",
    "                                    \n",
    "Το πρόγραμμα θα πρέπει να τυπώνει τις λύσεις ή κατάλληλο μήνυμα αν η εξίσωση δεν είναι επιλύσιμη.\n",
    "\n",
    ">**Hint**: Χρησιμοποιήστε την built-in συνάρτηση ``input()`` για να πάρετε τιμές από τον χρήστη. Προσοχή στη τεκμηρίωση της συνάρτησης! Επίσης, μπορείτε να χρησιμοποιήσετε τη συνάρτηση ``numpy.sqrt()`` για υπολογισμό τετραγωνικής ρίζας."
   ]
  },
  {
   "cell_type": "code",
   "execution_count": 2,
   "id": "ace7f9ba",
   "metadata": {},
   "outputs": [],
   "source": [
    "# You can try it here\n",
    "# If you are struggling you can click on details below for the solution"
   ]
  },
  {
   "cell_type": "markdown",
   "id": "7eba8fd3",
   "metadata": {},
   "source": [
    "<div class=\"alert alert-danger alertdanger\" style=\"margin-top: 20px\">\n",
    "<details>\n",
    "<br>    \n",
    "<b>Λύση </b>\n",
    "    \n",
    "```python \n",
    "# Solving the quadratic equation\n",
    "import numpy as np\n",
    "\n",
    "# In user we trust... -> Don't need to check the validity of input\n",
    "# The input function returns a string representation of whatever the user provided\n",
    "# We need to convert the string to an integer\n",
    "a = int(input('Give first number: '))\n",
    "b = int(input('Give second number: '))\n",
    "c = int(input('Give third number: '))\n",
    "\n",
    "\n",
    "# Calculate the discriminant\n",
    "d = b**2 - (4*a*c)\n",
    "\n",
    "# Check the value of discriminant\n",
    "if d < 0:\n",
    "    print('The equation has no real roots!')\n",
    "elif d == 0 :\n",
    "    print('The equation has one real root:', -b/(2*a))   \n",
    "else:\n",
    "    # Calculate the roots\n",
    "    s1 = (-b + np.sqrt(d)) / (2*a)\n",
    "    s2 = (-b - np.sqrt(d)) / (2*a)\n",
    "    \n",
    "    print('The equation has two distinct real roots:', s1, s2)\n",
    "```\n"
   ]
  },
  {
   "cell_type": "markdown",
   "id": "78cf6498",
   "metadata": {},
   "source": [
    "## 3.2 Η δομή επανάληψης for-else"
   ]
  },
  {
   "cell_type": "markdown",
   "id": "ad10fdab",
   "metadata": {},
   "source": [
    "- Η δομή επανάληψης for, χρησιμοποιείται όταν θέλουμε να εκτελέσουμε επαναληπτικά (πολλές φορές) ένα σύνολο εντολών για προκαθορισμένο αριθμό επαναλήψεων.\n",
    "\n",
    "    Το βασικό συντακτικό μιας δομής επανάληψης for είναι το ακόλουθο:\n",
    "    \n",
    "    ```python\n",
    "    for item in some_iterable_object:\n",
    "        # execute some commands\n",
    "    ```\n",
    "    \n",
    "- Η ακολουθία ``some_iterable_object`` συνήθως είναι κάποια λίστα, πλειάδα, λεξικό, σύνολο ή συμβολοσειρά. Μπορεί όμως να είναι γενικά κάποια δομή που να υποστηρίζει επαναληψιμότητα.\n",
    "\n",
    "\n",
    "- Προσοχή στο τύπο της μεταβλητής ``item``! Ανάλογα με το αντικείμενο στο οποίο εφαρμόζουμε το βρόγχο επανάληψης, μπορεί να είναι αριθμητικό, αλφαριθμητικό κτλ.\n",
    "\n",
    "\n",
    "- Η συνάρτηση ``range`` χρησιμοποιείται εξαιρετικά συχνά για να δημιουργήσουμε ένα εύρος τιμών στο οποίο θέλουμε να εφαρμόσουμε το συγκεκριμένο βρόγχο επανάληψης. Δείτε τη τεκμηρίωσή της!\n",
    "\n",
    "\n",
    "- Προσπαθείστε να αποφεύγετε (όσο γίνεται) τη χρήση εμφωλευμένων βρόγχων επανάληψης for. Ανάλογα με τον όγκο των δεδομένων σας μπορεί να κάνει το πρόγραμμά σας απροσπέλαστο."
   ]
  },
  {
   "cell_type": "code",
   "execution_count": 3,
   "id": "41aa5949",
   "metadata": {},
   "outputs": [
    {
     "name": "stdout",
     "output_type": "stream",
     "text": [
      "1 2 3 4 5 6 7 8 9 \n",
      "The loop has finished\n",
      "P y t h o n "
     ]
    }
   ],
   "source": [
    "# the variable item in this case is numeric\n",
    "for item in range(1, 10):\n",
    "    print(item, end=' ')\n",
    "\n",
    "print()\n",
    "print(\"The loop has finished\")\n",
    "\n",
    "# the variable item in this case is alphanumeric\n",
    "for item in 'Python':\n",
    "    print(item, end=' ')"
   ]
  },
  {
   "cell_type": "markdown",
   "id": "f2cc6423",
   "metadata": {},
   "source": [
    "### Η εντολή break"
   ]
  },
  {
   "cell_type": "markdown",
   "id": "fd8fbed5",
   "metadata": {},
   "source": [
    "- Η εντολή ``break`` χρησιμοποιείται όταν θέλουμε να βγούμε από ένα βρόγχο επανάληψης όταν δεν θέλουμε να συνεχίσει η επανάληψη.\n",
    "\n",
    "\n",
    "- Μόλις εκτελεστεί η εντολή ``break`` τότε καμία άλλη εντολή που ακολουθεί δεν θα εκτελεστεί. \n",
    "\n",
    "\n",
    "- Η χρήση της δεν περιορίζεται μόνο στη περίπτωση του βρόγχου επανάληψης for."
   ]
  },
  {
   "cell_type": "code",
   "execution_count": 4,
   "id": "a9e5f3d6",
   "metadata": {},
   "outputs": [
    {
     "name": "stdout",
     "output_type": "stream",
     "text": [
      "1\n",
      "2\n",
      "3\n",
      "4\n",
      "5\n",
      "6\n",
      "7\n",
      "8\n",
      "9\n",
      "10\n",
      "Bye!\n",
      "The loop has finished\n"
     ]
    }
   ],
   "source": [
    "# Exit the loop if number is above 10\n",
    "for number in range(1, 10000):\n",
    "    if number <= 10:\n",
    "        print(number)\n",
    "    else:\n",
    "        print('Bye!')\n",
    "        break\n",
    "        print('This statement will not be executed')\n",
    "        \n",
    "print(\"The loop has finished\")"
   ]
  },
  {
   "cell_type": "markdown",
   "id": "c62e21e7",
   "metadata": {},
   "source": [
    "### Η εντολή continue"
   ]
  },
  {
   "cell_type": "markdown",
   "id": "24c406dc",
   "metadata": {},
   "source": [
    "- Η εντολή ``continue`` χρησιμοποιείται όταν θέλουμε να συνεχίσουμε μεταπηδώντας στον επόμενο κύκλο επανάληψης χωρίς να ολοκληρωθεί ο προηγούμενος.\n",
    "\n",
    "\n",
    "- Μόλις εκτελεστεί η εντολή ``continue`` τότε καμία άλλη εντολή που ακολουθεί δεν θα εκτελεστεί. \n",
    "\n",
    "\n",
    "- Η χρήση της δεν περιορίζεται μόνο στη περίπτωση του βρόγχου επανάληψης for."
   ]
  },
  {
   "cell_type": "code",
   "execution_count": 5,
   "id": "74bf067b",
   "metadata": {},
   "outputs": [
    {
     "name": "stdout",
     "output_type": "stream",
     "text": [
      "1\n",
      "2\n",
      "3\n",
      "4\n",
      "6\n",
      "7\n",
      "8\n",
      "9\n",
      "10\n",
      "Bye!\n",
      "The loop has finished\n"
     ]
    }
   ],
   "source": [
    "# Exit the loop if number is above 10\n",
    "# Continue with next iteration if number is 5\n",
    "for number in range(1, 10000):\n",
    "    \n",
    "    if number <= 10 and number != 5:\n",
    "        print(number)\n",
    "        \n",
    "    elif number == 5:\n",
    "        continue\n",
    "        print('This print call will not be executed')\n",
    "        \n",
    "    else:\n",
    "        print('Bye!')\n",
    "        break\n",
    "        print('This print call will not be executed')\n",
    "        \n",
    "print(\"The loop has finished\")"
   ]
  },
  {
   "cell_type": "markdown",
   "id": "6235510e",
   "metadata": {},
   "source": [
    "<div class=\"alert alert-block alert-warning\" style=\"margin-top: 20px\">\n",
    "    <b>Παράδειγμα 3.2</b>\n",
    "\n",
    "Γράψτε κώδικα για να υπολογίσετε το άθροισμα $\\sum_{i=1}^{10}i^3$, χρησιμοποιώντας βρόγχο επανάληψης for, και εκτυπώστε το αποτέλεσμα."
   ]
  },
  {
   "cell_type": "code",
   "execution_count": 6,
   "id": "5095ca53",
   "metadata": {},
   "outputs": [],
   "source": [
    "# You can try it here\n",
    "# If you are struggling you can click on details below for the solution"
   ]
  },
  {
   "cell_type": "markdown",
   "id": "1971642c",
   "metadata": {},
   "source": [
    "<div class=\"alert alert-danger alertdanger\" style=\"margin-top: 20px\">\n",
    "<details>\n",
    "<br>    \n",
    "<b>Λύση </b>\n",
    "    \n",
    "```python \n",
    "# Calculate sum of numbers with for-loop\n",
    "my_sum = 0\n",
    "for i in range(1, 11):\n",
    "    my_sum = my_sum + (i**3)\n",
    "    \n",
    "print(my_sum)\n",
    "```\n",
    "    \n",
    "</details>"
   ]
  },
  {
   "cell_type": "markdown",
   "id": "babff0bf",
   "metadata": {},
   "source": [
    "Ένα από τα λιγότερο γνωστά χαρακτηριστικά του βρόγχου-επανάληψης-for είναι ότι **υποστηρίζει την χρήση της ρήτρας else στο τέλος του**.\n",
    "\n",
    "Η ρήτρα else εκτελείται αφού ο βρόγχος επανάληψης ολοκληρωθεί κανονικά (δηλαδή χωρίς να συναντήσει κάποια εντολή διακοπής break).\n",
    "\n",
    "Ίσως η πιο κοινή χρήση ενός βρόγχου-επανάληψης-for είναι η αναζήτηση ενός στοιχείου. Εάν βρεθεί το στοιχείο, βγαίνουμε από τον βρόγχο χρησιμοποιώντας την εντολή break. Υπάρχουν δύο σενάρια στα οποία μπορεί να τερματίσει ο βρόγχος: το πρώτο είναι όταν βρεθεί το στοιχείο και άρα βγαίνουμε πρόωρα από τον βρόγχο λόγω της εντολής διακοπής break. Το δεύτερο σενάριο είναι ότι ο βρόγχος τερματίζει χωρίς να συναντήσει την εντολή διακοπής.\n",
    "\n",
    "Μπορεί, όμως, να θέλουμε να μάθουμε ποιό από αυτά τα δύο σενάριο είναι ο λόγος για την ολοκλήρωση του βρόγχου. Μια μέθοδος είναι να ορίσουμε μια \"σημαία\" (flag variable) και στη συνέχεια να την ελέγξουμε μόλις τερματίσει ο βρόγχος. Μία εναλλακτική είναι να χρησιμοποιήσουμε τη ρήτρα else όπως στο παρακάτω παράδειγμα."
   ]
  },
  {
   "cell_type": "code",
   "execution_count": 7,
   "id": "e5623c11",
   "metadata": {},
   "outputs": [
    {
     "name": "stdout",
     "output_type": "stream",
     "text": [
      "Variable: 10\n"
     ]
    }
   ],
   "source": [
    "import random\n",
    "\n",
    "var = 0\n",
    "for i in range(random.randint(5,15)):\n",
    "\n",
    "    var = var + 1\n",
    "\n",
    "    if var == 10:\n",
    "        print(f\"Variable: {var}\")\n",
    "        break\n",
    "\n",
    "else:\n",
    "    print(\"Variable never reached 10!\")\n",
    "    # print(i)"
   ]
  },
  {
   "cell_type": "markdown",
   "id": "acf8228b",
   "metadata": {},
   "source": [
    "## 3.3 Η δομή επανάληψης while"
   ]
  },
  {
   "cell_type": "markdown",
   "id": "a4651723",
   "metadata": {},
   "source": [
    "- Η δομή επανάληψης while, χρησιμοποιείται όταν θέλουμε να εκτελέσουμε επαναληπτικά (πολλές φορές) ένα σύνολο εντολών για όσο μια συνθήκη παραμένει αληθής.\n",
    "\n",
    "    Το βασικό συντακτικό μιας δομής επανάληψης while είναι το ακόλουθο:\n",
    "    ```python\n",
    "    while condition:\n",
    "        # execute some commands \n",
    "        # until condition evaluates to False\n",
    "    ```\n",
    "    \n",
    "- **Προσοχή:** Η συνθήκη πρέπει κάποια στιγμή να επιστρέφει ``False`` ώστε να τερματιστεί ο βρόγχος επανάληψης.\n",
    "\n",
    "\n",
    "- Αυτό σημαίνει ότι μέσα στο βρόγχο η συνθήκη πρέπει να ανανεώνεται με τη προοπτική ότι κάποια στιγμή θα γίνει ψευδής. \n",
    "\n",
    "\n",
    "- Εναλλακτικά, πρέπει να υπάρχει κάποια εσωτερική συνθήκη όπου όταν γίνει αληθής να βγαίνουμε από το βρόγχο χρησιμοποιώντας την εντολή ``break``. "
   ]
  },
  {
   "cell_type": "code",
   "execution_count": 8,
   "id": "82fd7ce5",
   "metadata": {},
   "outputs": [
    {
     "name": "stdout",
     "output_type": "stream",
     "text": [
      "1\n",
      "4\n",
      "9\n",
      "16\n",
      "25\n",
      "36\n",
      "49\n",
      "64\n",
      "81\n",
      "100\n",
      "The loop has finished\n",
      "1\n",
      "4\n",
      "9\n",
      "16\n",
      "25\n",
      "36\n",
      "49\n",
      "64\n",
      "81\n",
      "100\n",
      "The loop has finished\n"
     ]
    }
   ],
   "source": [
    "# print the squares of the numbers 1 to 10\n",
    "i = 1\n",
    "\n",
    "while (i <= 10):\n",
    "    print(i**2)\n",
    "    i = i + 1\n",
    "    \n",
    "print(\"The loop has finished\")\n",
    "\n",
    "\n",
    "# Same result without updating the conditon\n",
    "i = 1\n",
    "while True:\n",
    "    print(i**2)\n",
    "    i += 1\n",
    "    \n",
    "    if i > 10:\n",
    "        break\n",
    "        \n",
    "print(\"The loop has finished\")"
   ]
  },
  {
   "cell_type": "markdown",
   "id": "64162f56",
   "metadata": {},
   "source": [
    "<div class=\"alert alert-block alert-warning\" style=\"margin-top: 20px\">\n",
    "    <b>Παράδειγμα 3.3</b>\n",
    "\n",
    "Γράψτε κώδικα για να υπολογίσετε το άθροισμα $\\sum_{i=1}^{10}i^3$, χρησιμοποιώντας βρόγχο επανάληψης while, και εκτυπώστε το αποτέλεσμα. Συμφωνεί με το αποτέλεσμα που βγάλατε χρησιμοποιώντας το βρόγχο for;"
   ]
  },
  {
   "cell_type": "code",
   "execution_count": 9,
   "id": "b6336cec",
   "metadata": {},
   "outputs": [],
   "source": [
    "# You can try it here\n",
    "# If you are struggling you can click on details below for the solution"
   ]
  },
  {
   "cell_type": "markdown",
   "id": "97a55f4f",
   "metadata": {},
   "source": [
    "<div class=\"alert alert-danger alertdanger\" style=\"margin-top: 20px\">\n",
    "<details>\n",
    "<br>    \n",
    "<b>Λύση </b>\n",
    "    \n",
    "```python \n",
    "# Calculate sum of numbers with while-loop\n",
    "my_sum = 0\n",
    "i = 1\n",
    "while (i <= 10):\n",
    "    my_sum = my_sum + i**3\n",
    "    i += 1\n",
    "    \n",
    "print(my_sum)\n",
    "```\n",
    "    \n",
    "</details>"
   ]
  },
  {
   "cell_type": "markdown",
   "id": "b2b6929d",
   "metadata": {},
   "source": [
    "<div class=\"alert alert-block alert-warning\" style=\"margin-top: 20px\">\n",
    "    <b>Παράδειγμα 3.4</b>\n",
    "\n",
    "Προσπαθείστε να εξηγήσετε με απλά λόγια τι κάνει ο κώδικας που ακολουθεί \n",
    "\n",
    "```python\n",
    "i = 1\n",
    "total = 0\n",
    "\n",
    "while i <= 509:\n",
    "    if i % 3 == 0 or i % 5 == 0:\n",
    "        total = total + i\n",
    "    i = i + 1\n",
    "        \n",
    "print(\"The total sum is: \", total) \n",
    "```"
   ]
  },
  {
   "cell_type": "code",
   "execution_count": 10,
   "id": "0abac608",
   "metadata": {},
   "outputs": [],
   "source": [
    "# You can try it here"
   ]
  }
 ],
 "metadata": {
  "kernelspec": {
   "display_name": "Python 3 (ipykernel)",
   "language": "python",
   "name": "python3"
  },
  "language_info": {
   "codemirror_mode": {
    "name": "ipython",
    "version": 3
   },
   "file_extension": ".py",
   "mimetype": "text/x-python",
   "name": "python",
   "nbconvert_exporter": "python",
   "pygments_lexer": "ipython3",
   "version": "3.9.13"
  }
 },
 "nbformat": 4,
 "nbformat_minor": 5
}
