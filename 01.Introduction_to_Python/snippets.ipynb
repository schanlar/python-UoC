{
 "cells": [
  {
   "cell_type": "code",
   "execution_count": null,
   "id": "2e95c3a6",
   "metadata": {},
   "outputs": [],
   "source": [
    "# Exchange values\n",
    "\n",
    "print(a, b)\n",
    "a, b = b, a\n",
    "print(a, b)"
   ]
  },
  {
   "cell_type": "code",
   "execution_count": null,
   "id": "61606c67",
   "metadata": {},
   "outputs": [],
   "source": [
    "# Calculating expressions\n",
    "\n",
    "import numpy as np\n",
    "\n",
    "a = 2 + (4*3)\n",
    "\n",
    "b = (5**5)**5\n",
    "\n",
    "c = np.exp(-1)\n",
    "\n",
    "d = np.math.factorial(49) / (np.math.factorial(6) * np.math.factorial(43))\n",
    "\n",
    "print(a)\n",
    "\n",
    "print(b)\n",
    "\n",
    "print(c)\n",
    "\n",
    "print(d)"
   ]
  },
  {
   "cell_type": "code",
   "execution_count": null,
   "id": "b6a7ca3e",
   "metadata": {},
   "outputs": [],
   "source": [
    "# Solving the quadratic equation\n",
    "\n",
    "import numpy as np\n",
    "\n",
    "# In user we trust... -> Don't need to check the validity of input\n",
    "# The input function returns a string representation of whatever the user provided\n",
    "# We need to convert the string to an integer\n",
    "a = int(input('Give first number: '))\n",
    "b = int(input('Give second number: '))\n",
    "c = int(input('Give third number: '))\n",
    "\n",
    "\n",
    "# Calculate the discriminant\n",
    "d = b**2 - (4*a*c)\n",
    "\n",
    "# Check the value of discriminant\n",
    "if d < 0:\n",
    "    print('The equation has no real roots!')\n",
    "    \n",
    "elif d == 0 :\n",
    "    print('The equation has one real root:', -b/(2*a))\n",
    "    \n",
    "else:\n",
    "    # Calculate the roots\n",
    "    s1 = (-b + np.sqrt(d)) / (2*a)\n",
    "    s2 = (-b - np.sqrt(d)) / (2*a)\n",
    "    \n",
    "    print('The equation has two distinct real roots:', s1, s2)"
   ]
  },
  {
   "cell_type": "code",
   "execution_count": null,
   "id": "cd55a9ee",
   "metadata": {},
   "outputs": [],
   "source": [
    "# Calculate sum of numbers with for-loop\n",
    "my_sum = 0\n",
    "\n",
    "for i in range(1, 11):\n",
    "    my_sum = my_sum + (i**3)\n",
    "    \n",
    "print(my_sum)"
   ]
  },
  {
   "cell_type": "code",
   "execution_count": null,
   "id": "6782442c",
   "metadata": {},
   "outputs": [],
   "source": [
    "# Calculate sum of numbers with while-loop\n",
    "my_sum = 0\n",
    "i = 1\n",
    "\n",
    "while (i <= 10):\n",
    "    my_sum = my_sum + i**3\n",
    "    i += 1\n",
    "    \n",
    "print(my_sum)"
   ]
  },
  {
   "cell_type": "code",
   "execution_count": null,
   "id": "8451c8e7",
   "metadata": {},
   "outputs": [],
   "source": [
    "# Average value of numbers\n",
    "\n",
    "def average(*args):\n",
    "    \n",
    "    avg = sum(args) / len(args)\n",
    "    \n",
    "    return avg\n",
    "\n",
    "\n",
    "# Testing\n",
    "print(average(4)) # one parameter\n",
    "print(average(2, 3)) # two parameters\n",
    "print(average(12, 24, 32, 63)) # four parameters\n",
    "print(average(3, 5, 2, 9, 4, 1)) # six parameters"
   ]
  }
 ],
 "metadata": {
  "kernelspec": {
   "display_name": "Python 3",
   "language": "python",
   "name": "python3"
  },
  "language_info": {
   "codemirror_mode": {
    "name": "ipython",
    "version": 3
   },
   "file_extension": ".py",
   "mimetype": "text/x-python",
   "name": "python",
   "nbconvert_exporter": "python",
   "pygments_lexer": "ipython3",
   "version": "3.8.8"
  }
 },
 "nbformat": 4,
 "nbformat_minor": 5
}
