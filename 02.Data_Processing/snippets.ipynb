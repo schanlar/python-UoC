{
 "cells": [
  {
   "cell_type": "markdown",
   "id": "e27bfe0b",
   "metadata": {},
   "source": [
    "# Numpy"
   ]
  },
  {
   "cell_type": "code",
   "execution_count": null,
   "id": "397c17b6",
   "metadata": {},
   "outputs": [],
   "source": [
    "# First challenge\n",
    "\n",
    "import numpy as np\n",
    "\n",
    "a = np.array([1,2,3,4,5])\n",
    "\n",
    "b = np.arange(0, 501, dtype=np.int64)\n",
    "\n",
    "mask = np.where((b == 3) | (b == 25) | ((b >= 100) & (b <= 110)))\n",
    "print(b[mask])\n",
    "\n",
    "c = np.logspace(0, 2, num=10)\n",
    "print(c)"
   ]
  },
  {
   "cell_type": "code",
   "execution_count": null,
   "id": "fe52afc1",
   "metadata": {},
   "outputs": [],
   "source": [
    "# Second challenge\n",
    "\n",
    "import numpy as np\n",
    "\n",
    "a = np.arange(1, 101, dtype=np.int64)\n",
    "\n",
    "b = a ** 2\n",
    "\n",
    "c = np.sin(a)\n",
    "\n",
    "# Calculate the sum of array\n",
    "# Both ways are valid\n",
    "print(a.sum())\n",
    "print(np.sum(a))"
   ]
  },
  {
   "cell_type": "code",
   "execution_count": null,
   "id": "103afe73",
   "metadata": {},
   "outputs": [],
   "source": [
    "# Third challenge\n",
    "\n",
    "import numpy as np\n",
    "\n",
    "A = np.arange(1, 13).reshape(3,4)\n",
    "\n",
    "# First row\n",
    "print(A[0, :])\n",
    "\n",
    "# First column\n",
    "print(A[:, 0])\n",
    "\n",
    "\n",
    "# Subarrays\n",
    "print(A[:2, :2])\n",
    "\n",
    "print(A[1:, 1:3])\n",
    "# The above is the same as:\n",
    "# print(A[1:, 1:-1])\n",
    "\n",
    "print(A[:2, 2:])"
   ]
  },
  {
   "cell_type": "code",
   "execution_count": null,
   "id": "851d6461",
   "metadata": {},
   "outputs": [],
   "source": [
    "# Fifth challenge\n",
    "\n",
    "import matplotlib.pyplot as plt\n",
    "\n",
    "x = np.linspace(0.1, 1, 1000)\n",
    "y = x * np.sin(10 / x)\n",
    "\n",
    "plt.xlabel(r\"$x$\")\n",
    "plt.ylabel(r\"$y$\")\n",
    "\n",
    "plt.plot(x, y)"
   ]
  },
  {
   "cell_type": "markdown",
   "id": "23d71e33",
   "metadata": {},
   "source": [
    "# CSV"
   ]
  },
  {
   "cell_type": "code",
   "execution_count": null,
   "id": "055c138b",
   "metadata": {},
   "outputs": [],
   "source": [
    "lookup_word = 'python'\n",
    "found = False\n",
    "\n",
    "with open('data/words.txt', 'r') as file:\n",
    "    reader = csv.reader(file, delimiter='-')\n",
    "    \n",
    "    for line_list in reader: # line_list is a list of strings\n",
    "        if lookup_word.lower() in line_list:\n",
    "            print('Congrats! The word \\'{}\\' exists in the dictionary!'.format(lookup_word))\n",
    "            found = True\n",
    "            break\n",
    "            \n",
    "    if not found: print(\"The word '{}' does not exist in the dictionary!\".format(lookup_word))"
   ]
  }
 ],
 "metadata": {
  "kernelspec": {
   "display_name": "Python 3",
   "language": "python",
   "name": "python3"
  },
  "language_info": {
   "codemirror_mode": {
    "name": "ipython",
    "version": 3
   },
   "file_extension": ".py",
   "mimetype": "text/x-python",
   "name": "python",
   "nbconvert_exporter": "python",
   "pygments_lexer": "ipython3",
   "version": "3.8.8"
  }
 },
 "nbformat": 4,
 "nbformat_minor": 5
}
