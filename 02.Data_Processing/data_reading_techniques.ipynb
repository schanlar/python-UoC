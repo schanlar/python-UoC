{
 "cells": [
  {
   "cell_type": "markdown",
   "id": "6411483f",
   "metadata": {},
   "source": [
    "# Exploring Data Reading Techniques"
   ]
  },
  {
   "cell_type": "markdown",
   "id": "d9c9f06d",
   "metadata": {},
   "source": [
    "In this guide, we present some examples of various methods of reading data from a file using the power of Python.\n",
    "\n",
    "This notebook is designed to provide students with a hands-on exploration of data reading techniques, covering not only native Python approaches but also the utilization of essential modules such as ``CSV`` for basic file handling, ``NumPy`` for efficient numerical data manipulation, and ``Pandas`` for high-level, labeled data analysis. \n",
    "\n",
    "By the end of this tutorial, you can expect to gain a nuanced understanding of the strengths and limitations of each method, enabling you to make informed decisions when selecting the most suitable approach for reading and working with data in different scenarios."
   ]
  },
  {
   "cell_type": "markdown",
   "id": "26b45adc",
   "metadata": {},
   "source": [
    "We will work with a very simple data set that contains only two columns of data. Let's take a look at the contents of the data file:"
   ]
  },
  {
   "cell_type": "code",
   "execution_count": 1,
   "id": "8ef225ff",
   "metadata": {},
   "outputs": [
    {
     "name": "stdout",
     "output_type": "stream",
     "text": [
      "x, y\r\n",
      "0, 0\r\n",
      "1, 1\r\n",
      "2, 4\r\n",
      "3, 9\r\n",
      "4, 16\r\n",
      "5, 25\r\n",
      "6, 36\r\n"
     ]
    }
   ],
   "source": [
    "! cat data/simple.csv"
   ]
  },
  {
   "cell_type": "markdown",
   "id": "45004958",
   "metadata": {},
   "source": [
    "# Reading data in native Python"
   ]
  },
  {
   "cell_type": "markdown",
   "id": "96b6ffd2",
   "metadata": {},
   "source": [
    "We'll start by reading the data using nothing more than native Python, i.e. no third-party libraries such as ``NumPy`` or ``Pandas``.\n",
    "\n",
    "Since we have a sequence of numbers that we want to work with as a whole, it makes sense to use lists to store the contents of each column in our data set. "
   ]
  },
  {
   "cell_type": "code",
   "execution_count": 2,
   "id": "7790652d",
   "metadata": {},
   "outputs": [
    {
     "name": "stdout",
     "output_type": "stream",
     "text": [
      "x data: [0.0, 1.0, 2.0, 3.0, 4.0, 5.0, 6.0]\n",
      "y data: [0.0, 1.0, 4.0, 9.0, 16.0, 25.0, 36.0]\n"
     ]
    }
   ],
   "source": [
    "# Initialize two empty lists that will populate with the contents of each column in the data set\n",
    "x_data, y_data = [], []\n",
    "\n",
    "# Read the file line by line\n",
    "with open(\"data/simple.csv\", \"r\") as f:\n",
    "    \n",
    "    # Skip the first row that contains the header\n",
    "    next(f)\n",
    "    \n",
    "    # Parse each line (str) in order to extract the x- and y-values.\n",
    "    # Then, store the float representation in the corresponding list\n",
    "    for line in f:\n",
    "        x_data.append(float(line.strip().split(\",\")[0]))\n",
    "        y_data.append(float(line.strip().split(\",\")[1]))\n",
    "\n",
    "print(\"x data:\", x_data)\n",
    "print(\"y data:\", y_data)"
   ]
  },
  {
   "cell_type": "markdown",
   "id": "e789e9da",
   "metadata": {},
   "source": [
    "Now that we have succsesfully extracted the data from the file and stored them in some sort of data structure, we can use them for whataver analysis we want to perform.\n",
    "\n",
    "Let's just plot the x- and y-data against each other."
   ]
  },
  {
   "cell_type": "code",
   "execution_count": 3,
   "id": "61553e1a",
   "metadata": {},
   "outputs": [],
   "source": [
    "import matplotlib.pyplot as plt"
   ]
  },
  {
   "cell_type": "code",
   "execution_count": 4,
   "id": "dded0b50",
   "metadata": {},
   "outputs": [
    {
     "data": {
      "image/png": "[encoded data removed]",
      "text/plain": [
       "<Figure size 640x480 with 1 Axes>"
      ]
     },
     "metadata": {},
     "output_type": "display_data"
    }
   ],
   "source": [
    "_ = plt.scatter(x_data, y_data)"
   ]
  },
  {
   "cell_type": "markdown",
   "id": "4c98dc86",
   "metadata": {},
   "source": [
    "# Reading data using the ``csv`` module"
   ]
  },
  {
   "cell_type": "markdown",
   "id": "be23afc3",
   "metadata": {},
   "source": [
    "The ``csv`` module is not a third-party library; it comes with Python when you install it. However, it still needs to be explicitly imported in order to use it.\n",
    "\n",
    "To read our data using the ``csv`` module, we follow the exact same procedure as before. The only difference is that we use a reader object provided by the ``csv`` module, which automates the string parsing we had to do manually in the example above."
   ]
  },
  {
   "cell_type": "code",
   "execution_count": 5,
   "id": "3cb8731d",
   "metadata": {},
   "outputs": [],
   "source": [
    "import csv"
   ]
  },
  {
   "cell_type": "code",
   "execution_count": 6,
   "id": "884b098a",
   "metadata": {},
   "outputs": [
    {
     "name": "stdout",
     "output_type": "stream",
     "text": [
      "x data: [0.0, 1.0, 2.0, 3.0, 4.0, 5.0, 6.0]\n",
      "y data: [0.0, 1.0, 4.0, 9.0, 16.0, 25.0, 36.0]\n"
     ]
    }
   ],
   "source": [
    "x_data, y_data = [], []\n",
    "\n",
    "with open(\"data/simple.csv\", \"r\") as f:\n",
    "    \n",
    "    next(f)\n",
    "    \n",
    "    # Create a reader object that will automate the parsing for us\n",
    "    reader = csv.reader(f)\n",
    "    \n",
    "    for data in reader:\n",
    "        x_data.append(float(data[0]))\n",
    "        y_data.append(float(data[1]))\n",
    "        \n",
    "print(\"x data:\", x_data)\n",
    "print(\"y data:\", y_data)"
   ]
  },
  {
   "cell_type": "markdown",
   "id": "29208bdb",
   "metadata": {},
   "source": [
    "We see that we ended up with the exact same results as before.\n",
    "\n",
    "However in many cases, instead of storing our data in separate variables, we might want to store them all together in a single data structure and retrieve chunks of it when necessary. \n",
    "\n",
    "Let's create a new list that will contain both the x- and y-data in a 2D-like structure. Remember though that lists are, by their nature, 1D objects."
   ]
  },
  {
   "cell_type": "code",
   "execution_count": 7,
   "id": "b33beb45",
   "metadata": {},
   "outputs": [
    {
     "data": {
      "text/plain": [
       "[[0.0, 0.0],\n",
       " [1.0, 1.0],\n",
       " [2.0, 4.0],\n",
       " [3.0, 9.0],\n",
       " [4.0, 16.0],\n",
       " [5.0, 25.0],\n",
       " [6.0, 36.0]]"
      ]
     },
     "execution_count": 7,
     "metadata": {},
     "output_type": "execute_result"
    }
   ],
   "source": [
    "zipped_data = [[i,j] for i,j in zip(x_data, y_data)]\n",
    "\n",
    "zipped_data"
   ]
  },
  {
   "cell_type": "code",
   "execution_count": 8,
   "id": "899d5bf7",
   "metadata": {},
   "outputs": [
    {
     "name": "stdout",
     "output_type": "stream",
     "text": [
      "<class 'list'>\n"
     ]
    }
   ],
   "source": [
    "print(type(zipped_data))"
   ]
  },
  {
   "cell_type": "code",
   "execution_count": 9,
   "id": "dd8217a0",
   "metadata": {},
   "outputs": [
    {
     "data": {
      "image/png": "[encoded data removed]",
      "text/plain": [
       "<Figure size 640x480 with 1 Axes>"
      ]
     },
     "metadata": {},
     "output_type": "display_data"
    }
   ],
   "source": [
    "_ = plt.scatter(x_data, y_data)"
   ]
  },
  {
   "cell_type": "markdown",
   "id": "8e4f6328",
   "metadata": {},
   "source": [
    "If I didn't have the x- and y-data stored separately, and the data were available only via the zipped_data nested-lists structure, I could extract the columns using again list comprehensions:"
   ]
  },
  {
   "cell_type": "code",
   "execution_count": 10,
   "id": "5f9f3c2f",
   "metadata": {},
   "outputs": [
    {
     "data": {
      "image/png": "[encoded data removed]",
      "text/plain": [
       "<Figure size 640x480 with 1 Axes>"
      ]
     },
     "metadata": {},
     "output_type": "display_data"
    }
   ],
   "source": [
    "_ = plt.scatter(\n",
    "    [zipped_data[i][0] for i in range(len(zipped_data))],\n",
    "    [zipped_data[i][1] for i in range(len(zipped_data))]\n",
    ")"
   ]
  },
  {
   "cell_type": "markdown",
   "id": "031104d8",
   "metadata": {},
   "source": [
    "We have seen that we can read data using basic Python. However, we had to type quite a few lines of code to do so, and for more complicated data sets, it can quickly become unmanageable. Using built-in data structures, such as lists, is also something we would like to avoid, as they do not perform well with large data sets.\n",
    "\n",
    "To make our lives easier, we can use third-party libraries specifically designed to work with data from files. These modules offer a variety of methods to read data and automate many of the tasks we had to consider when working manually.\n",
    "\n",
    "Moreover, these libraries are optimized to handle any volume of data and can easily outperform built-in data structures (e.g., arrays vs lists)."
   ]
  },
  {
   "cell_type": "markdown",
   "id": "8c4c016c",
   "metadata": {},
   "source": [
    "# Reading data with ``NumPy``"
   ]
  },
  {
   "cell_type": "markdown",
   "id": "0021a2d2",
   "metadata": {},
   "source": [
    "Opting to read data using the ``NumPy`` module rather than manually opening and reading the file line-by-line brings forth several advantages. \n",
    "\n",
    "``NumPy`` is a powerful numerical computing library in Python, specifically designed for handling large, multi-dimensional arrays and matrices. When dealing with numeric data, ``NumPy`` provides efficient storage and operations, offering a performance boost compared to manual, line-by-line reading. \n",
    "\n",
    "``NumPy``'s ndarray (n-dimensional array) simplifies data manipulation by supporting element-wise operations, mathematical functions, and broadcasting, thereby reducing the need for explicit loops and conditional statements. Additionally, ``NumPy`` seamlessly integrates with other scientific computing libraries, making it a foundational component for various data analysis tasks. Its optimized algorithms and array-oriented computing capabilities enhance the speed and efficiency of data processing. \n",
    "\n",
    "In summary, utilizing ``NumPy`` for reading data enhances code efficiency, improves computational performance, and provides a versatile foundation for numerical operations on large datasets."
   ]
  },
  {
   "cell_type": "code",
   "execution_count": 11,
   "id": "aa07abf9",
   "metadata": {},
   "outputs": [],
   "source": [
    "import numpy as np"
   ]
  },
  {
   "cell_type": "code",
   "execution_count": 12,
   "id": "b6214011",
   "metadata": {},
   "outputs": [],
   "source": [
    "data = np.loadtxt(\"data/simple.csv\", delimiter=',', skiprows=1)"
   ]
  },
  {
   "cell_type": "code",
   "execution_count": 13,
   "id": "c6b6d643",
   "metadata": {},
   "outputs": [
    {
     "name": "stdout",
     "output_type": "stream",
     "text": [
      "[[ 0.  0.]\n",
      " [ 1.  1.]\n",
      " [ 2.  4.]\n",
      " [ 3.  9.]\n",
      " [ 4. 16.]\n",
      " [ 5. 25.]\n",
      " [ 6. 36.]]\n",
      "<class 'numpy.ndarray'>\n"
     ]
    }
   ],
   "source": [
    "# See the similarity with the zipped_data nested-lists structure?\n",
    "print(data)\n",
    "print(type(data))"
   ]
  },
  {
   "cell_type": "markdown",
   "id": "d24261e8",
   "metadata": {},
   "source": [
    "We can slice the 2D array in order to store the data in separate variables:"
   ]
  },
  {
   "cell_type": "code",
   "execution_count": 14,
   "id": "a3abc385",
   "metadata": {},
   "outputs": [],
   "source": [
    "xdata = data[:, 0]   # x-data are all rows of the first column (index 0)\n",
    "ydata = data[:, 1]   # y-data are all rows of the second column (index 1)"
   ]
  },
  {
   "cell_type": "code",
   "execution_count": 15,
   "id": "c9761f23",
   "metadata": {},
   "outputs": [
    {
     "name": "stdout",
     "output_type": "stream",
     "text": [
      "x data: [0. 1. 2. 3. 4. 5. 6.]\n",
      "y data: [ 0.  1.  4.  9. 16. 25. 36.]\n"
     ]
    }
   ],
   "source": [
    "print(\"x data:\", xdata)\n",
    "print(\"y data:\", ydata)"
   ]
  },
  {
   "cell_type": "markdown",
   "id": "954c445b",
   "metadata": {},
   "source": [
    "or, directly unpack the data into two variables, by setting the ``unpack`` keyword equal to ``True``:"
   ]
  },
  {
   "cell_type": "code",
   "execution_count": 16,
   "id": "c2bff4eb",
   "metadata": {},
   "outputs": [],
   "source": [
    "xdata, ydata = np.loadtxt(\"data/simple.csv\", delimiter=',', skiprows=1, unpack=True)"
   ]
  },
  {
   "cell_type": "code",
   "execution_count": 17,
   "id": "7264d736",
   "metadata": {},
   "outputs": [
    {
     "name": "stdout",
     "output_type": "stream",
     "text": [
      "x data: [0. 1. 2. 3. 4. 5. 6.]\n",
      "y data: [ 0.  1.  4.  9. 16. 25. 36.]\n"
     ]
    }
   ],
   "source": [
    "print(\"x data:\", xdata)\n",
    "print(\"y data:\", ydata)"
   ]
  },
  {
   "cell_type": "code",
   "execution_count": 18,
   "id": "9de319f8",
   "metadata": {},
   "outputs": [
    {
     "data": {
      "image/png": "[encoded data removed]",
      "text/plain": [
       "<Figure size 640x480 with 1 Axes>"
      ]
     },
     "metadata": {},
     "output_type": "display_data"
    }
   ],
   "source": [
    "_ = plt.scatter(xdata, ydata)"
   ]
  },
  {
   "cell_type": "markdown",
   "id": "3e16628d",
   "metadata": {},
   "source": [
    "# Reading data with ``Pandas``"
   ]
  },
  {
   "cell_type": "markdown",
   "id": "06c30745",
   "metadata": {},
   "source": [
    "Reading data using the ``Pandas`` module is often a superior approach compared to manually opening a file and reading it line-by-line for several reasons. \n",
    "\n",
    "``Pandas`` provides a high-level, efficient, and user-friendly interface for data manipulation and analysis. It allows for the seamless import of various file formats, such as CSV, Excel, and SQL databases, with just a single line of code, eliminating the need for intricate parsing and formatting. \n",
    "\n",
    "``Pandas`` also automatically handles data alignment and missing values, simplifying the data preprocessing steps. Its powerful DataFrame structure, which organizes data into rows and columns, facilitates easy indexing, filtering, and aggregation operations. \n",
    "\n",
    "Moreover, ``Pandas`` offers robust functionality for handling large datasets, optimizing memory usage, and supporting operations that would otherwise require complex loops or conditional statements when performed manually.\n",
    "\n",
    "Overall, using ``Pandas`` streamlines the data reading process, enhances code readability, and significantly reduces the development time for data-related tasks."
   ]
  },
  {
   "cell_type": "code",
   "execution_count": 19,
   "id": "fd9ca096",
   "metadata": {},
   "outputs": [],
   "source": [
    "import pandas as pd"
   ]
  },
  {
   "cell_type": "code",
   "execution_count": 20,
   "id": "7ea7e20e",
   "metadata": {},
   "outputs": [
    {
     "data": {
      "text/html": [
       "<div>\n",
       "<style scoped>\n",
       "    .dataframe tbody tr th:only-of-type {\n",
       "        vertical-align: middle;\n",
       "    }\n",
       "\n",
       "    .dataframe tbody tr th {\n",
       "        vertical-align: top;\n",
       "    }\n",
       "\n",
       "    .dataframe thead th {\n",
       "        text-align: right;\n",
       "    }\n",
       "</style>\n",
       "<table border=\"1\" class=\"dataframe\">\n",
       "  <thead>\n",
       "    <tr style=\"text-align: right;\">\n",
       "      <th></th>\n",
       "      <th>x</th>\n",
       "      <th>y</th>\n",
       "    </tr>\n",
       "  </thead>\n",
       "  <tbody>\n",
       "    <tr>\n",
       "      <th>0</th>\n",
       "      <td>0</td>\n",
       "      <td>0</td>\n",
       "    </tr>\n",
       "    <tr>\n",
       "      <th>1</th>\n",
       "      <td>1</td>\n",
       "      <td>1</td>\n",
       "    </tr>\n",
       "    <tr>\n",
       "      <th>2</th>\n",
       "      <td>2</td>\n",
       "      <td>4</td>\n",
       "    </tr>\n",
       "    <tr>\n",
       "      <th>3</th>\n",
       "      <td>3</td>\n",
       "      <td>9</td>\n",
       "    </tr>\n",
       "    <tr>\n",
       "      <th>4</th>\n",
       "      <td>4</td>\n",
       "      <td>16</td>\n",
       "    </tr>\n",
       "    <tr>\n",
       "      <th>5</th>\n",
       "      <td>5</td>\n",
       "      <td>25</td>\n",
       "    </tr>\n",
       "    <tr>\n",
       "      <th>6</th>\n",
       "      <td>6</td>\n",
       "      <td>36</td>\n",
       "    </tr>\n",
       "  </tbody>\n",
       "</table>\n",
       "</div>"
      ],
      "text/plain": [
       "   x   y\n",
       "0  0   0\n",
       "1  1   1\n",
       "2  2   4\n",
       "3  3   9\n",
       "4  4  16\n",
       "5  5  25\n",
       "6  6  36"
      ]
     },
     "execution_count": 20,
     "metadata": {},
     "output_type": "execute_result"
    }
   ],
   "source": [
    "df = pd.read_csv(\"data/simple.csv\")\n",
    "df"
   ]
  },
  {
   "cell_type": "code",
   "execution_count": 21,
   "id": "b88d4754",
   "metadata": {},
   "outputs": [
    {
     "data": {
      "text/plain": [
       "Index(['x', ' y'], dtype='object')"
      ]
     },
     "execution_count": 21,
     "metadata": {},
     "output_type": "execute_result"
    }
   ],
   "source": [
    "df.columns   # Check the column names"
   ]
  },
  {
   "cell_type": "markdown",
   "id": "2c58fe0e",
   "metadata": {},
   "source": [
    "The name of the second column contains a leading space character. This might be inconvenient when trying to work with the contents of that column. So let's rename it:"
   ]
  },
  {
   "cell_type": "code",
   "execution_count": 22,
   "id": "ef994197",
   "metadata": {},
   "outputs": [],
   "source": [
    "df.rename(columns={\" y\":\"y\"}, inplace=True)"
   ]
  },
  {
   "cell_type": "code",
   "execution_count": 23,
   "id": "e321c9b5",
   "metadata": {},
   "outputs": [
    {
     "data": {
      "text/plain": [
       "Index(['x', 'y'], dtype='object')"
      ]
     },
     "execution_count": 23,
     "metadata": {},
     "output_type": "execute_result"
    }
   ],
   "source": [
    "df.columns"
   ]
  },
  {
   "cell_type": "code",
   "execution_count": 24,
   "id": "ca423166",
   "metadata": {},
   "outputs": [],
   "source": [
    "datax = df[\"x\"]         # Get the data as a Pandas Series object\n",
    "datay = df[\"y\"].values  # Get the data as a NumPy array"
   ]
  },
  {
   "cell_type": "code",
   "execution_count": 25,
   "id": "41da6d08",
   "metadata": {},
   "outputs": [
    {
     "data": {
      "text/plain": [
       "0    0\n",
       "1    1\n",
       "2    2\n",
       "3    3\n",
       "4    4\n",
       "5    5\n",
       "6    6\n",
       "Name: x, dtype: int64"
      ]
     },
     "execution_count": 25,
     "metadata": {},
     "output_type": "execute_result"
    }
   ],
   "source": [
    "datax"
   ]
  },
  {
   "cell_type": "code",
   "execution_count": 26,
   "id": "0568406d",
   "metadata": {},
   "outputs": [
    {
     "data": {
      "text/plain": [
       "array([ 0,  1,  4,  9, 16, 25, 36])"
      ]
     },
     "execution_count": 26,
     "metadata": {},
     "output_type": "execute_result"
    }
   ],
   "source": [
    "datay"
   ]
  },
  {
   "cell_type": "code",
   "execution_count": 27,
   "id": "68bd691b",
   "metadata": {},
   "outputs": [
    {
     "data": {
      "image/png": "[encoded data removed]",
      "text/plain": [
       "<Figure size 640x480 with 1 Axes>"
      ]
     },
     "metadata": {},
     "output_type": "display_data"
    }
   ],
   "source": [
    "# Matplotlib doesn't distinguish between Series, arrays, lists, tuples, etc., \n",
    "# as long as they all have the same length, size, or shape.\n",
    "\n",
    "# Here datax is a Series object and datay is a NumPy array\n",
    "_ = plt.scatter(datax, datay)"
   ]
  },
  {
   "cell_type": "code",
   "execution_count": 28,
   "id": "2bcca945",
   "metadata": {},
   "outputs": [
    {
     "data": {
      "image/png": "[encoded data removed]",
      "text/plain": [
       "<Figure size 640x480 with 1 Axes>"
      ]
     },
     "metadata": {},
     "output_type": "display_data"
    }
   ],
   "source": [
    "# or call them directly...\n",
    "_ = plt.scatter(df[\"x\"], df[\"y\"])"
   ]
  },
  {
   "cell_type": "markdown",
   "id": "07196df3",
   "metadata": {},
   "source": [
    "# ``NumPy`` vs ``Pandas``: what to choose?\n",
    "\n",
    "## NumPy:\n",
    "\n",
    "### Advantages:\n",
    "- **Efficiency:** NumPy is optimized for numerical operations and array manipulations, making it faster for certain types of calculations compared to Pandas.\n",
    "- **Memory Efficiency:** NumPy arrays typically use less memory compared to Pandas DataFrames, making it suitable for large datasets.\n",
    "- **Array Operations:** NumPy's array-oriented computing allows for convenient and efficient mathematical operations on entire arrays.\n",
    "\n",
    "### Limitations:\n",
    "- **Functionality:** NumPy primarily deals with numerical arrays, and its functionality is more focused on numerical operations. It lacks some of the higher-level data manipulation features provided by Pandas.\n",
    "- **Data Structures:** While NumPy provides arrays, it doesn't offer labeled data structures like Pandas DataFrames, which can be limiting for certain types of data analysis tasks.\n",
    "\n",
    "## Pandas:\n",
    "\n",
    "### Advantages:\n",
    "- **DataFrames:** Pandas introduces the DataFrame, a two-dimensional labeled data structure that is highly versatile for data manipulation and analysis.\n",
    "- **Data Alignment:** Pandas handles data alignment automatically, making it easier to work with datasets of different shapes and handle missing data.\n",
    "- **Rich Functionality:** Pandas offers extensive data manipulation tools, including grouping, merging, reshaping, and time-series functionality.\n",
    "\n",
    "### Limitations:\n",
    "- **Performance:** Pandas may be slower than NumPy for certain numerical operations, especially on large datasets.\n",
    "- **Memory Usage:** Pandas DataFrames can consume more memory compared to NumPy arrays, which might be a consideration for very large datasets.\n",
    "\n",
    "## Choosing Between NumPy and Pandas:\n",
    "\n",
    "- If your primary focus is on numerical operations and you're working with large datasets where memory efficiency is crucial, NumPy might be a better choice.\n",
    "- If your tasks involve complex data manipulation, analysis, and exploration, especially with labeled data, Pandas provides a more convenient and feature-rich environment.\n",
    "\n",
    "In practice, many data scientists and analysts use both libraries in conjunction, leveraging the strengths of each depending on the specific task at hand.\n"
   ]
  }
 ],
 "metadata": {
  "kernelspec": {
   "display_name": "Python 3 (ipykernel)",
   "language": "python",
   "name": "python3"
  },
  "language_info": {
   "codemirror_mode": {
    "name": "ipython",
    "version": 3
   },
   "file_extension": ".py",
   "mimetype": "text/x-python",
   "name": "python",
   "nbconvert_exporter": "python",
   "pygments_lexer": "ipython3",
   "version": "3.9.13"
  }
 },
 "nbformat": 4,
 "nbformat_minor": 5
}
