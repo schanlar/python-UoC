{
 "cells": [
  {
   "cell_type": "markdown",
   "id": "fb3416a0",
   "metadata": {},
   "source": [
    "# minilab: Ασκήσεις εξάσκησης - Αριθμητική Python και Προεπεξεργασία δεδομένων"
   ]
  },
  {
   "cell_type": "markdown",
   "id": "500f0b36",
   "metadata": {},
   "source": [
    "## Η βιβλιοθήκη ``NumPy``"
   ]
  },
  {
   "cell_type": "markdown",
   "id": "3d8f5e5d",
   "metadata": {},
   "source": [
    "### Exercise 1: Creating and Manipulating NumPy Arrays"
   ]
  },
  {
   "cell_type": "markdown",
   "id": "48d45f4d",
   "metadata": {},
   "source": [
    "Create an array of 10 zeros."
   ]
  },
  {
   "cell_type": "code",
   "execution_count": null,
   "id": "f1256380",
   "metadata": {},
   "outputs": [],
   "source": [
    "# Implement code here"
   ]
  },
  {
   "cell_type": "markdown",
   "id": "865c7ab1",
   "metadata": {},
   "source": [
    "Create an array of 10 ones."
   ]
  },
  {
   "cell_type": "code",
   "execution_count": null,
   "id": "f2c2c661",
   "metadata": {},
   "outputs": [],
   "source": [
    "# Implement code here"
   ]
  },
  {
   "cell_type": "markdown",
   "id": "d5041f84",
   "metadata": {},
   "source": [
    "Create an array of 10 fives."
   ]
  },
  {
   "cell_type": "code",
   "execution_count": null,
   "id": "e080da9b",
   "metadata": {},
   "outputs": [],
   "source": [
    "# Implement code here"
   ]
  },
  {
   "cell_type": "markdown",
   "id": "395a452d",
   "metadata": {},
   "source": [
    "Create an array of the integers from 10 to 50."
   ]
  },
  {
   "cell_type": "code",
   "execution_count": null,
   "id": "58c5ddaf",
   "metadata": {},
   "outputs": [],
   "source": [
    "# Implement code here"
   ]
  },
  {
   "cell_type": "markdown",
   "id": "bc853c07",
   "metadata": {},
   "source": [
    "Create an array of all the even integers from 10 to 50:\n",
    "\n",
    "1. Using the NumPy's method ``arange()``.\n",
    "\n",
    "2. Using the NumPy's method ``array()`` and a list comprehension with a conditional."
   ]
  },
  {
   "cell_type": "code",
   "execution_count": null,
   "id": "e79574ab",
   "metadata": {},
   "outputs": [],
   "source": [
    "# Implement code here"
   ]
  },
  {
   "cell_type": "markdown",
   "id": "588070a4",
   "metadata": {},
   "source": [
    "Create a 3x3 identity matrix."
   ]
  },
  {
   "cell_type": "code",
   "execution_count": null,
   "id": "e188164d",
   "metadata": {},
   "outputs": [],
   "source": [
    "# Implement code here"
   ]
  },
  {
   "cell_type": "markdown",
   "id": "76ef5992",
   "metadata": {},
   "source": [
    "Create an array of 20 linearly spaced points between 0 and 1."
   ]
  },
  {
   "cell_type": "code",
   "execution_count": null,
   "id": "5db0e83b",
   "metadata": {},
   "outputs": [],
   "source": [
    "# Implement code here"
   ]
  },
  {
   "cell_type": "markdown",
   "id": "230e43cd",
   "metadata": {},
   "source": [
    "Create a NumPy array containing the integers from 1 to 10. Then, write code to:\n",
    "\n",
    "1. Print the shape and dimensions of the array.\n",
    "\n",
    "2. Calculate the sum of all the elements in the array.\n",
    "\n",
    "3. Calculate the mean of the array."
   ]
  },
  {
   "cell_type": "code",
   "execution_count": null,
   "id": "8d03a348",
   "metadata": {},
   "outputs": [],
   "source": [
    "# Implement code here"
   ]
  },
  {
   "cell_type": "markdown",
   "id": "f6f2c45f",
   "metadata": {},
   "source": [
    "Use NumPy to generate a random number between 0 and 1."
   ]
  },
  {
   "cell_type": "code",
   "execution_count": null,
   "id": "1c8699c6",
   "metadata": {},
   "outputs": [],
   "source": [
    "# Implement code here"
   ]
  },
  {
   "cell_type": "markdown",
   "id": "5505d664",
   "metadata": {},
   "source": [
    "Use NumPy to generate an array of 25 random numbers sampled from a standard normal distribution."
   ]
  },
  {
   "cell_type": "code",
   "execution_count": null,
   "id": "288679e3",
   "metadata": {},
   "outputs": [],
   "source": [
    "# Implement code here"
   ]
  },
  {
   "cell_type": "markdown",
   "id": "4b1bc699",
   "metadata": {},
   "source": [
    "### Exercise 2: Indexing and Slicing\n",
    "\n",
    "Create a 2D NumPy array of shape (3, 4) with random integers. Write code to:\n",
    "\n",
    "1. Print the element at the second row and third column.\n",
    "\n",
    "2. Extract the first two rows and the last two columns of the array.\n",
    "\n",
    "3. Calculate the sum of all the elements in the second column."
   ]
  },
  {
   "cell_type": "code",
   "execution_count": null,
   "id": "41f8fe3d",
   "metadata": {},
   "outputs": [],
   "source": [
    "# Implement code here"
   ]
  },
  {
   "cell_type": "markdown",
   "id": "0b5f6a30",
   "metadata": {},
   "source": [
    "Write code to create the following matrix. This starting matrix will be used subsequently to perform slicing operations.\n",
    "\n",
    "```python\n",
    "array([[ 1,  2,  3,  4,  5],\n",
    "       [ 6,  7,  8,  9, 10],\n",
    "       [11, 12, 13, 14, 15],\n",
    "       [16, 17, 18, 19, 20],\n",
    "       [21, 22, 23, 24, 25]])\n",
    "```"
   ]
  },
  {
   "cell_type": "code",
   "execution_count": null,
   "id": "fe118382",
   "metadata": {},
   "outputs": [],
   "source": [
    "# Implement code here"
   ]
  },
  {
   "cell_type": "markdown",
   "id": "3d6665d2",
   "metadata": {},
   "source": [
    "Write code that reproduces the output shown below:\n",
    "\n",
    "```python\n",
    "array([[12, 13, 14, 15],\n",
    "       [17, 18, 19, 20],\n",
    "       [22, 23, 24, 25]])\n",
    "```"
   ]
  },
  {
   "cell_type": "code",
   "execution_count": null,
   "id": "f17d522f",
   "metadata": {},
   "outputs": [],
   "source": [
    "# Implement code here"
   ]
  },
  {
   "cell_type": "markdown",
   "id": "7e49bede",
   "metadata": {},
   "source": [
    "Write code that retrieves the number 20 from the matrix."
   ]
  },
  {
   "cell_type": "code",
   "execution_count": null,
   "id": "9d944eff",
   "metadata": {},
   "outputs": [],
   "source": [
    "# Implement code here"
   ]
  },
  {
   "cell_type": "markdown",
   "id": "0c9d67d1",
   "metadata": {},
   "source": [
    "Write code that reproduces the output shown below:\n",
    "\n",
    "```python\n",
    "array([[ 2],\n",
    "       [ 7],\n",
    "       [12]])\n",
    "```"
   ]
  },
  {
   "cell_type": "code",
   "execution_count": null,
   "id": "f0377708",
   "metadata": {},
   "outputs": [],
   "source": [
    "# Implement code here"
   ]
  },
  {
   "cell_type": "markdown",
   "id": "a2125ad5",
   "metadata": {},
   "source": [
    "Write code that reproduces the output shown below:\n",
    "\n",
    "```python\n",
    "array([21, 22, 23, 24, 25])\n",
    "```"
   ]
  },
  {
   "cell_type": "code",
   "execution_count": null,
   "id": "4d46b522",
   "metadata": {},
   "outputs": [],
   "source": [
    "# Implement code here"
   ]
  },
  {
   "cell_type": "markdown",
   "id": "ae691a61",
   "metadata": {},
   "source": [
    "Write code that reproduces the output shown below:\n",
    "\n",
    "```python\n",
    "array([[16, 17, 18, 19, 20],\n",
    "       [21, 22, 23, 24, 25]])\n",
    "```"
   ]
  },
  {
   "cell_type": "code",
   "execution_count": null,
   "id": "980f7cc1",
   "metadata": {},
   "outputs": [],
   "source": [
    "# Implement code here"
   ]
  },
  {
   "cell_type": "markdown",
   "id": "720cb58f",
   "metadata": {},
   "source": [
    "### Exercise 3: Element-wise Operations"
   ]
  },
  {
   "cell_type": "markdown",
   "id": "b075aa63",
   "metadata": {},
   "source": [
    "Create the following matrix using element-wise operations:\n",
    "\n",
    "```python\n",
    "array([[0.01, 0.02, 0.03, 0.04, 0.05, 0.06, 0.07, 0.08, 0.09, 0.1 ],\n",
    "       [0.11, 0.12, 0.13, 0.14, 0.15, 0.16, 0.17, 0.18, 0.19, 0.2 ],\n",
    "       [0.21, 0.22, 0.23, 0.24, 0.25, 0.26, 0.27, 0.28, 0.29, 0.3 ],\n",
    "       [0.31, 0.32, 0.33, 0.34, 0.35, 0.36, 0.37, 0.38, 0.39, 0.4 ],\n",
    "       [0.41, 0.42, 0.43, 0.44, 0.45, 0.46, 0.47, 0.48, 0.49, 0.5 ],\n",
    "       [0.51, 0.52, 0.53, 0.54, 0.55, 0.56, 0.57, 0.58, 0.59, 0.6 ],\n",
    "       [0.61, 0.62, 0.63, 0.64, 0.65, 0.66, 0.67, 0.68, 0.69, 0.7 ],\n",
    "       [0.71, 0.72, 0.73, 0.74, 0.75, 0.76, 0.77, 0.78, 0.79, 0.8 ],\n",
    "       [0.81, 0.82, 0.83, 0.84, 0.85, 0.86, 0.87, 0.88, 0.89, 0.9 ],\n",
    "       [0.91, 0.92, 0.93, 0.94, 0.95, 0.96, 0.97, 0.98, 0.99, 1.  ]])\n",
    "```"
   ]
  },
  {
   "cell_type": "code",
   "execution_count": null,
   "id": "f957702a",
   "metadata": {},
   "outputs": [],
   "source": [
    "# Implement code here"
   ]
  },
  {
   "cell_type": "markdown",
   "id": "6e6c84eb",
   "metadata": {},
   "source": [
    "Create two 1D NumPy arrays of the same length with random numbers. Write code to:\n",
    "\n",
    "1. Add the two arrays element-wise and store the result in a new array.\n",
    "\n",
    "2. Multiply one of the arrays by a scalar value.\n",
    "\n",
    "3. Find the maximum value in the resulting array."
   ]
  },
  {
   "cell_type": "code",
   "execution_count": null,
   "id": "bc073263",
   "metadata": {},
   "outputs": [],
   "source": [
    "# Implement code here"
   ]
  },
  {
   "cell_type": "markdown",
   "id": "bdb82d4b",
   "metadata": {},
   "source": [
    "### Exercise 4: Reshaping and Transposing"
   ]
  },
  {
   "cell_type": "markdown",
   "id": "3016c96e",
   "metadata": {},
   "source": [
    "Create a 3x3 matrix with values ranging from 0 to 8."
   ]
  },
  {
   "cell_type": "code",
   "execution_count": null,
   "id": "42345472",
   "metadata": {},
   "outputs": [],
   "source": [
    "# Implement code here"
   ]
  },
  {
   "cell_type": "markdown",
   "id": "53aab0c9",
   "metadata": {},
   "source": [
    "Create a 2D NumPy array of shape (3, 5) with random integers. Write code to:\n",
    "\n",
    "1. Reshape the array into a (5, 3) shape.\n",
    "\n",
    "2. Transpose the reshaped array."
   ]
  },
  {
   "cell_type": "code",
   "execution_count": null,
   "id": "a5440afb",
   "metadata": {},
   "outputs": [],
   "source": [
    "# Implement code here"
   ]
  },
  {
   "cell_type": "markdown",
   "id": "9a9dcc5a",
   "metadata": {},
   "source": [
    "### Exercise 5: Array Concatenation\n",
    "\n",
    "Create two 1D NumPy arrays of the same length. Write code to:\n",
    "\n",
    "1. Concatenate the arrays horizontally.\n",
    "\n",
    "2. Concatenate the arrays vertically."
   ]
  },
  {
   "cell_type": "code",
   "execution_count": null,
   "id": "1dbf3ff5",
   "metadata": {},
   "outputs": [],
   "source": [
    "# Implement code here"
   ]
  },
  {
   "cell_type": "markdown",
   "id": "838fce23",
   "metadata": {},
   "source": [
    "### Exercise 6: Boolean Indexing\n",
    "\n",
    "Create a 1D NumPy array of random integers. Write code to:\n",
    "\n",
    "1. Find and print all elements greater than a specific value (e.g., 5).\n",
    "\n",
    "2. Calculate the mean of the elements greater than the specific value."
   ]
  },
  {
   "cell_type": "code",
   "execution_count": null,
   "id": "2ffce9b5",
   "metadata": {},
   "outputs": [],
   "source": [
    "# Implement code here"
   ]
  },
  {
   "cell_type": "markdown",
   "id": "4497f0a2",
   "metadata": {},
   "source": [
    "### Exercise 7: Array Comparison and Filtering\n",
    "\n",
    "Create a 1D NumPy array of random integers. Write code to:\n",
    "\n",
    "1. Find and print the indices of elements that are greater than a specific value (e.g., 7).\n",
    "\n",
    "2. Create a new array containing only the elements greater than the specific value."
   ]
  },
  {
   "cell_type": "code",
   "execution_count": null,
   "id": "8758d3e9",
   "metadata": {},
   "outputs": [],
   "source": [
    "# Implement code here"
   ]
  },
  {
   "cell_type": "markdown",
   "id": "e34b3a5f",
   "metadata": {},
   "source": [
    "### Exercise 8: Element-wise Multiplication\n",
    "\n",
    "Create two 2D NumPy arrays of the same shape. Write code to multiply the two arrays element-wise."
   ]
  },
  {
   "cell_type": "code",
   "execution_count": null,
   "id": "6071464e",
   "metadata": {},
   "outputs": [],
   "source": [
    "# Implement code here"
   ]
  },
  {
   "cell_type": "markdown",
   "id": "0b51da41",
   "metadata": {},
   "source": [
    "### Exercise 9: Computing Statistics\n",
    "\n",
    "Create a 1D NumPy array of random floats. Write code to:\n",
    "\n",
    "1. Find and print the minimum and maximum values in the array.\n",
    "\n",
    "2. Calculate the standard deviation of the array.\n",
    "\n",
    "3. Calculate the sum of all the columns in the array."
   ]
  },
  {
   "cell_type": "code",
   "execution_count": null,
   "id": "9018f3df",
   "metadata": {},
   "outputs": [],
   "source": [
    "# Implement code here"
   ]
  },
  {
   "cell_type": "markdown",
   "id": "7c5a164b",
   "metadata": {},
   "source": [
    "### Exercise 10: Element-wise Absolute Values\n",
    "\n",
    "Create a 2D NumPy array with both positive and negative integers. Write code to calculate the absolute values of all elements in the array."
   ]
  },
  {
   "cell_type": "code",
   "execution_count": null,
   "id": "7e31e662",
   "metadata": {},
   "outputs": [],
   "source": [
    "# Implement code here"
   ]
  },
  {
   "cell_type": "markdown",
   "id": "bf318c22",
   "metadata": {},
   "source": [
    "### Exercise 11: Reading Data from File \n",
    "\n",
    "Read in the file called ``nearest_stars.txt`` in the data directory and determine the standard deviation of the distances of the stars with spectral type M."
   ]
  },
  {
   "cell_type": "code",
   "execution_count": null,
   "id": "bd8421b5",
   "metadata": {},
   "outputs": [],
   "source": [
    "# Implement code here"
   ]
  },
  {
   "cell_type": "markdown",
   "id": "08588a99",
   "metadata": {},
   "source": [
    "### Exercise 12.1: Create a Linear Dataset\n",
    "\n",
    "Your goal is to create a simple dataset consisting of x- and y-data as follows:\n",
    "\n",
    "1. Assign a sequence of numbers from 6 to 20 (inclusive) to a ``NumPy`` array named ``x_data``.\n",
    "\n",
    "\n",
    "2. Assign 15 values to a ``NumPy`` array named ``y_data`` such that: $$y = 3x + 4$$"
   ]
  },
  {
   "cell_type": "code",
   "execution_count": null,
   "id": "721f2f33",
   "metadata": {},
   "outputs": [],
   "source": [
    "# Implement code here"
   ]
  },
  {
   "cell_type": "markdown",
   "id": "05c4d96c",
   "metadata": {},
   "source": [
    "### Exercise 12.2: Add Some Noise to the Dataset\n",
    "\n",
    "To make your dataset a little more realistic, insert a little random noise into each element of the ``y_data`` array you already created. To be more precise, modify each value assigned to ``y_data`` by adding a different random floating-point value between -2 and +2.\n",
    "\n",
    "Don't rely on broadcasting. Instead, create a noise array, called ``noise``, having the same dimension as ``y_data``.\n",
    "\n",
    "> **Hint**: Use the method [np.random.random_sample](https://numpy.org/doc/stable/reference/random/generated/numpy.random.random_sample.html#numpy.random.random_sample)"
   ]
  },
  {
   "cell_type": "code",
   "execution_count": null,
   "id": "fe3533e7",
   "metadata": {},
   "outputs": [],
   "source": [
    "# Implement code here"
   ]
  }
 ],
 "metadata": {
  "kernelspec": {
   "display_name": "Python 3 (ipykernel)",
   "language": "python",
   "name": "python3"
  },
  "language_info": {
   "codemirror_mode": {
    "name": "ipython",
    "version": 3
   },
   "file_extension": ".py",
   "mimetype": "text/x-python",
   "name": "python",
   "nbconvert_exporter": "python",
   "pygments_lexer": "ipython3",
   "version": "3.9.13"
  }
 },
 "nbformat": 4,
 "nbformat_minor": 5
}
