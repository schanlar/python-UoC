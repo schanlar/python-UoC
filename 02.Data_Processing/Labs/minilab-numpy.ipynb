{
 "cells": [
  {
   "cell_type": "markdown",
   "id": "fb3416a0",
   "metadata": {},
   "source": [
    "# minilab: Ασκήσεις εξάσκησης - Αριθμητική Python και Προεπεξεργασία δεδομένων"
   ]
  },
  {
   "cell_type": "markdown",
   "id": "500f0b36",
   "metadata": {},
   "source": [
    "## Η βιβλιοθήκη ``NumPy``"
   ]
  },
  {
   "cell_type": "markdown",
   "id": "3d8f5e5d",
   "metadata": {},
   "source": [
    "### Exercise 1: Creating and Manipulating NumPy Arrays\n",
    "\n",
    "Create a NumPy array containing the integers from 1 to 10. Then, write code to:\n",
    "\n",
    "1. Print the shape and dimensions of the array.\n",
    "\n",
    "2. Calculate the sum of all the elements in the array.\n",
    "\n",
    "3. Calculate the mean of the array."
   ]
  },
  {
   "cell_type": "code",
   "execution_count": null,
   "id": "f1256380",
   "metadata": {},
   "outputs": [],
   "source": [
    "# Implement code here"
   ]
  },
  {
   "cell_type": "markdown",
   "id": "4b1bc699",
   "metadata": {},
   "source": [
    "### Exercise 2: Indexing and Slicing\n",
    "\n",
    "Create a 2D NumPy array of shape (3, 4) with random integers. Write code to:\n",
    "\n",
    "1. Print the element at the second row and third column.\n",
    "\n",
    "2. Extract the first two rows and the last two columns of the array.\n",
    "\n",
    "3. Calculate the sum of all the elements in the second column."
   ]
  },
  {
   "cell_type": "code",
   "execution_count": null,
   "id": "41f8fe3d",
   "metadata": {},
   "outputs": [],
   "source": [
    "# Implement code here"
   ]
  },
  {
   "cell_type": "markdown",
   "id": "720cb58f",
   "metadata": {},
   "source": [
    "### Exercise 3: Element-wise Operations\n",
    "\n",
    "Create two 1D NumPy arrays of the same length with random numbers. Write code to:\n",
    "\n",
    "1. Add the two arrays element-wise and store the result in a new array.\n",
    "\n",
    "2. Multiply one of the arrays by a scalar value.\n",
    "\n",
    "3. Find the maximum value in the resulting array."
   ]
  },
  {
   "cell_type": "code",
   "execution_count": null,
   "id": "f957702a",
   "metadata": {},
   "outputs": [],
   "source": [
    "# Implement code here"
   ]
  },
  {
   "cell_type": "markdown",
   "id": "bdb82d4b",
   "metadata": {},
   "source": [
    "### Exercise 4: Reshaping and Transposing\n",
    "\n",
    "Create a 2D NumPy array of shape (3, 5) with random integers. Write code to:\n",
    "\n",
    "1. Reshape the array into a (5, 3) shape.\n",
    "\n",
    "2. Transpose the reshaped array."
   ]
  },
  {
   "cell_type": "code",
   "execution_count": null,
   "id": "a5440afb",
   "metadata": {},
   "outputs": [],
   "source": [
    "# Implement code here"
   ]
  },
  {
   "cell_type": "markdown",
   "id": "9a9dcc5a",
   "metadata": {},
   "source": [
    "### Exercise 5: Array Concatenation\n",
    "\n",
    "Create two 1D NumPy arrays of the same length. Write code to:\n",
    "\n",
    "1. Concatenate the arrays horizontally.\n",
    "\n",
    "2. Concatenate the arrays vertically."
   ]
  },
  {
   "cell_type": "code",
   "execution_count": null,
   "id": "1dbf3ff5",
   "metadata": {},
   "outputs": [],
   "source": [
    "# Implement code here"
   ]
  },
  {
   "cell_type": "markdown",
   "id": "838fce23",
   "metadata": {},
   "source": [
    "### Exercise 6: Boolean Indexing\n",
    "\n",
    "Create a 1D NumPy array of random integers. Write code to:\n",
    "\n",
    "1. Find and print all elements greater than a specific value (e.g., 5).\n",
    "\n",
    "2. Calculate the mean of the elements greater than the specific value."
   ]
  },
  {
   "cell_type": "code",
   "execution_count": null,
   "id": "2ffce9b5",
   "metadata": {},
   "outputs": [],
   "source": [
    "# Implement code here"
   ]
  },
  {
   "cell_type": "markdown",
   "id": "4497f0a2",
   "metadata": {},
   "source": [
    "### Exercise 7: Array Comparison and Filtering\n",
    "\n",
    "Create a 1D NumPy array of random integers. Write code to:\n",
    "\n",
    "1. Find and print the indices of elements that are greater than a specific value (e.g., 7).\n",
    "\n",
    "2. Create a new array containing only the elements greater than the specific value."
   ]
  },
  {
   "cell_type": "code",
   "execution_count": null,
   "id": "8758d3e9",
   "metadata": {},
   "outputs": [],
   "source": [
    "# Implement code here"
   ]
  },
  {
   "cell_type": "markdown",
   "id": "e34b3a5f",
   "metadata": {},
   "source": [
    "### Exercise 8: Element-wise Multiplication\n",
    "\n",
    "Create two 2D NumPy arrays of the same shape. Write code to multiply the two arrays element-wise."
   ]
  },
  {
   "cell_type": "code",
   "execution_count": null,
   "id": "6071464e",
   "metadata": {},
   "outputs": [],
   "source": [
    "# Implement code here"
   ]
  },
  {
   "cell_type": "markdown",
   "id": "0b51da41",
   "metadata": {},
   "source": [
    "### Exercise 9: Computing Statistics\n",
    "\n",
    "Create a 1D NumPy array of random floats. Write code to:\n",
    "\n",
    "1. Find and print the minimum and maximum values in the array.\n",
    "\n",
    "2. Calculate the standard deviation of the array."
   ]
  },
  {
   "cell_type": "code",
   "execution_count": null,
   "id": "9018f3df",
   "metadata": {},
   "outputs": [],
   "source": [
    "# Implement code here"
   ]
  },
  {
   "cell_type": "markdown",
   "id": "7c5a164b",
   "metadata": {},
   "source": [
    "### Exercise 10: Element-wise Absolute Values\n",
    "\n",
    "Create a 2D NumPy array with both positive and negative integers. Write code to calculate the absolute values of all elements in the array."
   ]
  },
  {
   "cell_type": "code",
   "execution_count": null,
   "id": "7e31e662",
   "metadata": {},
   "outputs": [],
   "source": [
    "# Implement code here"
   ]
  },
  {
   "cell_type": "markdown",
   "id": "bf318c22",
   "metadata": {},
   "source": [
    "### Exercise 11: Reading Data from File \n",
    "\n",
    "Read in the file called ``nearest_stars.txt`` in the data directory and determine the standard deviation of the distances of the stars with spectral type M."
   ]
  },
  {
   "cell_type": "code",
   "execution_count": null,
   "id": "bd8421b5",
   "metadata": {},
   "outputs": [],
   "source": [
    "# Implement code here"
   ]
  },
  {
   "cell_type": "markdown",
   "id": "08588a99",
   "metadata": {},
   "source": [
    "### Exercise 12.1: Create a Linear Dataset\n",
    "\n",
    "Your goal is to create a simple dataset consisting of x- and y-data as follows:\n",
    "\n",
    "1. Assign a sequence of integers from 6 to 20 (inclusive) to a ``NumPy`` array named ``x_data``.\n",
    "\n",
    "\n",
    "2. Assign 15 values to a ``NumPy`` array named ``y_data`` such that: $$y = 3x + 4$$"
   ]
  },
  {
   "cell_type": "code",
   "execution_count": null,
   "id": "721f2f33",
   "metadata": {},
   "outputs": [],
   "source": [
    "# Implement code here"
   ]
  },
  {
   "cell_type": "markdown",
   "id": "05c4d96c",
   "metadata": {},
   "source": [
    "### Exercise 12.2: Add Some Noise to the Dataset\n",
    "\n",
    "To make your dataset a little more realistic, insert a little random noise into each element of the ``y_data`` array you already created. To be more precise, modify each value assigned to ``y_data`` by adding a different random floating-point value between -2 and +2.\n",
    "\n",
    "Don't rely on broadcasting. Instead, create a noise array, called ``noise``, having the same dimension as ``y_data``.\n",
    "\n",
    "> **Hint**: Use the method [np.random.random_sample](https://numpy.org/doc/stable/reference/random/generated/numpy.random.random_sample.html#numpy.random.random_sample)"
   ]
  },
  {
   "cell_type": "code",
   "execution_count": null,
   "id": "fe3533e7",
   "metadata": {},
   "outputs": [],
   "source": [
    "# Implement code here"
   ]
  }
 ],
 "metadata": {
  "kernelspec": {
   "display_name": "Python 3 (ipykernel)",
   "language": "python",
   "name": "python3"
  },
  "language_info": {
   "codemirror_mode": {
    "name": "ipython",
    "version": 3
   },
   "file_extension": ".py",
   "mimetype": "text/x-python",
   "name": "python",
   "nbconvert_exporter": "python",
   "pygments_lexer": "ipython3",
   "version": "3.9.13"
  }
 },
 "nbformat": 4,
 "nbformat_minor": 5
}
