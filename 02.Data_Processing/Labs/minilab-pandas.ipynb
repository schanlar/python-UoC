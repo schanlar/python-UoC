{
 "cells": [
  {
   "cell_type": "markdown",
   "id": "fb3416a0",
   "metadata": {},
   "source": [
    "# minilab: Ασκήσεις εξάσκησης - Αριθμητική Python και Προεπεξεργασία δεδομένων"
   ]
  },
  {
   "cell_type": "markdown",
   "id": "7a77089e",
   "metadata": {},
   "source": [
    "## Η βιβλιοθήκη ``Pandas``"
   ]
  },
  {
   "cell_type": "markdown",
   "id": "6748596a",
   "metadata": {},
   "source": [
    "### Exercise 1.1: DataFrame Basics\n",
    "\n",
    "Do the following:\n",
    "\n",
    "Create an 3x4 (3 rows x 4 columns) Pandas DataFrame in which the columns are named ``Savvas``, ``Nikos``, ``Roman``, and ``Avinash``. Populate each of the 12 cells in the DataFrame with a **random integer** between 0 and 100 (inclusive).\n",
    "\n",
    "1. Output the entire DataFrame\n",
    "\n",
    "\n",
    "2. Output the value in the cell of row \\#1 of the Roman column\n",
    "\n",
    "\n",
    "3. Create a fifth column named ``Sums``, which is populated with the row-by-row sums of Roman and Avinash.\n",
    "\n",
    "> **Hint**: Use the [np.random.randint()](https://numpy.org/doc/stable/reference/random/generated/numpy.random.randint.html) method to get random integers in an interval."
   ]
  },
  {
   "cell_type": "code",
   "execution_count": null,
   "id": "57de2111",
   "metadata": {},
   "outputs": [],
   "source": [
    "# Implement code here"
   ]
  },
  {
   "cell_type": "markdown",
   "id": "6fa84ca7",
   "metadata": {},
   "source": [
    "### Exercise 1.2: DataFrame Basics (cont.)\n",
    "\n",
    "Create a Pandas DataFrame with the following data:\n",
    "\n",
    "```python\n",
    "data = {'Name': ['Alice', 'Bob', 'Charlie', 'David'],\n",
    "        'Age': [25, 30, 22, 35],\n",
    "        'City': ['New York', 'Los Angeles', 'Chicago', 'Houston']}\n",
    "\n",
    "```\n",
    "\n",
    "1. Print the first 3 rows of the DataFrame.\n",
    "\n",
    "2. Calculate the mean age of the individuals."
   ]
  },
  {
   "cell_type": "code",
   "execution_count": null,
   "id": "c19764ae",
   "metadata": {},
   "outputs": [],
   "source": [
    "# Implement code here"
   ]
  },
  {
   "cell_type": "markdown",
   "id": "c1489273",
   "metadata": {},
   "source": [
    "### Exercise 2: Data Filtering\n",
    "\n",
    "Given the DataFrame from Exercise 1.2, write code to:\n",
    "\n",
    "1. Create a new DataFrame containing only individuals older than 25.\n",
    "\n",
    "2. Find and print the names of individuals from Chicago."
   ]
  },
  {
   "cell_type": "code",
   "execution_count": null,
   "id": "3dc9f5d0",
   "metadata": {},
   "outputs": [],
   "source": [
    "# Implement code here"
   ]
  },
  {
   "cell_type": "markdown",
   "id": "13616083",
   "metadata": {},
   "source": [
    "### Exercise 3: Data Sorting\n",
    "\n",
    "Given the DataFrame from Exercise 1.2, write code to:\n",
    "\n",
    "1. Sort the DataFrame by age in descending order.\n",
    "\n",
    "2. Sort the DataFrame by name in alphabetical order."
   ]
  },
  {
   "cell_type": "code",
   "execution_count": null,
   "id": "13720e39",
   "metadata": {},
   "outputs": [],
   "source": [
    "# Implement code here"
   ]
  },
  {
   "cell_type": "markdown",
   "id": "78fd5068",
   "metadata": {},
   "source": [
    "### Exercise 4: Using ``loc`` for Label-Based Indexing\n",
    "\n",
    "Given the following DataFrame df:\n",
    "\n",
    "```python\n",
    "data = {'A': [1, 2, 3, 4, 5],\n",
    "        'B': [10, 20, 30, 40, 50],\n",
    "        'C': ['apple', 'banana', 'cherry', 'date', 'elderberry']}\n",
    "\n",
    "df = pd.DataFrame(data, index=['one', 'two', 'three', 'four', 'five'])\n",
    "```\n",
    "\n",
    "1. Use the ``loc`` indexer to select and print the row with the label 'three'.\n",
    "\n",
    "2. Use the ``loc`` indexer to select and print the values from columns 'A' and 'C' for the rows with labels 'two' and 'four'."
   ]
  },
  {
   "cell_type": "code",
   "execution_count": null,
   "id": "263e3ca8",
   "metadata": {},
   "outputs": [],
   "source": [
    "# Implement code here"
   ]
  },
  {
   "cell_type": "markdown",
   "id": "e86e3d27",
   "metadata": {},
   "source": [
    "### Exercise 5: Using ``iloc`` for Integer-Based Indexing\n",
    "\n",
    "Given the following DataFrame df:\n",
    "\n",
    "```python\n",
    "data = {'X': [11, 22, 33, 44, 55],\n",
    "        'Y': [110, 220, 330, 440, 550],\n",
    "        'Z': ['apple', 'banana', 'cherry', 'date', 'elderberry']}\n",
    "\n",
    "df = pd.DataFrame(data)\n",
    "```\n",
    "\n",
    "1. Use the ``iloc`` indexer to select and print the first row.\n",
    "\n",
    "2. Use the ``iloc`` indexer to select and print the values from columns 'X' and 'Z' for the second and fourth rows."
   ]
  },
  {
   "cell_type": "code",
   "execution_count": null,
   "id": "c20e88d2",
   "metadata": {},
   "outputs": [],
   "source": [
    "# Implement code here"
   ]
  },
  {
   "cell_type": "markdown",
   "id": "132dba49",
   "metadata": {},
   "source": [
    "### Exercise 6: Data Import and Export\n",
    "\n",
    "1. Read a CSV file named \"employees.csv\", in the data directory, into a Pandas DataFrame.\n",
    "\n",
    "2. Export the DataFrame from part 1 to a new CSV file named \"output.csv\"."
   ]
  },
  {
   "cell_type": "code",
   "execution_count": null,
   "id": "c71c05d4",
   "metadata": {},
   "outputs": [],
   "source": [
    "# Implement code here"
   ]
  },
  {
   "cell_type": "markdown",
   "id": "6def4158",
   "metadata": {},
   "source": [
    "### Exercise 7: Missing Data Handling\n",
    "\n",
    "Below you are given a DataFrame with missing values. \n",
    "\n",
    "```python\n",
    "data_na = {'Name': ['Alice', 'Bob', 'Charlie', 'David', 'Eve'],\n",
    "        'Age': [25, 30, 22, np.nan, 29],\n",
    "        'Score1': [85, 92, 78, 65, 88],\n",
    "        'Score2': [90, 87, 75, 60, np.nan]}\n",
    "```\n",
    "\n",
    "Write code to:\n",
    "\n",
    "1. Fill missing values in the \"Age\" column with the mean age.\n",
    "\n",
    "2. Remove rows with missing values."
   ]
  },
  {
   "cell_type": "code",
   "execution_count": null,
   "id": "2b05cd5e",
   "metadata": {},
   "outputs": [],
   "source": [
    "# Implement code here"
   ]
  },
  {
   "cell_type": "markdown",
   "id": "83c24c32",
   "metadata": {},
   "source": [
    "### Exercise 8: Adding New Columns\n",
    "\n",
    "Create a dictionary that contains the data in the following table. Then, convert this dictionary into a DataFrame. Use Hubble's law ($v = H_0 D$) to calculate the distance (in Mpc) of the galaxies and add it as a new column to the DataFrame.\n",
    "\n",
    "| Galaxy    | Velocity (km/s) |\n",
    "|-----------|-----------------|\n",
    "| NGC 123   | 1320            |\n",
    "| NGC 2342  | 5690            |\n",
    "| NGC 4442  | 8200            |\n",
    "\n",
    "Remember that $H_0 \\simeq 70$ km/s/Mpc."
   ]
  },
  {
   "cell_type": "code",
   "execution_count": null,
   "id": "ca0a2d44",
   "metadata": {},
   "outputs": [],
   "source": [
    "# Implement code here"
   ]
  },
  {
   "cell_type": "markdown",
   "id": "efee6df0",
   "metadata": {},
   "source": [
    "### Exercise 9: Data Pre-processing with Pandas\n",
    "\n",
    "Suppose you have a dataset containing information about student performance, but it requires some basic pre-processing before analysis. You are provided with a DataFrame named ``students_df`` with the following columns: 'StudentID', 'Name', 'MathScore', 'ScienceScore', 'EnglishScore', and 'TotalScore'. \n",
    "\n",
    "The exercise involves data pre-processing tasks to clean and prepare the data for analysis.\n",
    "\n",
    "```python\n",
    "data = {\n",
    "    'StudentID': [1, 2, 3, 4, 5],\n",
    "    'Name': ['Alice', 'Bob', 'Charlie', 'David', 'Eve'],\n",
    "    'MathScore': [85, 92, 78, 65, 88],\n",
    "    'ScienceScore': [90, 87, 75, 88, 92],\n",
    "    'EnglishScore': [80, 75, 88, 79, 95],\n",
    "    'TotalScore': [265, 152, 541, 202, 215]\n",
    "}\n",
    "\n",
    "students_df = pd.DataFrame(data)\n",
    "```\n",
    "\n",
    "**Your task**:\n",
    "\n",
    "1. The data in the 'TotalScore' column seems to be incorrect and needs to be recalculated as the sum of Math, Science, and English scores. Recalculate the 'TotalScore' column as the sum of MathScore, ScienceScore, and EnglishScore.\n",
    "\n",
    "2. Identify and handle any missing values (if present) in the dataset. Print the modified DataFrame.\n",
    "\n",
    "3. Calculate and add a new column 'AverageScore' that represents the average score of each student across subjects.\n",
    "\n",
    "4. Find and print the student with the highest 'AverageScore'.\n",
    "\n",
    "5. Identify and filter students who have scored 90 or above in at least one subject (Math, Science, or English).\n",
    "\n",
    "6. Print the DataFrame containing only the students who meet the criteria in part 5."
   ]
  },
  {
   "cell_type": "code",
   "execution_count": null,
   "id": "b55f9f28",
   "metadata": {},
   "outputs": [],
   "source": [
    "# Implement code for task 1 here"
   ]
  },
  {
   "cell_type": "code",
   "execution_count": null,
   "id": "293f7b9e",
   "metadata": {},
   "outputs": [],
   "source": [
    "# Implement code for task 2 here"
   ]
  },
  {
   "cell_type": "code",
   "execution_count": null,
   "id": "2a3ae56a",
   "metadata": {},
   "outputs": [],
   "source": [
    "# Implement code for task 3 here"
   ]
  },
  {
   "cell_type": "code",
   "execution_count": null,
   "id": "bb66fe2e",
   "metadata": {},
   "outputs": [],
   "source": [
    "# Implement code for task 4 here"
   ]
  },
  {
   "cell_type": "code",
   "execution_count": null,
   "id": "5e992885",
   "metadata": {},
   "outputs": [],
   "source": [
    "# Implement code for task 5 here"
   ]
  },
  {
   "cell_type": "code",
   "execution_count": null,
   "id": "138fba3b",
   "metadata": {},
   "outputs": [],
   "source": [
    "# Implement code for task 6 here"
   ]
  }
 ],
 "metadata": {
  "kernelspec": {
   "display_name": "Python 3 (ipykernel)",
   "language": "python",
   "name": "python3"
  },
  "language_info": {
   "codemirror_mode": {
    "name": "ipython",
    "version": 3
   },
   "file_extension": ".py",
   "mimetype": "text/x-python",
   "name": "python",
   "nbconvert_exporter": "python",
   "pygments_lexer": "ipython3",
   "version": "3.9.13"
  }
 },
 "nbformat": 4,
 "nbformat_minor": 5
}
