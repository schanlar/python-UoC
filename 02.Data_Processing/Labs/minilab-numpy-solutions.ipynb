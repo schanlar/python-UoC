{
 "cells": [
  {
   "cell_type": "markdown",
   "id": "fb3416a0",
   "metadata": {},
   "source": [
    "# minilab: Ασκήσεις εξάσκησης - Αριθμητική Python και Προεπεξεργασία δεδομένων"
   ]
  },
  {
   "cell_type": "markdown",
   "id": "500f0b36",
   "metadata": {},
   "source": [
    "## Η βιβλιοθήκη ``NumPy``"
   ]
  },
  {
   "cell_type": "code",
   "execution_count": 1,
   "id": "535a3601",
   "metadata": {},
   "outputs": [],
   "source": [
    "# Import the numpy module here once\n",
    "import numpy as np"
   ]
  },
  {
   "cell_type": "markdown",
   "id": "3d8f5e5d",
   "metadata": {},
   "source": [
    "### Exercise 1: Creating and Manipulating NumPy Arrays\n",
    "\n",
    "Create a NumPy array containing the integers from 1 to 10. Then, write code to:\n",
    "\n",
    "1. Print the shape and dimensions of the array.\n",
    "\n",
    "2. Calculate the sum of all the elements in the array.\n",
    "\n",
    "3. Calculate the mean of the array."
   ]
  },
  {
   "cell_type": "code",
   "execution_count": 2,
   "id": "df5f21da",
   "metadata": {},
   "outputs": [
    {
     "name": "stdout",
     "output_type": "stream",
     "text": [
      "Shape: (10,)\n",
      "Dimensions: 1\n",
      "Sum: 55\n",
      "Mean: 5.5\n"
     ]
    }
   ],
   "source": [
    "# Create the array\n",
    "arr = np.arange(1, 11)\n",
    "\n",
    "# 1. Print shape and dimensions\n",
    "print(\"Shape:\", arr.shape)\n",
    "print(\"Dimensions:\", arr.ndim)\n",
    "\n",
    "# 2. Calculate sum\n",
    "sum_elements = np.sum(arr)\n",
    "print(\"Sum:\", sum_elements)\n",
    "\n",
    "# 3. Calculate mean\n",
    "mean_value = np.mean(arr)\n",
    "print(\"Mean:\", mean_value)"
   ]
  },
  {
   "cell_type": "markdown",
   "id": "4b1bc699",
   "metadata": {},
   "source": [
    "### Exercise 2: Indexing and Slicing\n",
    "\n",
    "Create a 2D NumPy array of shape (3, 4) with random integers. Write code to:\n",
    "\n",
    "1. Print the element at the second row and third column.\n",
    "\n",
    "2. Extract the first two rows and the last two columns of the array.\n",
    "\n",
    "3. Calculate the sum of all the elements in the second column."
   ]
  },
  {
   "cell_type": "code",
   "execution_count": 3,
   "id": "42ab2dbf",
   "metadata": {},
   "outputs": [
    {
     "name": "stdout",
     "output_type": "stream",
     "text": [
      "Element at 2nd row, 3rd col: 3\n",
      "Subset:\n",
      " [[3 3]\n",
      " [3 3]]\n",
      "Sum of the second column: 13\n"
     ]
    }
   ],
   "source": [
    "# Create a 2D array\n",
    "arr_2d = np.random.randint(1, 10, size=(3, 4))\n",
    "\n",
    "# 1. Print element at second row and third column\n",
    "print(\"Element at 2nd row, 3rd col:\", arr_2d[1, 2])\n",
    "\n",
    "# 2. Extract first two rows and last two columns\n",
    "subset = arr_2d[:2, -2:]\n",
    "print(\"Subset:\\n\", subset)\n",
    "\n",
    "# 3. Calculate sum of the second column\n",
    "sum_second_column = np.sum(arr_2d[:, 1])\n",
    "print(\"Sum of the second column:\", sum_second_column)"
   ]
  },
  {
   "cell_type": "markdown",
   "id": "720cb58f",
   "metadata": {},
   "source": [
    "### Exercise 3: Element-wise Operations\n",
    "\n",
    "Create two 1D NumPy arrays of the same length with random numbers. Write code to:\n",
    "\n",
    "1. Add the two arrays element-wise and store the result in a new array.\n",
    "\n",
    "2. Multiply one of the arrays by a scalar value.\n",
    "\n",
    "3. Find the maximum value in the resulting array."
   ]
  },
  {
   "cell_type": "code",
   "execution_count": 4,
   "id": "9e42d330",
   "metadata": {},
   "outputs": [
    {
     "name": "stdout",
     "output_type": "stream",
     "text": [
      "Element-wise addition: [6 6 6 6 6]\n",
      "Multiplication by a scalar: [ 2  4  6  8 10]\n",
      "Maximum value: 6\n"
     ]
    }
   ],
   "source": [
    "# Create two 1D arrays\n",
    "arr1 = np.array([1, 2, 3, 4, 5])\n",
    "arr2 = np.array([5, 4, 3, 2, 1])\n",
    "\n",
    "# 1. Add arrays element-wise\n",
    "result_add = arr1 + arr2\n",
    "print(\"Element-wise addition:\", result_add)\n",
    "\n",
    "# 2. Multiply one array by a scalar\n",
    "scalar = 2\n",
    "result_multiply = arr1 * scalar\n",
    "print(\"Multiplication by a scalar:\", result_multiply)\n",
    "\n",
    "# 3. Find maximum value in the result\n",
    "max_value = np.max(result_add)\n",
    "print(\"Maximum value:\", max_value)"
   ]
  },
  {
   "cell_type": "markdown",
   "id": "bdb82d4b",
   "metadata": {},
   "source": [
    "### Exercise 4: Reshaping and Transposing\n",
    "\n",
    "Create a 2D NumPy array of shape (3, 5) with random integers. Write code to:\n",
    "\n",
    "1. Reshape the array into a (5, 3) shape.\n",
    "\n",
    "2. Transpose the reshaped array."
   ]
  },
  {
   "cell_type": "code",
   "execution_count": 5,
   "id": "6df0b76c",
   "metadata": {},
   "outputs": [
    {
     "name": "stdout",
     "output_type": "stream",
     "text": [
      "Reshaped array:\n",
      " [[2 9 1]\n",
      " [5 1 4]\n",
      " [4 3 7]\n",
      " [2 5 8]\n",
      " [1 5 6]]\n",
      "Transposed array:\n",
      " [[2 5 4 2 1]\n",
      " [9 1 3 5 5]\n",
      " [1 4 7 8 6]]\n"
     ]
    }
   ],
   "source": [
    "# Create a 2D array\n",
    "arr_2d = np.random.randint(1, 10, size=(3, 5))\n",
    "\n",
    "# 1. Reshape into (5, 3)\n",
    "reshaped_arr = arr_2d.reshape((5, 3))\n",
    "print(\"Reshaped array:\\n\", reshaped_arr)\n",
    "\n",
    "# 2. Transpose the reshaped array\n",
    "transposed_arr = reshaped_arr.T\n",
    "print(\"Transposed array:\\n\", transposed_arr)"
   ]
  },
  {
   "cell_type": "markdown",
   "id": "9a9dcc5a",
   "metadata": {},
   "source": [
    "### Exercise 5: Array Concatenation\n",
    "\n",
    "Create two 1D NumPy arrays of the same length. Write code to:\n",
    "\n",
    "1. Concatenate the arrays horizontally.\n",
    "\n",
    "2. Concatenate the arrays vertically."
   ]
  },
  {
   "cell_type": "code",
   "execution_count": 6,
   "id": "8795ddec",
   "metadata": {},
   "outputs": [
    {
     "name": "stdout",
     "output_type": "stream",
     "text": [
      "Horizontal Concatenation: [1 2 3 4 5 6]\n",
      "Vertical Concatenation:\n",
      " [[1 2 3]\n",
      " [4 5 6]]\n"
     ]
    }
   ],
   "source": [
    "# Create two 1D arrays\n",
    "arr1 = np.array([1, 2, 3])\n",
    "arr2 = np.array([4, 5, 6])\n",
    "\n",
    "# 1. Concatenate horizontally\n",
    "horizontal_concat = np.concatenate((arr1, arr2))\n",
    "print(\"Horizontal Concatenation:\", horizontal_concat)\n",
    "\n",
    "# 2. Concatenate vertically\n",
    "vertical_concat = np.vstack((arr1, arr2))\n",
    "print(\"Vertical Concatenation:\\n\", vertical_concat)"
   ]
  },
  {
   "cell_type": "markdown",
   "id": "838fce23",
   "metadata": {},
   "source": [
    "### Exercise 6: Boolean Indexing\n",
    "\n",
    "Create a 1D NumPy array of random integers. Write code to:\n",
    "\n",
    "1. Find and print all elements greater than a specific value (e.g., 5).\n",
    "\n",
    "2. Calculate the mean of the elements greater than the specific value."
   ]
  },
  {
   "cell_type": "code",
   "execution_count": 7,
   "id": "52b2565d",
   "metadata": {},
   "outputs": [
    {
     "name": "stdout",
     "output_type": "stream",
     "text": [
      "Elements greater than 5: [9 8 8 8]\n",
      "Mean of elements greater than 5: 8.25\n"
     ]
    }
   ],
   "source": [
    "# Create a 1D array\n",
    "arr = np.random.randint(1, 10, size=10)\n",
    "\n",
    "# 1. Find elements greater than 5\n",
    "greater_than_5 = arr[arr > 5]\n",
    "print(\"Elements greater than 5:\", greater_than_5)\n",
    "\n",
    "# 2. Calculate mean of elements greater than 5\n",
    "mean_greater_than_5 = np.mean(greater_than_5)\n",
    "print(\"Mean of elements greater than 5:\", mean_greater_than_5)"
   ]
  },
  {
   "cell_type": "markdown",
   "id": "4497f0a2",
   "metadata": {},
   "source": [
    "### Exercise 7: Array Comparison and Filtering\n",
    "\n",
    "Create a 1D NumPy array of random integers. Write code to:\n",
    "\n",
    "1. Find and print the indices of elements that are greater than a specific value (e.g., 7).\n",
    "\n",
    "2. Create a new array containing only the elements greater than the specific value."
   ]
  },
  {
   "cell_type": "code",
   "execution_count": 8,
   "id": "077165e9",
   "metadata": {},
   "outputs": [
    {
     "name": "stdout",
     "output_type": "stream",
     "text": [
      "Indices of elements greater than 7: (array([3]),)\n",
      "New array with elements greater than 7: [9]\n"
     ]
    }
   ],
   "source": [
    "# Create a 1D array\n",
    "arr = np.random.randint(1, 10, size=10)\n",
    "\n",
    "# 1. Find indices of elements greater than 7\n",
    "indices_greater_than_7 = np.where(arr > 7)\n",
    "print(\"Indices of elements greater than 7:\", indices_greater_than_7)\n",
    "\n",
    "# 2. Create a new array with elements greater than 7\n",
    "new_arr = arr[arr > 7]\n",
    "print(\"New array with elements greater than 7:\", new_arr)"
   ]
  },
  {
   "cell_type": "markdown",
   "id": "e34b3a5f",
   "metadata": {},
   "source": [
    "### Exercise 8: Element-wise Multiplication\n",
    "\n",
    "Create two 2D NumPy arrays of the same shape. Write code to multiply the two arrays element-wise."
   ]
  },
  {
   "cell_type": "code",
   "execution_count": 9,
   "id": "d7501bd8",
   "metadata": {},
   "outputs": [
    {
     "name": "stdout",
     "output_type": "stream",
     "text": [
      "Element-wise multiplication result:\n",
      " [[ 2  6]\n",
      " [12 20]]\n"
     ]
    }
   ],
   "source": [
    "# Create two 2D arrays\n",
    "arr1 = np.array([[1, 2], [3, 4]])\n",
    "arr2 = np.array([[2, 3], [4, 5]])\n",
    "\n",
    "# Multiply arrays element-wise\n",
    "result = arr1 * arr2\n",
    "print(\"Element-wise multiplication result:\\n\", result)"
   ]
  },
  {
   "cell_type": "markdown",
   "id": "0b51da41",
   "metadata": {},
   "source": [
    "### Exercise 9: Computing Statistics\n",
    "\n",
    "Create a 1D NumPy array of random floats. Write code to:\n",
    "\n",
    "1. Find and print the minimum and maximum values in the array.\n",
    "\n",
    "2. Calculate the standard deviation of the array."
   ]
  },
  {
   "cell_type": "code",
   "execution_count": 10,
   "id": "3c3d09f9",
   "metadata": {},
   "outputs": [
    {
     "name": "stdout",
     "output_type": "stream",
     "text": [
      "Minimum value: 0.10602002333109872\n",
      "Maximum value: 0.9164314854464037\n",
      "Standard Deviation: 0.2998350516297167\n"
     ]
    }
   ],
   "source": [
    "# Create a 1D array of random floats\n",
    "arr = np.random.rand(10)\n",
    "\n",
    "# 1. Find minimum and maximum values\n",
    "min_value = np.min(arr)\n",
    "max_value = np.max(arr)\n",
    "print(\"Minimum value:\", min_value)\n",
    "print(\"Maximum value:\", max_value)\n",
    "\n",
    "# 2. Calculate standard deviation\n",
    "std_deviation = np.std(arr)\n",
    "print(\"Standard Deviation:\", std_deviation)"
   ]
  },
  {
   "cell_type": "markdown",
   "id": "7c5a164b",
   "metadata": {},
   "source": [
    "### Exercise 10: Element-wise Absolute Values\n",
    "\n",
    "Create a 2D NumPy array with both positive and negative integers. Write code to calculate the absolute values of all elements in the array."
   ]
  },
  {
   "cell_type": "code",
   "execution_count": 11,
   "id": "c6aa620d",
   "metadata": {},
   "outputs": [
    {
     "name": "stdout",
     "output_type": "stream",
     "text": [
      "Absolute values:\n",
      " [[1 2 3]\n",
      " [4 5 6]]\n"
     ]
    }
   ],
   "source": [
    "# Create a 2D array with positive and negative integers\n",
    "arr = np.array([[1, -2, 3], [-4, 5, -6]])\n",
    "\n",
    "# Calculate absolute values\n",
    "abs_values = np.abs(arr)\n",
    "print(\"Absolute values:\\n\", abs_values)"
   ]
  },
  {
   "cell_type": "markdown",
   "id": "bf318c22",
   "metadata": {},
   "source": [
    "### Exercise 11: Reading Data from File \n",
    "\n",
    "Read in the file called ``nearest_stars.txt`` in the data directory and determine the standard deviation of the distances of the stars with spectral type M."
   ]
  },
  {
   "cell_type": "code",
   "execution_count": 12,
   "id": "2a726825",
   "metadata": {},
   "outputs": [
    {
     "name": "stdout",
     "output_type": "stream",
     "text": [
      "Standard Deviation of Distances for Spectral Type 'M' Stars: 1.5982680475674285\n"
     ]
    }
   ],
   "source": [
    "# Use genfromtxt to read the data\n",
    "\n",
    "# Explanation of parameters:\n",
    "# - 'delimiter' : Specifies the character that separates the columns (in this case, a comma).\n",
    "# - 'dtype=None': Automatically determines the data type of each column.\n",
    "# - 'names=True': Treats the first row as column names (header).\n",
    "data = np.genfromtxt(\"../data/nearest_stars.txt\", delimiter=',', dtype=None, names=True, encoding=None)\n",
    "\n",
    "# Now you can access the data using column names as keys\n",
    "\n",
    "# Filter the data to select rows with spectral type \"M\"\n",
    "m_type_stars = data[data['Spectral_Type'] == 'M']\n",
    "\n",
    "# Extract the distances for \"M\" type stars\n",
    "distances_m_type = m_type_stars['Distance']\n",
    "\n",
    "# Calculate the standard deviation\n",
    "std_deviation = np.std(distances_m_type)\n",
    "\n",
    "print(\"Standard Deviation of Distances for Spectral Type 'M' Stars:\", std_deviation)"
   ]
  }
 ],
 "metadata": {
  "kernelspec": {
   "display_name": "Python 3 (ipykernel)",
   "language": "python",
   "name": "python3"
  },
  "language_info": {
   "codemirror_mode": {
    "name": "ipython",
    "version": 3
   },
   "file_extension": ".py",
   "mimetype": "text/x-python",
   "name": "python",
   "nbconvert_exporter": "python",
   "pygments_lexer": "ipython3",
   "version": "3.9.13"
  }
 },
 "nbformat": 4,
 "nbformat_minor": 5
}
