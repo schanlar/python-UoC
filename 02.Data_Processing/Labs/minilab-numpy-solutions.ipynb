{
 "cells": [
  {
   "cell_type": "markdown",
   "id": "fb3416a0",
   "metadata": {},
   "source": [
    "# minilab: Ασκήσεις εξάσκησης - Αριθμητική Python και Προεπεξεργασία δεδομένων"
   ]
  },
  {
   "cell_type": "markdown",
   "id": "500f0b36",
   "metadata": {},
   "source": [
    "## Η βιβλιοθήκη ``NumPy``"
   ]
  },
  {
   "cell_type": "code",
   "execution_count": 1,
   "id": "535a3601",
   "metadata": {},
   "outputs": [],
   "source": [
    "# Import the numpy module here once\n",
    "import numpy as np"
   ]
  },
  {
   "cell_type": "markdown",
   "id": "3d8f5e5d",
   "metadata": {},
   "source": [
    "### Exercise 1: Creating and Manipulating NumPy Arrays\n",
    "\n",
    "Create a NumPy array containing the integers from 1 to 10. Then, write code to:\n",
    "\n",
    "1. Print the shape and dimensions of the array.\n",
    "\n",
    "2. Calculate the sum of all the elements in the array.\n",
    "\n",
    "3. Calculate the mean of the array."
   ]
  },
  {
   "cell_type": "code",
   "execution_count": 2,
   "id": "df5f21da",
   "metadata": {},
   "outputs": [
    {
     "name": "stdout",
     "output_type": "stream",
     "text": [
      "Shape: (10,)\n",
      "Dimensions: 1\n",
      "Sum: 55\n",
      "Mean: 5.5\n"
     ]
    }
   ],
   "source": [
    "# Create the array\n",
    "arr = np.arange(1, 11)\n",
    "\n",
    "# 1. Print shape and dimensions\n",
    "print(\"Shape:\", arr.shape)\n",
    "print(\"Dimensions:\", arr.ndim)\n",
    "\n",
    "# 2. Calculate sum\n",
    "sum_elements = np.sum(arr)\n",
    "print(\"Sum:\", sum_elements)\n",
    "\n",
    "# 3. Calculate mean\n",
    "mean_value = np.mean(arr)\n",
    "print(\"Mean:\", mean_value)"
   ]
  },
  {
   "cell_type": "markdown",
   "id": "f602a03e",
   "metadata": {},
   "source": [
    "---"
   ]
  },
  {
   "cell_type": "markdown",
   "id": "4b1bc699",
   "metadata": {},
   "source": [
    "### Exercise 2: Indexing and Slicing\n",
    "\n",
    "Create a 2D NumPy array of shape (3, 4) with random integers. Write code to:\n",
    "\n",
    "1. Print the element at the second row and third column.\n",
    "\n",
    "2. Extract the first two rows and the last two columns of the array.\n",
    "\n",
    "3. Calculate the sum of all the elements in the second column."
   ]
  },
  {
   "cell_type": "code",
   "execution_count": 3,
   "id": "42ab2dbf",
   "metadata": {},
   "outputs": [
    {
     "name": "stdout",
     "output_type": "stream",
     "text": [
      "Element at 2nd row, 3rd col: 3\n",
      "Subset:\n",
      " [[3 6]\n",
      " [3 7]]\n",
      "Sum of the second column: 12\n"
     ]
    }
   ],
   "source": [
    "# Create a 2D array\n",
    "arr_2d = np.random.randint(1, 10, size=(3, 4))\n",
    "\n",
    "# 1. Print element at second row and third column\n",
    "print(\"Element at 2nd row, 3rd col:\", arr_2d[1, 2])\n",
    "\n",
    "# 2. Extract first two rows and last two columns\n",
    "subset = arr_2d[:2, -2:]\n",
    "print(\"Subset:\\n\", subset)\n",
    "\n",
    "# 3. Calculate sum of the second column\n",
    "sum_second_column = np.sum(arr_2d[:, 1])\n",
    "print(\"Sum of the second column:\", sum_second_column)"
   ]
  },
  {
   "cell_type": "markdown",
   "id": "9ceb9a18",
   "metadata": {},
   "source": [
    "---"
   ]
  },
  {
   "cell_type": "markdown",
   "id": "720cb58f",
   "metadata": {},
   "source": [
    "### Exercise 3: Element-wise Operations\n",
    "\n",
    "Create two 1D NumPy arrays of the same length with random numbers. Write code to:\n",
    "\n",
    "1. Add the two arrays element-wise and store the result in a new array.\n",
    "\n",
    "2. Multiply one of the arrays by a scalar value.\n",
    "\n",
    "3. Find the maximum value in the resulting array."
   ]
  },
  {
   "cell_type": "code",
   "execution_count": 4,
   "id": "9e42d330",
   "metadata": {},
   "outputs": [
    {
     "name": "stdout",
     "output_type": "stream",
     "text": [
      "Element-wise addition: [6 6 6 6 6]\n",
      "Multiplication by a scalar: [ 2  4  6  8 10]\n",
      "Maximum value: 6\n"
     ]
    }
   ],
   "source": [
    "# Create two 1D arrays\n",
    "arr1 = np.array([1, 2, 3, 4, 5])\n",
    "arr2 = np.array([5, 4, 3, 2, 1])\n",
    "\n",
    "# 1. Add arrays element-wise\n",
    "result_add = arr1 + arr2\n",
    "print(\"Element-wise addition:\", result_add)\n",
    "\n",
    "# 2. Multiply one array by a scalar\n",
    "scalar = 2\n",
    "result_multiply = arr1 * scalar\n",
    "print(\"Multiplication by a scalar:\", result_multiply)\n",
    "\n",
    "# 3. Find maximum value in the result\n",
    "max_value = np.max(result_add)\n",
    "print(\"Maximum value:\", max_value)"
   ]
  },
  {
   "cell_type": "markdown",
   "id": "dcdbb54b",
   "metadata": {},
   "source": [
    "---"
   ]
  },
  {
   "cell_type": "markdown",
   "id": "bdb82d4b",
   "metadata": {},
   "source": [
    "### Exercise 4: Reshaping and Transposing\n",
    "\n",
    "Create a 2D NumPy array of shape (3, 5) with random integers. Write code to:\n",
    "\n",
    "1. Reshape the array into a (5, 3) shape.\n",
    "\n",
    "2. Transpose the reshaped array."
   ]
  },
  {
   "cell_type": "code",
   "execution_count": 5,
   "id": "6df0b76c",
   "metadata": {},
   "outputs": [
    {
     "name": "stdout",
     "output_type": "stream",
     "text": [
      "Reshaped array:\n",
      " [[9 6 5]\n",
      " [2 6 2]\n",
      " [4 2 6]\n",
      " [1 8 7]\n",
      " [6 6 6]]\n",
      "Transposed array:\n",
      " [[9 2 4 1 6]\n",
      " [6 6 2 8 6]\n",
      " [5 2 6 7 6]]\n"
     ]
    }
   ],
   "source": [
    "# Create a 2D array\n",
    "arr_2d = np.random.randint(1, 10, size=(3, 5))\n",
    "\n",
    "# 1. Reshape into (5, 3)\n",
    "reshaped_arr = arr_2d.reshape((5, 3))\n",
    "print(\"Reshaped array:\\n\", reshaped_arr)\n",
    "\n",
    "# 2. Transpose the reshaped array\n",
    "transposed_arr = reshaped_arr.T\n",
    "print(\"Transposed array:\\n\", transposed_arr)"
   ]
  },
  {
   "cell_type": "markdown",
   "id": "80f3bda4",
   "metadata": {},
   "source": [
    "---"
   ]
  },
  {
   "cell_type": "markdown",
   "id": "9a9dcc5a",
   "metadata": {},
   "source": [
    "### Exercise 5: Array Concatenation\n",
    "\n",
    "Create two 1D NumPy arrays of the same length. Write code to:\n",
    "\n",
    "1. Concatenate the arrays horizontally.\n",
    "\n",
    "2. Concatenate the arrays vertically."
   ]
  },
  {
   "cell_type": "code",
   "execution_count": 6,
   "id": "8795ddec",
   "metadata": {},
   "outputs": [
    {
     "name": "stdout",
     "output_type": "stream",
     "text": [
      "Horizontal Concatenation: [1 2 3 4 5 6]\n",
      "Vertical Concatenation:\n",
      " [[1 2 3]\n",
      " [4 5 6]]\n"
     ]
    }
   ],
   "source": [
    "# Create two 1D arrays\n",
    "arr1 = np.array([1, 2, 3])\n",
    "arr2 = np.array([4, 5, 6])\n",
    "\n",
    "# 1. Concatenate horizontally\n",
    "horizontal_concat = np.concatenate((arr1, arr2))\n",
    "print(\"Horizontal Concatenation:\", horizontal_concat)\n",
    "\n",
    "# 2. Concatenate vertically\n",
    "vertical_concat = np.vstack((arr1, arr2))\n",
    "print(\"Vertical Concatenation:\\n\", vertical_concat)"
   ]
  },
  {
   "cell_type": "markdown",
   "id": "fed8f23b",
   "metadata": {},
   "source": [
    "---"
   ]
  },
  {
   "cell_type": "markdown",
   "id": "838fce23",
   "metadata": {},
   "source": [
    "### Exercise 6: Boolean Indexing\n",
    "\n",
    "Create a 1D NumPy array of random integers. Write code to:\n",
    "\n",
    "1. Find and print all elements greater than a specific value (e.g., 5).\n",
    "\n",
    "2. Calculate the mean of the elements greater than the specific value."
   ]
  },
  {
   "cell_type": "code",
   "execution_count": 7,
   "id": "52b2565d",
   "metadata": {},
   "outputs": [
    {
     "name": "stdout",
     "output_type": "stream",
     "text": [
      "Elements greater than 5: [6 6 6 6 7 8 6]\n",
      "Mean of elements greater than 5: 6.428571428571429\n"
     ]
    }
   ],
   "source": [
    "# Create a 1D array\n",
    "arr = np.random.randint(1, 10, size=10)\n",
    "\n",
    "# 1. Find elements greater than 5\n",
    "greater_than_5 = arr[arr > 5]\n",
    "print(\"Elements greater than 5:\", greater_than_5)\n",
    "\n",
    "# 2. Calculate mean of elements greater than 5\n",
    "mean_greater_than_5 = np.mean(greater_than_5)\n",
    "print(\"Mean of elements greater than 5:\", mean_greater_than_5)"
   ]
  },
  {
   "cell_type": "markdown",
   "id": "83e7fd03",
   "metadata": {},
   "source": [
    "---"
   ]
  },
  {
   "cell_type": "markdown",
   "id": "4497f0a2",
   "metadata": {},
   "source": [
    "### Exercise 7: Array Comparison and Filtering\n",
    "\n",
    "Create a 1D NumPy array of random integers. Write code to:\n",
    "\n",
    "1. Find and print the indices of elements that are greater than a specific value (e.g., 7).\n",
    "\n",
    "2. Create a new array containing only the elements greater than the specific value."
   ]
  },
  {
   "cell_type": "code",
   "execution_count": 8,
   "id": "077165e9",
   "metadata": {},
   "outputs": [
    {
     "name": "stdout",
     "output_type": "stream",
     "text": [
      "Indices of elements greater than 7: (array([0]),)\n",
      "New array with elements greater than 7: [8]\n"
     ]
    }
   ],
   "source": [
    "# Create a 1D array\n",
    "arr = np.random.randint(1, 10, size=10)\n",
    "\n",
    "# 1. Find indices of elements greater than 7\n",
    "indices_greater_than_7 = np.where(arr > 7)\n",
    "print(\"Indices of elements greater than 7:\", indices_greater_than_7)\n",
    "\n",
    "# 2. Create a new array with elements greater than 7\n",
    "new_arr = arr[arr > 7]\n",
    "print(\"New array with elements greater than 7:\", new_arr)"
   ]
  },
  {
   "cell_type": "markdown",
   "id": "61391e64",
   "metadata": {},
   "source": [
    "---"
   ]
  },
  {
   "cell_type": "markdown",
   "id": "e34b3a5f",
   "metadata": {},
   "source": [
    "### Exercise 8: Element-wise Multiplication\n",
    "\n",
    "Create two 2D NumPy arrays of the same shape. Write code to multiply the two arrays element-wise."
   ]
  },
  {
   "cell_type": "code",
   "execution_count": 9,
   "id": "d7501bd8",
   "metadata": {},
   "outputs": [
    {
     "name": "stdout",
     "output_type": "stream",
     "text": [
      "Element-wise multiplication result:\n",
      " [[ 2  6]\n",
      " [12 20]]\n"
     ]
    }
   ],
   "source": [
    "# Create two 2D arrays\n",
    "arr1 = np.array([[1, 2], [3, 4]])\n",
    "arr2 = np.array([[2, 3], [4, 5]])\n",
    "\n",
    "# Multiply arrays element-wise\n",
    "result = arr1 * arr2\n",
    "print(\"Element-wise multiplication result:\\n\", result)"
   ]
  },
  {
   "cell_type": "markdown",
   "id": "077f60f1",
   "metadata": {},
   "source": [
    "---"
   ]
  },
  {
   "cell_type": "markdown",
   "id": "0b51da41",
   "metadata": {},
   "source": [
    "### Exercise 9: Computing Statistics\n",
    "\n",
    "Create a 1D NumPy array of random floats. Write code to:\n",
    "\n",
    "1. Find and print the minimum and maximum values in the array.\n",
    "\n",
    "2. Calculate the standard deviation of the array."
   ]
  },
  {
   "cell_type": "code",
   "execution_count": 10,
   "id": "3c3d09f9",
   "metadata": {},
   "outputs": [
    {
     "name": "stdout",
     "output_type": "stream",
     "text": [
      "Minimum value: 0.1361931041251654\n",
      "Maximum value: 0.9928272704077986\n",
      "Standard Deviation: 0.27990320793922696\n"
     ]
    }
   ],
   "source": [
    "# Create a 1D array of random floats\n",
    "arr = np.random.rand(10)\n",
    "\n",
    "# 1. Find minimum and maximum values\n",
    "min_value = np.min(arr)\n",
    "max_value = np.max(arr)\n",
    "print(\"Minimum value:\", min_value)\n",
    "print(\"Maximum value:\", max_value)\n",
    "\n",
    "# 2. Calculate standard deviation\n",
    "std_deviation = np.std(arr)\n",
    "print(\"Standard Deviation:\", std_deviation)"
   ]
  },
  {
   "cell_type": "markdown",
   "id": "9940ea49",
   "metadata": {},
   "source": [
    "---"
   ]
  },
  {
   "cell_type": "markdown",
   "id": "7c5a164b",
   "metadata": {},
   "source": [
    "### Exercise 10: Element-wise Absolute Values\n",
    "\n",
    "Create a 2D NumPy array with both positive and negative integers. Write code to calculate the absolute values of all elements in the array."
   ]
  },
  {
   "cell_type": "code",
   "execution_count": 11,
   "id": "c6aa620d",
   "metadata": {},
   "outputs": [
    {
     "name": "stdout",
     "output_type": "stream",
     "text": [
      "Absolute values:\n",
      " [[1 2 3]\n",
      " [4 5 6]]\n"
     ]
    }
   ],
   "source": [
    "# Create a 2D array with positive and negative integers\n",
    "arr = np.array([[1, -2, 3], [-4, 5, -6]])\n",
    "\n",
    "# Calculate absolute values\n",
    "abs_values = np.abs(arr)\n",
    "print(\"Absolute values:\\n\", abs_values)"
   ]
  },
  {
   "cell_type": "markdown",
   "id": "4db2b894",
   "metadata": {},
   "source": [
    "---"
   ]
  },
  {
   "cell_type": "markdown",
   "id": "bf318c22",
   "metadata": {},
   "source": [
    "### Exercise 11: Reading Data from File \n",
    "\n",
    "Read in the file called ``nearest_stars.txt`` in the data directory and determine the standard deviation of the distances of the stars with spectral type M."
   ]
  },
  {
   "cell_type": "code",
   "execution_count": 12,
   "id": "2a726825",
   "metadata": {},
   "outputs": [
    {
     "name": "stdout",
     "output_type": "stream",
     "text": [
      "Standard Deviation of Distances for Spectral Type 'M' Stars: 1.5982680475674285\n"
     ]
    }
   ],
   "source": [
    "# Use genfromtxt to read the data\n",
    "\n",
    "# Explanation of parameters:\n",
    "# - 'delimiter' : Specifies the character that separates the columns (in this case, a comma).\n",
    "# - 'dtype=None': Automatically determines the data type of each column.\n",
    "# - 'names=True': Treats the first row as column names (header).\n",
    "data = np.genfromtxt(\"../data/nearest_stars.txt\", delimiter=',', dtype=None, names=True, encoding=None)\n",
    "\n",
    "# Now you can access the data using column names as keys\n",
    "\n",
    "# Filter the data to select rows with spectral type \"M\"\n",
    "m_type_stars = data[data['Spectral_Type'] == 'M']\n",
    "\n",
    "# Extract the distances for \"M\" type stars\n",
    "distances_m_type = m_type_stars['Distance']\n",
    "\n",
    "# Calculate the standard deviation\n",
    "std_deviation = np.std(distances_m_type)\n",
    "\n",
    "print(\"Standard Deviation of Distances for Spectral Type 'M' Stars:\", std_deviation)"
   ]
  },
  {
   "cell_type": "markdown",
   "id": "f257f554",
   "metadata": {},
   "source": [
    "---"
   ]
  },
  {
   "cell_type": "markdown",
   "id": "cff9281c",
   "metadata": {},
   "source": [
    "### Exercise 12.1: Create a Linear Dataset\n",
    "\n",
    "Your goal is to create a simple dataset consisting of x- and y-data as follows:\n",
    "\n",
    "1. Assign a sequence of integers from 6 to 20 (inclusive) to a ``NumPy`` array named ``x_data``.\n",
    "\n",
    "\n",
    "2. Assign 15 values to a ``NumPy`` array named ``y_data`` such that: $$y = 3x + 4$$"
   ]
  },
  {
   "cell_type": "code",
   "execution_count": 13,
   "id": "4f2b6c78",
   "metadata": {},
   "outputs": [
    {
     "name": "stdout",
     "output_type": "stream",
     "text": [
      "[ 6.  7.  8.  9. 10. 11. 12. 13. 14. 15. 16. 17. 18. 19. 20.]\n",
      "[22. 25. 28. 31. 34. 37. 40. 43. 46. 49. 52. 55. 58. 61. 64.]\n",
      "[ 6  7  8  9 10 11 12 13 14 15 16 17 18 19 20]\n",
      "[22 25 28 31 34 37 40 43 46 49 52 55 58 61 64]\n"
     ]
    }
   ],
   "source": [
    "# One way to do this task is the following\n",
    "x_data = np.linspace(6, 20, 15) # we need 15 numbers for the y-data so we constrain here the number of values\n",
    "                                # for the x-interval to 15.\n",
    "print(x_data)\n",
    "\n",
    "y_data = (3 * x_data) + 4\n",
    "print(y_data)\n",
    "\n",
    "# Another way to create the x-interval is the following\n",
    "x_data = np.arange(6,21) # See the difference compared to linspace() ?\n",
    "print(x_data)\n",
    "\n",
    "y_data = (3 * x_data) + 4\n",
    "print(y_data)"
   ]
  },
  {
   "cell_type": "code",
   "execution_count": 14,
   "id": "a536192c",
   "metadata": {},
   "outputs": [
    {
     "data": {
      "image/png": "[encoded data removed]",
      "text/plain": [
       "<Figure size 640x480 with 1 Axes>"
      ]
     },
     "metadata": {},
     "output_type": "display_data"
    }
   ],
   "source": [
    "# visualize the data; not necessary for the exercise\n",
    "import matplotlib.pyplot as plt\n",
    "\n",
    "# The mathematical function y = 3x + 4\n",
    "y_fn = lambda x: 3 * x + 4\n",
    "\n",
    "plt.scatter(x_data, y_data)           # plot the generated data\n",
    "plt.plot(x_data, y_fn(x_data), c='red') # plot the function y = 3x + 4\n",
    "\n",
    "plt.show()"
   ]
  },
  {
   "cell_type": "markdown",
   "id": "05e91898",
   "metadata": {},
   "source": [
    "---"
   ]
  },
  {
   "cell_type": "markdown",
   "id": "5cdf2ff7",
   "metadata": {},
   "source": [
    "### Exercise 12.2: Add Some Noise to the Dataset\n",
    "\n",
    "To make your dataset a little more realistic, insert a little random noise into each element of the ``y_data`` array you already created. To be more precise, modify each value assigned to ``y_data`` by adding a different random floating-point value between -2 and +2.\n",
    "\n",
    "Don't rely on broadcasting. Instead, create a noise array, called ``noise``, having the same dimension as ``y_data``.\n",
    "\n",
    "> **Hint**: Use the method [np.random.random_sample](https://numpy.org/doc/stable/reference/random/generated/numpy.random.random_sample.html#numpy.random.random_sample)"
   ]
  },
  {
   "cell_type": "markdown",
   "id": "59900d05",
   "metadata": {},
   "source": [
    "From the documentation of the ``np.random.random_sample()`` method we get that this function returns random floats in the half-open interval $[0.0, 1.0)$. \n",
    "\n",
    "Moreover, to sample from a uniform distribution $\\rm Unif[a,b), b > a$, we have to multiply the output of ``random_sample`` by $(b-a)$ and then add $a$.\n",
    "\n",
    "Here, $a = -2$ and $b = 2$."
   ]
  },
  {
   "cell_type": "code",
   "execution_count": 15,
   "id": "0b190ff8",
   "metadata": {},
   "outputs": [
    {
     "name": "stdout",
     "output_type": "stream",
     "text": [
      "[-0.88959825 -0.47799601  1.27693664 -0.21288773 -0.56836648 -1.69173363\n",
      " -0.79293515 -0.7423372  -0.89352057 -1.2590127   1.78587585  0.82961559\n",
      " -1.07191171 -1.82948981  1.339969  ]\n",
      "[21.11040175 24.52200399 29.27693664 30.78711227 33.43163352 35.30826637\n",
      " 39.20706485 42.2576628  45.10647943 47.7409873  53.78587585 55.82961559\n",
      " 56.92808829 59.17051019 65.339969  ]\n"
     ]
    }
   ],
   "source": [
    "noise = (np.random.random_sample(y_data.shape) * 4) - 2\n",
    "print(noise)\n",
    "\n",
    "y_data = y_data + noise\n",
    "print(y_data)"
   ]
  },
  {
   "cell_type": "code",
   "execution_count": 16,
   "id": "debe5c58",
   "metadata": {},
   "outputs": [
    {
     "data": {
      "image/png": "[encoded data removed]",
      "text/plain": [
       "<Figure size 640x480 with 1 Axes>"
      ]
     },
     "metadata": {},
     "output_type": "display_data"
    }
   ],
   "source": [
    "# visualize the data; not necessary for the exercise\n",
    "\n",
    "# The mathematical function y = 3x + 4\n",
    "y_fn = lambda x: 3 * x + 4\n",
    "\n",
    "plt.scatter(x_data, y_data)           # plot the generated noisy data\n",
    "plt.plot(x_data, y_fn(x_data), c='red') # plot the function y = 3x + 4\n",
    "\n",
    "plt.show()"
   ]
  },
  {
   "cell_type": "markdown",
   "id": "b5bb4f6c",
   "metadata": {},
   "source": [
    "---"
   ]
  }
 ],
 "metadata": {
  "kernelspec": {
   "display_name": "Python 3 (ipykernel)",
   "language": "python",
   "name": "python3"
  },
  "language_info": {
   "codemirror_mode": {
    "name": "ipython",
    "version": 3
   },
   "file_extension": ".py",
   "mimetype": "text/x-python",
   "name": "python",
   "nbconvert_exporter": "python",
   "pygments_lexer": "ipython3",
   "version": "3.9.13"
  }
 },
 "nbformat": 4,
 "nbformat_minor": 5
}
