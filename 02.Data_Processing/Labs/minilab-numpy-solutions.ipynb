{
 "cells": [
  {
   "cell_type": "markdown",
   "id": "fb3416a0",
   "metadata": {},
   "source": [
    "# minilab: Ασκήσεις εξάσκησης - Αριθμητική Python και Προεπεξεργασία δεδομένων"
   ]
  },
  {
   "cell_type": "markdown",
   "id": "500f0b36",
   "metadata": {},
   "source": [
    "## Η βιβλιοθήκη ``NumPy``"
   ]
  },
  {
   "cell_type": "code",
   "execution_count": 1,
   "id": "c7b2581b",
   "metadata": {},
   "outputs": [],
   "source": [
    "# Import the numpy module here once\n",
    "import numpy as np"
   ]
  },
  {
   "cell_type": "markdown",
   "id": "3d8f5e5d",
   "metadata": {},
   "source": [
    "### Exercise 1: Creating and Manipulating NumPy Arrays"
   ]
  },
  {
   "cell_type": "markdown",
   "id": "a26f7cb2",
   "metadata": {},
   "source": [
    "Create an array of 10 zeros."
   ]
  },
  {
   "cell_type": "code",
   "execution_count": 2,
   "id": "f1256380",
   "metadata": {},
   "outputs": [
    {
     "data": {
      "text/plain": [
       "array([0., 0., 0., 0., 0., 0., 0., 0., 0., 0.])"
      ]
     },
     "execution_count": 2,
     "metadata": {},
     "output_type": "execute_result"
    }
   ],
   "source": [
    "np.zeros(10)"
   ]
  },
  {
   "cell_type": "markdown",
   "id": "6c086096",
   "metadata": {},
   "source": [
    "Create an array of 10 ones."
   ]
  },
  {
   "cell_type": "code",
   "execution_count": 3,
   "id": "0abf95cd",
   "metadata": {},
   "outputs": [
    {
     "data": {
      "text/plain": [
       "array([1., 1., 1., 1., 1., 1., 1., 1., 1., 1.])"
      ]
     },
     "execution_count": 3,
     "metadata": {},
     "output_type": "execute_result"
    }
   ],
   "source": [
    "np.ones(10)"
   ]
  },
  {
   "cell_type": "markdown",
   "id": "a1cd70ca",
   "metadata": {},
   "source": [
    "Create an array of 10 fives."
   ]
  },
  {
   "cell_type": "code",
   "execution_count": 4,
   "id": "79f82450",
   "metadata": {},
   "outputs": [
    {
     "data": {
      "text/plain": [
       "array([5., 5., 5., 5., 5., 5., 5., 5., 5., 5.])"
      ]
     },
     "execution_count": 4,
     "metadata": {},
     "output_type": "execute_result"
    }
   ],
   "source": [
    "np.full(10, 5.0)\n",
    "\n",
    "# or...\n",
    "# np.ones(5) * 10 "
   ]
  },
  {
   "cell_type": "markdown",
   "id": "a32b983f",
   "metadata": {},
   "source": [
    "Create an array of the integers from 10 to 50."
   ]
  },
  {
   "cell_type": "code",
   "execution_count": 5,
   "id": "b1e83af8",
   "metadata": {},
   "outputs": [
    {
     "data": {
      "text/plain": [
       "array([10, 11, 12, 13, 14, 15, 16, 17, 18, 19, 20, 21, 22, 23, 24, 25, 26,\n",
       "       27, 28, 29, 30, 31, 32, 33, 34, 35, 36, 37, 38, 39, 40, 41, 42, 43,\n",
       "       44, 45, 46, 47, 48, 49, 50])"
      ]
     },
     "execution_count": 5,
     "metadata": {},
     "output_type": "execute_result"
    }
   ],
   "source": [
    "np.arange(10, 51)"
   ]
  },
  {
   "cell_type": "markdown",
   "id": "1c07fe29",
   "metadata": {},
   "source": [
    "Create an array of all the even integers from 10 to 50:\n",
    "\n",
    "1. Using the NumPy's method ``arange()``.\n",
    "\n",
    "2. Using the NumPy's method ``array()`` and a list comprehension with a conditional."
   ]
  },
  {
   "cell_type": "code",
   "execution_count": 6,
   "id": "a4266540",
   "metadata": {},
   "outputs": [
    {
     "name": "stdout",
     "output_type": "stream",
     "text": [
      "arr1:  [10 12 14 16 18 20 22 24 26 28 30 32 34 36 38 40 42 44 46 48 50]\n",
      "arr2:  [10 12 14 16 18 20 22 24 26 28 30 32 34 36 38 40 42 44 46 48 50]\n"
     ]
    }
   ],
   "source": [
    "# 1. Using the method arange()\n",
    "arr1 = np.arange(10, 51, 2)\n",
    "print(\"arr1: \", arr1)\n",
    "\n",
    "# 2. Using the method array() + a list comprehension\n",
    "arr2 = np.array([x for x in range(10,51) if x%2 == 0])\n",
    "print(\"arr2: \", arr2)"
   ]
  },
  {
   "cell_type": "markdown",
   "id": "fc29d00b",
   "metadata": {},
   "source": [
    "Create a 3x3 identity matrix."
   ]
  },
  {
   "cell_type": "code",
   "execution_count": 7,
   "id": "2b807042",
   "metadata": {},
   "outputs": [
    {
     "data": {
      "text/plain": [
       "array([[1., 0., 0.],\n",
       "       [0., 1., 0.],\n",
       "       [0., 0., 1.]])"
      ]
     },
     "execution_count": 7,
     "metadata": {},
     "output_type": "execute_result"
    }
   ],
   "source": [
    "np.eye(3)"
   ]
  },
  {
   "cell_type": "markdown",
   "id": "085d103f",
   "metadata": {},
   "source": [
    "Create an array of 20 linearly spaced points between 0 and 1."
   ]
  },
  {
   "cell_type": "code",
   "execution_count": 8,
   "id": "9a4cf6d5",
   "metadata": {},
   "outputs": [
    {
     "data": {
      "text/plain": [
       "array([0.        , 0.05263158, 0.10526316, 0.15789474, 0.21052632,\n",
       "       0.26315789, 0.31578947, 0.36842105, 0.42105263, 0.47368421,\n",
       "       0.52631579, 0.57894737, 0.63157895, 0.68421053, 0.73684211,\n",
       "       0.78947368, 0.84210526, 0.89473684, 0.94736842, 1.        ])"
      ]
     },
     "execution_count": 8,
     "metadata": {},
     "output_type": "execute_result"
    }
   ],
   "source": [
    "np.linspace(0, 1, 20)"
   ]
  },
  {
   "cell_type": "markdown",
   "id": "5cf83d8f",
   "metadata": {},
   "source": [
    "Create a NumPy array containing the integers from 1 to 10. Then, write code to:\n",
    "\n",
    "1. Print the shape and dimensions of the array.\n",
    "\n",
    "2. Calculate the sum of all the elements in the array.\n",
    "\n",
    "3. Calculate the mean of the array."
   ]
  },
  {
   "cell_type": "code",
   "execution_count": 9,
   "id": "9cc292a3",
   "metadata": {},
   "outputs": [
    {
     "name": "stdout",
     "output_type": "stream",
     "text": [
      "Shape: (10,)\n",
      "Dimensions: 1\n",
      "Sum: 55\n",
      "Mean: 5.5\n"
     ]
    }
   ],
   "source": [
    "# Create the array\n",
    "arr = np.arange(1, 11)\n",
    "\n",
    "# 1. Print shape and dimensions\n",
    "print(\"Shape:\", arr.shape)\n",
    "print(\"Dimensions:\", arr.ndim)\n",
    "\n",
    "# 2. Calculate sum\n",
    "sum_elements = np.sum(arr)\n",
    "print(\"Sum:\", sum_elements)\n",
    "\n",
    "# 3. Calculate mean\n",
    "mean_value = np.mean(arr)\n",
    "print(\"Mean:\", mean_value)"
   ]
  },
  {
   "cell_type": "markdown",
   "id": "d193fbb7",
   "metadata": {},
   "source": [
    "Use NumPy to generate a random number between 0 and 1."
   ]
  },
  {
   "cell_type": "code",
   "execution_count": 10,
   "id": "1ccb6a41",
   "metadata": {},
   "outputs": [
    {
     "data": {
      "text/plain": [
       "array([0.77597649])"
      ]
     },
     "execution_count": 10,
     "metadata": {},
     "output_type": "execute_result"
    }
   ],
   "source": [
    "np.random.rand(1)"
   ]
  },
  {
   "cell_type": "markdown",
   "id": "fb775945",
   "metadata": {},
   "source": [
    "Use NumPy to generate an array of 25 random numbers sampled from a standard normal distribution."
   ]
  },
  {
   "cell_type": "code",
   "execution_count": 11,
   "id": "511b2d96",
   "metadata": {},
   "outputs": [
    {
     "data": {
      "text/plain": [
       "array([-1.11214759e+00, -2.42364865e-01, -8.08266295e-02,  7.82981383e-01,\n",
       "       -1.11704665e-01, -9.31935351e-01, -5.50610002e-01,  9.85815983e-01,\n",
       "       -1.98346531e-01, -1.82664763e-01, -6.14424761e-01,  1.14685118e+00,\n",
       "        1.05979870e-03,  1.49606510e+00, -9.12918240e-01, -4.72252622e-01,\n",
       "        1.10848258e-01,  1.16688606e-01,  8.05148893e-01, -1.19113656e+00,\n",
       "       -2.05304826e+00, -4.62597209e-01,  8.54805348e-01, -1.17394133e-03,\n",
       "        1.36797764e-01])"
      ]
     },
     "execution_count": 11,
     "metadata": {},
     "output_type": "execute_result"
    }
   ],
   "source": [
    "np.random.randn(25)"
   ]
  },
  {
   "cell_type": "markdown",
   "id": "4b1bc699",
   "metadata": {},
   "source": [
    "### Exercise 2: Indexing and Slicing\n",
    "\n",
    "Create a 2D NumPy array of shape (3, 4) with random integers. Write code to:\n",
    "\n",
    "1. Print the element at the second row and third column.\n",
    "\n",
    "2. Extract the first two rows and the last two columns of the array.\n",
    "\n",
    "3. Calculate the sum of all the elements in the second column."
   ]
  },
  {
   "cell_type": "code",
   "execution_count": 12,
   "id": "41f8fe3d",
   "metadata": {},
   "outputs": [
    {
     "name": "stdout",
     "output_type": "stream",
     "text": [
      "Element at 2nd row, 3rd col: 9\n",
      "Subset:\n",
      " [[7 5]\n",
      " [9 6]]\n",
      "Sum of the second column: 19\n"
     ]
    }
   ],
   "source": [
    "# Create a 2D array\n",
    "arr_2d = np.random.randint(1, 10, size=(3, 4))\n",
    "\n",
    "# 1. Print element at second row and third column\n",
    "print(\"Element at 2nd row, 3rd col:\", arr_2d[1, 2])\n",
    "\n",
    "# 2. Extract first two rows and last two columns\n",
    "subset = arr_2d[:2, -2:]\n",
    "print(\"Subset:\\n\", subset)\n",
    "\n",
    "# 3. Calculate sum of the second column\n",
    "sum_second_column = np.sum(arr_2d[:, 1])\n",
    "print(\"Sum of the second column:\", sum_second_column)"
   ]
  },
  {
   "cell_type": "markdown",
   "id": "a0e536fe",
   "metadata": {},
   "source": [
    "Write code to create the following matrix. This starting matrix will be used subsequently to perform slicing operations.\n",
    "\n",
    "```python\n",
    "array([[ 1,  2,  3,  4,  5],\n",
    "       [ 6,  7,  8,  9, 10],\n",
    "       [11, 12, 13, 14, 15],\n",
    "       [16, 17, 18, 19, 20],\n",
    "       [21, 22, 23, 24, 25]])\n",
    "```"
   ]
  },
  {
   "cell_type": "code",
   "execution_count": 13,
   "id": "215f37b2",
   "metadata": {},
   "outputs": [
    {
     "data": {
      "text/plain": [
       "array([[ 1,  2,  3,  4,  5],\n",
       "       [ 6,  7,  8,  9, 10],\n",
       "       [11, 12, 13, 14, 15],\n",
       "       [16, 17, 18, 19, 20],\n",
       "       [21, 22, 23, 24, 25]])"
      ]
     },
     "execution_count": 13,
     "metadata": {},
     "output_type": "execute_result"
    }
   ],
   "source": [
    "mat = np.arange(1,26).reshape(5,5)\n",
    "mat"
   ]
  },
  {
   "cell_type": "markdown",
   "id": "1e4da5b2",
   "metadata": {},
   "source": [
    "Write code that reproduces the output shown below:\n",
    "\n",
    "```python\n",
    "array([[12, 13, 14, 15],\n",
    "       [17, 18, 19, 20],\n",
    "       [22, 23, 24, 25]])\n",
    "```"
   ]
  },
  {
   "cell_type": "code",
   "execution_count": 14,
   "id": "937fe7cd",
   "metadata": {},
   "outputs": [
    {
     "data": {
      "text/plain": [
       "array([[12, 13, 14, 15],\n",
       "       [17, 18, 19, 20],\n",
       "       [22, 23, 24, 25]])"
      ]
     },
     "execution_count": 14,
     "metadata": {},
     "output_type": "execute_result"
    }
   ],
   "source": [
    "mat[2:,1:]"
   ]
  },
  {
   "cell_type": "markdown",
   "id": "c2de5f34",
   "metadata": {},
   "source": [
    "Write code that retrieves the number 20 from the matrix."
   ]
  },
  {
   "cell_type": "code",
   "execution_count": 15,
   "id": "2c59757a",
   "metadata": {},
   "outputs": [
    {
     "data": {
      "text/plain": [
       "20"
      ]
     },
     "execution_count": 15,
     "metadata": {},
     "output_type": "execute_result"
    }
   ],
   "source": [
    "mat[3,-1]"
   ]
  },
  {
   "cell_type": "markdown",
   "id": "0d9acbdc",
   "metadata": {},
   "source": [
    "Write code that reproduces the output shown below:\n",
    "\n",
    "```python\n",
    "array([[ 2],\n",
    "       [ 7],\n",
    "       [12]])\n",
    "```"
   ]
  },
  {
   "cell_type": "code",
   "execution_count": 16,
   "id": "762f80ad",
   "metadata": {},
   "outputs": [
    {
     "data": {
      "text/plain": [
       "array([[ 2],\n",
       "       [ 7],\n",
       "       [12]])"
      ]
     },
     "execution_count": 16,
     "metadata": {},
     "output_type": "execute_result"
    }
   ],
   "source": [
    "mat[:3, 1:2]\n",
    "\n",
    "# or...\n",
    "# mat[:3, 1].reshape(3,1)"
   ]
  },
  {
   "cell_type": "markdown",
   "id": "310e87b1",
   "metadata": {},
   "source": [
    "Write code that reproduces the output shown below:\n",
    "\n",
    "```python\n",
    "array([21, 22, 23, 24, 25])\n",
    "```"
   ]
  },
  {
   "cell_type": "code",
   "execution_count": 17,
   "id": "9b1decf1",
   "metadata": {},
   "outputs": [
    {
     "data": {
      "text/plain": [
       "array([21, 22, 23, 24, 25])"
      ]
     },
     "execution_count": 17,
     "metadata": {},
     "output_type": "execute_result"
    }
   ],
   "source": [
    "mat[-1, :]"
   ]
  },
  {
   "cell_type": "markdown",
   "id": "e7a7dfaa",
   "metadata": {},
   "source": [
    "Write code that reproduces the output shown below:\n",
    "\n",
    "```python\n",
    "array([[16, 17, 18, 19, 20],\n",
    "       [21, 22, 23, 24, 25]])\n",
    "```"
   ]
  },
  {
   "cell_type": "code",
   "execution_count": 18,
   "id": "0a9b3bca",
   "metadata": {},
   "outputs": [
    {
     "data": {
      "text/plain": [
       "array([[16, 17, 18, 19, 20],\n",
       "       [21, 22, 23, 24, 25]])"
      ]
     },
     "execution_count": 18,
     "metadata": {},
     "output_type": "execute_result"
    }
   ],
   "source": [
    "mat[-2:, :]"
   ]
  },
  {
   "cell_type": "markdown",
   "id": "720cb58f",
   "metadata": {},
   "source": [
    "### Exercise 3: Element-wise Operations"
   ]
  },
  {
   "cell_type": "markdown",
   "id": "e9d215ab",
   "metadata": {},
   "source": [
    "Create the following matrix using element-wise operations:\n",
    "\n",
    "```python\n",
    "array([[0.01, 0.02, 0.03, 0.04, 0.05, 0.06, 0.07, 0.08, 0.09, 0.1 ],\n",
    "       [0.11, 0.12, 0.13, 0.14, 0.15, 0.16, 0.17, 0.18, 0.19, 0.2 ],\n",
    "       [0.21, 0.22, 0.23, 0.24, 0.25, 0.26, 0.27, 0.28, 0.29, 0.3 ],\n",
    "       [0.31, 0.32, 0.33, 0.34, 0.35, 0.36, 0.37, 0.38, 0.39, 0.4 ],\n",
    "       [0.41, 0.42, 0.43, 0.44, 0.45, 0.46, 0.47, 0.48, 0.49, 0.5 ],\n",
    "       [0.51, 0.52, 0.53, 0.54, 0.55, 0.56, 0.57, 0.58, 0.59, 0.6 ],\n",
    "       [0.61, 0.62, 0.63, 0.64, 0.65, 0.66, 0.67, 0.68, 0.69, 0.7 ],\n",
    "       [0.71, 0.72, 0.73, 0.74, 0.75, 0.76, 0.77, 0.78, 0.79, 0.8 ],\n",
    "       [0.81, 0.82, 0.83, 0.84, 0.85, 0.86, 0.87, 0.88, 0.89, 0.9 ],\n",
    "       [0.91, 0.92, 0.93, 0.94, 0.95, 0.96, 0.97, 0.98, 0.99, 1.  ]])\n",
    "```"
   ]
  },
  {
   "cell_type": "code",
   "execution_count": 19,
   "id": "f957702a",
   "metadata": {},
   "outputs": [
    {
     "data": {
      "text/plain": [
       "array([[0.01, 0.02, 0.03, 0.04, 0.05, 0.06, 0.07, 0.08, 0.09, 0.1 ],\n",
       "       [0.11, 0.12, 0.13, 0.14, 0.15, 0.16, 0.17, 0.18, 0.19, 0.2 ],\n",
       "       [0.21, 0.22, 0.23, 0.24, 0.25, 0.26, 0.27, 0.28, 0.29, 0.3 ],\n",
       "       [0.31, 0.32, 0.33, 0.34, 0.35, 0.36, 0.37, 0.38, 0.39, 0.4 ],\n",
       "       [0.41, 0.42, 0.43, 0.44, 0.45, 0.46, 0.47, 0.48, 0.49, 0.5 ],\n",
       "       [0.51, 0.52, 0.53, 0.54, 0.55, 0.56, 0.57, 0.58, 0.59, 0.6 ],\n",
       "       [0.61, 0.62, 0.63, 0.64, 0.65, 0.66, 0.67, 0.68, 0.69, 0.7 ],\n",
       "       [0.71, 0.72, 0.73, 0.74, 0.75, 0.76, 0.77, 0.78, 0.79, 0.8 ],\n",
       "       [0.81, 0.82, 0.83, 0.84, 0.85, 0.86, 0.87, 0.88, 0.89, 0.9 ],\n",
       "       [0.91, 0.92, 0.93, 0.94, 0.95, 0.96, 0.97, 0.98, 0.99, 1.  ]])"
      ]
     },
     "execution_count": 19,
     "metadata": {},
     "output_type": "execute_result"
    }
   ],
   "source": [
    "np.arange(1, 101).reshape(10,10) / 100\n",
    "\n",
    "# We could do the same without using element-wise operation\n",
    "# np.linspace(0.01, 1, 100)"
   ]
  },
  {
   "cell_type": "markdown",
   "id": "dfd5bde7",
   "metadata": {},
   "source": [
    "Create two 1D NumPy arrays of the same length with random numbers. Write code to:\n",
    "\n",
    "1. Add the two arrays element-wise and store the result in a new array.\n",
    "\n",
    "2. Multiply one of the arrays by a scalar value.\n",
    "\n",
    "3. Find the maximum value in the resulting array."
   ]
  },
  {
   "cell_type": "code",
   "execution_count": 20,
   "id": "d72bd8f0",
   "metadata": {},
   "outputs": [
    {
     "name": "stdout",
     "output_type": "stream",
     "text": [
      "Element-wise addition: [6 6 6 6 6]\n",
      "Multiplication by a scalar: [ 2  4  6  8 10]\n",
      "Maximum value: 6\n"
     ]
    }
   ],
   "source": [
    "# Create two 1D arrays\n",
    "arr1 = np.array([1, 2, 3, 4, 5])\n",
    "arr2 = np.array([5, 4, 3, 2, 1])\n",
    "\n",
    "# 1. Add arrays element-wise\n",
    "result_add = arr1 + arr2\n",
    "print(\"Element-wise addition:\", result_add)\n",
    "\n",
    "# 2. Multiply one array by a scalar\n",
    "scalar = 2\n",
    "result_multiply = arr1 * scalar\n",
    "print(\"Multiplication by a scalar:\", result_multiply)\n",
    "\n",
    "# 3. Find maximum value in the result\n",
    "max_value = np.max(result_add)\n",
    "print(\"Maximum value:\", max_value)"
   ]
  },
  {
   "cell_type": "markdown",
   "id": "bdb82d4b",
   "metadata": {},
   "source": [
    "### Exercise 4: Reshaping and Transposing"
   ]
  },
  {
   "cell_type": "markdown",
   "id": "53e02ea9",
   "metadata": {},
   "source": [
    "Create a 3x3 matrix with values ranging from 0 to 8."
   ]
  },
  {
   "cell_type": "code",
   "execution_count": 21,
   "id": "0434c937",
   "metadata": {},
   "outputs": [
    {
     "data": {
      "text/plain": [
       "array([[0, 1, 2],\n",
       "       [3, 4, 5],\n",
       "       [6, 7, 8]])"
      ]
     },
     "execution_count": 21,
     "metadata": {},
     "output_type": "execute_result"
    }
   ],
   "source": [
    "np.arange(0, 9).reshape(3,3)"
   ]
  },
  {
   "cell_type": "markdown",
   "id": "954dd892",
   "metadata": {},
   "source": [
    "Create a 2D NumPy array of shape (3, 5) with random integers. Write code to:\n",
    "\n",
    "1. Reshape the array into a (5, 3) shape.\n",
    "\n",
    "2. Transpose the reshaped array."
   ]
  },
  {
   "cell_type": "code",
   "execution_count": 22,
   "id": "a5440afb",
   "metadata": {},
   "outputs": [
    {
     "name": "stdout",
     "output_type": "stream",
     "text": [
      "Reshaped array:\n",
      " [[5 2 8]\n",
      " [5 2 4]\n",
      " [2 9 8]\n",
      " [7 1 6]\n",
      " [1 7 5]]\n",
      "Transposed array:\n",
      " [[5 5 2 7 1]\n",
      " [2 2 9 1 7]\n",
      " [8 4 8 6 5]]\n"
     ]
    }
   ],
   "source": [
    "# Create a 2D array\n",
    "arr_2d = np.random.randint(1, 10, size=(3, 5))\n",
    "\n",
    "# 1. Reshape into (5, 3)\n",
    "reshaped_arr = arr_2d.reshape((5, 3))\n",
    "print(\"Reshaped array:\\n\", reshaped_arr)\n",
    "\n",
    "# 2. Transpose the reshaped array\n",
    "transposed_arr = reshaped_arr.T\n",
    "print(\"Transposed array:\\n\", transposed_arr)"
   ]
  },
  {
   "cell_type": "markdown",
   "id": "9a9dcc5a",
   "metadata": {},
   "source": [
    "### Exercise 5: Array Concatenation\n",
    "\n",
    "Create two 1D NumPy arrays of the same length. Write code to:\n",
    "\n",
    "1. Concatenate the arrays horizontally.\n",
    "\n",
    "2. Concatenate the arrays vertically."
   ]
  },
  {
   "cell_type": "code",
   "execution_count": 23,
   "id": "1dbf3ff5",
   "metadata": {},
   "outputs": [
    {
     "name": "stdout",
     "output_type": "stream",
     "text": [
      "Horizontal Concatenation: [1 2 3 4 5 6]\n",
      "Vertical Concatenation:\n",
      " [[1 2 3]\n",
      " [4 5 6]]\n"
     ]
    }
   ],
   "source": [
    "# Create two 1D arrays\n",
    "arr1 = np.array([1, 2, 3])\n",
    "arr2 = np.array([4, 5, 6])\n",
    "\n",
    "# 1. Concatenate horizontally\n",
    "horizontal_concat = np.concatenate((arr1, arr2))\n",
    "print(\"Horizontal Concatenation:\", horizontal_concat)\n",
    "\n",
    "# 2. Concatenate vertically\n",
    "vertical_concat = np.vstack((arr1, arr2))\n",
    "print(\"Vertical Concatenation:\\n\", vertical_concat)"
   ]
  },
  {
   "cell_type": "markdown",
   "id": "838fce23",
   "metadata": {},
   "source": [
    "### Exercise 6: Boolean Indexing\n",
    "\n",
    "Create a 1D NumPy array of random integers. Write code to:\n",
    "\n",
    "1. Find and print all elements greater than a specific value (e.g., 5).\n",
    "\n",
    "2. Calculate the mean of the elements greater than the specific value."
   ]
  },
  {
   "cell_type": "code",
   "execution_count": 24,
   "id": "2ffce9b5",
   "metadata": {},
   "outputs": [
    {
     "name": "stdout",
     "output_type": "stream",
     "text": [
      "Elements greater than 5: [7 7 7]\n",
      "Mean of elements greater than 5: 7.0\n"
     ]
    }
   ],
   "source": [
    "# Create a 1D array\n",
    "arr = np.random.randint(1, 10, size=10)\n",
    "\n",
    "# 1. Find elements greater than 5\n",
    "greater_than_5 = arr[arr > 5]\n",
    "print(\"Elements greater than 5:\", greater_than_5)\n",
    "\n",
    "# 2. Calculate mean of elements greater than 5\n",
    "mean_greater_than_5 = np.mean(greater_than_5)\n",
    "print(\"Mean of elements greater than 5:\", mean_greater_than_5)"
   ]
  },
  {
   "cell_type": "markdown",
   "id": "4497f0a2",
   "metadata": {},
   "source": [
    "### Exercise 7: Array Comparison and Filtering\n",
    "\n",
    "Create a 1D NumPy array of random integers. Write code to:\n",
    "\n",
    "1. Find and print the indices of elements that are greater than a specific value (e.g., 7).\n",
    "\n",
    "2. Create a new array containing only the elements greater than the specific value."
   ]
  },
  {
   "cell_type": "code",
   "execution_count": 25,
   "id": "8758d3e9",
   "metadata": {},
   "outputs": [
    {
     "name": "stdout",
     "output_type": "stream",
     "text": [
      "Indices of elements greater than 7: (array([], dtype=int64),)\n",
      "New array with elements greater than 7: []\n"
     ]
    }
   ],
   "source": [
    "# Create a 1D array\n",
    "arr = np.random.randint(1, 10, size=10)\n",
    "\n",
    "# 1. Find indices of elements greater than 7\n",
    "indices_greater_than_7 = np.where(arr > 7)\n",
    "print(\"Indices of elements greater than 7:\", indices_greater_than_7)\n",
    "\n",
    "# 2. Create a new array with elements greater than 7\n",
    "new_arr = arr[arr > 7]\n",
    "print(\"New array with elements greater than 7:\", new_arr)"
   ]
  },
  {
   "cell_type": "markdown",
   "id": "e34b3a5f",
   "metadata": {},
   "source": [
    "### Exercise 8: Element-wise Multiplication\n",
    "\n",
    "Create two 2D NumPy arrays of the same shape. Write code to multiply the two arrays element-wise."
   ]
  },
  {
   "cell_type": "code",
   "execution_count": 26,
   "id": "6071464e",
   "metadata": {},
   "outputs": [
    {
     "name": "stdout",
     "output_type": "stream",
     "text": [
      "Element-wise multiplication result:\n",
      " [[ 2  6]\n",
      " [12 20]]\n"
     ]
    }
   ],
   "source": [
    "# Create two 2D arrays\n",
    "arr1 = np.array([[1, 2], [3, 4]])\n",
    "arr2 = np.array([[2, 3], [4, 5]])\n",
    "\n",
    "# Multiply arrays element-wise\n",
    "result = arr1 * arr2\n",
    "print(\"Element-wise multiplication result:\\n\", result)"
   ]
  },
  {
   "cell_type": "markdown",
   "id": "0b51da41",
   "metadata": {},
   "source": [
    "### Exercise 9: Computing Statistics\n",
    "\n",
    "Create a 1D NumPy array of random floats. Write code to:\n",
    "\n",
    "1. Find and print the minimum and maximum values in the array.\n",
    "\n",
    "2. Calculate the standard deviation of the array.\n",
    "\n",
    "3. Calculate the sum of all the columns in the array."
   ]
  },
  {
   "cell_type": "code",
   "execution_count": 27,
   "id": "9018f3df",
   "metadata": {},
   "outputs": [
    {
     "name": "stdout",
     "output_type": "stream",
     "text": [
      "Minimum value: 0.029555019174777097\n",
      "Maximum value: 0.8368088964733167\n",
      "Standard Deviation: 0.27551027044256016\n"
     ]
    }
   ],
   "source": [
    "# Create a 1D array of random floats\n",
    "arr = np.random.rand(10)\n",
    "\n",
    "# 1. Find minimum and maximum values\n",
    "min_value = np.min(arr)\n",
    "max_value = np.max(arr)\n",
    "print(\"Minimum value:\", min_value)\n",
    "print(\"Maximum value:\", max_value)\n",
    "\n",
    "# 2. Calculate standard deviation\n",
    "std_deviation = np.std(arr)\n",
    "print(\"Standard Deviation:\", std_deviation)"
   ]
  },
  {
   "cell_type": "markdown",
   "id": "7c5a164b",
   "metadata": {},
   "source": [
    "### Exercise 10: Element-wise Absolute Values\n",
    "\n",
    "Create a 2D NumPy array with both positive and negative integers. Write code to calculate the absolute values of all elements in the array."
   ]
  },
  {
   "cell_type": "code",
   "execution_count": 28,
   "id": "7e31e662",
   "metadata": {},
   "outputs": [
    {
     "name": "stdout",
     "output_type": "stream",
     "text": [
      "Absolute values:\n",
      " [[1 2 3]\n",
      " [4 5 6]]\n"
     ]
    }
   ],
   "source": [
    "# Create a 2D array with positive and negative integers\n",
    "arr = np.array([[1, -2, 3], [-4, 5, -6]])\n",
    "\n",
    "# Calculate absolute values\n",
    "abs_values = np.abs(arr)\n",
    "print(\"Absolute values:\\n\", abs_values)"
   ]
  },
  {
   "cell_type": "markdown",
   "id": "bf318c22",
   "metadata": {},
   "source": [
    "### Exercise 11: Reading Data from File \n",
    "\n",
    "Read in the file called ``nearest_stars.txt`` in the data directory and determine the standard deviation of the distances of the stars with spectral type M."
   ]
  },
  {
   "cell_type": "code",
   "execution_count": 29,
   "id": "bd8421b5",
   "metadata": {},
   "outputs": [
    {
     "name": "stdout",
     "output_type": "stream",
     "text": [
      "Standard Deviation of Distances for Spectral Type 'M' Stars: 1.5982680475674285\n"
     ]
    }
   ],
   "source": [
    "# Use genfromtxt to read the data\n",
    "\n",
    "# Explanation of parameters:\n",
    "# - 'delimiter' : Specifies the character that separates the columns (in this case, a comma).\n",
    "# - 'dtype=None': Automatically determines the data type of each column.\n",
    "# - 'names=True': Treats the first row as column names (header).\n",
    "data = np.genfromtxt(\"../data/nearest_stars.txt\", delimiter=',', dtype=None, names=True, encoding=None)\n",
    "\n",
    "# Now you can access the data using column names as keys\n",
    "\n",
    "# Filter the data to select rows with spectral type \"M\"\n",
    "m_type_stars = data[data['Spectral_Type'] == 'M']\n",
    "\n",
    "# Extract the distances for \"M\" type stars\n",
    "distances_m_type = m_type_stars['Distance']\n",
    "\n",
    "# Calculate the standard deviation\n",
    "std_deviation = np.std(distances_m_type)\n",
    "\n",
    "print(\"Standard Deviation of Distances for Spectral Type 'M' Stars:\", std_deviation)"
   ]
  },
  {
   "cell_type": "markdown",
   "id": "08588a99",
   "metadata": {},
   "source": [
    "### Exercise 12.1: Create a Linear Dataset\n",
    "\n",
    "Your goal is to create a simple dataset consisting of x- and y-data as follows:\n",
    "\n",
    "1. Assign a sequence of numbers from 6 to 20 (inclusive) to a ``NumPy`` array named ``x_data``.\n",
    "\n",
    "\n",
    "2. Assign 15 values to a ``NumPy`` array named ``y_data`` such that: $$y = 3x + 4$$"
   ]
  },
  {
   "cell_type": "code",
   "execution_count": 30,
   "id": "721f2f33",
   "metadata": {},
   "outputs": [
    {
     "name": "stdout",
     "output_type": "stream",
     "text": [
      "[ 6.  7.  8.  9. 10. 11. 12. 13. 14. 15. 16. 17. 18. 19. 20.]\n",
      "[22. 25. 28. 31. 34. 37. 40. 43. 46. 49. 52. 55. 58. 61. 64.]\n",
      "[ 6  7  8  9 10 11 12 13 14 15 16 17 18 19 20]\n",
      "[22 25 28 31 34 37 40 43 46 49 52 55 58 61 64]\n"
     ]
    }
   ],
   "source": [
    "# One way to do this task is the following\n",
    "x_data = np.linspace(6, 20, 15) # we need 15 numbers for the y-data so we constrain here the number of values\n",
    "                                # for the x-interval to 15.\n",
    "print(x_data)\n",
    "\n",
    "y_data = (3 * x_data) + 4\n",
    "print(y_data)\n",
    "\n",
    "#################\n",
    "\n",
    "# Another way to create the x-interval is the following\n",
    "x_data = np.arange(6,21) # See the difference compared to linspace() ?\n",
    "print(x_data)\n",
    "\n",
    "y_data = (3 * x_data) + 4\n",
    "print(y_data)"
   ]
  },
  {
   "cell_type": "code",
   "execution_count": 31,
   "id": "b68342b1",
   "metadata": {},
   "outputs": [
    {
     "data": {
      "image/png": "[encoded data removed]",
      "text/plain": [
       "<Figure size 640x480 with 1 Axes>"
      ]
     },
     "metadata": {},
     "output_type": "display_data"
    }
   ],
   "source": [
    "# visualize the data; not necessary for the exercise\n",
    "import matplotlib.pyplot as plt\n",
    "\n",
    "# The mathematical function y = 3x + 4\n",
    "y_fn = lambda x: 3 * x + 4\n",
    "\n",
    "plt.scatter(x_data, y_data)           # plot the generated data\n",
    "plt.plot(x_data, y_fn(x_data), c='red') # plot the function y = 3x + 4\n",
    "\n",
    "plt.show()"
   ]
  },
  {
   "cell_type": "markdown",
   "id": "05c4d96c",
   "metadata": {},
   "source": [
    "### Exercise 12.2: Add Some Noise to the Dataset\n",
    "\n",
    "To make your dataset a little more realistic, insert a little random noise into each element of the ``y_data`` array you already created. To be more precise, modify each value assigned to ``y_data`` by adding a different random floating-point value between -2 and +2.\n",
    "\n",
    "Don't rely on broadcasting. Instead, create a noise array, called ``noise``, having the same dimension as ``y_data``.\n",
    "\n",
    "> **Hint**: Use the method [np.random.random_sample](https://numpy.org/doc/stable/reference/random/generated/numpy.random.random_sample.html#numpy.random.random_sample)"
   ]
  },
  {
   "cell_type": "markdown",
   "id": "a850b413",
   "metadata": {},
   "source": [
    "From the documentation of the ``np.random.random_sample()`` method we get that this function returns random floats in the half-open interval $[0.0, 1.0)$. \n",
    "\n",
    "Moreover, to sample from a uniform distribution $\\rm Unif[a,b), b > a$, we have to multiply the output of ``random_sample`` by $(b-a)$ and then add $a$.\n",
    "\n",
    "Here, $a = -2$ and $b = 2$."
   ]
  },
  {
   "cell_type": "code",
   "execution_count": 32,
   "id": "fe3533e7",
   "metadata": {},
   "outputs": [
    {
     "name": "stdout",
     "output_type": "stream",
     "text": [
      "[-0.88239381  1.07212464 -0.57244352 -1.79290656  0.32159156  1.71175277\n",
      " -1.39468851 -0.51499526 -0.05706296  0.93742654 -1.9861034  -0.67323658\n",
      "  1.89450986  1.02909354 -1.34520689]\n",
      "[21.11760619 26.07212464 27.42755648 29.20709344 34.32159156 38.71175277\n",
      " 38.60531149 42.48500474 45.94293704 49.93742654 50.0138966  54.32676342\n",
      " 59.89450986 62.02909354 62.65479311]\n"
     ]
    }
   ],
   "source": [
    "noise = (np.random.random_sample(y_data.shape) * 4) - 2\n",
    "print(noise)\n",
    "\n",
    "y_data = y_data + noise\n",
    "print(y_data)"
   ]
  },
  {
   "cell_type": "code",
   "execution_count": 33,
   "id": "1f41a6c8",
   "metadata": {},
   "outputs": [
    {
     "data": {
      "image/png": "[encoded data removed]",
      "text/plain": [
       "<Figure size 640x480 with 1 Axes>"
      ]
     },
     "metadata": {},
     "output_type": "display_data"
    }
   ],
   "source": [
    "# visualize the data; not necessary for the exercise\n",
    "\n",
    "# The mathematical function y = 3x + 4\n",
    "y_fn = lambda x: 3 * x + 4\n",
    "\n",
    "plt.scatter(x_data, y_data)           # plot the generated noisy data\n",
    "plt.plot(x_data, y_fn(x_data), c='red') # plot the function y = 3x + 4\n",
    "\n",
    "plt.show()"
   ]
  }
 ],
 "metadata": {
  "kernelspec": {
   "display_name": "Python 3 (ipykernel)",
   "language": "python",
   "name": "python3"
  },
  "language_info": {
   "codemirror_mode": {
    "name": "ipython",
    "version": 3
   },
   "file_extension": ".py",
   "mimetype": "text/x-python",
   "name": "python",
   "nbconvert_exporter": "python",
   "pygments_lexer": "ipython3",
   "version": "3.9.13"
  }
 },
 "nbformat": 4,
 "nbformat_minor": 5
}
