{
 "cells": [
  {
   "cell_type": "markdown",
   "id": "a9b27ed8",
   "metadata": {},
   "source": [
    "# Διαχείριση αρχείων"
   ]
  },
  {
   "cell_type": "markdown",
   "id": "8a84207f",
   "metadata": {},
   "source": [
    "## Η βιβλιοθήκη ``csv``"
   ]
  },
  {
   "cell_type": "markdown",
   "id": "d9180b4d",
   "metadata": {},
   "source": [
    "Τα αρχεία csv (comma separated values) είναι ένας πολύ συνηθισμένος τύπος αρχείου για μεταφορά δεδομένων. Αυτό σημαίνει ότι μπορούμε να εξάγουμε τα δεδομένα που έχουμε συλλέξει (π.χ. από ένα πείραμα) σε ένα τέτοιο αρχείο και στη συνέχεια να μοιράσουμε\n",
    "το εν λόγω αρχείο σε οποιονδήποτε ενδιαφέρεται να αναλύσει τα δεδομένα μας.\n",
    "\n",
    "Αυτός ο τύπος δεδομένων είναι ιδιαίτερα δημοφιλής και συναντάται σε προγράμματα όπως το Excel και οι βάσεις δεδομένων. Όπως υποδηλώνει το όνομά του, κάθε τιμή διαχωρίζεται από μία άλλη μέσω της χρήσης ενός κόμματος."
   ]
  },
  {
   "cell_type": "code",
   "execution_count": null,
   "id": "5045208b",
   "metadata": {},
   "outputs": [],
   "source": [
    "! head -5 'data/sample.csv'"
   ]
  },
  {
   "cell_type": "markdown",
   "id": "fdba6dd8",
   "metadata": {},
   "source": [
    "### Διάβασμα αρχείου\n",
    "\n",
    "Έχοντας λοιπόν ένα τέτοιο αρχείο κειμένου, μπορούμε να το προσπελάσουμε με το μπλοκ κώδικα:\n",
    "\n",
    "````python\n",
    "with open('text_file.ext', 'r') as file:\n",
    "    for line in file:\n",
    "        print(line)\n",
    "````\n",
    "\n",
    "Το αρχείο διαβάζεται όπως υποδηλώνεται από την παράμετρο ``r`` (read-mode), ενώ σε κάθε επανάληψη του βρόγχου εκτυπώνεται μία συμβολοσειρά που περιέχει ολόκληρη τη γραμμή του κειμένου. Αυτό συνεχίζεται μέχρι να τελειώσουν οι γραμμές από τις οποίες αποτελείται το κείμενο του αρχείου.\n",
    "\n",
    "Έχοντας αυτή τη συμβολοσειρά μπορούμε να εκτελέσουμε τις γνωστές μεθόδους που ισχύσουν για την κλάση ``str`` ώστε να εξάγουμε τα δεδομένα που θέλουμε.\n",
    "\n",
    "Παρ' όλα αυτα, υπάρχει και ένας άλλος τρόπος να προσπελάσουμε ένα αρχείο και αυτός είναι χρησιμοποιώντας κάποιον διαχειριστή αρχείου. Η προεγκατεστημένη βιβλιοθήκη ``csv`` μας προσφέρει έναν τέτοιο διαχειριστή. Αυτός ο διαχειριστής είναι ουσιαστικά ένα αντικείμενο της βιβλιοθήκης ``csv`` όπου μπορούμε να πραγματοποιήσουμε κάποια επανάληψη επί αυτού (είναι δηλαδή iterable) και να πάρουμε τις γραμμές του αρχείου csv, ως λίστες με τις τιμές που περιέχει η κάθε γραμμή.\n",
    "\n",
    "**Προσοχή**: Οι τιμές που περιέχει η κάθε λίστα είναι συμβολοσειρές ακόμα και αν τα δεδομένα που υπάρχουν στο αρχείο είναι αριθμητικά. Αν θέλουμε περαιτέρω επεξεργασία των δεδομένων, πρέπει να πάμε στις αντίστοιχες θέσεις και να τα μετατρέψουμε σε αριθμητικά δεδομένα. \n",
    "\n",
    "Ουσιαστικά, χρησιμοποιώντας έναν διαχειριστή κειμένου μετατρέψαμε το πρόβλημα της εξαγωγής δεδομένων από αρχείο σε πρόβλημα επεξεργασίας λιστών και τίποτα παραπάνω. Πολλές φορές είναι προτιμότερο να δουλεύουμε με τα δεδομένα μας να είναι αποθηκευμένα σε κάποια λίστα παρά να μας παρέχονται με τη μορφή συμβολοσειράς."
   ]
  },
  {
   "cell_type": "code",
   "execution_count": null,
   "id": "768be042",
   "metadata": {},
   "outputs": [],
   "source": [
    "import csv"
   ]
  },
  {
   "cell_type": "code",
   "execution_count": null,
   "id": "fff3d819",
   "metadata": {},
   "outputs": [],
   "source": [
    "# Open the file in read mode\n",
    "with open('data/sample.csv', 'r') as data_file:\n",
    "    \n",
    "    # This object is the iterator\n",
    "    csv_reader = csv.reader(data_file)\n",
    "    \n",
    "    # Print the first 5 rows of the text file\n",
    "    n=0\n",
    "    for line in csv_reader:\n",
    "        n+=1\n",
    "        if n<=5:\n",
    "            print(line)\n",
    "        else: break"
   ]
  },
  {
   "cell_type": "markdown",
   "id": "a559dd0e",
   "metadata": {},
   "source": [
    "Παρατηρούμε ότι η πρώτη λίστα περιέχει μία επικεφαλίδα (header) όπου περιγράφει τι είδους δεδομένα έχει η κάθε στήλη. Επειδή μπορεί να θέλουμε μόνο τα δεδομένα που περιέχει το αρχείο, χωρίς το header, μπορούμε να προσπεράσουμε την πρώτη γραμμή του αρχείου χρησιμοποιώντας την συνάρτηση ``next``. Αυτή είναι μία συνάρτηση που αφορά τους iterators όπως είναι το αντικείμενο ``csv_reader`` που δημιουργήσαμε."
   ]
  },
  {
   "cell_type": "code",
   "execution_count": null,
   "id": "fb5c6a26",
   "metadata": {},
   "outputs": [],
   "source": [
    "# Open the file in read mode\n",
    "with open('data/sample.csv', 'r') as data_file:\n",
    "    \n",
    "    # This object is the iterator\n",
    "    csv_reader = csv.reader(data_file)\n",
    "    \n",
    "    # Skip first line\n",
    "    next(data_file)\n",
    "    \n",
    "    # Print the first 5 rows of the text file\n",
    "    n=0\n",
    "    for line in csv_reader:\n",
    "        n+=1\n",
    "        if n<=5:\n",
    "            print(line)\n",
    "        else: break"
   ]
  },
  {
   "cell_type": "markdown",
   "id": "6253dc23",
   "metadata": {},
   "source": [
    "### Εγγραφή δεδομένων σε αρχείο"
   ]
  },
  {
   "cell_type": "markdown",
   "id": "c2e304ef",
   "metadata": {},
   "source": [
    "Έχοντας επεξεργαστεί με όποιον τρόπο επιθυμούμε τα δεδομένα μας, μπορούμε με τη σειρά μας, να αποθηκεύσουμε τα νέα δεδομένα σε ένα καινούργιο αρχείο csv.\n",
    "\n",
    "Η διαδικασία εγγραφής σε ένα αρχείο κειμένου είναι αντίστοιχη με αυτή του διαβάσματος του αρχείου. Αυτή τη φορά όμως θα χρησιμοποιήσουμε έναν διαχειριστή ``writer`` (αντί του ``reader``).\n",
    "\n",
    "Στο συγκεκριμένο παράδειγμα θα προσθέσουμε μία ακόμα στήλη που θα περιέχει έναν τυχαίο αριθμό (0 ή 1). Επίσης θα αποθηκεύσουμε τα δεδομένα σε ένα νέο αρχείο χρησιμοποιώντας όμως ως διαχωριστή (delimiter) ένα tab-space αντί του κόμματος."
   ]
  },
  {
   "cell_type": "code",
   "execution_count": null,
   "id": "973f1fe0",
   "metadata": {},
   "outputs": [],
   "source": [
    "import random\n",
    "\n",
    "# In the first iteration we will create the header info\n",
    "# for the new column\n",
    "first_run = True # flag variable\n",
    "\n",
    "# Open original data in read mode\n",
    "with open('data/sample.csv', 'r') as data_old:\n",
    "    \n",
    "    csv_reader = csv.reader(data_old)\n",
    "    \n",
    "    # Open a new file in write mode\n",
    "    with open('data/new_sample.csv', 'w') as data_new:\n",
    "        \n",
    "        csv_writer = csv.writer(data_new, delimiter='\\t')\n",
    "        \n",
    "        for line in csv_reader:\n",
    "            if first_run:\n",
    "                line.append('random_number')\n",
    "                csv_writer.writerow(line) # write the header info\n",
    "                first_run = False\n",
    "            else:\n",
    "                line.append(random.randint(0,1))\n",
    "                csv_writer.writerow(line) # write the data"
   ]
  },
  {
   "cell_type": "code",
   "execution_count": null,
   "id": "6f8a8665",
   "metadata": {},
   "outputs": [],
   "source": [
    "! head -5 'data/new_sample.csv'"
   ]
  },
  {
   "cell_type": "markdown",
   "id": "8899ac92",
   "metadata": {},
   "source": [
    "Παρατηρείστε ότι τώρα οι τιμές στο αρχείο κειμένου διαχωρίζονται με ένα tab-space αντί για κόμμα, αλλά το αρχείο εξακολουθεί να είναι csv. \n",
    "\n",
    "Τι θα γίνει αν προσπαθήσουμε να ανοίξουμε ένα τέτοιο αρχείο χωρίς να προσδιορίσουμε τον τρόπο με τον οποίο διαχωρίζονται τα δεδομένα;"
   ]
  },
  {
   "cell_type": "code",
   "execution_count": null,
   "id": "e979a854",
   "metadata": {},
   "outputs": [],
   "source": [
    "with open('data/new_sample.csv', 'r') as file:\n",
    "    csv_reader = csv.reader(file) # By default it assumes a comma delimiter\n",
    "    \n",
    "    n=0\n",
    "    for row in csv_reader:\n",
    "        n+=1\n",
    "        if n<=5:\n",
    "            print(row)\n",
    "        else: break"
   ]
  },
  {
   "cell_type": "markdown",
   "id": "b913c52f",
   "metadata": {},
   "source": [
    "Παρατηρούμε ότι πλέον κάθε λίστα περιέχει μία μόνο τιμή. Συγκεκριμένα περιέχει μία μόνο συμβολοσειρά που είναι ολόκληρη η γραμμή του αρχείου. Αυτο συμβαίνει γιατί η προεπιλογή για τον διαχειριστή του αρχείου είναι να περιμένει το κόμμα ως τον διαχωριστή για τις τιμές.\n",
    "\n",
    "Αν έχουμε ένα αρχείο που χρησιμοποιεί κάτι άλλο, εκτός του κόμματος, για να διαχωρίσει τις τιμές του αρχείου τότε πρέπει να δώσουμε ως όρισμα ποιόν διαχωριστή να χρησιμοποιήσει όταν διαβάζει το αρχείο.\n",
    "\n",
    "Για το παράδειγμα με το καινούργιο αρχείο που δημιουργήσαμε, αυτός ο διαχωριστής είναι το tap-space."
   ]
  },
  {
   "cell_type": "code",
   "execution_count": null,
   "id": "bbfe359f",
   "metadata": {},
   "outputs": [],
   "source": [
    "with open('data/new_sample.csv', 'r') as file:\n",
    "    reader = csv.reader(file, delimiter='\\t')\n",
    "    \n",
    "    n=0\n",
    "    for line in reader:\n",
    "        n+=1\n",
    "        if n<=5:\n",
    "            print(line)\n",
    "        else: break"
   ]
  },
  {
   "cell_type": "markdown",
   "id": "0ad486af",
   "metadata": {},
   "source": [
    "**Challenge**\n",
    "\n",
    "Ο διαχειριστής αρχείων που προσφέρεται από τη βιβλιοθήκη ``csv`` δεν περιορίζεται μόνο σε αρχεία που έχουν κατάληξη \".csv\".\n",
    "Για να διαπιστώσετε ότι αυτό που χρειάζεται να ξέρει ο διαχειριστής είναι μόνο ο τρόπος με τον οποίο διαχωρίζονται τα δεδομένα σε ένα αρχείο, θα εξετάσετε το αρχείο κειμένου ``words.txt``.\n",
    "\n",
    "Το συγκεκριμένο αρχείο είναι ένα είδους \"λεξικό\" που περιέχει έναν μεγάλο αριθμό λέξεων. **Διαβάστε** το εν λόγω αρχείο χρησιμοποιώντας την βιβλιοθήκη ``csv`` και προσέχοντας να δώσετε τον κατάλληλο διαχωριστή.\n",
    "\n",
    "Έχοντας διαβάσει το αρχείο, **γράψτε κώδικα που θα εξετάζει αν μία λέξη της επιλογής σας υπάρχει στο \"λεξικό\"**. Εαν υπάρχει τότε να εκτυπώνει ένα συγχαρητήριο μήνυμα που θα βεβαιώνει ότι **υπάρχει** η λέξη. Εάν η λέξη δεν υπάρχει τότε θα τυπώνει ένα μήνυμα όπου θα βεβαιώνει τον χρήστη ότι η συγκεκριμένη λέξη **δεν υπάρχει** στο λεξικό."
   ]
  },
  {
   "cell_type": "code",
   "execution_count": null,
   "id": "80a38a63",
   "metadata": {},
   "outputs": [],
   "source": [
    "lookup_word = 'python'\n",
    "found = False\n",
    "\n",
    "with open('data/words.txt', 'r') as file:\n",
    "    reader = csv.reader(file, delimiter='-')\n",
    "    \n",
    "    for line_list in reader: # line_list is a list of strings\n",
    "        if lookup_word.lower() in line_list:\n",
    "            print('Congrats! The word \\'{}\\' exists in the dictionary!'.format(lookup_word))\n",
    "            found = True\n",
    "            break\n",
    "            \n",
    "    if not found: print(\"The word '{}' does not exist in the dictionary!\".format(lookup_word))"
   ]
  },
  {
   "cell_type": "markdown",
   "id": "97b520f9",
   "metadata": {},
   "source": [
    "## Παράρτημα: Σύνδεση με το λειτουργικό σύστημα\n",
    "\n",
    "### Οι βιβλιοθήκες ``os`` και ``glob``"
   ]
  }
 ],
 "metadata": {
  "kernelspec": {
   "display_name": "Python 3",
   "language": "python",
   "name": "python3"
  },
  "language_info": {
   "codemirror_mode": {
    "name": "ipython",
    "version": 3
   },
   "file_extension": ".py",
   "mimetype": "text/x-python",
   "name": "python",
   "nbconvert_exporter": "python",
   "pygments_lexer": "ipython3",
   "version": "3.8.8"
  }
 },
 "nbformat": 4,
 "nbformat_minor": 5
}
